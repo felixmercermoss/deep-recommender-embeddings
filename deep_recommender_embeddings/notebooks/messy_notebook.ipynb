{
 "cells": [
  {
   "cell_type": "code",
   "execution_count": 80,
   "metadata": {},
   "outputs": [],
   "source": [
    "import sys\n",
    "import os\n",
    "\n",
    "module_path = os.path.abspath(os.path.join(os.pardir, os.pardir))\n",
    "if module_path not in sys.path:\n",
    "    sys.path.append(module_path)"
   ]
  },
  {
   "cell_type": "code",
   "execution_count": 81,
   "metadata": {
    "pycharm": {
     "name": "#%%\n"
    }
   },
   "outputs": [],
   "source": [
    "import os\n",
    "import datetime\n",
    "\n",
    "import pickle\n",
    "\n",
    "import tensorflow as tf\n",
    "import pandas as pd\n",
    "import numpy as np\n",
    "from deep_recommender_embeddings.src.ares import request_asset_from_ares\n",
    "from deep_recommender_embeddings.src.elasticsearch_utils import get_es_instance, get_data_from_es, print_item\n",
    "from deep_recommender_embeddings.src.image_embeddings import generate_image_embeddings\n",
    "from deep_recommender_embeddings.src.models import ItemSimilarityModel\n",
    "from deep_recommender_embeddings.src.plotting import plot_metric\n",
    "from deep_recommender_embeddings.src.tf_utils import get_tf_lookup_table_for_property, get_tf_lookup_for_dict\n",
    "from deep_recommender_embeddings.src.inference import get_dict_of_embeddings, build_annoy_index\n",
    "\n",
    "%matplotlib inline\n",
    "\n",
    "from annoy import AnnoyIndex\n",
    "\n",
    "from deep_recommender_embeddings.src.preprocessing import load_data, clean_data, filter_logs, get_pairs, \\\n",
    "    get_item_pairs_from_journeys, generate_model_recs"
   ]
  },
  {
   "cell_type": "code",
   "execution_count": 82,
   "metadata": {
    "pycharm": {
     "name": "#%%\n"
    }
   },
   "outputs": [
    {
     "name": "stdout",
     "output_type": "stream",
     "text": [
      "The autoreload extension is already loaded. To reload it, use:\n",
      "  %reload_ext autoreload\n"
     ]
    }
   ],
   "source": [
    "%load_ext autoreload\n",
    "%autoreload 2"
   ]
  },
  {
   "cell_type": "code",
   "execution_count": 83,
   "metadata": {
    "pycharm": {
     "name": "#%%\n"
    }
   },
   "outputs": [],
   "source": [
    "#%reload_ext autoreload\n",
    "\n",
    "#reload(deep_recommender_embeddings.src.tf_utils)"
   ]
  },
  {
   "cell_type": "code",
   "execution_count": 84,
   "metadata": {},
   "outputs": [],
   "source": [
    "import ssl\n",
    "\n",
    "try:\n",
    "    _create_unverified_https_context = ssl._create_unverified_context\n",
    "except AttributeError:\n",
    "    pass\n",
    "else:\n",
    "    ssl._create_default_https_context = _create_unverified_https_context\n"
   ]
  },
  {
   "cell_type": "markdown",
   "metadata": {
    "pycharm": {
     "name": "#%% md\n"
    }
   },
   "source": [
    "## Load content data from ES"
   ]
  },
  {
   "cell_type": "code",
   "execution_count": 92,
   "metadata": {},
   "outputs": [],
   "source": [
    "_es_index = 'sfv_02112020'\n",
    "_es_host = 'localhost'\n",
    "_es_port = '9200'\n",
    "es = get_es_instance(es_host=_es_host, es_port=_es_port)\n",
    "\n",
    "# This is the imaginary date that recommendations will begenerated on\n",
    "prediction_time = \"2020-11-02T00:00:00\"\n",
    "\n",
    "# Business rules usually prevent recs being returned that are older than 90 days so we will only retrieve items\n",
    "# that were published within this time window\n",
    "max_age_days = 90"
   ]
  },
  {
   "cell_type": "markdown",
   "metadata": {
    "pycharm": {
     "name": "#%% md\n"
    }
   },
   "source": [
    "Now let's fetch all the relevant data from elasticsearch. For all items in the publication window we will fetch the id,\n",
    "all the text, the tags, the category and the image url."
   ]
  },
  {
   "cell_type": "code",
   "execution_count": 93,
   "metadata": {
    "pycharm": {
     "name": "#%%\n"
    }
   },
   "outputs": [
    {
     "name": "stdout",
     "output_type": "stream",
     "text": [
      "0\n",
      "1\n",
      "2\n",
      "Grabbed 5060 items from elasticsearch\n"
     ]
    }
   ],
   "source": [
    "features = [\"combinedBodySummaryHeadline\",\"tagsText\", \"articleCategoryName\", \"thumbnailUrl\"]\n",
    "hits = get_data_from_es(es, features, 30000, 5000, prediction_time, max_age_days, _es_index)\n",
    "unique_item_ids = [hit['sort'][0] for hit in hits]\n",
    "print(f'Grabbed {len(unique_item_ids)} items from elasticsearch')"
   ]
  },
  {
   "cell_type": "markdown",
   "metadata": {
    "pycharm": {
     "name": "#%% md\n"
    }
   },
   "source": [
    "### Generate tensorflow lookup tables\n",
    "Tensorflow requires special lookup tables to use in its graph so here we extract the relevant information into these\n",
    "objects."
   ]
  },
  {
   "cell_type": "code",
   "execution_count": 94,
   "metadata": {
    "pycharm": {
     "name": "#%%\n"
    }
   },
   "outputs": [
    {
     "name": "stdout",
     "output_type": "stream",
     "text": [
      "Tensorflow lookup table created for combinedBodySummaryHeadline with 5060 entries.\n",
      "Tensorflow lookup table created for tagsText with 3544 entries.\n",
      "Tensorflow lookup table created for articleCategoryName with 4527 entries.\n",
      "Tensorflow lookup table created for thumbnailUrl with 5060 entries.\n"
     ]
    }
   ],
   "source": [
    "body_lookup_table, _ = get_tf_lookup_table_for_property(hits, \"combinedBodySummaryHeadline\", clean=True)\n",
    "tags_lookup_table, _ = get_tf_lookup_table_for_property(hits, \"tagsText\")\n",
    "category_lookup_table, unique_categories = get_tf_lookup_table_for_property(hits, \"articleCategoryName\")\n",
    "thumbnail_lookup_table, _ = get_tf_lookup_table_for_property(hits, \"thumbnailUrl\")"
   ]
  },
  {
   "cell_type": "markdown",
   "metadata": {
    "pycharm": {
     "name": "#%% md\n"
    }
   },
   "source": [
    "### Generate image embeddings with pretrained model and save\n"
   ]
  },
  {
   "cell_type": "code",
   "execution_count": 95,
   "metadata": {
    "pycharm": {
     "name": "#%%\n"
    }
   },
   "outputs": [],
   "source": [
    "model_link = 'https://tfhub.dev/google/imagenet/mobilenet_v2_140_224/feature_vector/4'\n",
    "embeddings_fpath = '../data/embeddings/image/mobilenet_v2_140_224.pk'\n",
    "IMAGE_SHAPE = (224,224)\n",
    "generate_embeddings = False\n",
    "\n",
    "if generate_embeddings:\n",
    "    im_embeddings = generate_image_embeddings(model_link, thumbnail_lookup_table, IMAGE_SHAPE, unique_item_ids)\n",
    "    with open(embeddings_fpath, 'wb') as f:\n",
    "        pickle.dump(im_embeddings, f)\n",
    "else:\n",
    "    with open(embeddings_fpath, 'rb') as f:\n",
    "        im_embeddings = pickle.load(f)"
   ]
  },
  {
   "cell_type": "code",
   "execution_count": 96,
   "metadata": {
    "pycharm": {
     "name": "#%%\n"
    }
   },
   "outputs": [
    {
     "name": "stdout",
     "output_type": "stream",
     "text": [
      "Tensorflow lookup table created for vector dim=(1792,) with 5060 entries.\n"
     ]
    }
   ],
   "source": [
    "im_vec_lookup_table = get_tf_lookup_for_dict(im_embeddings)\n"
   ]
  },
  {
   "cell_type": "code",
   "execution_count": 87,
   "metadata": {
    "pycharm": {
     "name": "#%%\n"
    }
   },
   "outputs": [],
   "source": [
    "# inp = body_lookup_table.lookup(tf.convert_to_tensor(['/news/uk-england-nottinghamshire-54731548', '/news/election-us-2020-54754797']))\n",
    "# TEXT_MODEL_LINK = 'https://tfhub.dev/tensorflow/albert_en_large/2'\n",
    "# #TEXT_MODEL_LINK = 'https://tfhub.dev/google/nnlm-en-dim50/2'\n",
    "# TEXT_MODEL_LINK = 'https://tfhub.dev/tensorflow/small_bert/bert_en_uncased_L-12_H-128_A-2/1'\n",
    "\n",
    "# text_model_embedding = tf.keras.Sequential([\n",
    "#     hub.KerasLayer(TEXT_MODEL_LINK,input_shape=[],\n",
    "#                 dtype=tf.string, trainable=False),\n",
    "# #    tf.keras.layers.Embedding(input_dim=50, output_dim=embedding_dim, name=\"text_model_embedding_layer\"),\n",
    "# #    tf.keras.layers.GlobalAveragePooling1D(name=\"text_model_global_averaging_pooling_layer\")\n",
    "#     ])\n",
    "# text_model_embedding(inp)\n"
   ]
  },
  {
   "cell_type": "markdown",
   "metadata": {
    "pycharm": {
     "name": "#%% md\n"
    }
   },
   "source": [
    "## Load the user data\n",
    "Load the vocabulary of the of item IDs into a tensorflow dataset."
   ]
  },
  {
   "cell_type": "code",
   "execution_count": 97,
   "metadata": {},
   "outputs": [],
   "source": [
    "DATA_PATH = '/Users/mercef02/Projects/datasets_models/sfv_user_user_zoom_20201026_20201102/sfv_user*' #'/Users/mercef02/Projects/datasets/sfv_user_week_compact/*.csv'\n",
    "logs = load_data(d_path=DATA_PATH, stop_after_n_files=1)\n",
    "logs = clean_data(logs)"
   ]
  },
  {
   "cell_type": "code",
   "execution_count": 98,
   "metadata": {
    "pycharm": {
     "name": "#%%\n"
    }
   },
   "outputs": [
    {
     "name": "stdout",
     "output_type": "stream",
     "text": [
      "Original interactions: 2441510\n",
      "Date filtered interactions: 161335\n",
      "Minimum mention filtered interactions  : 146738\n",
      "Interactions filtered for items existing in ES : 108230\n"
     ]
    }
   ],
   "source": [
    "min_date = pd.to_datetime('2020-11-01T00:00:00')\n",
    "max_date = pd.to_datetime('2020-11-01T11:59:59')\n",
    "min_mentions = 5\n",
    "train_logs = filter_logs(logs, min_date, max_date, min_mentions, unique_item_ids)"
   ]
  },
  {
   "cell_type": "markdown",
   "metadata": {
    "pycharm": {
     "name": "#%% md\n"
    }
   },
   "source": [
    "### Generate item pairs \n",
    "The input for the model is pairs of consecutively consumed items so next we need to convert the journeys into item pairs"
   ]
  },
  {
   "cell_type": "code",
   "execution_count": 99,
   "metadata": {},
   "outputs": [
    {
     "name": "stdout",
     "output_type": "stream",
     "text": [
      "Total number of item pairs: 6249\n"
     ]
    }
   ],
   "source": [
    "train_pairs = get_item_pairs_from_journeys(train_logs)\n",
    "train_pairs_df = pd.DataFrame(train_pairs)\n",
    "train_logs_tf = tf.data.Dataset.from_tensor_slices(dict(train_pairs_df))"
   ]
  },
  {
   "cell_type": "markdown",
   "metadata": {},
   "source": [
    "Let's visualise what some of these pairs of items look like that will be useful later for a sanity check."
   ]
  },
  {
   "cell_type": "code",
   "execution_count": 100,
   "metadata": {},
   "outputs": [
    {
     "data": {
      "text/html": [
       "<div>\n",
       "<style scoped>\n",
       "    .dataframe tbody tr th:only-of-type {\n",
       "        vertical-align: middle;\n",
       "    }\n",
       "\n",
       "    .dataframe tbody tr th {\n",
       "        vertical-align: top;\n",
       "    }\n",
       "\n",
       "    .dataframe thead th {\n",
       "        text-align: right;\n",
       "    }\n",
       "</style>\n",
       "<table border=\"1\" class=\"dataframe\">\n",
       "  <thead>\n",
       "    <tr style=\"text-align: right;\">\n",
       "      <th></th>\n",
       "      <th>item_a</th>\n",
       "      <th>item_b</th>\n",
       "      <th>shingled</th>\n",
       "    </tr>\n",
       "  </thead>\n",
       "  <tbody>\n",
       "    <tr>\n",
       "      <th>0</th>\n",
       "      <td>/news/business-54746208</td>\n",
       "      <td>/news/world-asia-54734067</td>\n",
       "      <td>/news/business-54746208_/news/world-asia-54734067</td>\n",
       "    </tr>\n",
       "    <tr>\n",
       "      <th>1</th>\n",
       "      <td>/news/world-asia-54734067</td>\n",
       "      <td>/news/world-53405538</td>\n",
       "      <td>/news/world-asia-54734067_/news/world-53405538</td>\n",
       "    </tr>\n",
       "    <tr>\n",
       "      <th>2</th>\n",
       "      <td>/news/election-us-2020-54754800</td>\n",
       "      <td>/news/election-us-2020-54754652</td>\n",
       "      <td>/news/election-us-2020-54754800_/news/election...</td>\n",
       "    </tr>\n",
       "    <tr>\n",
       "      <th>3</th>\n",
       "      <td>/news/world-54754565</td>\n",
       "      <td>/sport/54122112</td>\n",
       "      <td>/news/world-54754565_/sport/54122112</td>\n",
       "    </tr>\n",
       "    <tr>\n",
       "      <th>4</th>\n",
       "      <td>/news/election-us-2020-54754800</td>\n",
       "      <td>/news/election-us-2020-54754797</td>\n",
       "      <td>/news/election-us-2020-54754800_/news/election...</td>\n",
       "    </tr>\n",
       "  </tbody>\n",
       "</table>\n",
       "</div>"
      ],
      "text/plain": [
       "                            item_a                           item_b  \\\n",
       "0          /news/business-54746208        /news/world-asia-54734067   \n",
       "1        /news/world-asia-54734067             /news/world-53405538   \n",
       "2  /news/election-us-2020-54754800  /news/election-us-2020-54754652   \n",
       "3             /news/world-54754565                  /sport/54122112   \n",
       "4  /news/election-us-2020-54754800  /news/election-us-2020-54754797   \n",
       "\n",
       "                                            shingled  \n",
       "0  /news/business-54746208_/news/world-asia-54734067  \n",
       "1     /news/world-asia-54734067_/news/world-53405538  \n",
       "2  /news/election-us-2020-54754800_/news/election...  \n",
       "3               /news/world-54754565_/sport/54122112  \n",
       "4  /news/election-us-2020-54754800_/news/election...  "
      ]
     },
     "execution_count": 100,
     "metadata": {},
     "output_type": "execute_result"
    }
   ],
   "source": [
    "train_pairs_df['shingled'] = train_pairs_df['item_a'] + '_' + train_pairs_df['item_b']\n",
    "vc = train_pairs_df.shingled.value_counts()\n",
    "train_pairs_df.head()"
   ]
  },
  {
   "cell_type": "code",
   "execution_count": 101,
   "metadata": {
    "pycharm": {
     "name": "#%%\n"
    }
   },
   "outputs": [
    {
     "data": {
      "text/plain": [
       "<AxesSubplot:>"
      ]
     },
     "execution_count": 101,
     "metadata": {},
     "output_type": "execute_result"
    },
    {
     "data": {
      "image/png": "[encoded data removed]",
      "text/plain": [
       "<Figure size 432x288 with 1 Axes>"
      ]
     },
     "metadata": {
      "needs_background": "light"
     },
     "output_type": "display_data"
    }
   ],
   "source": [
    "# Here we are visualising the histogram of the item pairs ordered by their frequency.\n",
    "vc.head(20).plot(kind='bar')"
   ]
  },
  {
   "cell_type": "markdown",
   "metadata": {
    "pycharm": {
     "name": "#%% md\n"
    }
   },
   "source": [
    "### Holdout data"
   ]
  },
  {
   "cell_type": "code",
   "execution_count": 102,
   "metadata": {},
   "outputs": [
    {
     "name": "stdout",
     "output_type": "stream",
     "text": [
      "Original interactions: 2441510\n",
      "Date filtered interactions: 257384\n",
      "Minimum mention filtered interactions  : 234998\n",
      "Interactions filtered for items existing in ES : 171466\n",
      "Total number of item pairs: 9824\n",
      "Total number of holdout item pairs: 9824\n"
     ]
    }
   ],
   "source": [
    "\n",
    "min_date = pd.to_datetime('2020-11-01T12:00:00')\n",
    "max_date = pd.to_datetime('2020-11-02T00:00:00')\n",
    "min_mentions = 5\n",
    "holdout_logs = filter_logs(logs, min_date, max_date, min_mentions, unique_item_ids)\n",
    "holdout_pairs = get_item_pairs_from_journeys(holdout_logs)\n",
    "print(f\"Total number of holdout item pairs: {len(holdout_pairs)}\")\n",
    "holdout_logs_tf = tf.data.Dataset.from_tensor_slices(dict(pd.DataFrame(holdout_pairs)))"
   ]
  },
  {
   "cell_type": "markdown",
   "metadata": {},
   "source": [
    "## Train/Test Split"
   ]
  },
  {
   "cell_type": "code",
   "execution_count": 103,
   "metadata": {
    "pycharm": {
     "name": "#%%\n"
    }
   },
   "outputs": [
    {
     "name": "stdout",
     "output_type": "stream",
     "text": [
      "Number of train pairs: 5624\n",
      "Number of test pairs: 625\n"
     ]
    }
   ],
   "source": [
    "tf.random.set_seed(42)\n",
    "training_shuffled = train_logs_tf.shuffle(buffer_size=100_000, seed=42, reshuffle_each_iteration=False)\n",
    "train_pc = 0.9\n",
    "test_pc = 0.1\n",
    "sfv_train = training_shuffled.take(np.floor(len(training_shuffled)*train_pc))\n",
    "sfv_val = training_shuffled.skip(np.floor(len(training_shuffled)*train_pc))\n",
    "print(f'Number of train pairs: {len(sfv_train)}')\n",
    "print(f'Number of test pairs: {len(sfv_val)}')\n"
   ]
  },
  {
   "cell_type": "markdown",
   "metadata": {},
   "source": [
    "## Training"
   ]
  },
  {
   "cell_type": "code",
   "execution_count": 129,
   "metadata": {},
   "outputs": [
    {
     "name": "stdout",
     "output_type": "stream",
     "text": [
      "Epoch 1/10\n",
      "WARNING:tensorflow:The dtype of the source tensor must be floating (e.g. tf.float32) when calling GradientTape.gradient, got tf.int32\n",
      "WARNING:tensorflow:Gradients do not exist for variables ['counter:0'] when minimizing the loss.\n",
      "WARNING:tensorflow:The dtype of the source tensor must be floating (e.g. tf.float32) when calling GradientTape.gradient, got tf.int32\n",
      "WARNING:tensorflow:Gradients do not exist for variables ['counter:0'] when minimizing the loss.\n",
      "44/44 [==============================] - 5s 104ms/step - factorized_top_k/top_1_categorical_accuracy: 0.0116 - factorized_top_k/top_5_categorical_accuracy: 0.0217 - factorized_top_k/top_10_categorical_accuracy: 0.0288 - factorized_top_k/top_50_categorical_accuracy: 0.0539 - factorized_top_k/top_100_categorical_accuracy: 0.0717 - loss: 5.0821 - regularization_loss: 0.0000e+00 - total_loss: 5.0821 - val_factorized_top_k/top_1_categorical_accuracy: 0.0000e+00 - val_factorized_top_k/top_5_categorical_accuracy: 0.0000e+00 - val_factorized_top_k/top_10_categorical_accuracy: 0.0000e+00 - val_factorized_top_k/top_50_categorical_accuracy: 0.0000e+00 - val_factorized_top_k/top_100_categorical_accuracy: 0.0000e+00 - val_loss: 4.7223 - val_regularization_loss: 0.0000e+00 - val_total_loss: 4.7223\n",
      "Epoch 2/10\n",
      "44/44 [==============================] - 5s 106ms/step - factorized_top_k/top_1_categorical_accuracy: 0.0000e+00 - factorized_top_k/top_5_categorical_accuracy: 0.0000e+00 - factorized_top_k/top_10_categorical_accuracy: 0.0000e+00 - factorized_top_k/top_50_categorical_accuracy: 0.0020 - factorized_top_k/top_100_categorical_accuracy: 0.0021 - loss: 4.8464 - regularization_loss: 0.0000e+00 - total_loss: 4.8464 - val_factorized_top_k/top_1_categorical_accuracy: 0.0000e+00 - val_factorized_top_k/top_5_categorical_accuracy: 0.0000e+00 - val_factorized_top_k/top_10_categorical_accuracy: 0.0000e+00 - val_factorized_top_k/top_50_categorical_accuracy: 0.0000e+00 - val_factorized_top_k/top_100_categorical_accuracy: 0.0000e+00 - val_loss: 4.7183 - val_regularization_loss: 0.0000e+00 - val_total_loss: 4.7183\n",
      "Epoch 3/10\n",
      "44/44 [==============================] - 6s 144ms/step - factorized_top_k/top_1_categorical_accuracy: 0.0000e+00 - factorized_top_k/top_5_categorical_accuracy: 0.0000e+00 - factorized_top_k/top_10_categorical_accuracy: 0.0000e+00 - factorized_top_k/top_50_categorical_accuracy: 0.0020 - factorized_top_k/top_100_categorical_accuracy: 0.0021 - loss: 4.8423 - regularization_loss: 0.0000e+00 - total_loss: 4.8423 - val_factorized_top_k/top_1_categorical_accuracy: 0.0000e+00 - val_factorized_top_k/top_5_categorical_accuracy: 0.0000e+00 - val_factorized_top_k/top_10_categorical_accuracy: 0.0000e+00 - val_factorized_top_k/top_50_categorical_accuracy: 0.0000e+00 - val_factorized_top_k/top_100_categorical_accuracy: 0.0000e+00 - val_loss: 4.7134 - val_regularization_loss: 0.0000e+00 - val_total_loss: 4.7134\n",
      "Epoch 4/10\n",
      "44/44 [==============================] - 5s 116ms/step - factorized_top_k/top_1_categorical_accuracy: 0.0000e+00 - factorized_top_k/top_5_categorical_accuracy: 0.0000e+00 - factorized_top_k/top_10_categorical_accuracy: 0.0000e+00 - factorized_top_k/top_50_categorical_accuracy: 0.0020 - factorized_top_k/top_100_categorical_accuracy: 0.0021 - loss: 4.8372 - regularization_loss: 0.0000e+00 - total_loss: 4.8372 - val_factorized_top_k/top_1_categorical_accuracy: 0.0000e+00 - val_factorized_top_k/top_5_categorical_accuracy: 0.0000e+00 - val_factorized_top_k/top_10_categorical_accuracy: 0.0000e+00 - val_factorized_top_k/top_50_categorical_accuracy: 0.0000e+00 - val_factorized_top_k/top_100_categorical_accuracy: 0.0000e+00 - val_loss: 4.7072 - val_regularization_loss: 0.0000e+00 - val_total_loss: 4.7072\n",
      "Epoch 5/10\n",
      "44/44 [==============================] - 5s 117ms/step - factorized_top_k/top_1_categorical_accuracy: 0.0000e+00 - factorized_top_k/top_5_categorical_accuracy: 0.0000e+00 - factorized_top_k/top_10_categorical_accuracy: 0.0000e+00 - factorized_top_k/top_50_categorical_accuracy: 0.0023 - factorized_top_k/top_100_categorical_accuracy: 0.0092 - loss: 4.8306 - regularization_loss: 0.0000e+00 - total_loss: 4.8306 - val_factorized_top_k/top_1_categorical_accuracy: 0.0000e+00 - val_factorized_top_k/top_5_categorical_accuracy: 0.0000e+00 - val_factorized_top_k/top_10_categorical_accuracy: 0.0000e+00 - val_factorized_top_k/top_50_categorical_accuracy: 0.0000e+00 - val_factorized_top_k/top_100_categorical_accuracy: 0.0080 - val_loss: 4.6990 - val_regularization_loss: 0.0000e+00 - val_total_loss: 4.6990\n",
      "Epoch 6/10\n",
      "44/44 [==============================] - 4s 96ms/step - factorized_top_k/top_1_categorical_accuracy: 0.0000e+00 - factorized_top_k/top_5_categorical_accuracy: 0.0000e+00 - factorized_top_k/top_10_categorical_accuracy: 0.0000e+00 - factorized_top_k/top_50_categorical_accuracy: 0.0112 - factorized_top_k/top_100_categorical_accuracy: 0.0132 - loss: 4.8219 - regularization_loss: 0.0000e+00 - total_loss: 4.8219 - val_factorized_top_k/top_1_categorical_accuracy: 0.0000e+00 - val_factorized_top_k/top_5_categorical_accuracy: 0.0000e+00 - val_factorized_top_k/top_10_categorical_accuracy: 0.0000e+00 - val_factorized_top_k/top_50_categorical_accuracy: 0.0080 - val_factorized_top_k/top_100_categorical_accuracy: 0.0160 - val_loss: 4.6877 - val_regularization_loss: 0.0000e+00 - val_total_loss: 4.6877\n",
      "Epoch 7/10\n",
      "44/44 [==============================] - 4s 101ms/step - factorized_top_k/top_1_categorical_accuracy: 0.0000e+00 - factorized_top_k/top_5_categorical_accuracy: 0.0000e+00 - factorized_top_k/top_10_categorical_accuracy: 0.0018 - factorized_top_k/top_50_categorical_accuracy: 0.0137 - factorized_top_k/top_100_categorical_accuracy: 0.0276 - loss: 4.8096 - regularization_loss: 0.0000e+00 - total_loss: 4.8096 - val_factorized_top_k/top_1_categorical_accuracy: 0.0000e+00 - val_factorized_top_k/top_5_categorical_accuracy: 0.0000e+00 - val_factorized_top_k/top_10_categorical_accuracy: 0.0080 - val_factorized_top_k/top_50_categorical_accuracy: 0.0080 - val_factorized_top_k/top_100_categorical_accuracy: 0.0272 - val_loss: 4.6710 - val_regularization_loss: 0.0000e+00 - val_total_loss: 4.6710\n",
      "Epoch 8/10\n",
      "44/44 [==============================] - 5s 106ms/step - factorized_top_k/top_1_categorical_accuracy: 0.0000e+00 - factorized_top_k/top_5_categorical_accuracy: 0.0082 - factorized_top_k/top_10_categorical_accuracy: 0.0101 - factorized_top_k/top_50_categorical_accuracy: 0.0208 - factorized_top_k/top_100_categorical_accuracy: 0.0388 - loss: 4.7906 - regularization_loss: 0.0000e+00 - total_loss: 4.7906 - val_factorized_top_k/top_1_categorical_accuracy: 0.0000e+00 - val_factorized_top_k/top_5_categorical_accuracy: 0.0080 - val_factorized_top_k/top_10_categorical_accuracy: 0.0080 - val_factorized_top_k/top_50_categorical_accuracy: 0.0176 - val_factorized_top_k/top_100_categorical_accuracy: 0.0432 - val_loss: 4.6436 - val_regularization_loss: 0.0000e+00 - val_total_loss: 4.6436\n",
      "Epoch 9/10\n",
      "44/44 [==============================] - 4s 100ms/step - factorized_top_k/top_1_categorical_accuracy: 0.0096 - factorized_top_k/top_5_categorical_accuracy: 0.0124 - factorized_top_k/top_10_categorical_accuracy: 0.0135 - factorized_top_k/top_50_categorical_accuracy: 0.0331 - factorized_top_k/top_100_categorical_accuracy: 0.0576 - loss: 4.7575 - regularization_loss: 0.0000e+00 - total_loss: 4.7575 - val_factorized_top_k/top_1_categorical_accuracy: 0.0080 - val_factorized_top_k/top_5_categorical_accuracy: 0.0096 - val_factorized_top_k/top_10_categorical_accuracy: 0.0096 - val_factorized_top_k/top_50_categorical_accuracy: 0.0224 - val_factorized_top_k/top_100_categorical_accuracy: 0.0624 - val_loss: 4.5905 - val_regularization_loss: 0.0000e+00 - val_total_loss: 4.5905\n",
      "Epoch 10/10\n",
      "44/44 [==============================] - 4s 99ms/step - factorized_top_k/top_1_categorical_accuracy: 0.0130 - factorized_top_k/top_5_categorical_accuracy: 0.0142 - factorized_top_k/top_10_categorical_accuracy: 0.0144 - factorized_top_k/top_50_categorical_accuracy: 0.0430 - factorized_top_k/top_100_categorical_accuracy: 0.0978 - loss: 4.7024 - regularization_loss: 0.0000e+00 - total_loss: 4.7024 - val_factorized_top_k/top_1_categorical_accuracy: 0.0032 - val_factorized_top_k/top_5_categorical_accuracy: 0.0096 - val_factorized_top_k/top_10_categorical_accuracy: 0.0096 - val_factorized_top_k/top_50_categorical_accuracy: 0.0544 - val_factorized_top_k/top_100_categorical_accuracy: 0.1152 - val_loss: 4.4882 - val_regularization_loss: 0.0000e+00 - val_total_loss: 4.4882\n"
     ]
    },
    {
     "name": "stdout",
     "output_type": "stream",
     "text": [
      "Train accuracy: 0.09779516607522964\n",
      "Validation accuracy: 0.1151999980211258\n",
      "Hold out metrics:\n",
      "77/77 [==============================] - 7s 95ms/step - factorized_top_k/top_1_categorical_accuracy: 0.0031 - factorized_top_k/top_5_categorical_accuracy: 0.0051 - factorized_top_k/top_10_categorical_accuracy: 0.0092 - factorized_top_k/top_50_categorical_accuracy: 0.0353 - factorized_top_k/top_100_categorical_accuracy: 0.0837 - loss: 4.7524 - regularization_loss: 0.0000e+00 - total_loss: 4.7524\n",
      "Holdout accuracy: 0.08367263525724411\n"
     ]
    },
    {
     "data": {
      "text/plain": [
       "[0.0030537459533661604,\n",
       " 0.005089576356112957,\n",
       " 0.009161237627267838,\n",
       " 0.035321660339832306,\n",
       " 0.08367263525724411,\n",
       " 4.453891277313232,\n",
       " 0,\n",
       " 4.453891277313232]"
      ]
     },
     "execution_count": 129,
     "metadata": {},
     "output_type": "execute_result"
    },
    {
     "data": {
      "image/png": "[encoded data removed]",
      "text/plain": [
       "<Figure size 432x288 with 1 Axes>"
      ]
     },
     "metadata": {
      "needs_background": "light"
     },
     "output_type": "display_data"
    }
   ],
   "source": [
    "model_link = 'https://tfhub.dev/google/nnlm-en-dim50/2'\n",
    "model = {\"format\": \"text\", \"link\": model_link}\n",
    "num_epochs = 10\n",
    "lr = 0.01\n",
    "cached_train = sfv_train.batch(128).cache()\n",
    "cached_test = sfv_val.batch(128).cache()\n",
    "model_one_layer = ItemSimilarityModel(test_candidate_ids=unique_item_ids,\n",
    "                                      features=['image_embedding'],\n",
    "                                      feature_dims=[1792],\n",
    "                                      unique_item_ids=unique_item_ids,\n",
    "                                      item_body_lookup=body_lookup_table,\n",
    "                                      item_tags_lookup=tags_lookup_table,\n",
    "                                      item_category_lookup=category_lookup_table,\n",
    "                                      image_embedding_lookup_table=im_vec_lookup_table,\n",
    "                                      layer_sizes=[64],\n",
    "                                      pretrained_text_model=model_link)\n",
    "model_one_layer.compile(optimizer=tf.keras.optimizers.Adagrad(lr))\n",
    "\n",
    "one_layer_history = model_one_layer.fit(\n",
    "    cached_train,\n",
    "    validation_data=cached_test,\n",
    "    validation_freq=1,\n",
    "    epochs=num_epochs,\n",
    "    verbose=1)\n",
    "\n",
    "\n",
    "print(f'Train accuracy: {one_layer_history.history[\"factorized_top_k/top_100_categorical_accuracy\"][-1]}')   \n",
    "print(f'Validation accuracy: {one_layer_history.history[\"val_factorized_top_k/top_100_categorical_accuracy\"][-1]}')\n",
    "plot_metric(one_layer_history, 'factorized_top_k/top_10_categorical_accuracy')\n",
    "print(\"Hold out metrics:\")\n",
    "metrics = model_one_layer.evaluate(holdout_logs_tf.batch(128).cache())\n",
    "print(f'Holdout accuracy: {metrics[4]}')\n",
    "metrics\n"
   ]
  },
  {
   "cell_type": "code",
   "execution_count": 126,
   "metadata": {
    "pycharm": {
     "name": "#%%\n"
    }
   },
   "outputs": [],
   "source": [
    "save_embeddings_fpath = '../data/embeddings/trained/body_category_64.pkl'\n",
    "item_embeddings = get_dict_of_embeddings(model_one_layer, unique_item_ids, save_fpath=None)\n",
    "annoy_index, id_to_uri, uri_to_id = build_annoy_index(item_embeddings)"
   ]
  },
  {
   "cell_type": "code",
   "execution_count": 131,
   "metadata": {},
   "outputs": [],
   "source": [
    "_, values = im_vec_lookup_table.export()"
   ]
  },
  {
   "cell_type": "code",
   "execution_count": 134,
   "metadata": {},
   "outputs": [
    {
     "data": {
      "text/plain": [
       "(1792,)"
      ]
     },
     "execution_count": 134,
     "metadata": {},
     "output_type": "execute_result"
    }
   ],
   "source": [
    "values.numpy()[0].shape"
   ]
  },
  {
   "cell_type": "code",
   "execution_count": 127,
   "metadata": {
    "pycharm": {
     "name": "#%%\n"
    }
   },
   "outputs": [
    {
     "name": "stdout",
     "output_type": "stream",
     "text": [
      "query_uri = /news/election-us-2020-54754797\n",
      "groundtruth_uri = /news/uk-england-nottinghamshire-54731548\n",
      "Generating recommendations for:\n",
      "/news/election-us-2020-54754797 \n",
      " Just ahead of the election, the US is seeing what could be the largest outbreak of the pandemic so far.\n",
      "-------------------\n",
      "-------------------\n",
      "LITMUS TEST: False\n",
      "-------------------\n",
      "-------------------\n",
      "/news/election-us-2020-54754797 \n",
      " Just ahead of the election, the US is seeing what could be the largest outbreak of the pandemic so far.\n",
      "-------------------\n",
      "/news/uk-england-cumbria-54283113 \n",
      " Barber John Ritson is urging people to stay safe after his friend Jimmy succumbed to coronavirus.\n",
      "-------------------\n",
      "/naidheachdan/54577901 \n",
      " Thòisich iomairt an t-seachdain seo gus clach-uaigh an t-seinneadair Gàidhlig Seasaidh NicLachlainn a stèidheachadh às ùr.\n",
      "-------------------\n",
      "/newsround/54246293 \n",
      " Eleven-year-old Austin is on a mission to get more people wearing clear face masks to help deaf people.\n",
      "-------------------\n",
      "/news/uk-54780634 \n",
      " Faith Mason‘s son, Neil Martin, was severely disabled, unable to walk and talk. He died in 1969. An undercover officer used his names to create a fake identity.\n",
      "-------------------\n",
      "/news/uk-54034805 \n",
      " The parents of the youngest victim of the Manchester Arena terror attack speak about their feelings, ahead of a public inquiry.\n",
      "-------------------\n",
      "/news/uk-scotland-54848202 \n",
      " Two families have been displaced after extensive damage to the properties in Motherwell.\n",
      "-------------------\n",
      "/news/uk-england-cambridgeshire-54792528 \n",
      " A tech firm is working on an antenna system that could be mounted on drones flying at 60,000ft.\n",
      "-------------------\n",
      "/news/health-53941987 \n",
      " A hospital in Jerusalem is recruiting recovered Covid-19 patients to visit people who would otherwise be in isolation.\n",
      "-------------------\n",
      "/news/uk-england-lincolnshire-53822696 \n",
      " The phenomenon can be prompted by the intense thundery weather seen across parts of the UK recently.\n",
      "-------------------\n",
      "/newsround/53691590 \n",
      " Much of the UK is going to be getting back to sunshine and warm weather this weekend, so we asked our BBC Weather friends who'll get the best of it.\n",
      "-------------------\n",
      "/news/uk-northern-ireland-54479825 \n",
      " Shoppers and business owners in Downpatrick, Omagh and Londonderry react to increases in Covid fines.\n",
      "-------------------\n",
      "/news/world-us-canada-54171351 \n",
      " A look at the impact of wildfire smoke, as it increasingly becomes a source of air pollution.\n",
      "-------------------\n",
      "/news/science-environment-54010338 \n",
      " After a flight failure in 2019, the Vega rocket executes a flawless deployment of 53 satellites.\n",
      "-------------------\n",
      "/news/business-53712679 \n",
      " Starting with the epicentre, we follow how the blast ripped through the city, bringing life to a halt.\n",
      "-------------------\n",
      "/newsround/54463391 \n",
      " Do you like adventure, mystery and princesses who are also spies? Yes, then this book might be for you.\n",
      "-------------------\n",
      "/news/world-53870992 \n",
      " Baby pandas, leopard cubs and Europe's biggest mural. Some of the stories you may have missed this week.\n",
      "-------------------\n",
      "/news/world-australia-50482858 \n",
      " Bushfires are spreading across Australia's east coast, ravaging the marsupial's main habitat.\n",
      "-------------------\n",
      "/news/election-us-2020-54665415 \n",
      " Paul and Kayleah live in two different political bubbles, but they've found a place to vent online.\n",
      "-------------------\n",
      "/news/uk-northern-ireland-54599785 \n",
      " BBC NI's roving reporter James Boyce investigates claims that fairies have been spotted in County Tyrone.\n",
      "-------------------\n"
     ]
    }
   ],
   "source": [
    "#query_uri = '/news/technology-53018000'\n",
    "#query_uri = '/sport/football/53805003'\n",
    "#query_uri = '/news/business-10665047'\n",
    "#query_uri = '/news/uk-england-hampshire-53838761'\n",
    "\n",
    "query_uri, groundtruth_uri = vc.index[1].split('_')\n",
    "print(f'query_uri = {query_uri}')\n",
    "print(f'groundtruth_uri = {groundtruth_uri}')\n",
    "\n",
    "rec_uris = generate_model_recs(query_uri, annoy_index, uri_to_id, id_to_uri, item_embeddings, es, _es_index, 20)\n",
    "print(f'LITMUS TEST: {groundtruth_uri in rec_uris}')\n",
    "print('-------------------')\n",
    "print('-------------------')\n",
    "\n",
    "for rec in rec_uris:\n",
    "    print_item(rec, es, _es_index)\n",
    "    print('-------------------')\n",
    "\n",
    "\n"
   ]
  },
  {
   "cell_type": "code",
   "execution_count": null,
   "metadata": {},
   "outputs": [],
   "source": [
    "### Pretrained text model nnlm 50"
   ]
  },
  {
   "cell_type": "markdown",
   "metadata": {},
   "source": [
    "### Pretrained text model nnlm 50"
   ]
  },
  {
   "cell_type": "code",
   "execution_count": 112,
   "metadata": {},
   "outputs": [
    {
     "name": "stdout",
     "output_type": "stream",
     "text": [
      "Using pretrained TEXT model: https://tfhub.dev/google/nnlm-en-dim128-with-normalization/2\n",
      "WARNING:tensorflow:9 out of the last 11 calls to <function recreate_function.<locals>.restored_function_body at 0x19e50cb70> triggered tf.function retracing. Tracing is expensive and the excessive number of tracings could be due to (1) creating @tf.function repeatedly in a loop, (2) passing tensors with different shapes, (3) passing Python objects instead of tensors. For (1), please define your @tf.function outside of the loop. For (2), @tf.function has experimental_relax_shapes=True option that relaxes argument shapes that can avoid unnecessary retracing. For (3), please refer to https://www.tensorflow.org/tutorials/customization/performance#python_or_tensor_args and https://www.tensorflow.org/api_docs/python/tf/function for  more details.\n"
     ]
    },
    {
     "name": "stderr",
     "output_type": "stream",
     "text": [
      "WARNING:tensorflow:9 out of the last 11 calls to <function recreate_function.<locals>.restored_function_body at 0x19e50cb70> triggered tf.function retracing. Tracing is expensive and the excessive number of tracings could be due to (1) creating @tf.function repeatedly in a loop, (2) passing tensors with different shapes, (3) passing Python objects instead of tensors. For (1), please define your @tf.function outside of the loop. For (2), @tf.function has experimental_relax_shapes=True option that relaxes argument shapes that can avoid unnecessary retracing. For (3), please refer to https://www.tensorflow.org/tutorials/customization/performance#python_or_tensor_args and https://www.tensorflow.org/api_docs/python/tf/function for  more details.\n"
     ]
    },
    {
     "name": "stdout",
     "output_type": "stream",
     "text": [
      "WARNING:tensorflow:9 out of the last 11 calls to <function recreate_function.<locals>.restored_function_body at 0x19e50cea0> triggered tf.function retracing. Tracing is expensive and the excessive number of tracings could be due to (1) creating @tf.function repeatedly in a loop, (2) passing tensors with different shapes, (3) passing Python objects instead of tensors. For (1), please define your @tf.function outside of the loop. For (2), @tf.function has experimental_relax_shapes=True option that relaxes argument shapes that can avoid unnecessary retracing. For (3), please refer to https://www.tensorflow.org/tutorials/customization/performance#python_or_tensor_args and https://www.tensorflow.org/api_docs/python/tf/function for  more details.\n"
     ]
    },
    {
     "name": "stderr",
     "output_type": "stream",
     "text": [
      "WARNING:tensorflow:9 out of the last 11 calls to <function recreate_function.<locals>.restored_function_body at 0x19e50cea0> triggered tf.function retracing. Tracing is expensive and the excessive number of tracings could be due to (1) creating @tf.function repeatedly in a loop, (2) passing tensors with different shapes, (3) passing Python objects instead of tensors. For (1), please define your @tf.function outside of the loop. For (2), @tf.function has experimental_relax_shapes=True option that relaxes argument shapes that can avoid unnecessary retracing. For (3), please refer to https://www.tensorflow.org/tutorials/customization/performance#python_or_tensor_args and https://www.tensorflow.org/api_docs/python/tf/function for  more details.\n"
     ]
    },
    {
     "name": "stdout",
     "output_type": "stream",
     "text": [
      "552/552 [==============================] - 219s 397ms/step - factorized_top_k/top_1_categorical_accuracy: 0.0015 - factorized_top_k/top_5_categorical_accuracy: 0.0271 - factorized_top_k/top_10_categorical_accuracy: 0.0426 - factorized_top_k/top_50_categorical_accuracy: 0.1208 - factorized_top_k/top_100_categorical_accuracy: 0.1472 - loss: 13.6282 - regularization_loss: 0.0000e+00 - total_loss: 13.6282\n"
     ]
    },
    {
     "data": {
      "text/plain": [
       "[0.001458283164538443,\n",
       " 0.027098583057522774,\n",
       " 0.042615849524736404,\n",
       " 0.12076850235462189,\n",
       " 0.14720165729522705]"
      ]
     },
     "execution_count": 112,
     "metadata": {},
     "output_type": "execute_result"
    }
   ],
   "source": [
    "#model_link = 'https://tfhub.dev/google/nnlm-en-dim50/2'\n",
    "#model_link = 'https://tfhub.dev/tensorflow/albert_en_large/2'\n",
    "model_link = 'https://tfhub.dev/google/nnlm-en-dim128-with-normalization/2'\n",
    "\n",
    "model = {\"format\": \"text\", \"link\": model_link}\n",
    "recsys2 = ItemSimilarityModel(test_candidate_ids=unique_item_ids,\n",
    "                                      features=['text_model'],\n",
    "                                      feature_dims=[model],\n",
    "                                      unique_item_ids=unique_item_ids,\n",
    "                                      item_body_lookup=body_lookup_table,\n",
    "                                      item_tags_lookup=tags_lookup_table,\n",
    "                                      item_category_lookup=category_lookup_table,\n",
    "                                      item_image_lookup=thumbnail_lookup_table,\n",
    "                                      layer_sizes=[],\n",
    "                                      pretrained_text_model=model_link)\n",
    "recsys2.compile(optimizer=tf.keras.optimizers.Adagrad(lr))\n",
    "recsys2_metrics = recsys2.evaluate(holdout_logs_tf.batch(128).cache())\n",
    "recsys2_metrics\n"
   ]
  },
  {
   "cell_type": "markdown",
   "metadata": {},
   "source": [
    "### Pretrained image model "
   ]
  },
  {
   "cell_type": "code",
   "execution_count": 286,
   "metadata": {},
   "outputs": [
    {
     "name": "stdout",
     "output_type": "stream",
     "text": [
      "Using pretrained IMAGE model: https://tfhub.dev/google/imagenet/mobilenet_v2_100_96/feature_vector/4\n",
      "552/552 [==============================] - 79s 143ms/step - factorized_top_k/top_1_categorical_accuracy: 0.0000e+00 - factorized_top_k/top_5_categorical_accuracy: 0.0031 - factorized_top_k/top_10_categorical_accuracy: 0.0120 - factorized_top_k/top_50_categorical_accuracy: 0.0499 - factorized_top_k/top_100_categorical_accuracy: 0.0787 - loss: 13.6808 - regularization_loss: 0.0000e+00 - total_loss: 13.6808\n"
     ]
    },
    {
     "data": {
      "text/plain": [
       "[0.0,\n",
       " 0.003086463548243046,\n",
       " 0.01203437615185976,\n",
       " 0.04990726336836815,\n",
       " 0.07871897518634796]"
      ]
     },
     "execution_count": 286,
     "metadata": {},
     "output_type": "execute_result"
    }
   ],
   "source": [
    "recsys2_im = ItemSimilarityModel(test_candidate_ids=unique_item_ids,\n",
    "                                      features=['image_embedding'],\n",
    "                                      feature_dims=[None],\n",
    "                                      unique_item_ids=unique_item_ids,\n",
    "                                      item_body_lookup=body_lookup_table,\n",
    "                                      item_tags_lookup=tags_lookup_table,\n",
    "                                      item_category_lookup=category_lookup_table,\n",
    "                                      item_image_lookup=thumbnail_lookup_table,\n",
    "                                      image_embedding_lookup_table=im_embeddings_lookup,\n",
    "                                      layer_sizes=[])\n",
    "recsys2_im.compile(optimizer=tf.keras.optimizers.Adagrad(lr))\n",
    "recsys2_im_metrics = recsys2_im.evaluate(holdout_logs_tf.batch(128).cache())\n",
    "recsys2_im_metrics\n"
   ]
  },
  {
   "cell_type": "code",
   "execution_count": 71,
   "metadata": {},
   "outputs": [
    {
     "ename": "ValueError",
     "evalue": "in user code:\n\n    <ipython-input-6-e48051f929fe>:177 call  *\n        return self.dense_layers(feature_embedding)\n    /Users/mercef02/.virtualenvs/exploration-Tqzb7Mc2/lib/python3.7/site-packages/tensorflow/python/keras/engine/base_layer.py:976 __call__  **\n        self.name)\n    /Users/mercef02/.virtualenvs/exploration-Tqzb7Mc2/lib/python3.7/site-packages/tensorflow/python/keras/engine/input_spec.py:168 assert_input_compatibility\n        layer_name + ' is incompatible with the layer: '\n\n    ValueError: Input 0 of layer sequential_deep is incompatible with the layer: its rank is undefined, but the layer requires a defined rank.\n",
     "output_type": "error",
     "traceback": [
      "\u001B[0;31m---------------------------------------------------------------------------\u001B[0m",
      "\u001B[0;31mValueError\u001B[0m                                Traceback (most recent call last)",
      "\u001B[0;32m<ipython-input-71-735d35459e24>\u001B[0m in \u001B[0;36m<module>\u001B[0;34m\u001B[0m\n\u001B[1;32m      9\u001B[0m                                       \u001B[0mitem_image_lookup\u001B[0m\u001B[0;34m=\u001B[0m\u001B[0mthumbnail_lookup_table\u001B[0m\u001B[0;34m,\u001B[0m\u001B[0;34m\u001B[0m\u001B[0;34m\u001B[0m\u001B[0m\n\u001B[1;32m     10\u001B[0m                                       \u001B[0mimage_embedding_lookup_table\u001B[0m\u001B[0;34m=\u001B[0m\u001B[0mim_vec_lookup_table\u001B[0m\u001B[0;34m,\u001B[0m\u001B[0;34m\u001B[0m\u001B[0;34m\u001B[0m\u001B[0m\n\u001B[0;32m---> 11\u001B[0;31m                                       layer_sizes=[512, 100])\n\u001B[0m\u001B[1;32m     12\u001B[0m \u001B[0mrecsys2_im\u001B[0m\u001B[0;34m.\u001B[0m\u001B[0mcompile\u001B[0m\u001B[0;34m(\u001B[0m\u001B[0moptimizer\u001B[0m\u001B[0;34m=\u001B[0m\u001B[0mtf\u001B[0m\u001B[0;34m.\u001B[0m\u001B[0mkeras\u001B[0m\u001B[0;34m.\u001B[0m\u001B[0moptimizers\u001B[0m\u001B[0;34m.\u001B[0m\u001B[0mAdagrad\u001B[0m\u001B[0;34m(\u001B[0m\u001B[0mlr\u001B[0m\u001B[0;34m)\u001B[0m\u001B[0;34m)\u001B[0m\u001B[0;34m\u001B[0m\u001B[0;34m\u001B[0m\u001B[0m\n\u001B[1;32m     13\u001B[0m \u001B[0mrecsys2_im_metrics\u001B[0m \u001B[0;34m=\u001B[0m \u001B[0mrecsys2_im\u001B[0m\u001B[0;34m.\u001B[0m\u001B[0mevaluate\u001B[0m\u001B[0;34m(\u001B[0m\u001B[0mholdout_logs_tf\u001B[0m\u001B[0;34m.\u001B[0m\u001B[0mbatch\u001B[0m\u001B[0;34m(\u001B[0m\u001B[0;36m128\u001B[0m\u001B[0;34m)\u001B[0m\u001B[0;34m.\u001B[0m\u001B[0mcache\u001B[0m\u001B[0;34m(\u001B[0m\u001B[0;34m)\u001B[0m\u001B[0;34m)\u001B[0m\u001B[0;34m\u001B[0m\u001B[0;34m\u001B[0m\u001B[0m\n",
      "\u001B[0;32m<ipython-input-6-e48051f929fe>\u001B[0m in \u001B[0;36m__init__\u001B[0;34m(self, test_candidate_ids, features, feature_dims, unique_item_ids, item_body_lookup, item_tags_lookup, item_category_lookup, item_image_lookup, image_embedding_lookup_table, layer_sizes, pretrained_text_model, pretrained_image_model, compute_metrics)\u001B[0m\n\u001B[1;32m    222\u001B[0m \u001B[0;34m\u001B[0m\u001B[0m\n\u001B[1;32m    223\u001B[0m     self.task = tfrs.tasks.Retrieval(loss=tf.keras.losses.CategoricalCrossentropy(),\n\u001B[0;32m--> 224\u001B[0;31m             metrics=tfrs.metrics.FactorizedTopK(candidates=test_candidate_ids.batch(512).map(self.item_model)))\n\u001B[0m\u001B[1;32m    225\u001B[0m \u001B[0;34m\u001B[0m\u001B[0m\n\u001B[1;32m    226\u001B[0m   \u001B[0;32mdef\u001B[0m \u001B[0mcompute_loss\u001B[0m\u001B[0;34m(\u001B[0m\u001B[0mself\u001B[0m\u001B[0;34m,\u001B[0m \u001B[0mraw_features\u001B[0m\u001B[0;34m:\u001B[0m \u001B[0mDict\u001B[0m\u001B[0;34m[\u001B[0m\u001B[0mText\u001B[0m\u001B[0;34m,\u001B[0m \u001B[0mtf\u001B[0m\u001B[0;34m.\u001B[0m\u001B[0mTensor\u001B[0m\u001B[0;34m]\u001B[0m\u001B[0;34m,\u001B[0m \u001B[0mtraining\u001B[0m\u001B[0;34m=\u001B[0m\u001B[0;32mFalse\u001B[0m\u001B[0;34m)\u001B[0m \u001B[0;34m->\u001B[0m \u001B[0mtf\u001B[0m\u001B[0;34m.\u001B[0m\u001B[0mTensor\u001B[0m\u001B[0;34m:\u001B[0m\u001B[0;34m\u001B[0m\u001B[0;34m\u001B[0m\u001B[0m\n",
      "\u001B[0;32m~/.virtualenvs/exploration-Tqzb7Mc2/lib/python3.7/site-packages/tensorflow/python/data/ops/dataset_ops.py\u001B[0m in \u001B[0;36mmap\u001B[0;34m(self, map_func, num_parallel_calls, deterministic)\u001B[0m\n\u001B[1;32m   1693\u001B[0m     \"\"\"\n\u001B[1;32m   1694\u001B[0m     \u001B[0;32mif\u001B[0m \u001B[0mnum_parallel_calls\u001B[0m \u001B[0;32mis\u001B[0m \u001B[0;32mNone\u001B[0m\u001B[0;34m:\u001B[0m\u001B[0;34m\u001B[0m\u001B[0;34m\u001B[0m\u001B[0m\n\u001B[0;32m-> 1695\u001B[0;31m       \u001B[0;32mreturn\u001B[0m \u001B[0mMapDataset\u001B[0m\u001B[0;34m(\u001B[0m\u001B[0mself\u001B[0m\u001B[0;34m,\u001B[0m \u001B[0mmap_func\u001B[0m\u001B[0;34m,\u001B[0m \u001B[0mpreserve_cardinality\u001B[0m\u001B[0;34m=\u001B[0m\u001B[0;32mTrue\u001B[0m\u001B[0;34m)\u001B[0m\u001B[0;34m\u001B[0m\u001B[0;34m\u001B[0m\u001B[0m\n\u001B[0m\u001B[1;32m   1696\u001B[0m     \u001B[0;32melse\u001B[0m\u001B[0;34m:\u001B[0m\u001B[0;34m\u001B[0m\u001B[0;34m\u001B[0m\u001B[0m\n\u001B[1;32m   1697\u001B[0m       return ParallelMapDataset(\n",
      "\u001B[0;32m~/.virtualenvs/exploration-Tqzb7Mc2/lib/python3.7/site-packages/tensorflow/python/data/ops/dataset_ops.py\u001B[0m in \u001B[0;36m__init__\u001B[0;34m(self, input_dataset, map_func, use_inter_op_parallelism, preserve_cardinality, use_legacy_function)\u001B[0m\n\u001B[1;32m   4043\u001B[0m         \u001B[0mself\u001B[0m\u001B[0;34m.\u001B[0m\u001B[0m_transformation_name\u001B[0m\u001B[0;34m(\u001B[0m\u001B[0;34m)\u001B[0m\u001B[0;34m,\u001B[0m\u001B[0;34m\u001B[0m\u001B[0;34m\u001B[0m\u001B[0m\n\u001B[1;32m   4044\u001B[0m         \u001B[0mdataset\u001B[0m\u001B[0;34m=\u001B[0m\u001B[0minput_dataset\u001B[0m\u001B[0;34m,\u001B[0m\u001B[0;34m\u001B[0m\u001B[0;34m\u001B[0m\u001B[0m\n\u001B[0;32m-> 4045\u001B[0;31m         use_legacy_function=use_legacy_function)\n\u001B[0m\u001B[1;32m   4046\u001B[0m     variant_tensor = gen_dataset_ops.map_dataset(\n\u001B[1;32m   4047\u001B[0m         \u001B[0minput_dataset\u001B[0m\u001B[0;34m.\u001B[0m\u001B[0m_variant_tensor\u001B[0m\u001B[0;34m,\u001B[0m  \u001B[0;31m# pylint: disable=protected-access\u001B[0m\u001B[0;34m\u001B[0m\u001B[0;34m\u001B[0m\u001B[0m\n",
      "\u001B[0;32m~/.virtualenvs/exploration-Tqzb7Mc2/lib/python3.7/site-packages/tensorflow/python/data/ops/dataset_ops.py\u001B[0m in \u001B[0;36m__init__\u001B[0;34m(self, func, transformation_name, dataset, input_classes, input_shapes, input_types, input_structure, add_to_graph, use_legacy_function, defun_kwargs)\u001B[0m\n\u001B[1;32m   3369\u001B[0m       \u001B[0;32mwith\u001B[0m \u001B[0mtracking\u001B[0m\u001B[0;34m.\u001B[0m\u001B[0mresource_tracker_scope\u001B[0m\u001B[0;34m(\u001B[0m\u001B[0mresource_tracker\u001B[0m\u001B[0;34m)\u001B[0m\u001B[0;34m:\u001B[0m\u001B[0;34m\u001B[0m\u001B[0;34m\u001B[0m\u001B[0m\n\u001B[1;32m   3370\u001B[0m         \u001B[0;31m# TODO(b/141462134): Switch to using garbage collection.\u001B[0m\u001B[0;34m\u001B[0m\u001B[0;34m\u001B[0m\u001B[0;34m\u001B[0m\u001B[0m\n\u001B[0;32m-> 3371\u001B[0;31m         \u001B[0mself\u001B[0m\u001B[0;34m.\u001B[0m\u001B[0m_function\u001B[0m \u001B[0;34m=\u001B[0m \u001B[0mwrapper_fn\u001B[0m\u001B[0;34m.\u001B[0m\u001B[0mget_concrete_function\u001B[0m\u001B[0;34m(\u001B[0m\u001B[0;34m)\u001B[0m\u001B[0;34m\u001B[0m\u001B[0;34m\u001B[0m\u001B[0m\n\u001B[0m\u001B[1;32m   3372\u001B[0m         \u001B[0;32mif\u001B[0m \u001B[0madd_to_graph\u001B[0m\u001B[0;34m:\u001B[0m\u001B[0;34m\u001B[0m\u001B[0;34m\u001B[0m\u001B[0m\n\u001B[1;32m   3373\u001B[0m           \u001B[0mself\u001B[0m\u001B[0;34m.\u001B[0m\u001B[0m_function\u001B[0m\u001B[0;34m.\u001B[0m\u001B[0madd_to_graph\u001B[0m\u001B[0;34m(\u001B[0m\u001B[0mops\u001B[0m\u001B[0;34m.\u001B[0m\u001B[0mget_default_graph\u001B[0m\u001B[0;34m(\u001B[0m\u001B[0;34m)\u001B[0m\u001B[0;34m)\u001B[0m\u001B[0;34m\u001B[0m\u001B[0;34m\u001B[0m\u001B[0m\n",
      "\u001B[0;32m~/.virtualenvs/exploration-Tqzb7Mc2/lib/python3.7/site-packages/tensorflow/python/eager/function.py\u001B[0m in \u001B[0;36mget_concrete_function\u001B[0;34m(self, *args, **kwargs)\u001B[0m\n\u001B[1;32m   2937\u001B[0m     \"\"\"\n\u001B[1;32m   2938\u001B[0m     graph_function = self._get_concrete_function_garbage_collected(\n\u001B[0;32m-> 2939\u001B[0;31m         *args, **kwargs)\n\u001B[0m\u001B[1;32m   2940\u001B[0m     \u001B[0mgraph_function\u001B[0m\u001B[0;34m.\u001B[0m\u001B[0m_garbage_collector\u001B[0m\u001B[0;34m.\u001B[0m\u001B[0mrelease\u001B[0m\u001B[0;34m(\u001B[0m\u001B[0;34m)\u001B[0m  \u001B[0;31m# pylint: disable=protected-access\u001B[0m\u001B[0;34m\u001B[0m\u001B[0;34m\u001B[0m\u001B[0m\n\u001B[1;32m   2941\u001B[0m     \u001B[0;32mreturn\u001B[0m \u001B[0mgraph_function\u001B[0m\u001B[0;34m\u001B[0m\u001B[0;34m\u001B[0m\u001B[0m\n",
      "\u001B[0;32m~/.virtualenvs/exploration-Tqzb7Mc2/lib/python3.7/site-packages/tensorflow/python/eager/function.py\u001B[0m in \u001B[0;36m_get_concrete_function_garbage_collected\u001B[0;34m(self, *args, **kwargs)\u001B[0m\n\u001B[1;32m   2904\u001B[0m       \u001B[0margs\u001B[0m\u001B[0;34m,\u001B[0m \u001B[0mkwargs\u001B[0m \u001B[0;34m=\u001B[0m \u001B[0;32mNone\u001B[0m\u001B[0;34m,\u001B[0m \u001B[0;32mNone\u001B[0m\u001B[0;34m\u001B[0m\u001B[0;34m\u001B[0m\u001B[0m\n\u001B[1;32m   2905\u001B[0m     \u001B[0;32mwith\u001B[0m \u001B[0mself\u001B[0m\u001B[0;34m.\u001B[0m\u001B[0m_lock\u001B[0m\u001B[0;34m:\u001B[0m\u001B[0;34m\u001B[0m\u001B[0;34m\u001B[0m\u001B[0m\n\u001B[0;32m-> 2906\u001B[0;31m       \u001B[0mgraph_function\u001B[0m\u001B[0;34m,\u001B[0m \u001B[0margs\u001B[0m\u001B[0;34m,\u001B[0m \u001B[0mkwargs\u001B[0m \u001B[0;34m=\u001B[0m \u001B[0mself\u001B[0m\u001B[0;34m.\u001B[0m\u001B[0m_maybe_define_function\u001B[0m\u001B[0;34m(\u001B[0m\u001B[0margs\u001B[0m\u001B[0;34m,\u001B[0m \u001B[0mkwargs\u001B[0m\u001B[0;34m)\u001B[0m\u001B[0;34m\u001B[0m\u001B[0;34m\u001B[0m\u001B[0m\n\u001B[0m\u001B[1;32m   2907\u001B[0m       \u001B[0mseen_names\u001B[0m \u001B[0;34m=\u001B[0m \u001B[0mset\u001B[0m\u001B[0;34m(\u001B[0m\u001B[0;34m)\u001B[0m\u001B[0;34m\u001B[0m\u001B[0;34m\u001B[0m\u001B[0m\n\u001B[1;32m   2908\u001B[0m       captured = object_identity.ObjectIdentitySet(\n",
      "\u001B[0;32m~/.virtualenvs/exploration-Tqzb7Mc2/lib/python3.7/site-packages/tensorflow/python/eager/function.py\u001B[0m in \u001B[0;36m_maybe_define_function\u001B[0;34m(self, args, kwargs)\u001B[0m\n\u001B[1;32m   3211\u001B[0m \u001B[0;34m\u001B[0m\u001B[0m\n\u001B[1;32m   3212\u001B[0m       \u001B[0mself\u001B[0m\u001B[0;34m.\u001B[0m\u001B[0m_function_cache\u001B[0m\u001B[0;34m.\u001B[0m\u001B[0mmissed\u001B[0m\u001B[0;34m.\u001B[0m\u001B[0madd\u001B[0m\u001B[0;34m(\u001B[0m\u001B[0mcall_context_key\u001B[0m\u001B[0;34m)\u001B[0m\u001B[0;34m\u001B[0m\u001B[0;34m\u001B[0m\u001B[0m\n\u001B[0;32m-> 3213\u001B[0;31m       \u001B[0mgraph_function\u001B[0m \u001B[0;34m=\u001B[0m \u001B[0mself\u001B[0m\u001B[0;34m.\u001B[0m\u001B[0m_create_graph_function\u001B[0m\u001B[0;34m(\u001B[0m\u001B[0margs\u001B[0m\u001B[0;34m,\u001B[0m \u001B[0mkwargs\u001B[0m\u001B[0;34m)\u001B[0m\u001B[0;34m\u001B[0m\u001B[0;34m\u001B[0m\u001B[0m\n\u001B[0m\u001B[1;32m   3214\u001B[0m       \u001B[0mself\u001B[0m\u001B[0;34m.\u001B[0m\u001B[0m_function_cache\u001B[0m\u001B[0;34m.\u001B[0m\u001B[0mprimary\u001B[0m\u001B[0;34m[\u001B[0m\u001B[0mcache_key\u001B[0m\u001B[0;34m]\u001B[0m \u001B[0;34m=\u001B[0m \u001B[0mgraph_function\u001B[0m\u001B[0;34m\u001B[0m\u001B[0;34m\u001B[0m\u001B[0m\n\u001B[1;32m   3215\u001B[0m       \u001B[0;32mreturn\u001B[0m \u001B[0mgraph_function\u001B[0m\u001B[0;34m,\u001B[0m \u001B[0margs\u001B[0m\u001B[0;34m,\u001B[0m \u001B[0mkwargs\u001B[0m\u001B[0;34m\u001B[0m\u001B[0;34m\u001B[0m\u001B[0m\n",
      "\u001B[0;32m~/.virtualenvs/exploration-Tqzb7Mc2/lib/python3.7/site-packages/tensorflow/python/eager/function.py\u001B[0m in \u001B[0;36m_create_graph_function\u001B[0;34m(self, args, kwargs, override_flat_arg_shapes)\u001B[0m\n\u001B[1;32m   3073\u001B[0m             \u001B[0marg_names\u001B[0m\u001B[0;34m=\u001B[0m\u001B[0marg_names\u001B[0m\u001B[0;34m,\u001B[0m\u001B[0;34m\u001B[0m\u001B[0;34m\u001B[0m\u001B[0m\n\u001B[1;32m   3074\u001B[0m             \u001B[0moverride_flat_arg_shapes\u001B[0m\u001B[0;34m=\u001B[0m\u001B[0moverride_flat_arg_shapes\u001B[0m\u001B[0;34m,\u001B[0m\u001B[0;34m\u001B[0m\u001B[0;34m\u001B[0m\u001B[0m\n\u001B[0;32m-> 3075\u001B[0;31m             capture_by_value=self._capture_by_value),\n\u001B[0m\u001B[1;32m   3076\u001B[0m         \u001B[0mself\u001B[0m\u001B[0;34m.\u001B[0m\u001B[0m_function_attributes\u001B[0m\u001B[0;34m,\u001B[0m\u001B[0;34m\u001B[0m\u001B[0;34m\u001B[0m\u001B[0m\n\u001B[1;32m   3077\u001B[0m         \u001B[0mfunction_spec\u001B[0m\u001B[0;34m=\u001B[0m\u001B[0mself\u001B[0m\u001B[0;34m.\u001B[0m\u001B[0mfunction_spec\u001B[0m\u001B[0;34m,\u001B[0m\u001B[0;34m\u001B[0m\u001B[0;34m\u001B[0m\u001B[0m\n",
      "\u001B[0;32m~/.virtualenvs/exploration-Tqzb7Mc2/lib/python3.7/site-packages/tensorflow/python/framework/func_graph.py\u001B[0m in \u001B[0;36mfunc_graph_from_py_func\u001B[0;34m(name, python_func, args, kwargs, signature, func_graph, autograph, autograph_options, add_control_dependencies, arg_names, op_return_value, collections, capture_by_value, override_flat_arg_shapes)\u001B[0m\n\u001B[1;32m    984\u001B[0m         \u001B[0m_\u001B[0m\u001B[0;34m,\u001B[0m \u001B[0moriginal_func\u001B[0m \u001B[0;34m=\u001B[0m \u001B[0mtf_decorator\u001B[0m\u001B[0;34m.\u001B[0m\u001B[0munwrap\u001B[0m\u001B[0;34m(\u001B[0m\u001B[0mpython_func\u001B[0m\u001B[0;34m)\u001B[0m\u001B[0;34m\u001B[0m\u001B[0;34m\u001B[0m\u001B[0m\n\u001B[1;32m    985\u001B[0m \u001B[0;34m\u001B[0m\u001B[0m\n\u001B[0;32m--> 986\u001B[0;31m       \u001B[0mfunc_outputs\u001B[0m \u001B[0;34m=\u001B[0m \u001B[0mpython_func\u001B[0m\u001B[0;34m(\u001B[0m\u001B[0;34m*\u001B[0m\u001B[0mfunc_args\u001B[0m\u001B[0;34m,\u001B[0m \u001B[0;34m**\u001B[0m\u001B[0mfunc_kwargs\u001B[0m\u001B[0;34m)\u001B[0m\u001B[0;34m\u001B[0m\u001B[0;34m\u001B[0m\u001B[0m\n\u001B[0m\u001B[1;32m    987\u001B[0m \u001B[0;34m\u001B[0m\u001B[0m\n\u001B[1;32m    988\u001B[0m       \u001B[0;31m# invariant: `func_outputs` contains only Tensors, CompositeTensors,\u001B[0m\u001B[0;34m\u001B[0m\u001B[0;34m\u001B[0m\u001B[0;34m\u001B[0m\u001B[0m\n",
      "\u001B[0;32m~/.virtualenvs/exploration-Tqzb7Mc2/lib/python3.7/site-packages/tensorflow/python/data/ops/dataset_ops.py\u001B[0m in \u001B[0;36mwrapper_fn\u001B[0;34m(*args)\u001B[0m\n\u001B[1;32m   3362\u001B[0m           attributes=defun_kwargs)\n\u001B[1;32m   3363\u001B[0m       \u001B[0;32mdef\u001B[0m \u001B[0mwrapper_fn\u001B[0m\u001B[0;34m(\u001B[0m\u001B[0;34m*\u001B[0m\u001B[0margs\u001B[0m\u001B[0;34m)\u001B[0m\u001B[0;34m:\u001B[0m  \u001B[0;31m# pylint: disable=missing-docstring\u001B[0m\u001B[0;34m\u001B[0m\u001B[0;34m\u001B[0m\u001B[0m\n\u001B[0;32m-> 3364\u001B[0;31m         \u001B[0mret\u001B[0m \u001B[0;34m=\u001B[0m \u001B[0m_wrapper_helper\u001B[0m\u001B[0;34m(\u001B[0m\u001B[0;34m*\u001B[0m\u001B[0margs\u001B[0m\u001B[0;34m)\u001B[0m\u001B[0;34m\u001B[0m\u001B[0;34m\u001B[0m\u001B[0m\n\u001B[0m\u001B[1;32m   3365\u001B[0m         \u001B[0mret\u001B[0m \u001B[0;34m=\u001B[0m \u001B[0mstructure\u001B[0m\u001B[0;34m.\u001B[0m\u001B[0mto_tensor_list\u001B[0m\u001B[0;34m(\u001B[0m\u001B[0mself\u001B[0m\u001B[0;34m.\u001B[0m\u001B[0m_output_structure\u001B[0m\u001B[0;34m,\u001B[0m \u001B[0mret\u001B[0m\u001B[0;34m)\u001B[0m\u001B[0;34m\u001B[0m\u001B[0;34m\u001B[0m\u001B[0m\n\u001B[1;32m   3366\u001B[0m         \u001B[0;32mreturn\u001B[0m \u001B[0;34m[\u001B[0m\u001B[0mops\u001B[0m\u001B[0;34m.\u001B[0m\u001B[0mconvert_to_tensor\u001B[0m\u001B[0;34m(\u001B[0m\u001B[0mt\u001B[0m\u001B[0;34m)\u001B[0m \u001B[0;32mfor\u001B[0m \u001B[0mt\u001B[0m \u001B[0;32min\u001B[0m \u001B[0mret\u001B[0m\u001B[0;34m]\u001B[0m\u001B[0;34m\u001B[0m\u001B[0;34m\u001B[0m\u001B[0m\n",
      "\u001B[0;32m~/.virtualenvs/exploration-Tqzb7Mc2/lib/python3.7/site-packages/tensorflow/python/data/ops/dataset_ops.py\u001B[0m in \u001B[0;36m_wrapper_helper\u001B[0;34m(*args)\u001B[0m\n\u001B[1;32m   3297\u001B[0m         \u001B[0mnested_args\u001B[0m \u001B[0;34m=\u001B[0m \u001B[0;34m(\u001B[0m\u001B[0mnested_args\u001B[0m\u001B[0;34m,\u001B[0m\u001B[0;34m)\u001B[0m\u001B[0;34m\u001B[0m\u001B[0;34m\u001B[0m\u001B[0m\n\u001B[1;32m   3298\u001B[0m \u001B[0;34m\u001B[0m\u001B[0m\n\u001B[0;32m-> 3299\u001B[0;31m       \u001B[0mret\u001B[0m \u001B[0;34m=\u001B[0m \u001B[0mautograph\u001B[0m\u001B[0;34m.\u001B[0m\u001B[0mtf_convert\u001B[0m\u001B[0;34m(\u001B[0m\u001B[0mfunc\u001B[0m\u001B[0;34m,\u001B[0m \u001B[0mag_ctx\u001B[0m\u001B[0;34m)\u001B[0m\u001B[0;34m(\u001B[0m\u001B[0;34m*\u001B[0m\u001B[0mnested_args\u001B[0m\u001B[0;34m)\u001B[0m\u001B[0;34m\u001B[0m\u001B[0;34m\u001B[0m\u001B[0m\n\u001B[0m\u001B[1;32m   3300\u001B[0m       \u001B[0;31m# If `func` returns a list of tensors, `nest.flatten()` and\u001B[0m\u001B[0;34m\u001B[0m\u001B[0;34m\u001B[0m\u001B[0;34m\u001B[0m\u001B[0m\n\u001B[1;32m   3301\u001B[0m       \u001B[0;31m# `ops.convert_to_tensor()` would conspire to attempt to stack\u001B[0m\u001B[0;34m\u001B[0m\u001B[0;34m\u001B[0m\u001B[0;34m\u001B[0m\u001B[0m\n",
      "\u001B[0;32m~/.virtualenvs/exploration-Tqzb7Mc2/lib/python3.7/site-packages/tensorflow/python/autograph/impl/api.py\u001B[0m in \u001B[0;36mwrapper\u001B[0;34m(*args, **kwargs)\u001B[0m\n\u001B[1;32m    256\u001B[0m       \u001B[0;32mexcept\u001B[0m \u001B[0mException\u001B[0m \u001B[0;32mas\u001B[0m \u001B[0me\u001B[0m\u001B[0;34m:\u001B[0m  \u001B[0;31m# pylint:disable=broad-except\u001B[0m\u001B[0;34m\u001B[0m\u001B[0;34m\u001B[0m\u001B[0m\n\u001B[1;32m    257\u001B[0m         \u001B[0;32mif\u001B[0m \u001B[0mhasattr\u001B[0m\u001B[0;34m(\u001B[0m\u001B[0me\u001B[0m\u001B[0;34m,\u001B[0m \u001B[0;34m'ag_error_metadata'\u001B[0m\u001B[0;34m)\u001B[0m\u001B[0;34m:\u001B[0m\u001B[0;34m\u001B[0m\u001B[0;34m\u001B[0m\u001B[0m\n\u001B[0;32m--> 258\u001B[0;31m           \u001B[0;32mraise\u001B[0m \u001B[0me\u001B[0m\u001B[0;34m.\u001B[0m\u001B[0mag_error_metadata\u001B[0m\u001B[0;34m.\u001B[0m\u001B[0mto_exception\u001B[0m\u001B[0;34m(\u001B[0m\u001B[0me\u001B[0m\u001B[0;34m)\u001B[0m\u001B[0;34m\u001B[0m\u001B[0;34m\u001B[0m\u001B[0m\n\u001B[0m\u001B[1;32m    259\u001B[0m         \u001B[0;32melse\u001B[0m\u001B[0;34m:\u001B[0m\u001B[0;34m\u001B[0m\u001B[0;34m\u001B[0m\u001B[0m\n\u001B[1;32m    260\u001B[0m           \u001B[0;32mraise\u001B[0m\u001B[0;34m\u001B[0m\u001B[0;34m\u001B[0m\u001B[0m\n",
      "\u001B[0;31mValueError\u001B[0m: in user code:\n\n    <ipython-input-6-e48051f929fe>:177 call  *\n        return self.dense_layers(feature_embedding)\n    /Users/mercef02/.virtualenvs/exploration-Tqzb7Mc2/lib/python3.7/site-packages/tensorflow/python/keras/engine/base_layer.py:976 __call__  **\n        self.name)\n    /Users/mercef02/.virtualenvs/exploration-Tqzb7Mc2/lib/python3.7/site-packages/tensorflow/python/keras/engine/input_spec.py:168 assert_input_compatibility\n        layer_name + ' is incompatible with the layer: '\n\n    ValueError: Input 0 of layer sequential_deep is incompatible with the layer: its rank is undefined, but the layer requires a defined rank.\n"
     ]
    }
   ],
   "source": [
    "lr = 0.01\n",
    "recsys2_im = ItemSimilarityModel(test_candidate_ids=unique_item_ids,\n",
    "                                      features=['image_embedding'],\n",
    "                                      feature_dims=[2048],\n",
    "                                      unique_item_ids=unique_item_ids,\n",
    "                                      item_body_lookup=body_lookup_table,\n",
    "                                      item_tags_lookup=tags_lookup_table,\n",
    "                                      item_category_lookup=category_lookup_table,\n",
    "                                      item_image_lookup=thumbnail_lookup_table,\n",
    "                                      image_embedding_lookup_table=im_vec_lookup_table,\n",
    "                                      layer_sizes=[512, 100])\n",
    "recsys2_im.compile(optimizer=tf.keras.optimizers.Adagrad(lr))\n",
    "recsys2_im_metrics = recsys2_im.evaluate(holdout_logs_tf.batch(128).cache())\n",
    "recsys2_im_metrics\n"
   ]
  },
  {
   "cell_type": "markdown",
   "metadata": {},
   "source": [
    "### Pretrained image model and pretrained text model"
   ]
  },
  {
   "cell_type": "code",
   "execution_count": 287,
   "metadata": {},
   "outputs": [
    {
     "name": "stdout",
     "output_type": "stream",
     "text": [
      "Using pretrained TEXT model: https://tfhub.dev/google/nnlm-en-dim128-with-normalization/2\n",
      "552/552 [==============================] - 197s 357ms/step - factorized_top_k/top_1_categorical_accuracy: 0.0000e+00 - factorized_top_k/top_5_categorical_accuracy: 0.0032 - factorized_top_k/top_10_categorical_accuracy: 0.0118 - factorized_top_k/top_50_categorical_accuracy: 0.0499 - factorized_top_k/top_100_categorical_accuracy: 0.0799 - loss: 13.6803 - regularization_loss: 0.0000e+00 - total_loss: 13.6803\n"
     ]
    },
    {
     "data": {
      "text/plain": [
       "[0.0,\n",
       " 0.0031855700071901083,\n",
       " 0.011836162768304348,\n",
       " 0.049864791333675385,\n",
       " 0.07985161989927292]"
      ]
     },
     "execution_count": 287,
     "metadata": {},
     "output_type": "execute_result"
    }
   ],
   "source": [
    "model_link = 'https://tfhub.dev/google/nnlm-en-dim128-with-normalization/2'\n",
    "\n",
    "text_model = {\"format\": \"text\", \"link\": model_link}\n",
    "\n",
    "recsys2_im = ItemSimilarityModel(test_candidate_ids=unique_item_ids,\n",
    "                                      features=['text_model', 'image_embedding'],\n",
    "                                      feature_dims=[text_model, None],\n",
    "                                      unique_item_ids=unique_item_ids,\n",
    "                                      item_body_lookup=body_lookup_table,\n",
    "                                      item_tags_lookup=tags_lookup_table,\n",
    "                                      item_category_lookup=category_lookup_table,\n",
    "                                      item_image_lookup=thumbnail_lookup_table,\n",
    "                                      image_embedding_lookup_table=im_embeddings_lookup,\n",
    "                                      layer_sizes=[])\n",
    "recsys2_im.compile(optimizer=tf.keras.optimizers.Adagrad(lr))\n",
    "recsys2_im_metrics = recsys2_im.evaluate(holdout_logs_tf.batch(128).cache())\n",
    "recsys2_im_metrics"
   ]
  },
  {
   "cell_type": "markdown",
   "metadata": {},
   "source": [
    "### Pretrained text model tuned on siamese network"
   ]
  },
  {
   "cell_type": "code",
   "execution_count": 318,
   "metadata": {},
   "outputs": [
    {
     "name": "stdout",
     "output_type": "stream",
     "text": [
      "Using pretrained TEXT model: https://tfhub.dev/google/nnlm-en-dim128-with-normalization/2\n",
      "WARNING:tensorflow:11 out of the last 11 calls to <function recreate_function.<locals>.restored_function_body at 0x1cc9a5048> triggered tf.function retracing. Tracing is expensive and the excessive number of tracings could be due to (1) creating @tf.function repeatedly in a loop, (2) passing tensors with different shapes, (3) passing Python objects instead of tensors. For (1), please define your @tf.function outside of the loop. For (2), @tf.function has experimental_relax_shapes=True option that relaxes argument shapes that can avoid unnecessary retracing. For (3), please refer to https://www.tensorflow.org/tutorials/customization/performance#python_or_tensor_args and https://www.tensorflow.org/api_docs/python/tf/function for  more details.\n"
     ]
    },
    {
     "name": "stderr",
     "output_type": "stream",
     "text": [
      "WARNING:tensorflow:11 out of the last 11 calls to <function recreate_function.<locals>.restored_function_body at 0x1cc9a5048> triggered tf.function retracing. Tracing is expensive and the excessive number of tracings could be due to (1) creating @tf.function repeatedly in a loop, (2) passing tensors with different shapes, (3) passing Python objects instead of tensors. For (1), please define your @tf.function outside of the loop. For (2), @tf.function has experimental_relax_shapes=True option that relaxes argument shapes that can avoid unnecessary retracing. For (3), please refer to https://www.tensorflow.org/tutorials/customization/performance#python_or_tensor_args and https://www.tensorflow.org/api_docs/python/tf/function for  more details.\n"
     ]
    },
    {
     "name": "stdout",
     "output_type": "stream",
     "text": [
      "WARNING:tensorflow:11 out of the last 11 calls to <function recreate_function.<locals>.restored_function_body at 0x1cc933ae8> triggered tf.function retracing. Tracing is expensive and the excessive number of tracings could be due to (1) creating @tf.function repeatedly in a loop, (2) passing tensors with different shapes, (3) passing Python objects instead of tensors. For (1), please define your @tf.function outside of the loop. For (2), @tf.function has experimental_relax_shapes=True option that relaxes argument shapes that can avoid unnecessary retracing. For (3), please refer to https://www.tensorflow.org/tutorials/customization/performance#python_or_tensor_args and https://www.tensorflow.org/api_docs/python/tf/function for  more details.\n"
     ]
    },
    {
     "name": "stderr",
     "output_type": "stream",
     "text": [
      "WARNING:tensorflow:11 out of the last 11 calls to <function recreate_function.<locals>.restored_function_body at 0x1cc933ae8> triggered tf.function retracing. Tracing is expensive and the excessive number of tracings could be due to (1) creating @tf.function repeatedly in a loop, (2) passing tensors with different shapes, (3) passing Python objects instead of tensors. For (1), please define your @tf.function outside of the loop. For (2), @tf.function has experimental_relax_shapes=True option that relaxes argument shapes that can avoid unnecessary retracing. For (3), please refer to https://www.tensorflow.org/tutorials/customization/performance#python_or_tensor_args and https://www.tensorflow.org/api_docs/python/tf/function for  more details.\n"
     ]
    },
    {
     "name": "stdout",
     "output_type": "stream",
     "text": [
      "Epoch 1/3\n",
      "WARNING:tensorflow:The dtype of the source tensor must be floating (e.g. tf.float32) when calling GradientTape.gradient, got tf.int32\n"
     ]
    },
    {
     "name": "stderr",
     "output_type": "stream",
     "text": [
      "WARNING:tensorflow:The dtype of the source tensor must be floating (e.g. tf.float32) when calling GradientTape.gradient, got tf.int32\n"
     ]
    },
    {
     "name": "stdout",
     "output_type": "stream",
     "text": [
      "WARNING:tensorflow:Gradients do not exist for variables ['counter:0'] when minimizing the loss.\n"
     ]
    },
    {
     "name": "stderr",
     "output_type": "stream",
     "text": [
      "WARNING:tensorflow:Gradients do not exist for variables ['counter:0'] when minimizing the loss.\n"
     ]
    },
    {
     "name": "stdout",
     "output_type": "stream",
     "text": [
      "WARNING:tensorflow:The dtype of the source tensor must be floating (e.g. tf.float32) when calling GradientTape.gradient, got tf.int32\n"
     ]
    },
    {
     "name": "stderr",
     "output_type": "stream",
     "text": [
      "WARNING:tensorflow:The dtype of the source tensor must be floating (e.g. tf.float32) when calling GradientTape.gradient, got tf.int32\n"
     ]
    },
    {
     "name": "stdout",
     "output_type": "stream",
     "text": [
      "WARNING:tensorflow:Gradients do not exist for variables ['counter:0'] when minimizing the loss.\n"
     ]
    },
    {
     "name": "stderr",
     "output_type": "stream",
     "text": [
      "WARNING:tensorflow:Gradients do not exist for variables ['counter:0'] when minimizing the loss.\n"
     ]
    },
    {
     "name": "stdout",
     "output_type": "stream",
     "text": [
      "1704/1704 [==============================] - 503s 295ms/step - factorized_top_k/top_1_categorical_accuracy: 0.0025 - factorized_top_k/top_5_categorical_accuracy: 0.0080 - factorized_top_k/top_10_categorical_accuracy: 0.0104 - factorized_top_k/top_50_categorical_accuracy: 0.0322 - factorized_top_k/top_100_categorical_accuracy: 0.0528 - loss: 5.5050 - regularization_loss: 0.0000e+00 - total_loss: 5.5050 - val_factorized_top_k/top_1_categorical_accuracy: 0.0034 - val_factorized_top_k/top_5_categorical_accuracy: 0.0132 - val_factorized_top_k/top_10_categorical_accuracy: 0.0135 - val_factorized_top_k/top_50_categorical_accuracy: 0.0477 - val_factorized_top_k/top_100_categorical_accuracy: 0.0808 - val_loss: 8.8002 - val_regularization_loss: 0.0000e+00 - val_total_loss: 8.8002\n",
      "Epoch 2/3\n",
      "1704/1704 [==============================] - 576s 338ms/step - factorized_top_k/top_1_categorical_accuracy: 0.0031 - factorized_top_k/top_5_categorical_accuracy: 0.0160 - factorized_top_k/top_10_categorical_accuracy: 0.0219 - factorized_top_k/top_50_categorical_accuracy: 0.0493 - factorized_top_k/top_100_categorical_accuracy: 0.0855 - loss: 8.0315 - regularization_loss: 0.0000e+00 - total_loss: 8.0315 - val_factorized_top_k/top_1_categorical_accuracy: 0.0013 - val_factorized_top_k/top_5_categorical_accuracy: 0.0121 - val_factorized_top_k/top_10_categorical_accuracy: 0.0139 - val_factorized_top_k/top_50_categorical_accuracy: 0.0320 - val_factorized_top_k/top_100_categorical_accuracy: 0.0758 - val_loss: 6.4258 - val_regularization_loss: 0.0000e+00 - val_total_loss: 6.4258\n",
      "Epoch 3/3\n",
      "1704/1704 [==============================] - 538s 316ms/step - factorized_top_k/top_1_categorical_accuracy: 0.0043 - factorized_top_k/top_5_categorical_accuracy: 0.0182 - factorized_top_k/top_10_categorical_accuracy: 0.0248 - factorized_top_k/top_50_categorical_accuracy: 0.0548 - factorized_top_k/top_100_categorical_accuracy: 0.0812 - loss: 7.5356 - regularization_loss: 0.0000e+00 - total_loss: 7.5356 - val_factorized_top_k/top_1_categorical_accuracy: 0.0050 - val_factorized_top_k/top_5_categorical_accuracy: 0.0187 - val_factorized_top_k/top_10_categorical_accuracy: 0.0233 - val_factorized_top_k/top_50_categorical_accuracy: 0.0549 - val_factorized_top_k/top_100_categorical_accuracy: 0.0827 - val_loss: 5.5172 - val_regularization_loss: 0.0000e+00 - val_total_loss: 5.5172\n",
      "Train accuracy: 0.08118979632854462\n",
      "Validation accuracy: 0.08267486095428467\n",
      "552/552 [==============================] - 164s 297ms/step - factorized_top_k/top_1_categorical_accuracy: 0.0046 - factorized_top_k/top_5_categorical_accuracy: 0.0187 - factorized_top_k/top_10_categorical_accuracy: 0.0217 - factorized_top_k/top_50_categorical_accuracy: 0.0515 - factorized_top_k/top_100_categorical_accuracy: 0.0771 - loss: 6.9825 - regularization_loss: 0.0000e+00 - total_loss: 6.9825\n"
     ]
    },
    {
     "data": {
      "text/plain": [
       "[0.004573062993586063,\n",
       " 0.018702836707234383,\n",
       " 0.021690193563699722,\n",
       " 0.05149297043681145,\n",
       " 0.07713326811790466]"
      ]
     },
     "execution_count": 318,
     "metadata": {},
     "output_type": "execute_result"
    }
   ],
   "source": [
    "num_epochs = 3\n",
    "lr = 0.01\n",
    "cached_train = sfv_train.batch(128).cache()\n",
    "cached_test = sfv_test.batch(128).cache()\n",
    "model_link = 'https://tfhub.dev/google/nnlm-en-dim128-with-normalization/2'\n",
    "text_model = {\"format\": \"text\", \"link\": model_link}\n",
    "model_one_layer = ItemSimilarityModel(test_candidate_ids=unique_item_ids,\n",
    "                                      features=['text_model'],\n",
    "                                      feature_dims=[text_model],\n",
    "                                      unique_item_ids=unique_item_ids,\n",
    "                                      item_body_lookup=body_lookup_table,\n",
    "                                      item_tags_lookup=tags_lookup_table,\n",
    "                                      item_category_lookup=category_lookup_table,\n",
    "                                      item_image_lookup=thumbnail_lookup_table,\n",
    "                                      image_embedding_lookup_table=im_embeddings_lookup,\n",
    "                                      layer_sizes=[64])\n",
    "model_one_layer.compile(optimizer=tf.keras.optimizers.Adagrad(lr))\n",
    "\n",
    "one_layer_history = model_one_layer.fit(\n",
    "    cached_train,\n",
    "    validation_data=cached_test,\n",
    "    validation_freq=1,\n",
    "    epochs=num_epochs,\n",
    "    verbose=1)\n",
    "#    callbacks=[tensorboard_callback])\n",
    "\n",
    "print(f'Train accuracy: {one_layer_history.history[\"factorized_top_k/top_100_categorical_accuracy\"][-1]}')   \n",
    "print(f'Validation accuracy: {one_layer_history.history[\"val_factorized_top_k/top_100_categorical_accuracy\"][-1]}')\n",
    "\n",
    "text_deep_metrics = model_one_layer.evaluate(holdout_logs_tf.batch(128).cache())\n",
    "text_deep_metrics"
   ]
  },
  {
   "cell_type": "markdown",
   "metadata": {},
   "source": [
    "### Siamese network trained with item body text "
   ]
  },
  {
   "cell_type": "code",
   "execution_count": 340,
   "metadata": {},
   "outputs": [
    {
     "name": "stdout",
     "output_type": "stream",
     "text": [
      "Epoch 1/3\n",
      "WARNING:tensorflow:The dtype of the source tensor must be floating (e.g. tf.float32) when calling GradientTape.gradient, got tf.int32\n"
     ]
    },
    {
     "name": "stderr",
     "output_type": "stream",
     "text": [
      "WARNING:tensorflow:The dtype of the source tensor must be floating (e.g. tf.float32) when calling GradientTape.gradient, got tf.int32\n"
     ]
    },
    {
     "name": "stdout",
     "output_type": "stream",
     "text": [
      "WARNING:tensorflow:Gradients do not exist for variables ['counter:0'] when minimizing the loss.\n"
     ]
    },
    {
     "name": "stderr",
     "output_type": "stream",
     "text": [
      "WARNING:tensorflow:Gradients do not exist for variables ['counter:0'] when minimizing the loss.\n"
     ]
    },
    {
     "name": "stdout",
     "output_type": "stream",
     "text": [
      "WARNING:tensorflow:The dtype of the source tensor must be floating (e.g. tf.float32) when calling GradientTape.gradient, got tf.int32\n"
     ]
    },
    {
     "name": "stderr",
     "output_type": "stream",
     "text": [
      "WARNING:tensorflow:The dtype of the source tensor must be floating (e.g. tf.float32) when calling GradientTape.gradient, got tf.int32\n"
     ]
    },
    {
     "name": "stdout",
     "output_type": "stream",
     "text": [
      "WARNING:tensorflow:Gradients do not exist for variables ['counter:0'] when minimizing the loss.\n"
     ]
    },
    {
     "name": "stderr",
     "output_type": "stream",
     "text": [
      "WARNING:tensorflow:Gradients do not exist for variables ['counter:0'] when minimizing the loss.\n"
     ]
    },
    {
     "name": "stdout",
     "output_type": "stream",
     "text": [
      "1704/1704 [==============================] - 636s 373ms/step - factorized_top_k/top_1_categorical_accuracy: 0.8308 - factorized_top_k/top_5_categorical_accuracy: 0.8766 - factorized_top_k/top_10_categorical_accuracy: 0.8979 - factorized_top_k/top_50_categorical_accuracy: 0.9320 - factorized_top_k/top_100_categorical_accuracy: 0.9441 - loss: 4.8505 - regularization_loss: 0.0000e+00 - total_loss: 4.8505 - val_factorized_top_k/top_1_categorical_accuracy: 0.2928 - val_factorized_top_k/top_5_categorical_accuracy: 0.4839 - val_factorized_top_k/top_10_categorical_accuracy: 0.4937 - val_factorized_top_k/top_50_categorical_accuracy: 0.4972 - val_factorized_top_k/top_100_categorical_accuracy: 0.5209 - val_loss: 3.9120 - val_regularization_loss: 0.0000e+00 - val_total_loss: 3.9120\n",
      "Epoch 2/3\n",
      "1704/1704 [==============================] - 555s 326ms/step - factorized_top_k/top_1_categorical_accuracy: 0.4317 - factorized_top_k/top_5_categorical_accuracy: 0.4521 - factorized_top_k/top_10_categorical_accuracy: 0.4626 - factorized_top_k/top_50_categorical_accuracy: 0.4776 - factorized_top_k/top_100_categorical_accuracy: 0.4830 - loss: 4.8505 - regularization_loss: 0.0000e+00 - total_loss: 4.8505 - val_factorized_top_k/top_1_categorical_accuracy: 5.8531e-04 - val_factorized_top_k/top_5_categorical_accuracy: 5.8531e-04 - val_factorized_top_k/top_10_categorical_accuracy: 7.3164e-04 - val_factorized_top_k/top_50_categorical_accuracy: 0.0010 - val_factorized_top_k/top_100_categorical_accuracy: 0.0018 - val_loss: 3.9120 - val_regularization_loss: 0.0000e+00 - val_total_loss: 3.9120\n",
      "Epoch 3/3\n",
      "1704/1704 [==============================] - 523s 307ms/step - factorized_top_k/top_1_categorical_accuracy: 0.4392 - factorized_top_k/top_5_categorical_accuracy: 0.4724 - factorized_top_k/top_10_categorical_accuracy: 0.4893 - factorized_top_k/top_50_categorical_accuracy: 0.5148 - factorized_top_k/top_100_categorical_accuracy: 0.5244 - loss: 4.8505 - regularization_loss: 0.0000e+00 - total_loss: 4.8505 - val_factorized_top_k/top_1_categorical_accuracy: 0.0000e+00 - val_factorized_top_k/top_5_categorical_accuracy: 1.4633e-04 - val_factorized_top_k/top_10_categorical_accuracy: 4.3898e-04 - val_factorized_top_k/top_50_categorical_accuracy: 0.0035 - val_factorized_top_k/top_100_categorical_accuracy: 0.1528 - val_loss: 3.9120 - val_regularization_loss: 0.0000e+00 - val_total_loss: 3.9120\n",
      "Train accuracy: 0.5244289636611938\n",
      "Validation accuracy: 0.15276558697223663\n",
      "552/552 [==============================] - 155s 282ms/step - factorized_top_k/top_1_categorical_accuracy: 0.0000e+00 - factorized_top_k/top_5_categorical_accuracy: 8.4949e-05 - factorized_top_k/top_10_categorical_accuracy: 1.6990e-04 - factorized_top_k/top_50_categorical_accuracy: 0.0017 - factorized_top_k/top_100_categorical_accuracy: 0.1596 - loss: 4.8512 - regularization_loss: 0.0000e+00 - total_loss: 4.8512\n"
     ]
    },
    {
     "data": {
      "text/plain": [
       "[0.0,\n",
       " 8.494853682350367e-05,\n",
       " 0.00016989707364700735,\n",
       " 0.0017272868426516652,\n",
       " 0.1595899760723114]"
      ]
     },
     "execution_count": 340,
     "metadata": {},
     "output_type": "execute_result"
    }
   ],
   "source": [
    "num_epochs = 3\n",
    "lr = 0.01\n",
    "cached_train = sfv_train.batch(128).cache()\n",
    "cached_test = sfv_test.batch(128).cache()\n",
    "model_link = 'https://tfhub.dev/google/nnlm-en-dim128-with-normalization/2'\n",
    "text_model = {\"format\": \"text\", \"link\": model_link}\n",
    "model_one_layer = ItemSimilarityModel(test_candidate_ids=unique_item_ids,\n",
    "                                      features=['body'],\n",
    "                                      feature_dims=[64],\n",
    "                                      unique_item_ids=unique_item_ids,\n",
    "                                      item_body_lookup=body_lookup_table,\n",
    "                                      item_tags_lookup=tags_lookup_table,\n",
    "                                      item_category_lookup=category_lookup_table,\n",
    "                                      item_image_lookup=thumbnail_lookup_table,\n",
    "                                      image_embedding_lookup_table=im_embeddings_lookup,\n",
    "                                      layer_sizes=[],\n",
    "                                      compute_metrics=True)\n",
    "model_one_layer.compile(optimizer=tf.keras.optimizers.Adagrad(lr))\n",
    "\n",
    "one_layer_history = model_one_layer.fit(\n",
    "    cached_train,\n",
    "    validation_data=cached_test,\n",
    "    validation_freq=1,\n",
    "    epochs=num_epochs,\n",
    "    verbose=1)\n",
    "#    callbacks=[tensorboard_callback])\n",
    "\n",
    "print(f'Train accuracy: {one_layer_history.history[\"factorized_top_k/top_100_categorical_accuracy\"][-1]}')   \n",
    "print(f'Validation accuracy: {one_layer_history.history[\"val_factorized_top_k/top_100_categorical_accuracy\"][-1]}')\n",
    "model_one_layer.compute_metrics = True\n",
    "text_deep_metrics = model_one_layer.evaluate(holdout_logs_tf.batch(128).cache())\n",
    "text_deep_metrics"
   ]
  },
  {
   "cell_type": "markdown",
   "metadata": {},
   "source": [
    "### Siamese network trained with item tags text"
   ]
  },
  {
   "cell_type": "code",
   "execution_count": 342,
   "metadata": {},
   "outputs": [
    {
     "name": "stdout",
     "output_type": "stream",
     "text": [
      "Epoch 1/3\n",
      "WARNING:tensorflow:The dtype of the source tensor must be floating (e.g. tf.float32) when calling GradientTape.gradient, got tf.int32\n"
     ]
    },
    {
     "name": "stderr",
     "output_type": "stream",
     "text": [
      "WARNING:tensorflow:The dtype of the source tensor must be floating (e.g. tf.float32) when calling GradientTape.gradient, got tf.int32\n"
     ]
    },
    {
     "name": "stdout",
     "output_type": "stream",
     "text": [
      "WARNING:tensorflow:Gradients do not exist for variables ['counter:0'] when minimizing the loss.\n"
     ]
    },
    {
     "name": "stderr",
     "output_type": "stream",
     "text": [
      "WARNING:tensorflow:Gradients do not exist for variables ['counter:0'] when minimizing the loss.\n"
     ]
    },
    {
     "name": "stdout",
     "output_type": "stream",
     "text": [
      "WARNING:tensorflow:The dtype of the source tensor must be floating (e.g. tf.float32) when calling GradientTape.gradient, got tf.int32\n"
     ]
    },
    {
     "name": "stderr",
     "output_type": "stream",
     "text": [
      "WARNING:tensorflow:The dtype of the source tensor must be floating (e.g. tf.float32) when calling GradientTape.gradient, got tf.int32\n"
     ]
    },
    {
     "name": "stdout",
     "output_type": "stream",
     "text": [
      "WARNING:tensorflow:Gradients do not exist for variables ['counter:0'] when minimizing the loss.\n"
     ]
    },
    {
     "name": "stderr",
     "output_type": "stream",
     "text": [
      "WARNING:tensorflow:Gradients do not exist for variables ['counter:0'] when minimizing the loss.\n"
     ]
    },
    {
     "name": "stdout",
     "output_type": "stream",
     "text": [
      "1704/1704 [==============================] - 296s 174ms/step - factorized_top_k/top_1_categorical_accuracy: 0.7071 - factorized_top_k/top_5_categorical_accuracy: 0.7391 - factorized_top_k/top_10_categorical_accuracy: 0.7437 - factorized_top_k/top_50_categorical_accuracy: 0.7478 - factorized_top_k/top_100_categorical_accuracy: 0.7514 - loss: 4.8505 - regularization_loss: 0.0000e+00 - total_loss: 4.8505 - val_factorized_top_k/top_1_categorical_accuracy: 0.1431 - val_factorized_top_k/top_5_categorical_accuracy: 0.1450 - val_factorized_top_k/top_10_categorical_accuracy: 0.1528 - val_factorized_top_k/top_50_categorical_accuracy: 0.1528 - val_factorized_top_k/top_100_categorical_accuracy: 0.1528 - val_loss: 3.9120 - val_regularization_loss: 0.0000e+00 - val_total_loss: 3.9120\n",
      "Epoch 2/3\n",
      "1704/1704 [==============================] - 308s 181ms/step - factorized_top_k/top_1_categorical_accuracy: 0.4259 - factorized_top_k/top_5_categorical_accuracy: 0.4719 - factorized_top_k/top_10_categorical_accuracy: 0.4824 - factorized_top_k/top_50_categorical_accuracy: 0.4889 - factorized_top_k/top_100_categorical_accuracy: 0.4922 - loss: 4.8505 - regularization_loss: 0.0000e+00 - total_loss: 4.8505 - val_factorized_top_k/top_1_categorical_accuracy: 0.0000e+00 - val_factorized_top_k/top_5_categorical_accuracy: 0.0000e+00 - val_factorized_top_k/top_10_categorical_accuracy: 0.0000e+00 - val_factorized_top_k/top_50_categorical_accuracy: 0.0000e+00 - val_factorized_top_k/top_100_categorical_accuracy: 0.0000e+00 - val_loss: 3.9120 - val_regularization_loss: 0.0000e+00 - val_total_loss: 3.9120\n",
      "Epoch 3/3\n",
      "1704/1704 [==============================] - 315s 185ms/step - factorized_top_k/top_1_categorical_accuracy: 0.4553 - factorized_top_k/top_5_categorical_accuracy: 0.4925 - factorized_top_k/top_10_categorical_accuracy: 0.5000 - factorized_top_k/top_50_categorical_accuracy: 0.5078 - factorized_top_k/top_100_categorical_accuracy: 0.5125 - loss: 4.8505 - regularization_loss: 0.0000e+00 - total_loss: 4.8505 - val_factorized_top_k/top_1_categorical_accuracy: 0.9580 - val_factorized_top_k/top_5_categorical_accuracy: 0.9767 - val_factorized_top_k/top_10_categorical_accuracy: 0.9821 - val_factorized_top_k/top_50_categorical_accuracy: 0.9845 - val_factorized_top_k/top_100_categorical_accuracy: 0.9848 - val_loss: 3.9120 - val_regularization_loss: 0.0000e+00 - val_total_loss: 3.9120\n",
      "Train accuracy: 0.5124850869178772\n",
      "Validation accuracy: 0.9847819805145264\n"
     ]
    },
    {
     "ename": "RuntimeError",
     "evalue": "You must compile your model before training/testing. Use `model.compile(optimizer, loss)`.",
     "output_type": "error",
     "traceback": [
      "\u001B[0;31m---------------------------------------------------------------------------\u001B[0m",
      "\u001B[0;31mRuntimeError\u001B[0m                              Traceback (most recent call last)",
      "\u001B[0;32m<ipython-input-342-4d30ae23bc0c>\u001B[0m in \u001B[0;36m<module>\u001B[0;34m\u001B[0m\n\u001B[1;32m     28\u001B[0m \u001B[0mprint\u001B[0m\u001B[0;34m(\u001B[0m\u001B[0;34mf'Validation accuracy: {one_layer_history.history[\"val_factorized_top_k/top_100_categorical_accuracy\"][-1]}'\u001B[0m\u001B[0;34m)\u001B[0m\u001B[0;34m\u001B[0m\u001B[0;34m\u001B[0m\u001B[0m\n\u001B[1;32m     29\u001B[0m \u001B[0;34m\u001B[0m\u001B[0m\n\u001B[0;32m---> 30\u001B[0;31m \u001B[0mtags_deep_metrics\u001B[0m \u001B[0;34m=\u001B[0m \u001B[0mmodel_one_layer\u001B[0m\u001B[0;34m.\u001B[0m\u001B[0mevaluate\u001B[0m\u001B[0;34m(\u001B[0m\u001B[0mholdout_logs_tf\u001B[0m\u001B[0;34m.\u001B[0m\u001B[0mbatch\u001B[0m\u001B[0;34m(\u001B[0m\u001B[0;36m128\u001B[0m\u001B[0;34m)\u001B[0m\u001B[0;34m.\u001B[0m\u001B[0mcache\u001B[0m\u001B[0;34m(\u001B[0m\u001B[0;34m)\u001B[0m\u001B[0;34m)\u001B[0m\u001B[0;34m\u001B[0m\u001B[0;34m\u001B[0m\u001B[0m\n\u001B[0m\u001B[1;32m     31\u001B[0m \u001B[0mtags_deep_metrics\u001B[0m\u001B[0;34m\u001B[0m\u001B[0;34m\u001B[0m\u001B[0m\n",
      "\u001B[0;32m~/.virtualenvs/exploration-Tqzb7Mc2/lib/python3.7/site-packages/tensorflow/python/keras/engine/training.py\u001B[0m in \u001B[0;36m_method_wrapper\u001B[0;34m(self, *args, **kwargs)\u001B[0m\n\u001B[1;32m    106\u001B[0m   \u001B[0;32mdef\u001B[0m \u001B[0m_method_wrapper\u001B[0m\u001B[0;34m(\u001B[0m\u001B[0mself\u001B[0m\u001B[0;34m,\u001B[0m \u001B[0;34m*\u001B[0m\u001B[0margs\u001B[0m\u001B[0;34m,\u001B[0m \u001B[0;34m**\u001B[0m\u001B[0mkwargs\u001B[0m\u001B[0;34m)\u001B[0m\u001B[0;34m:\u001B[0m\u001B[0;34m\u001B[0m\u001B[0;34m\u001B[0m\u001B[0m\n\u001B[1;32m    107\u001B[0m     \u001B[0;32mif\u001B[0m \u001B[0;32mnot\u001B[0m \u001B[0mself\u001B[0m\u001B[0;34m.\u001B[0m\u001B[0m_in_multi_worker_mode\u001B[0m\u001B[0;34m(\u001B[0m\u001B[0;34m)\u001B[0m\u001B[0;34m:\u001B[0m  \u001B[0;31m# pylint: disable=protected-access\u001B[0m\u001B[0;34m\u001B[0m\u001B[0;34m\u001B[0m\u001B[0m\n\u001B[0;32m--> 108\u001B[0;31m       \u001B[0;32mreturn\u001B[0m \u001B[0mmethod\u001B[0m\u001B[0;34m(\u001B[0m\u001B[0mself\u001B[0m\u001B[0;34m,\u001B[0m \u001B[0;34m*\u001B[0m\u001B[0margs\u001B[0m\u001B[0;34m,\u001B[0m \u001B[0;34m**\u001B[0m\u001B[0mkwargs\u001B[0m\u001B[0;34m)\u001B[0m\u001B[0;34m\u001B[0m\u001B[0;34m\u001B[0m\u001B[0m\n\u001B[0m\u001B[1;32m    109\u001B[0m \u001B[0;34m\u001B[0m\u001B[0m\n\u001B[1;32m    110\u001B[0m     \u001B[0;31m# Running inside `run_distribute_coordinator` already.\u001B[0m\u001B[0;34m\u001B[0m\u001B[0;34m\u001B[0m\u001B[0;34m\u001B[0m\u001B[0m\n",
      "\u001B[0;32m~/.virtualenvs/exploration-Tqzb7Mc2/lib/python3.7/site-packages/tensorflow/python/keras/engine/training.py\u001B[0m in \u001B[0;36mevaluate\u001B[0;34m(self, x, y, batch_size, verbose, sample_weight, steps, callbacks, max_queue_size, workers, use_multiprocessing, return_dict)\u001B[0m\n\u001B[1;32m   1333\u001B[0m     \u001B[0m_keras_api_gauge\u001B[0m\u001B[0;34m.\u001B[0m\u001B[0mget_cell\u001B[0m\u001B[0;34m(\u001B[0m\u001B[0;34m'evaluate'\u001B[0m\u001B[0;34m)\u001B[0m\u001B[0;34m.\u001B[0m\u001B[0mset\u001B[0m\u001B[0;34m(\u001B[0m\u001B[0;32mTrue\u001B[0m\u001B[0;34m)\u001B[0m\u001B[0;34m\u001B[0m\u001B[0;34m\u001B[0m\u001B[0m\n\u001B[1;32m   1334\u001B[0m     \u001B[0mversion_utils\u001B[0m\u001B[0;34m.\u001B[0m\u001B[0mdisallow_legacy_graph\u001B[0m\u001B[0;34m(\u001B[0m\u001B[0;34m'Model'\u001B[0m\u001B[0;34m,\u001B[0m \u001B[0;34m'evaluate'\u001B[0m\u001B[0;34m)\u001B[0m\u001B[0;34m\u001B[0m\u001B[0;34m\u001B[0m\u001B[0m\n\u001B[0;32m-> 1335\u001B[0;31m     \u001B[0mself\u001B[0m\u001B[0;34m.\u001B[0m\u001B[0m_assert_compile_was_called\u001B[0m\u001B[0;34m(\u001B[0m\u001B[0;34m)\u001B[0m\u001B[0;34m\u001B[0m\u001B[0;34m\u001B[0m\u001B[0m\n\u001B[0m\u001B[1;32m   1336\u001B[0m     \u001B[0mself\u001B[0m\u001B[0;34m.\u001B[0m\u001B[0m_check_call_args\u001B[0m\u001B[0;34m(\u001B[0m\u001B[0;34m'evaluate'\u001B[0m\u001B[0;34m)\u001B[0m\u001B[0;34m\u001B[0m\u001B[0;34m\u001B[0m\u001B[0m\n\u001B[1;32m   1337\u001B[0m     \u001B[0m_disallow_inside_tf_function\u001B[0m\u001B[0;34m(\u001B[0m\u001B[0;34m'evaluate'\u001B[0m\u001B[0;34m)\u001B[0m\u001B[0;34m\u001B[0m\u001B[0;34m\u001B[0m\u001B[0m\n",
      "\u001B[0;32m~/.virtualenvs/exploration-Tqzb7Mc2/lib/python3.7/site-packages/tensorflow/python/keras/engine/training.py\u001B[0m in \u001B[0;36m_assert_compile_was_called\u001B[0;34m(self)\u001B[0m\n\u001B[1;32m   2567\u001B[0m     \u001B[0;31m# (i.e. whether the model is built and its inputs/outputs are set).\u001B[0m\u001B[0;34m\u001B[0m\u001B[0;34m\u001B[0m\u001B[0;34m\u001B[0m\u001B[0m\n\u001B[1;32m   2568\u001B[0m     \u001B[0;32mif\u001B[0m \u001B[0;32mnot\u001B[0m \u001B[0mself\u001B[0m\u001B[0;34m.\u001B[0m\u001B[0m_is_compiled\u001B[0m\u001B[0;34m:\u001B[0m\u001B[0;34m\u001B[0m\u001B[0;34m\u001B[0m\u001B[0m\n\u001B[0;32m-> 2569\u001B[0;31m       raise RuntimeError('You must compile your model before '\n\u001B[0m\u001B[1;32m   2570\u001B[0m                          \u001B[0;34m'training/testing. '\u001B[0m\u001B[0;34m\u001B[0m\u001B[0;34m\u001B[0m\u001B[0m\n\u001B[1;32m   2571\u001B[0m                          'Use `model.compile(optimizer, loss)`.')\n",
      "\u001B[0;31mRuntimeError\u001B[0m: You must compile your model before training/testing. Use `model.compile(optimizer, loss)`."
     ]
    }
   ],
   "source": [
    "num_epochs = 3\n",
    "lr = 0.01\n",
    "cached_train = sfv_train.batch(128).cache()\n",
    "cached_test = sfv_test.batch(128).cache()\n",
    "model_link = 'https://tfhub.dev/google/nnlm-en-dim128-with-normalization/2'\n",
    "text_model = {\"format\": \"text\", \"link\": model_link}\n",
    "tags_one_layer = ItemSimilarityModel(test_candidate_ids=unique_item_ids,\n",
    "                                      features=['tags'],\n",
    "                                      feature_dims=[64],\n",
    "                                      unique_item_ids=unique_item_ids,\n",
    "                                      item_body_lookup=body_lookup_table,\n",
    "                                      item_tags_lookup=tags_lookup_table,\n",
    "                                      item_category_lookup=category_lookup_table,\n",
    "                                      item_image_lookup=thumbnail_lookup_table,\n",
    "                                      image_embedding_lookup_table=im_embeddings_lookup,\n",
    "                                      layer_sizes=[])\n",
    "tags_one_layer.compile(optimizer=tf.keras.optimizers.Adagrad(lr))\n",
    "\n",
    "one_layer_history = tags_one_layer.fit(\n",
    "    cached_train,\n",
    "    validation_data=cached_test,\n",
    "    validation_freq=1,\n",
    "    epochs=num_epochs,\n",
    "    verbose=1)\n",
    "#    callbacks=[tensorboard_callback])\n",
    "\n",
    "print(f'Train accuracy: {one_layer_history.history[\"factorized_top_k/top_100_categorical_accuracy\"][-1]}')   \n",
    "print(f'Validation accuracy: {one_layer_history.history[\"val_factorized_top_k/top_100_categorical_accuracy\"][-1]}')\n",
    "\n",
    "tags_deep_metrics = model_one_layer.evaluate(holdout_logs_tf.batch(128).cache())\n",
    "tags_deep_metrics"
   ]
  },
  {
   "cell_type": "code",
   "execution_count": 344,
   "metadata": {},
   "outputs": [
    {
     "name": "stdout",
     "output_type": "stream",
     "text": [
      "552/552 [==============================] - 89s 161ms/step - factorized_top_k/top_1_categorical_accuracy: 0.9632 - factorized_top_k/top_5_categorical_accuracy: 0.9808 - factorized_top_k/top_10_categorical_accuracy: 0.9857 - factorized_top_k/top_50_categorical_accuracy: 0.9872 - factorized_top_k/top_100_categorical_accuracy: 0.9876 - loss: 4.8512 - regularization_loss: 0.0000e+00 - total_loss: 4.8512\n"
     ]
    }
   ],
   "source": [
    "tags_deep_metrics = tags_one_layer.evaluate(holdout_logs_tf.batch(128).cache())"
   ]
  },
  {
   "cell_type": "markdown",
   "metadata": {},
   "source": [
    "### Siamese network trained with item tags text and body"
   ]
  },
  {
   "cell_type": "code",
   "execution_count": 345,
   "metadata": {},
   "outputs": [
    {
     "name": "stdout",
     "output_type": "stream",
     "text": [
      "Epoch 1/3\n",
      "WARNING:tensorflow:The dtype of the source tensor must be floating (e.g. tf.float32) when calling GradientTape.gradient, got tf.int32\n"
     ]
    },
    {
     "name": "stderr",
     "output_type": "stream",
     "text": [
      "WARNING:tensorflow:The dtype of the source tensor must be floating (e.g. tf.float32) when calling GradientTape.gradient, got tf.int32\n"
     ]
    },
    {
     "name": "stdout",
     "output_type": "stream",
     "text": [
      "WARNING:tensorflow:Gradients do not exist for variables ['counter:0'] when minimizing the loss.\n"
     ]
    },
    {
     "name": "stderr",
     "output_type": "stream",
     "text": [
      "WARNING:tensorflow:Gradients do not exist for variables ['counter:0'] when minimizing the loss.\n"
     ]
    },
    {
     "name": "stdout",
     "output_type": "stream",
     "text": [
      "WARNING:tensorflow:The dtype of the source tensor must be floating (e.g. tf.float32) when calling GradientTape.gradient, got tf.int32\n"
     ]
    },
    {
     "name": "stderr",
     "output_type": "stream",
     "text": [
      "WARNING:tensorflow:The dtype of the source tensor must be floating (e.g. tf.float32) when calling GradientTape.gradient, got tf.int32\n"
     ]
    },
    {
     "name": "stdout",
     "output_type": "stream",
     "text": [
      "WARNING:tensorflow:Gradients do not exist for variables ['counter:0'] when minimizing the loss.\n"
     ]
    },
    {
     "name": "stderr",
     "output_type": "stream",
     "text": [
      "WARNING:tensorflow:Gradients do not exist for variables ['counter:0'] when minimizing the loss.\n"
     ]
    },
    {
     "name": "stdout",
     "output_type": "stream",
     "text": [
      "1704/1704 [==============================] - 723s 424ms/step - factorized_top_k/top_1_categorical_accuracy: 0.0140 - factorized_top_k/top_5_categorical_accuracy: 0.0587 - factorized_top_k/top_10_categorical_accuracy: 0.0695 - factorized_top_k/top_50_categorical_accuracy: 0.0869 - factorized_top_k/top_100_categorical_accuracy: 0.0950 - loss: 4.8505 - regularization_loss: 0.0000e+00 - total_loss: 4.8505 - val_factorized_top_k/top_1_categorical_accuracy: 0.0088 - val_factorized_top_k/top_5_categorical_accuracy: 0.3333 - val_factorized_top_k/top_10_categorical_accuracy: 0.4036 - val_factorized_top_k/top_50_categorical_accuracy: 0.6738 - val_factorized_top_k/top_100_categorical_accuracy: 0.9617 - val_loss: 3.9120 - val_regularization_loss: 0.0000e+00 - val_total_loss: 3.9120\n",
      "Epoch 2/3\n",
      "1704/1704 [==============================] - 653s 383ms/step - factorized_top_k/top_1_categorical_accuracy: 0.6046 - factorized_top_k/top_5_categorical_accuracy: 0.6613 - factorized_top_k/top_10_categorical_accuracy: 0.6792 - factorized_top_k/top_50_categorical_accuracy: 0.7110 - factorized_top_k/top_100_categorical_accuracy: 0.7263 - loss: 4.8505 - regularization_loss: 0.0000e+00 - total_loss: 4.8505 - val_factorized_top_k/top_1_categorical_accuracy: 5.8531e-04 - val_factorized_top_k/top_5_categorical_accuracy: 0.0438 - val_factorized_top_k/top_10_categorical_accuracy: 0.0697 - val_factorized_top_k/top_50_categorical_accuracy: 0.1254 - val_factorized_top_k/top_100_categorical_accuracy: 0.1403 - val_loss: 3.9120 - val_regularization_loss: 0.0000e+00 - val_total_loss: 3.9120\n",
      "Epoch 3/3\n",
      "1704/1704 [==============================] - 625s 367ms/step - factorized_top_k/top_1_categorical_accuracy: 0.4435 - factorized_top_k/top_5_categorical_accuracy: 0.4908 - factorized_top_k/top_10_categorical_accuracy: 0.5078 - factorized_top_k/top_50_categorical_accuracy: 0.5386 - factorized_top_k/top_100_categorical_accuracy: 0.5538 - loss: 4.8505 - regularization_loss: 0.0000e+00 - total_loss: 4.8505 - val_factorized_top_k/top_1_categorical_accuracy: 0.0000e+00 - val_factorized_top_k/top_5_categorical_accuracy: 5.8531e-04 - val_factorized_top_k/top_10_categorical_accuracy: 5.8531e-04 - val_factorized_top_k/top_50_categorical_accuracy: 0.0020 - val_factorized_top_k/top_100_categorical_accuracy: 0.0023 - val_loss: 3.9120 - val_regularization_loss: 0.0000e+00 - val_total_loss: 3.9120\n",
      "Train accuracy: 0.5538436770439148\n",
      "Validation accuracy: 0.0023412350565195084\n",
      "552/552 [==============================] - 200s 362ms/step - factorized_top_k/top_1_categorical_accuracy: 4.2474e-05 - factorized_top_k/top_5_categorical_accuracy: 3.9643e-04 - factorized_top_k/top_10_categorical_accuracy: 3.9643e-04 - factorized_top_k/top_50_categorical_accuracy: 0.0017 - factorized_top_k/top_100_categorical_accuracy: 0.0021 - loss: 4.8512 - regularization_loss: 0.0000e+00 - total_loss: 4.8512\n"
     ]
    },
    {
     "data": {
      "text/plain": [
       "[4.2474268411751837e-05,\n",
       " 0.0003964265051763505,\n",
       " 0.0003964265051763505,\n",
       " 0.0016564964316785336,\n",
       " 0.002067080931738019]"
      ]
     },
     "execution_count": 345,
     "metadata": {},
     "output_type": "execute_result"
    }
   ],
   "source": [
    "num_epochs = 3\n",
    "lr = 0.01\n",
    "cached_train = sfv_train.batch(128).cache()\n",
    "cached_test = sfv_test.batch(128).cache()\n",
    "model_link = 'https://tfhub.dev/google/nnlm-en-dim128-with-normalization/2'\n",
    "text_model = {\"format\": \"text\", \"link\": model_link}\n",
    "tags_text_siamese = ItemSimilarityModel(test_candidate_ids=unique_item_ids,\n",
    "                                      features=['tags', 'body'],\n",
    "                                      feature_dims=[64, 64],\n",
    "                                      unique_item_ids=unique_item_ids,\n",
    "                                      item_body_lookup=body_lookup_table,\n",
    "                                      item_tags_lookup=tags_lookup_table,\n",
    "                                      item_category_lookup=category_lookup_table,\n",
    "                                      item_image_lookup=thumbnail_lookup_table,\n",
    "                                      image_embedding_lookup_table=im_embeddings_lookup,\n",
    "                                      layer_sizes=[])\n",
    "tags_text_siamese.compile(optimizer=tf.keras.optimizers.Adagrad(lr))\n",
    "\n",
    "tags_text_history = tags_text_siamese.fit(\n",
    "    cached_train,\n",
    "    validation_data=cached_test,\n",
    "    validation_freq=1,\n",
    "    epochs=num_epochs,\n",
    "    verbose=1)\n",
    "#    callbacks=[tensorboard_callback])\n",
    "\n",
    "print(f'Train accuracy: {tags_text_history.history[\"factorized_top_k/top_100_categorical_accuracy\"][-1]}')   \n",
    "print(f'Validation accuracy: {tags_text_history.history[\"val_factorized_top_k/top_100_categorical_accuracy\"][-1]}')\n",
    "\n",
    "tags_text_metrics = tags_text_siamese.evaluate(holdout_logs_tf.batch(128).cache())\n",
    "tags_text_metrics"
   ]
  },
  {
   "cell_type": "markdown",
   "metadata": {},
   "source": [
    "### Deep Siamese network trained with item tags text and body"
   ]
  },
  {
   "cell_type": "code",
   "execution_count": 346,
   "metadata": {},
   "outputs": [
    {
     "name": "stdout",
     "output_type": "stream",
     "text": [
      "Epoch 1/3\n",
      "WARNING:tensorflow:The dtype of the source tensor must be floating (e.g. tf.float32) when calling GradientTape.gradient, got tf.int32\n"
     ]
    },
    {
     "name": "stderr",
     "output_type": "stream",
     "text": [
      "WARNING:tensorflow:The dtype of the source tensor must be floating (e.g. tf.float32) when calling GradientTape.gradient, got tf.int32\n"
     ]
    },
    {
     "name": "stdout",
     "output_type": "stream",
     "text": [
      "WARNING:tensorflow:Gradients do not exist for variables ['counter:0'] when minimizing the loss.\n"
     ]
    },
    {
     "name": "stderr",
     "output_type": "stream",
     "text": [
      "WARNING:tensorflow:Gradients do not exist for variables ['counter:0'] when minimizing the loss.\n"
     ]
    },
    {
     "name": "stdout",
     "output_type": "stream",
     "text": [
      "WARNING:tensorflow:The dtype of the source tensor must be floating (e.g. tf.float32) when calling GradientTape.gradient, got tf.int32\n"
     ]
    },
    {
     "name": "stderr",
     "output_type": "stream",
     "text": [
      "WARNING:tensorflow:The dtype of the source tensor must be floating (e.g. tf.float32) when calling GradientTape.gradient, got tf.int32\n"
     ]
    },
    {
     "name": "stdout",
     "output_type": "stream",
     "text": [
      "WARNING:tensorflow:Gradients do not exist for variables ['counter:0'] when minimizing the loss.\n"
     ]
    },
    {
     "name": "stderr",
     "output_type": "stream",
     "text": [
      "WARNING:tensorflow:Gradients do not exist for variables ['counter:0'] when minimizing the loss.\n"
     ]
    },
    {
     "name": "stdout",
     "output_type": "stream",
     "text": [
      "1704/1704 [==============================] - 746s 438ms/step - factorized_top_k/top_1_categorical_accuracy: 0.3441 - factorized_top_k/top_5_categorical_accuracy: 0.6136 - factorized_top_k/top_10_categorical_accuracy: 0.6474 - factorized_top_k/top_50_categorical_accuracy: 0.6939 - factorized_top_k/top_100_categorical_accuracy: 0.7140 - loss: 4.8505 - regularization_loss: 0.0000e+00 - total_loss: 4.8505 - val_factorized_top_k/top_1_categorical_accuracy: 0.0950 - val_factorized_top_k/top_5_categorical_accuracy: 0.9800 - val_factorized_top_k/top_10_categorical_accuracy: 0.9807 - val_factorized_top_k/top_50_categorical_accuracy: 0.9846 - val_factorized_top_k/top_100_categorical_accuracy: 0.9849 - val_loss: 3.9120 - val_regularization_loss: 0.0000e+00 - val_total_loss: 3.9120\n",
      "Epoch 2/3\n",
      "1704/1704 [==============================] - 690s 405ms/step - factorized_top_k/top_1_categorical_accuracy: 0.2354 - factorized_top_k/top_5_categorical_accuracy: 0.4494 - factorized_top_k/top_10_categorical_accuracy: 0.4717 - factorized_top_k/top_50_categorical_accuracy: 0.5028 - factorized_top_k/top_100_categorical_accuracy: 0.5151 - loss: 4.8505 - regularization_loss: 0.0000e+00 - total_loss: 4.8505 - val_factorized_top_k/top_1_categorical_accuracy: 0.3390 - val_factorized_top_k/top_5_categorical_accuracy: 0.9842 - val_factorized_top_k/top_10_categorical_accuracy: 0.9842 - val_factorized_top_k/top_50_categorical_accuracy: 0.9842 - val_factorized_top_k/top_100_categorical_accuracy: 0.9842 - val_loss: 3.9120 - val_regularization_loss: 0.0000e+00 - val_total_loss: 3.9120\n",
      "Epoch 3/3\n",
      "1704/1704 [==============================] - 647s 380ms/step - factorized_top_k/top_1_categorical_accuracy: 0.3221 - factorized_top_k/top_5_categorical_accuracy: 0.5675 - factorized_top_k/top_10_categorical_accuracy: 0.5895 - factorized_top_k/top_50_categorical_accuracy: 0.6204 - factorized_top_k/top_100_categorical_accuracy: 0.6360 - loss: 4.8505 - regularization_loss: 0.0000e+00 - total_loss: 4.8505 - val_factorized_top_k/top_1_categorical_accuracy: 0.0097 - val_factorized_top_k/top_5_categorical_accuracy: 0.0209 - val_factorized_top_k/top_10_categorical_accuracy: 0.0209 - val_factorized_top_k/top_50_categorical_accuracy: 0.0209 - val_factorized_top_k/top_100_categorical_accuracy: 0.0209 - val_loss: 3.9120 - val_regularization_loss: 0.0000e+00 - val_total_loss: 3.9120\n",
      "Train accuracy: 0.6360425353050232\n",
      "Validation accuracy: 0.02092478796839714\n",
      "552/552 [==============================] - 200s 362ms/step - factorized_top_k/top_1_categorical_accuracy: 0.0079 - factorized_top_k/top_5_categorical_accuracy: 0.0169 - factorized_top_k/top_10_categorical_accuracy: 0.0169 - factorized_top_k/top_50_categorical_accuracy: 0.0169 - factorized_top_k/top_100_categorical_accuracy: 0.0169 - loss: 4.8512 - regularization_loss: 0.0000e+00 - total_loss: 4.8512\n"
     ]
    },
    {
     "data": {
      "text/plain": [
       "[0.00788605585694313,\n",
       " 0.01687644235789776,\n",
       " 0.016890600323677063,\n",
       " 0.01694723218679428,\n",
       " 0.01694723218679428]"
      ]
     },
     "execution_count": 346,
     "metadata": {},
     "output_type": "execute_result"
    }
   ],
   "source": [
    "num_epochs = 3\n",
    "lr = 0.01\n",
    "cached_train = sfv_train.batch(128).cache()\n",
    "cached_test = sfv_test.batch(128).cache()\n",
    "model_link = 'https://tfhub.dev/google/nnlm-en-dim128-with-normalization/2'\n",
    "text_model = {\"format\": \"text\", \"link\": model_link}\n",
    "tags_body_deep = ItemSimilarityModel(test_candidate_ids=unique_item_ids,\n",
    "                                      features=['tags', 'body'],\n",
    "                                      feature_dims=[64, 64],\n",
    "                                      unique_item_ids=unique_item_ids,\n",
    "                                      item_body_lookup=body_lookup_table,\n",
    "                                      item_tags_lookup=tags_lookup_table,\n",
    "                                      item_category_lookup=category_lookup_table,\n",
    "                                      item_image_lookup=thumbnail_lookup_table,\n",
    "                                      image_embedding_lookup_table=im_embeddings_lookup,\n",
    "                                      layer_sizes=[96])\n",
    "tags_body_deep.compile(optimizer=tf.keras.optimizers.Adagrad(lr))\n",
    "\n",
    "tags_body_deep_metrics = tags_body_deep.fit(\n",
    "    cached_train,\n",
    "    validation_data=cached_test,\n",
    "    validation_freq=1,\n",
    "    epochs=num_epochs,\n",
    "    verbose=1)\n",
    "#    callbacks=[tensorboard_callback])\n",
    "\n",
    "print(f'Train accuracy: {tags_body_deep_metrics.history[\"factorized_top_k/top_100_categorical_accuracy\"][-1]}')   \n",
    "print(f'Validation accuracy: {tags_body_deep_metrics.history[\"val_factorized_top_k/top_100_categorical_accuracy\"][-1]}')\n",
    "\n",
    "tags_body_deep_metrics = tags_body_deep.evaluate(holdout_logs_tf.batch(128).cache())\n",
    "tags_body_deep_metrics"
   ]
  },
  {
   "cell_type": "markdown",
   "metadata": {},
   "source": [
    "### Deep Siamese network trained with item category and body"
   ]
  },
  {
   "cell_type": "code",
   "execution_count": 348,
   "metadata": {},
   "outputs": [
    {
     "name": "stdout",
     "output_type": "stream",
     "text": [
      "Epoch 1/3\n",
      "WARNING:tensorflow:The dtype of the source tensor must be floating (e.g. tf.float32) when calling GradientTape.gradient, got tf.int32\n"
     ]
    },
    {
     "name": "stderr",
     "output_type": "stream",
     "text": [
      "WARNING:tensorflow:The dtype of the source tensor must be floating (e.g. tf.float32) when calling GradientTape.gradient, got tf.int32\n"
     ]
    },
    {
     "name": "stdout",
     "output_type": "stream",
     "text": [
      "WARNING:tensorflow:Gradients do not exist for variables ['counter:0'] when minimizing the loss.\n"
     ]
    },
    {
     "name": "stderr",
     "output_type": "stream",
     "text": [
      "WARNING:tensorflow:Gradients do not exist for variables ['counter:0'] when minimizing the loss.\n"
     ]
    },
    {
     "name": "stdout",
     "output_type": "stream",
     "text": [
      "WARNING:tensorflow:The dtype of the source tensor must be floating (e.g. tf.float32) when calling GradientTape.gradient, got tf.int32\n"
     ]
    },
    {
     "name": "stderr",
     "output_type": "stream",
     "text": [
      "WARNING:tensorflow:The dtype of the source tensor must be floating (e.g. tf.float32) when calling GradientTape.gradient, got tf.int32\n"
     ]
    },
    {
     "name": "stdout",
     "output_type": "stream",
     "text": [
      "WARNING:tensorflow:Gradients do not exist for variables ['counter:0'] when minimizing the loss.\n"
     ]
    },
    {
     "name": "stderr",
     "output_type": "stream",
     "text": [
      "WARNING:tensorflow:Gradients do not exist for variables ['counter:0'] when minimizing the loss.\n"
     ]
    },
    {
     "name": "stdout",
     "output_type": "stream",
     "text": [
      "1704/1704 [==============================] - 657s 386ms/step - factorized_top_k/top_1_categorical_accuracy: 0.1241 - factorized_top_k/top_5_categorical_accuracy: 0.1245 - factorized_top_k/top_10_categorical_accuracy: 0.1245 - factorized_top_k/top_50_categorical_accuracy: 0.1353 - factorized_top_k/top_100_categorical_accuracy: 0.1606 - loss: 8.1411 - regularization_loss: 0.0000e+00 - total_loss: 8.1411 - val_factorized_top_k/top_1_categorical_accuracy: 0.1260 - val_factorized_top_k/top_5_categorical_accuracy: 0.1286 - val_factorized_top_k/top_10_categorical_accuracy: 0.1313 - val_factorized_top_k/top_50_categorical_accuracy: 0.1727 - val_factorized_top_k/top_100_categorical_accuracy: 0.1986 - val_loss: 8.5321 - val_regularization_loss: 0.0000e+00 - val_total_loss: 8.5321\n",
      "Epoch 2/3\n",
      "1704/1704 [==============================] - 572s 335ms/step - factorized_top_k/top_1_categorical_accuracy: 0.1220 - factorized_top_k/top_5_categorical_accuracy: 0.1220 - factorized_top_k/top_10_categorical_accuracy: 0.1220 - factorized_top_k/top_50_categorical_accuracy: 0.1320 - factorized_top_k/top_100_categorical_accuracy: 0.1685 - loss: 8.7499 - regularization_loss: 0.0000e+00 - total_loss: 8.7499 - val_factorized_top_k/top_1_categorical_accuracy: 0.2328 - val_factorized_top_k/top_5_categorical_accuracy: 0.2340 - val_factorized_top_k/top_10_categorical_accuracy: 0.2349 - val_factorized_top_k/top_50_categorical_accuracy: 0.2558 - val_factorized_top_k/top_100_categorical_accuracy: 0.2821 - val_loss: 8.4556 - val_regularization_loss: 0.0000e+00 - val_total_loss: 8.4556\n",
      "Epoch 3/3\n",
      "1704/1704 [==============================] - 568s 334ms/step - factorized_top_k/top_1_categorical_accuracy: 0.1162 - factorized_top_k/top_5_categorical_accuracy: 0.1162 - factorized_top_k/top_10_categorical_accuracy: 0.1162 - factorized_top_k/top_50_categorical_accuracy: 0.1218 - factorized_top_k/top_100_categorical_accuracy: 0.1508 - loss: 8.7714 - regularization_loss: 0.0000e+00 - total_loss: 8.7714 - val_factorized_top_k/top_1_categorical_accuracy: 0.1566 - val_factorized_top_k/top_5_categorical_accuracy: 0.2141 - val_factorized_top_k/top_10_categorical_accuracy: 0.2157 - val_factorized_top_k/top_50_categorical_accuracy: 0.2531 - val_factorized_top_k/top_100_categorical_accuracy: 0.2823 - val_loss: 8.5340 - val_regularization_loss: 0.0000e+00 - val_total_loss: 8.5340\n",
      "Train accuracy: 0.1508301943540573\n",
      "Validation accuracy: 0.28226515650749207\n",
      "552/552 [==============================] - 171s 310ms/step - factorized_top_k/top_1_categorical_accuracy: 0.1338 - factorized_top_k/top_5_categorical_accuracy: 0.2114 - factorized_top_k/top_10_categorical_accuracy: 0.2121 - factorized_top_k/top_50_categorical_accuracy: 0.2504 - factorized_top_k/top_100_categorical_accuracy: 0.2808 - loss: 7.5441 - regularization_loss: 0.0000e+00 - total_loss: 7.5441\n"
     ]
    },
    {
     "data": {
      "text/plain": [
       "[0.13383641839027405,\n",
       " 0.21135196089744568,\n",
       " 0.21207401156425476,\n",
       " 0.25039997696876526,\n",
       " 0.28076907992362976]"
      ]
     },
     "execution_count": 348,
     "metadata": {},
     "output_type": "execute_result"
    }
   ],
   "source": [
    "num_epochs = 3\n",
    "lr = 0.01\n",
    "cached_train = sfv_train.batch(128).cache()\n",
    "cached_test = sfv_test.batch(128).cache()\n",
    "model_link = 'https://tfhub.dev/google/nnlm-en-dim128-with-normalization/2'\n",
    "text_model = {\"format\": \"text\", \"link\": model_link}\n",
    "tags_body_deep = ItemSimilarityModel(test_candidate_ids=unique_item_ids,\n",
    "                                      features=['category', 'body'],\n",
    "                                      feature_dims=[64, 64],\n",
    "                                      unique_item_ids=unique_item_ids,\n",
    "                                      item_body_lookup=body_lookup_table,\n",
    "                                      item_tags_lookup=tags_lookup_table,\n",
    "                                      item_category_lookup=category_lookup_table,\n",
    "                                      item_image_lookup=thumbnail_lookup_table,\n",
    "                                      image_embedding_lookup_table=im_embeddings_lookup,\n",
    "                                      layer_sizes=[96])\n",
    "tags_body_deep.compile(optimizer=tf.keras.optimizers.Adagrad(lr))\n",
    "\n",
    "tags_body_deep_metrics = tags_body_deep.fit(\n",
    "    cached_train,\n",
    "    validation_data=cached_test,\n",
    "    validation_freq=1,\n",
    "    epochs=num_epochs,\n",
    "    verbose=1)\n",
    "#    callbacks=[tensorboard_callback])\n",
    "\n",
    "print(f'Train accuracy: {tags_body_deep_metrics.history[\"factorized_top_k/top_100_categorical_accuracy\"][-1]}')   \n",
    "print(f'Validation accuracy: {tags_body_deep_metrics.history[\"val_factorized_top_k/top_100_categorical_accuracy\"][-1]}')\n",
    "\n",
    "tags_body_deep_metrics = tags_body_deep.evaluate(holdout_logs_tf.batch(128).cache())\n",
    "tags_body_deep_metrics"
   ]
  },
  {
   "cell_type": "markdown",
   "metadata": {},
   "source": [
    "###  Siamese network trained with item category and body"
   ]
  },
  {
   "cell_type": "code",
   "execution_count": 349,
   "metadata": {},
   "outputs": [
    {
     "name": "stdout",
     "output_type": "stream",
     "text": [
      "Epoch 1/3\n",
      "WARNING:tensorflow:The dtype of the source tensor must be floating (e.g. tf.float32) when calling GradientTape.gradient, got tf.int32\n"
     ]
    },
    {
     "name": "stderr",
     "output_type": "stream",
     "text": [
      "WARNING:tensorflow:The dtype of the source tensor must be floating (e.g. tf.float32) when calling GradientTape.gradient, got tf.int32\n"
     ]
    },
    {
     "name": "stdout",
     "output_type": "stream",
     "text": [
      "WARNING:tensorflow:Gradients do not exist for variables ['counter:0'] when minimizing the loss.\n"
     ]
    },
    {
     "name": "stderr",
     "output_type": "stream",
     "text": [
      "WARNING:tensorflow:Gradients do not exist for variables ['counter:0'] when minimizing the loss.\n"
     ]
    },
    {
     "name": "stdout",
     "output_type": "stream",
     "text": [
      "WARNING:tensorflow:The dtype of the source tensor must be floating (e.g. tf.float32) when calling GradientTape.gradient, got tf.int32\n"
     ]
    },
    {
     "name": "stderr",
     "output_type": "stream",
     "text": [
      "WARNING:tensorflow:The dtype of the source tensor must be floating (e.g. tf.float32) when calling GradientTape.gradient, got tf.int32\n"
     ]
    },
    {
     "name": "stdout",
     "output_type": "stream",
     "text": [
      "WARNING:tensorflow:Gradients do not exist for variables ['counter:0'] when minimizing the loss.\n"
     ]
    },
    {
     "name": "stderr",
     "output_type": "stream",
     "text": [
      "WARNING:tensorflow:Gradients do not exist for variables ['counter:0'] when minimizing the loss.\n"
     ]
    },
    {
     "name": "stdout",
     "output_type": "stream",
     "text": [
      "1704/1704 [==============================] - 604s 355ms/step - factorized_top_k/top_1_categorical_accuracy: 0.1008 - factorized_top_k/top_5_categorical_accuracy: 0.1013 - factorized_top_k/top_10_categorical_accuracy: 0.1015 - factorized_top_k/top_50_categorical_accuracy: 0.1130 - factorized_top_k/top_100_categorical_accuracy: 0.1380 - loss: 8.6451 - regularization_loss: 0.0000e+00 - total_loss: 8.6451 - val_factorized_top_k/top_1_categorical_accuracy: 0.2182 - val_factorized_top_k/top_5_categorical_accuracy: 0.2192 - val_factorized_top_k/top_10_categorical_accuracy: 0.2193 - val_factorized_top_k/top_50_categorical_accuracy: 0.2220 - val_factorized_top_k/top_100_categorical_accuracy: 0.2450 - val_loss: 7.4189 - val_regularization_loss: 0.0000e+00 - val_total_loss: 7.4189\n",
      "Epoch 2/3\n",
      "1704/1704 [==============================] - 526s 309ms/step - factorized_top_k/top_1_categorical_accuracy: 0.1016 - factorized_top_k/top_5_categorical_accuracy: 0.1020 - factorized_top_k/top_10_categorical_accuracy: 0.1022 - factorized_top_k/top_50_categorical_accuracy: 0.1128 - factorized_top_k/top_100_categorical_accuracy: 0.1396 - loss: 8.8262 - regularization_loss: 0.0000e+00 - total_loss: 8.8262 - val_factorized_top_k/top_1_categorical_accuracy: 0.0764 - val_factorized_top_k/top_5_categorical_accuracy: 0.0764 - val_factorized_top_k/top_10_categorical_accuracy: 0.0765 - val_factorized_top_k/top_50_categorical_accuracy: 0.0840 - val_factorized_top_k/top_100_categorical_accuracy: 0.1001 - val_loss: 7.4076 - val_regularization_loss: 0.0000e+00 - val_total_loss: 7.4076\n",
      "Epoch 3/3\n",
      "1704/1704 [==============================] - 526s 309ms/step - factorized_top_k/top_1_categorical_accuracy: 0.0993 - factorized_top_k/top_5_categorical_accuracy: 0.0996 - factorized_top_k/top_10_categorical_accuracy: 0.0998 - factorized_top_k/top_50_categorical_accuracy: 0.1103 - factorized_top_k/top_100_categorical_accuracy: 0.1357 - loss: 8.8856 - regularization_loss: 0.0000e+00 - total_loss: 8.8856 - val_factorized_top_k/top_1_categorical_accuracy: 0.0944 - val_factorized_top_k/top_5_categorical_accuracy: 0.0950 - val_factorized_top_k/top_10_categorical_accuracy: 0.0950 - val_factorized_top_k/top_50_categorical_accuracy: 0.1011 - val_factorized_top_k/top_100_categorical_accuracy: 0.1200 - val_loss: 7.8349 - val_regularization_loss: 0.0000e+00 - val_total_loss: 7.8349\n",
      "Train accuracy: 0.13572148978710175\n",
      "Validation accuracy: 0.11998829245567322\n",
      "552/552 [==============================] - 172s 312ms/step - factorized_top_k/top_1_categorical_accuracy: 0.1161 - factorized_top_k/top_5_categorical_accuracy: 0.1166 - factorized_top_k/top_10_categorical_accuracy: 0.1166 - factorized_top_k/top_50_categorical_accuracy: 0.1214 - factorized_top_k/top_100_categorical_accuracy: 0.1405 - loss: 8.3816 - regularization_loss: 0.0000e+00 - total_loss: 8.3816\n"
     ]
    },
    {
     "data": {
      "text/plain": [
       "[0.11613880842924118,\n",
       " 0.11659186333417892,\n",
       " 0.11659186333417892,\n",
       " 0.12143392860889435,\n",
       " 0.1405048817396164]"
      ]
     },
     "execution_count": 349,
     "metadata": {},
     "output_type": "execute_result"
    }
   ],
   "source": [
    "num_epochs = 3\n",
    "lr = 0.01\n",
    "cached_train = sfv_train.batch(128).cache()\n",
    "cached_test = sfv_test.batch(128).cache()\n",
    "model_link = 'https://tfhub.dev/google/nnlm-en-dim128-with-normalization/2'\n",
    "text_model = {\"format\": \"text\", \"link\": model_link}\n",
    "tags_body_deep = ItemSimilarityModel(test_candidate_ids=unique_item_ids,\n",
    "                                      features=['category', 'body'],\n",
    "                                      feature_dims=[64, 64],\n",
    "                                      unique_item_ids=unique_item_ids,\n",
    "                                      item_body_lookup=body_lookup_table,\n",
    "                                      item_tags_lookup=tags_lookup_table,\n",
    "                                      item_category_lookup=category_lookup_table,\n",
    "                                      item_image_lookup=thumbnail_lookup_table,\n",
    "                                      image_embedding_lookup_table=im_embeddings_lookup,\n",
    "                                      layer_sizes=[])\n",
    "tags_body_deep.compile(optimizer=tf.keras.optimizers.Adagrad(lr))\n",
    "\n",
    "tags_body_deep_metrics = tags_body_deep.fit(\n",
    "    cached_train,\n",
    "    validation_data=cached_test,\n",
    "    validation_freq=1,\n",
    "    epochs=num_epochs,\n",
    "    verbose=1)\n",
    "#    callbacks=[tensorboard_callback])\n",
    "\n",
    "print(f'Train accuracy: {tags_body_deep_metrics.history[\"factorized_top_k/top_100_categorical_accuracy\"][-1]}')   \n",
    "print(f'Validation accuracy: {tags_body_deep_metrics.history[\"val_factorized_top_k/top_100_categorical_accuracy\"][-1]}')\n",
    "\n",
    "tags_body_deep_metrics = tags_body_deep.evaluate(holdout_logs_tf.batch(128).cache())\n",
    "tags_body_deep_metrics"
   ]
  },
  {
   "cell_type": "code",
   "execution_count": null,
   "metadata": {},
   "outputs": [],
   "source": []
  },
  {
   "cell_type": "markdown",
   "metadata": {},
   "source": [
    "### Pure CF embeddings"
   ]
  },
  {
   "cell_type": "code",
   "execution_count": 347,
   "metadata": {},
   "outputs": [
    {
     "name": "stdout",
     "output_type": "stream",
     "text": [
      "Epoch 1/3\n",
      "WARNING:tensorflow:The dtype of the source tensor must be floating (e.g. tf.float32) when calling GradientTape.gradient, got tf.int32\n"
     ]
    },
    {
     "name": "stderr",
     "output_type": "stream",
     "text": [
      "WARNING:tensorflow:The dtype of the source tensor must be floating (e.g. tf.float32) when calling GradientTape.gradient, got tf.int32\n"
     ]
    },
    {
     "name": "stdout",
     "output_type": "stream",
     "text": [
      "WARNING:tensorflow:Gradients do not exist for variables ['counter:0'] when minimizing the loss.\n"
     ]
    },
    {
     "name": "stderr",
     "output_type": "stream",
     "text": [
      "WARNING:tensorflow:Gradients do not exist for variables ['counter:0'] when minimizing the loss.\n"
     ]
    },
    {
     "name": "stdout",
     "output_type": "stream",
     "text": [
      "WARNING:tensorflow:The dtype of the source tensor must be floating (e.g. tf.float32) when calling GradientTape.gradient, got tf.int32\n"
     ]
    },
    {
     "name": "stderr",
     "output_type": "stream",
     "text": [
      "WARNING:tensorflow:The dtype of the source tensor must be floating (e.g. tf.float32) when calling GradientTape.gradient, got tf.int32\n"
     ]
    },
    {
     "name": "stdout",
     "output_type": "stream",
     "text": [
      "WARNING:tensorflow:Gradients do not exist for variables ['counter:0'] when minimizing the loss.\n"
     ]
    },
    {
     "name": "stderr",
     "output_type": "stream",
     "text": [
      "WARNING:tensorflow:Gradients do not exist for variables ['counter:0'] when minimizing the loss.\n"
     ]
    },
    {
     "name": "stdout",
     "output_type": "stream",
     "text": [
      "1704/1704 [==============================] - 139s 82ms/step - factorized_top_k/top_1_categorical_accuracy: 0.0000e+00 - factorized_top_k/top_5_categorical_accuracy: 0.0920 - factorized_top_k/top_10_categorical_accuracy: 0.1408 - factorized_top_k/top_50_categorical_accuracy: 0.2360 - factorized_top_k/top_100_categorical_accuracy: 0.2791 - loss: 8.9186 - regularization_loss: 0.0000e+00 - total_loss: 8.9186 - val_factorized_top_k/top_1_categorical_accuracy: 0.0000e+00 - val_factorized_top_k/top_5_categorical_accuracy: 0.1223 - val_factorized_top_k/top_10_categorical_accuracy: 0.1803 - val_factorized_top_k/top_50_categorical_accuracy: 0.2479 - val_factorized_top_k/top_100_categorical_accuracy: 0.2944 - val_loss: 6.2466 - val_regularization_loss: 0.0000e+00 - val_total_loss: 6.2466\n",
      "Epoch 2/3\n",
      "1704/1704 [==============================] - 140s 82ms/step - factorized_top_k/top_1_categorical_accuracy: 0.0000e+00 - factorized_top_k/top_5_categorical_accuracy: 0.1180 - factorized_top_k/top_10_categorical_accuracy: 0.1679 - factorized_top_k/top_50_categorical_accuracy: 0.2804 - factorized_top_k/top_100_categorical_accuracy: 0.3321 - loss: 9.0030 - regularization_loss: 0.0000e+00 - total_loss: 9.0030 - val_factorized_top_k/top_1_categorical_accuracy: 0.0000e+00 - val_factorized_top_k/top_5_categorical_accuracy: 0.1506 - val_factorized_top_k/top_10_categorical_accuracy: 0.1891 - val_factorized_top_k/top_50_categorical_accuracy: 0.2789 - val_factorized_top_k/top_100_categorical_accuracy: 0.3017 - val_loss: 6.7166 - val_regularization_loss: 0.0000e+00 - val_total_loss: 6.7166\n",
      "Epoch 3/3\n",
      "1704/1704 [==============================] - 141s 83ms/step - factorized_top_k/top_1_categorical_accuracy: 0.0000e+00 - factorized_top_k/top_5_categorical_accuracy: 0.1231 - factorized_top_k/top_10_categorical_accuracy: 0.1653 - factorized_top_k/top_50_categorical_accuracy: 0.2845 - factorized_top_k/top_100_categorical_accuracy: 0.3393 - loss: 9.0097 - regularization_loss: 0.0000e+00 - total_loss: 9.0097 - val_factorized_top_k/top_1_categorical_accuracy: 0.0000e+00 - val_factorized_top_k/top_5_categorical_accuracy: 0.1768 - val_factorized_top_k/top_10_categorical_accuracy: 0.2180 - val_factorized_top_k/top_50_categorical_accuracy: 0.2826 - val_factorized_top_k/top_100_categorical_accuracy: 0.3130 - val_loss: 6.3418 - val_regularization_loss: 0.0000e+00 - val_total_loss: 6.3418\n",
      "Train accuracy: 0.5124850869178772\n",
      "Validation accuracy: 0.9847819805145264\n",
      "552/552 [==============================] - 44s 80ms/step - factorized_top_k/top_1_categorical_accuracy: 0.0000e+00 - factorized_top_k/top_5_categorical_accuracy: 0.1478 - factorized_top_k/top_10_categorical_accuracy: 0.1754 - factorized_top_k/top_50_categorical_accuracy: 0.2313 - factorized_top_k/top_100_categorical_accuracy: 0.2578 - loss: 8.7640 - regularization_loss: 0.0000e+00 - total_loss: 8.7640\n"
     ]
    },
    {
     "data": {
      "text/plain": [
       "[0.0,\n",
       " 0.1478104442358017,\n",
       " 0.17544704675674438,\n",
       " 0.23131486773490906,\n",
       " 0.2577621638774872]"
      ]
     },
     "execution_count": 347,
     "metadata": {},
     "output_type": "execute_result"
    }
   ],
   "source": [
    "num_epochs = 3\n",
    "lr = 0.01\n",
    "cached_train = sfv_train.batch(128).cache()\n",
    "cached_test = sfv_test.batch(128).cache()\n",
    "model_link = 'https://tfhub.dev/google/nnlm-en-dim128-with-normalization/2'\n",
    "text_model = {\"format\": \"text\", \"link\": model_link}\n",
    "cf_one_layer = ItemSimilarityModel(test_candidate_ids=unique_item_ids,\n",
    "                                      features=['item_id'],\n",
    "                                      feature_dims=[100],\n",
    "                                      unique_item_ids=unique_item_ids,\n",
    "                                      item_body_lookup=body_lookup_table,\n",
    "                                      item_tags_lookup=tags_lookup_table,\n",
    "                                      item_category_lookup=category_lookup_table,\n",
    "                                      item_image_lookup=thumbnail_lookup_table,\n",
    "                                      image_embedding_lookup_table=im_embeddings_lookup,\n",
    "                                      layer_sizes=[])\n",
    "cf_one_layer.compile(optimizer=tf.keras.optimizers.Adagrad(lr))\n",
    "\n",
    "cf_one_layer_history = cf_one_layer.fit(\n",
    "    cached_train,\n",
    "    validation_data=cached_test,\n",
    "    validation_freq=1,\n",
    "    epochs=num_epochs,\n",
    "    verbose=1)\n",
    "#    callbacks=[tensorboard_callback])\n",
    "\n",
    "print(f'Train accuracy: {one_layer_history.history[\"factorized_top_k/top_100_categorical_accuracy\"][-1]}')   \n",
    "print(f'Validation accuracy: {one_layer_history.history[\"val_factorized_top_k/top_100_categorical_accuracy\"][-1]}')\n",
    "\n",
    "id_metrics = cf_one_layer.evaluate(holdout_logs_tf.batch(128).cache())\n",
    "id_metrics"
   ]
  },
  {
   "cell_type": "markdown",
   "metadata": {},
   "source": [
    "###  CF + body + category embeddings"
   ]
  },
  {
   "cell_type": "code",
   "execution_count": 350,
   "metadata": {},
   "outputs": [
    {
     "name": "stdout",
     "output_type": "stream",
     "text": [
      "Epoch 1/3\n",
      "WARNING:tensorflow:The dtype of the source tensor must be floating (e.g. tf.float32) when calling GradientTape.gradient, got tf.int32\n"
     ]
    },
    {
     "name": "stderr",
     "output_type": "stream",
     "text": [
      "WARNING:tensorflow:The dtype of the source tensor must be floating (e.g. tf.float32) when calling GradientTape.gradient, got tf.int32\n"
     ]
    },
    {
     "name": "stdout",
     "output_type": "stream",
     "text": [
      "WARNING:tensorflow:Gradients do not exist for variables ['counter:0'] when minimizing the loss.\n"
     ]
    },
    {
     "name": "stderr",
     "output_type": "stream",
     "text": [
      "WARNING:tensorflow:Gradients do not exist for variables ['counter:0'] when minimizing the loss.\n"
     ]
    },
    {
     "name": "stdout",
     "output_type": "stream",
     "text": [
      "WARNING:tensorflow:The dtype of the source tensor must be floating (e.g. tf.float32) when calling GradientTape.gradient, got tf.int32\n"
     ]
    },
    {
     "name": "stderr",
     "output_type": "stream",
     "text": [
      "WARNING:tensorflow:The dtype of the source tensor must be floating (e.g. tf.float32) when calling GradientTape.gradient, got tf.int32\n"
     ]
    },
    {
     "name": "stdout",
     "output_type": "stream",
     "text": [
      "WARNING:tensorflow:Gradients do not exist for variables ['counter:0'] when minimizing the loss.\n"
     ]
    },
    {
     "name": "stderr",
     "output_type": "stream",
     "text": [
      "WARNING:tensorflow:Gradients do not exist for variables ['counter:0'] when minimizing the loss.\n"
     ]
    },
    {
     "name": "stdout",
     "output_type": "stream",
     "text": [
      "1704/1704 [==============================] - 635s 373ms/step - factorized_top_k/top_1_categorical_accuracy: 0.0179 - factorized_top_k/top_5_categorical_accuracy: 0.1033 - factorized_top_k/top_10_categorical_accuracy: 0.1400 - factorized_top_k/top_50_categorical_accuracy: 0.2147 - factorized_top_k/top_100_categorical_accuracy: 0.2598 - loss: 8.1931 - regularization_loss: 0.0000e+00 - total_loss: 8.1931 - val_factorized_top_k/top_1_categorical_accuracy: 0.0143 - val_factorized_top_k/top_5_categorical_accuracy: 0.0896 - val_factorized_top_k/top_10_categorical_accuracy: 0.1346 - val_factorized_top_k/top_50_categorical_accuracy: 0.1858 - val_factorized_top_k/top_100_categorical_accuracy: 0.2609 - val_loss: 8.7385 - val_regularization_loss: 0.0000e+00 - val_total_loss: 8.7385\n",
      "Epoch 2/3\n",
      "1704/1704 [==============================] - 561s 329ms/step - factorized_top_k/top_1_categorical_accuracy: 0.0172 - factorized_top_k/top_5_categorical_accuracy: 0.1251 - factorized_top_k/top_10_categorical_accuracy: 0.1732 - factorized_top_k/top_50_categorical_accuracy: 0.2499 - factorized_top_k/top_100_categorical_accuracy: 0.3018 - loss: 9.1053 - regularization_loss: 0.0000e+00 - total_loss: 9.1053 - val_factorized_top_k/top_1_categorical_accuracy: 0.0111 - val_factorized_top_k/top_5_categorical_accuracy: 0.1036 - val_factorized_top_k/top_10_categorical_accuracy: 0.1354 - val_factorized_top_k/top_50_categorical_accuracy: 0.2016 - val_factorized_top_k/top_100_categorical_accuracy: 0.2820 - val_loss: 8.6998 - val_regularization_loss: 0.0000e+00 - val_total_loss: 8.6998\n",
      "Epoch 3/3\n",
      "1704/1704 [==============================] - 600s 352ms/step - factorized_top_k/top_1_categorical_accuracy: 0.0172 - factorized_top_k/top_5_categorical_accuracy: 0.1302 - factorized_top_k/top_10_categorical_accuracy: 0.1836 - factorized_top_k/top_50_categorical_accuracy: 0.2606 - factorized_top_k/top_100_categorical_accuracy: 0.3112 - loss: 9.1563 - regularization_loss: 0.0000e+00 - total_loss: 9.1563 - val_factorized_top_k/top_1_categorical_accuracy: 0.0195 - val_factorized_top_k/top_5_categorical_accuracy: 0.1068 - val_factorized_top_k/top_10_categorical_accuracy: 0.1428 - val_factorized_top_k/top_50_categorical_accuracy: 0.2243 - val_factorized_top_k/top_100_categorical_accuracy: 0.2903 - val_loss: 8.4535 - val_regularization_loss: 0.0000e+00 - val_total_loss: 8.4535\n",
      "Train accuracy: 0.5124850869178772\n",
      "Validation accuracy: 0.9847819805145264\n",
      "552/552 [==============================] - 220s 398ms/step - factorized_top_k/top_1_categorical_accuracy: 0.0192 - factorized_top_k/top_5_categorical_accuracy: 0.0868 - factorized_top_k/top_10_categorical_accuracy: 0.1155 - factorized_top_k/top_50_categorical_accuracy: 0.1949 - factorized_top_k/top_100_categorical_accuracy: 0.2597 - loss: 8.7710 - regularization_loss: 0.0000e+00 - total_loss: 8.7710\n"
     ]
    },
    {
     "data": {
      "text/plain": [
       "[0.019240843132138252,\n",
       " 0.0867890864610672,\n",
       " 0.11547337472438812,\n",
       " 0.19494272768497467,\n",
       " 0.25967350602149963]"
      ]
     },
     "execution_count": 350,
     "metadata": {},
     "output_type": "execute_result"
    }
   ],
   "source": [
    "num_epochs = 3\n",
    "lr = 0.01\n",
    "cached_train = sfv_train.batch(128).cache()\n",
    "cached_test = sfv_test.batch(128).cache()\n",
    "model_link = 'https://tfhub.dev/google/nnlm-en-dim128-with-normalization/2'\n",
    "text_model = {\"format\": \"text\", \"link\": model_link}\n",
    "cf_one_layer = ItemSimilarityModel(test_candidate_ids=unique_item_ids,\n",
    "                                      features=['item_id', 'body', 'category'],\n",
    "                                      feature_dims=[64, 64, 64],\n",
    "                                      unique_item_ids=unique_item_ids,\n",
    "                                      item_body_lookup=body_lookup_table,\n",
    "                                      item_tags_lookup=tags_lookup_table,\n",
    "                                      item_category_lookup=category_lookup_table,\n",
    "                                      item_image_lookup=thumbnail_lookup_table,\n",
    "                                      image_embedding_lookup_table=im_embeddings_lookup,\n",
    "                                      layer_sizes=[96])\n",
    "cf_one_layer.compile(optimizer=tf.keras.optimizers.Adagrad(lr))\n",
    "\n",
    "cf_one_layer_history = cf_one_layer.fit(\n",
    "    cached_train,\n",
    "    validation_data=cached_test,\n",
    "    validation_freq=1,\n",
    "    epochs=num_epochs,\n",
    "    verbose=1)\n",
    "#    callbacks=[tensorboard_callback])\n",
    "\n",
    "print(f'Train accuracy: {one_layer_history.history[\"factorized_top_k/top_100_categorical_accuracy\"][-1]}')   \n",
    "print(f'Validation accuracy: {one_layer_history.history[\"val_factorized_top_k/top_100_categorical_accuracy\"][-1]}')\n",
    "\n",
    "id_metrics = cf_one_layer.evaluate(holdout_logs_tf.batch(128).cache())\n",
    "id_metrics"
   ]
  },
  {
   "cell_type": "markdown",
   "metadata": {},
   "source": [
    "###  CF + body  embeddings"
   ]
  },
  {
   "cell_type": "code",
   "execution_count": 352,
   "metadata": {},
   "outputs": [
    {
     "name": "stdout",
     "output_type": "stream",
     "text": [
      "Epoch 1/3\n",
      "WARNING:tensorflow:The dtype of the source tensor must be floating (e.g. tf.float32) when calling GradientTape.gradient, got tf.int32\n"
     ]
    },
    {
     "name": "stderr",
     "output_type": "stream",
     "text": [
      "WARNING:tensorflow:The dtype of the source tensor must be floating (e.g. tf.float32) when calling GradientTape.gradient, got tf.int32\n"
     ]
    },
    {
     "name": "stdout",
     "output_type": "stream",
     "text": [
      "WARNING:tensorflow:Gradients do not exist for variables ['counter:0'] when minimizing the loss.\n"
     ]
    },
    {
     "name": "stderr",
     "output_type": "stream",
     "text": [
      "WARNING:tensorflow:Gradients do not exist for variables ['counter:0'] when minimizing the loss.\n"
     ]
    },
    {
     "name": "stdout",
     "output_type": "stream",
     "text": [
      "WARNING:tensorflow:The dtype of the source tensor must be floating (e.g. tf.float32) when calling GradientTape.gradient, got tf.int32\n"
     ]
    },
    {
     "name": "stderr",
     "output_type": "stream",
     "text": [
      "WARNING:tensorflow:The dtype of the source tensor must be floating (e.g. tf.float32) when calling GradientTape.gradient, got tf.int32\n"
     ]
    },
    {
     "name": "stdout",
     "output_type": "stream",
     "text": [
      "WARNING:tensorflow:Gradients do not exist for variables ['counter:0'] when minimizing the loss.\n"
     ]
    },
    {
     "name": "stderr",
     "output_type": "stream",
     "text": [
      "WARNING:tensorflow:Gradients do not exist for variables ['counter:0'] when minimizing the loss.\n"
     ]
    },
    {
     "name": "stdout",
     "output_type": "stream",
     "text": [
      "1704/1704 [==============================] - 600s 352ms/step - factorized_top_k/top_1_categorical_accuracy: 0.0115 - factorized_top_k/top_5_categorical_accuracy: 0.1137 - factorized_top_k/top_10_categorical_accuracy: 0.1675 - factorized_top_k/top_50_categorical_accuracy: 0.2580 - factorized_top_k/top_100_categorical_accuracy: 0.2865 - loss: 5.2211 - regularization_loss: 0.0000e+00 - total_loss: 5.2211 - val_factorized_top_k/top_1_categorical_accuracy: 0.0120 - val_factorized_top_k/top_5_categorical_accuracy: 0.1999 - val_factorized_top_k/top_10_categorical_accuracy: 0.2934 - val_factorized_top_k/top_50_categorical_accuracy: 0.4277 - val_factorized_top_k/top_100_categorical_accuracy: 0.4447 - val_loss: 4.9520 - val_regularization_loss: 0.0000e+00 - val_total_loss: 4.9520\n",
      "Epoch 2/3\n",
      "1704/1704 [==============================] - 507s 297ms/step - factorized_top_k/top_1_categorical_accuracy: 0.0243 - factorized_top_k/top_5_categorical_accuracy: 0.2088 - factorized_top_k/top_10_categorical_accuracy: 0.3477 - factorized_top_k/top_50_categorical_accuracy: 0.6227 - factorized_top_k/top_100_categorical_accuracy: 0.6471 - loss: 8.7887 - regularization_loss: 0.0000e+00 - total_loss: 8.7887 - val_factorized_top_k/top_1_categorical_accuracy: 0.0268 - val_factorized_top_k/top_5_categorical_accuracy: 0.2043 - val_factorized_top_k/top_10_categorical_accuracy: 0.3123 - val_factorized_top_k/top_50_categorical_accuracy: 0.4761 - val_factorized_top_k/top_100_categorical_accuracy: 0.5085 - val_loss: 4.5088 - val_regularization_loss: 0.0000e+00 - val_total_loss: 4.5088\n",
      "Epoch 3/3\n",
      "1704/1704 [==============================] - 510s 299ms/step - factorized_top_k/top_1_categorical_accuracy: 0.0167 - factorized_top_k/top_5_categorical_accuracy: 0.2085 - factorized_top_k/top_10_categorical_accuracy: 0.3637 - factorized_top_k/top_50_categorical_accuracy: 0.6269 - factorized_top_k/top_100_categorical_accuracy: 0.6584 - loss: 8.7100 - regularization_loss: 0.0000e+00 - total_loss: 8.7100 - val_factorized_top_k/top_1_categorical_accuracy: 0.0266 - val_factorized_top_k/top_5_categorical_accuracy: 0.2062 - val_factorized_top_k/top_10_categorical_accuracy: 0.3107 - val_factorized_top_k/top_50_categorical_accuracy: 0.4729 - val_factorized_top_k/top_100_categorical_accuracy: 0.5100 - val_loss: 4.5490 - val_regularization_loss: 0.0000e+00 - val_total_loss: 4.5490\n",
      "Train accuracy: 0.5124850869178772\n",
      "Validation accuracy: 0.9847819805145264\n",
      "552/552 [==============================] - 178s 322ms/step - factorized_top_k/top_1_categorical_accuracy: 0.0202 - factorized_top_k/top_5_categorical_accuracy: 0.1514 - factorized_top_k/top_10_categorical_accuracy: 0.2336 - factorized_top_k/top_50_categorical_accuracy: 0.3986 - factorized_top_k/top_100_categorical_accuracy: 0.4356 - loss: 6.1705 - regularization_loss: 0.0000e+00 - total_loss: 6.1705\n"
     ]
    },
    {
     "data": {
      "text/plain": [
       "[0.0201894361525774,\n",
       " 0.15136413276195526,\n",
       " 0.23360846936702728,\n",
       " 0.3986351490020752,\n",
       " 0.43557360768318176]"
      ]
     },
     "execution_count": 352,
     "metadata": {},
     "output_type": "execute_result"
    }
   ],
   "source": [
    "num_epochs = 3\n",
    "lr = 0.01\n",
    "cached_train = sfv_train.batch(128).cache()\n",
    "cached_test = sfv_test.batch(128).cache()\n",
    "model_link = 'https://tfhub.dev/google/nnlm-en-dim128-with-normalization/2'\n",
    "text_model = {\"format\": \"text\", \"link\": model_link}\n",
    "cf_one_layer = ItemSimilarityModel(test_candidate_ids=unique_item_ids,\n",
    "                                      features=['item_id', 'body'],\n",
    "                                      feature_dims=[100, 64],\n",
    "                                      unique_item_ids=unique_item_ids,\n",
    "                                      item_body_lookup=body_lookup_table,\n",
    "                                      item_tags_lookup=tags_lookup_table,\n",
    "                                      item_category_lookup=category_lookup_table,\n",
    "                                      item_image_lookup=thumbnail_lookup_table,\n",
    "                                      image_embedding_lookup_table=im_embeddings_lookup,\n",
    "                                      layer_sizes=[100])\n",
    "cf_one_layer.compile(optimizer=tf.keras.optimizers.Adagrad(lr))\n",
    "\n",
    "cf_one_layer_history = cf_one_layer.fit(\n",
    "    cached_train,\n",
    "    validation_data=cached_test,\n",
    "    validation_freq=1,\n",
    "    epochs=num_epochs,\n",
    "    verbose=1)\n",
    "#    callbacks=[tensorboard_callback])\n",
    "\n",
    "print(f'Train accuracy: {one_layer_history.history[\"factorized_top_k/top_100_categorical_accuracy\"][-1]}')   \n",
    "print(f'Validation accuracy: {one_layer_history.history[\"val_factorized_top_k/top_100_categorical_accuracy\"][-1]}')\n",
    "\n",
    "id_metrics = cf_one_layer.evaluate(holdout_logs_tf.batch(128).cache())\n",
    "id_metrics"
   ]
  },
  {
   "cell_type": "code",
   "execution_count": 310,
   "metadata": {},
   "outputs": [
    {
     "name": "stdout",
     "output_type": "stream",
     "text": [
      "Epoch 1/2\n",
      "WARNING:tensorflow:The dtype of the source tensor must be floating (e.g. tf.float32) when calling GradientTape.gradient, got tf.int32\n"
     ]
    },
    {
     "name": "stderr",
     "output_type": "stream",
     "text": [
      "WARNING:tensorflow:The dtype of the source tensor must be floating (e.g. tf.float32) when calling GradientTape.gradient, got tf.int32\n"
     ]
    },
    {
     "ename": "ValueError",
     "evalue": "in user code:\n\n    /Users/mercef02/.virtualenvs/exploration-Tqzb7Mc2/lib/python3.7/site-packages/tensorflow/python/keras/engine/training.py:806 train_function  *\n        return step_function(self, iterator)\n    /Users/mercef02/.virtualenvs/exploration-Tqzb7Mc2/lib/python3.7/site-packages/tensorflow/python/keras/engine/training.py:796 step_function  **\n        outputs = model.distribute_strategy.run(run_step, args=(data,))\n    /Users/mercef02/.virtualenvs/exploration-Tqzb7Mc2/lib/python3.7/site-packages/tensorflow/python/distribute/distribute_lib.py:1211 run\n        return self._extended.call_for_each_replica(fn, args=args, kwargs=kwargs)\n    /Users/mercef02/.virtualenvs/exploration-Tqzb7Mc2/lib/python3.7/site-packages/tensorflow/python/distribute/distribute_lib.py:2585 call_for_each_replica\n        return self._call_for_each_replica(fn, args, kwargs)\n    /Users/mercef02/.virtualenvs/exploration-Tqzb7Mc2/lib/python3.7/site-packages/tensorflow/python/distribute/distribute_lib.py:2945 _call_for_each_replica\n        return fn(*args, **kwargs)\n    /Users/mercef02/.virtualenvs/exploration-Tqzb7Mc2/lib/python3.7/site-packages/tensorflow/python/keras/engine/training.py:789 run_step  **\n        outputs = model.train_step(data)\n    /Users/mercef02/.virtualenvs/exploration-Tqzb7Mc2/lib/python3.7/site-packages/tensorflow_recommenders/models/base.py:76 train_step\n        self.optimizer.apply_gradients(zip(gradients, self.trainable_variables))\n    /Users/mercef02/.virtualenvs/exploration-Tqzb7Mc2/lib/python3.7/site-packages/tensorflow/python/keras/optimizer_v2/optimizer_v2.py:513 apply_gradients\n        grads_and_vars = _filter_grads(grads_and_vars)\n    /Users/mercef02/.virtualenvs/exploration-Tqzb7Mc2/lib/python3.7/site-packages/tensorflow/python/keras/optimizer_v2/optimizer_v2.py:1271 _filter_grads\n        ([v.name for _, v in grads_and_vars],))\n\n    ValueError: No gradients provided for any variable: ['counter:0'].\n",
     "output_type": "error",
     "traceback": [
      "\u001B[0;31m---------------------------------------------------------------------------\u001B[0m",
      "\u001B[0;31mValueError\u001B[0m                                Traceback (most recent call last)",
      "\u001B[0;32m<ipython-input-310-4b9bac129cf2>\u001B[0m in \u001B[0;36m<module>\u001B[0;34m\u001B[0m\n\u001B[1;32m     21\u001B[0m     \u001B[0mvalidation_freq\u001B[0m\u001B[0;34m=\u001B[0m\u001B[0;36m1\u001B[0m\u001B[0;34m,\u001B[0m\u001B[0;34m\u001B[0m\u001B[0;34m\u001B[0m\u001B[0m\n\u001B[1;32m     22\u001B[0m     \u001B[0mepochs\u001B[0m\u001B[0;34m=\u001B[0m\u001B[0mnum_epochs\u001B[0m\u001B[0;34m,\u001B[0m\u001B[0;34m\u001B[0m\u001B[0;34m\u001B[0m\u001B[0m\n\u001B[0;32m---> 23\u001B[0;31m     verbose=1)\n\u001B[0m\u001B[1;32m     24\u001B[0m \u001B[0;34m\u001B[0m\u001B[0m\n\u001B[1;32m     25\u001B[0m \u001B[0;34m\u001B[0m\u001B[0m\n",
      "\u001B[0;32m~/.virtualenvs/exploration-Tqzb7Mc2/lib/python3.7/site-packages/tensorflow/python/keras/engine/training.py\u001B[0m in \u001B[0;36m_method_wrapper\u001B[0;34m(self, *args, **kwargs)\u001B[0m\n\u001B[1;32m    106\u001B[0m   \u001B[0;32mdef\u001B[0m \u001B[0m_method_wrapper\u001B[0m\u001B[0;34m(\u001B[0m\u001B[0mself\u001B[0m\u001B[0;34m,\u001B[0m \u001B[0;34m*\u001B[0m\u001B[0margs\u001B[0m\u001B[0;34m,\u001B[0m \u001B[0;34m**\u001B[0m\u001B[0mkwargs\u001B[0m\u001B[0;34m)\u001B[0m\u001B[0;34m:\u001B[0m\u001B[0;34m\u001B[0m\u001B[0;34m\u001B[0m\u001B[0m\n\u001B[1;32m    107\u001B[0m     \u001B[0;32mif\u001B[0m \u001B[0;32mnot\u001B[0m \u001B[0mself\u001B[0m\u001B[0;34m.\u001B[0m\u001B[0m_in_multi_worker_mode\u001B[0m\u001B[0;34m(\u001B[0m\u001B[0;34m)\u001B[0m\u001B[0;34m:\u001B[0m  \u001B[0;31m# pylint: disable=protected-access\u001B[0m\u001B[0;34m\u001B[0m\u001B[0;34m\u001B[0m\u001B[0m\n\u001B[0;32m--> 108\u001B[0;31m       \u001B[0;32mreturn\u001B[0m \u001B[0mmethod\u001B[0m\u001B[0;34m(\u001B[0m\u001B[0mself\u001B[0m\u001B[0;34m,\u001B[0m \u001B[0;34m*\u001B[0m\u001B[0margs\u001B[0m\u001B[0;34m,\u001B[0m \u001B[0;34m**\u001B[0m\u001B[0mkwargs\u001B[0m\u001B[0;34m)\u001B[0m\u001B[0;34m\u001B[0m\u001B[0;34m\u001B[0m\u001B[0m\n\u001B[0m\u001B[1;32m    109\u001B[0m \u001B[0;34m\u001B[0m\u001B[0m\n\u001B[1;32m    110\u001B[0m     \u001B[0;31m# Running inside `run_distribute_coordinator` already.\u001B[0m\u001B[0;34m\u001B[0m\u001B[0;34m\u001B[0m\u001B[0;34m\u001B[0m\u001B[0m\n",
      "\u001B[0;32m~/.virtualenvs/exploration-Tqzb7Mc2/lib/python3.7/site-packages/tensorflow/python/keras/engine/training.py\u001B[0m in \u001B[0;36mfit\u001B[0;34m(self, x, y, batch_size, epochs, verbose, callbacks, validation_split, validation_data, shuffle, class_weight, sample_weight, initial_epoch, steps_per_epoch, validation_steps, validation_batch_size, validation_freq, max_queue_size, workers, use_multiprocessing)\u001B[0m\n\u001B[1;32m   1096\u001B[0m                 batch_size=batch_size):\n\u001B[1;32m   1097\u001B[0m               \u001B[0mcallbacks\u001B[0m\u001B[0;34m.\u001B[0m\u001B[0mon_train_batch_begin\u001B[0m\u001B[0;34m(\u001B[0m\u001B[0mstep\u001B[0m\u001B[0;34m)\u001B[0m\u001B[0;34m\u001B[0m\u001B[0;34m\u001B[0m\u001B[0m\n\u001B[0;32m-> 1098\u001B[0;31m               \u001B[0mtmp_logs\u001B[0m \u001B[0;34m=\u001B[0m \u001B[0mtrain_function\u001B[0m\u001B[0;34m(\u001B[0m\u001B[0miterator\u001B[0m\u001B[0;34m)\u001B[0m\u001B[0;34m\u001B[0m\u001B[0;34m\u001B[0m\u001B[0m\n\u001B[0m\u001B[1;32m   1099\u001B[0m               \u001B[0;32mif\u001B[0m \u001B[0mdata_handler\u001B[0m\u001B[0;34m.\u001B[0m\u001B[0mshould_sync\u001B[0m\u001B[0;34m:\u001B[0m\u001B[0;34m\u001B[0m\u001B[0;34m\u001B[0m\u001B[0m\n\u001B[1;32m   1100\u001B[0m                 \u001B[0mcontext\u001B[0m\u001B[0;34m.\u001B[0m\u001B[0masync_wait\u001B[0m\u001B[0;34m(\u001B[0m\u001B[0;34m)\u001B[0m\u001B[0;34m\u001B[0m\u001B[0;34m\u001B[0m\u001B[0m\n",
      "\u001B[0;32m~/.virtualenvs/exploration-Tqzb7Mc2/lib/python3.7/site-packages/tensorflow/python/eager/def_function.py\u001B[0m in \u001B[0;36m__call__\u001B[0;34m(self, *args, **kwds)\u001B[0m\n\u001B[1;32m    778\u001B[0m       \u001B[0;32melse\u001B[0m\u001B[0;34m:\u001B[0m\u001B[0;34m\u001B[0m\u001B[0;34m\u001B[0m\u001B[0m\n\u001B[1;32m    779\u001B[0m         \u001B[0mcompiler\u001B[0m \u001B[0;34m=\u001B[0m \u001B[0;34m\"nonXla\"\u001B[0m\u001B[0;34m\u001B[0m\u001B[0;34m\u001B[0m\u001B[0m\n\u001B[0;32m--> 780\u001B[0;31m         \u001B[0mresult\u001B[0m \u001B[0;34m=\u001B[0m \u001B[0mself\u001B[0m\u001B[0;34m.\u001B[0m\u001B[0m_call\u001B[0m\u001B[0;34m(\u001B[0m\u001B[0;34m*\u001B[0m\u001B[0margs\u001B[0m\u001B[0;34m,\u001B[0m \u001B[0;34m**\u001B[0m\u001B[0mkwds\u001B[0m\u001B[0;34m)\u001B[0m\u001B[0;34m\u001B[0m\u001B[0;34m\u001B[0m\u001B[0m\n\u001B[0m\u001B[1;32m    781\u001B[0m \u001B[0;34m\u001B[0m\u001B[0m\n\u001B[1;32m    782\u001B[0m       \u001B[0mnew_tracing_count\u001B[0m \u001B[0;34m=\u001B[0m \u001B[0mself\u001B[0m\u001B[0;34m.\u001B[0m\u001B[0m_get_tracing_count\u001B[0m\u001B[0;34m(\u001B[0m\u001B[0;34m)\u001B[0m\u001B[0;34m\u001B[0m\u001B[0;34m\u001B[0m\u001B[0m\n",
      "\u001B[0;32m~/.virtualenvs/exploration-Tqzb7Mc2/lib/python3.7/site-packages/tensorflow/python/eager/def_function.py\u001B[0m in \u001B[0;36m_call\u001B[0;34m(self, *args, **kwds)\u001B[0m\n\u001B[1;32m    821\u001B[0m       \u001B[0;31m# This is the first call of __call__, so we have to initialize.\u001B[0m\u001B[0;34m\u001B[0m\u001B[0;34m\u001B[0m\u001B[0;34m\u001B[0m\u001B[0m\n\u001B[1;32m    822\u001B[0m       \u001B[0minitializers\u001B[0m \u001B[0;34m=\u001B[0m \u001B[0;34m[\u001B[0m\u001B[0;34m]\u001B[0m\u001B[0;34m\u001B[0m\u001B[0;34m\u001B[0m\u001B[0m\n\u001B[0;32m--> 823\u001B[0;31m       \u001B[0mself\u001B[0m\u001B[0;34m.\u001B[0m\u001B[0m_initialize\u001B[0m\u001B[0;34m(\u001B[0m\u001B[0margs\u001B[0m\u001B[0;34m,\u001B[0m \u001B[0mkwds\u001B[0m\u001B[0;34m,\u001B[0m \u001B[0madd_initializers_to\u001B[0m\u001B[0;34m=\u001B[0m\u001B[0minitializers\u001B[0m\u001B[0;34m)\u001B[0m\u001B[0;34m\u001B[0m\u001B[0;34m\u001B[0m\u001B[0m\n\u001B[0m\u001B[1;32m    824\u001B[0m     \u001B[0;32mfinally\u001B[0m\u001B[0;34m:\u001B[0m\u001B[0;34m\u001B[0m\u001B[0;34m\u001B[0m\u001B[0m\n\u001B[1;32m    825\u001B[0m       \u001B[0;31m# At this point we know that the initialization is complete (or less\u001B[0m\u001B[0;34m\u001B[0m\u001B[0;34m\u001B[0m\u001B[0;34m\u001B[0m\u001B[0m\n",
      "\u001B[0;32m~/.virtualenvs/exploration-Tqzb7Mc2/lib/python3.7/site-packages/tensorflow/python/eager/def_function.py\u001B[0m in \u001B[0;36m_initialize\u001B[0;34m(self, args, kwds, add_initializers_to)\u001B[0m\n\u001B[1;32m    695\u001B[0m     self._concrete_stateful_fn = (\n\u001B[1;32m    696\u001B[0m         self._stateful_fn._get_concrete_function_internal_garbage_collected(  # pylint: disable=protected-access\n\u001B[0;32m--> 697\u001B[0;31m             *args, **kwds))\n\u001B[0m\u001B[1;32m    698\u001B[0m \u001B[0;34m\u001B[0m\u001B[0m\n\u001B[1;32m    699\u001B[0m     \u001B[0;32mdef\u001B[0m \u001B[0minvalid_creator_scope\u001B[0m\u001B[0;34m(\u001B[0m\u001B[0;34m*\u001B[0m\u001B[0munused_args\u001B[0m\u001B[0;34m,\u001B[0m \u001B[0;34m**\u001B[0m\u001B[0munused_kwds\u001B[0m\u001B[0;34m)\u001B[0m\u001B[0;34m:\u001B[0m\u001B[0;34m\u001B[0m\u001B[0;34m\u001B[0m\u001B[0m\n",
      "\u001B[0;32m~/.virtualenvs/exploration-Tqzb7Mc2/lib/python3.7/site-packages/tensorflow/python/eager/function.py\u001B[0m in \u001B[0;36m_get_concrete_function_internal_garbage_collected\u001B[0;34m(self, *args, **kwargs)\u001B[0m\n\u001B[1;32m   2853\u001B[0m       \u001B[0margs\u001B[0m\u001B[0;34m,\u001B[0m \u001B[0mkwargs\u001B[0m \u001B[0;34m=\u001B[0m \u001B[0;32mNone\u001B[0m\u001B[0;34m,\u001B[0m \u001B[0;32mNone\u001B[0m\u001B[0;34m\u001B[0m\u001B[0;34m\u001B[0m\u001B[0m\n\u001B[1;32m   2854\u001B[0m     \u001B[0;32mwith\u001B[0m \u001B[0mself\u001B[0m\u001B[0;34m.\u001B[0m\u001B[0m_lock\u001B[0m\u001B[0;34m:\u001B[0m\u001B[0;34m\u001B[0m\u001B[0;34m\u001B[0m\u001B[0m\n\u001B[0;32m-> 2855\u001B[0;31m       \u001B[0mgraph_function\u001B[0m\u001B[0;34m,\u001B[0m \u001B[0m_\u001B[0m\u001B[0;34m,\u001B[0m \u001B[0m_\u001B[0m \u001B[0;34m=\u001B[0m \u001B[0mself\u001B[0m\u001B[0;34m.\u001B[0m\u001B[0m_maybe_define_function\u001B[0m\u001B[0;34m(\u001B[0m\u001B[0margs\u001B[0m\u001B[0;34m,\u001B[0m \u001B[0mkwargs\u001B[0m\u001B[0;34m)\u001B[0m\u001B[0;34m\u001B[0m\u001B[0;34m\u001B[0m\u001B[0m\n\u001B[0m\u001B[1;32m   2856\u001B[0m     \u001B[0;32mreturn\u001B[0m \u001B[0mgraph_function\u001B[0m\u001B[0;34m\u001B[0m\u001B[0;34m\u001B[0m\u001B[0m\n\u001B[1;32m   2857\u001B[0m \u001B[0;34m\u001B[0m\u001B[0m\n",
      "\u001B[0;32m~/.virtualenvs/exploration-Tqzb7Mc2/lib/python3.7/site-packages/tensorflow/python/eager/function.py\u001B[0m in \u001B[0;36m_maybe_define_function\u001B[0;34m(self, args, kwargs)\u001B[0m\n\u001B[1;32m   3211\u001B[0m \u001B[0;34m\u001B[0m\u001B[0m\n\u001B[1;32m   3212\u001B[0m       \u001B[0mself\u001B[0m\u001B[0;34m.\u001B[0m\u001B[0m_function_cache\u001B[0m\u001B[0;34m.\u001B[0m\u001B[0mmissed\u001B[0m\u001B[0;34m.\u001B[0m\u001B[0madd\u001B[0m\u001B[0;34m(\u001B[0m\u001B[0mcall_context_key\u001B[0m\u001B[0;34m)\u001B[0m\u001B[0;34m\u001B[0m\u001B[0;34m\u001B[0m\u001B[0m\n\u001B[0;32m-> 3213\u001B[0;31m       \u001B[0mgraph_function\u001B[0m \u001B[0;34m=\u001B[0m \u001B[0mself\u001B[0m\u001B[0;34m.\u001B[0m\u001B[0m_create_graph_function\u001B[0m\u001B[0;34m(\u001B[0m\u001B[0margs\u001B[0m\u001B[0;34m,\u001B[0m \u001B[0mkwargs\u001B[0m\u001B[0;34m)\u001B[0m\u001B[0;34m\u001B[0m\u001B[0;34m\u001B[0m\u001B[0m\n\u001B[0m\u001B[1;32m   3214\u001B[0m       \u001B[0mself\u001B[0m\u001B[0;34m.\u001B[0m\u001B[0m_function_cache\u001B[0m\u001B[0;34m.\u001B[0m\u001B[0mprimary\u001B[0m\u001B[0;34m[\u001B[0m\u001B[0mcache_key\u001B[0m\u001B[0;34m]\u001B[0m \u001B[0;34m=\u001B[0m \u001B[0mgraph_function\u001B[0m\u001B[0;34m\u001B[0m\u001B[0;34m\u001B[0m\u001B[0m\n\u001B[1;32m   3215\u001B[0m       \u001B[0;32mreturn\u001B[0m \u001B[0mgraph_function\u001B[0m\u001B[0;34m,\u001B[0m \u001B[0margs\u001B[0m\u001B[0;34m,\u001B[0m \u001B[0mkwargs\u001B[0m\u001B[0;34m\u001B[0m\u001B[0;34m\u001B[0m\u001B[0m\n",
      "\u001B[0;32m~/.virtualenvs/exploration-Tqzb7Mc2/lib/python3.7/site-packages/tensorflow/python/eager/function.py\u001B[0m in \u001B[0;36m_create_graph_function\u001B[0;34m(self, args, kwargs, override_flat_arg_shapes)\u001B[0m\n\u001B[1;32m   3073\u001B[0m             \u001B[0marg_names\u001B[0m\u001B[0;34m=\u001B[0m\u001B[0marg_names\u001B[0m\u001B[0;34m,\u001B[0m\u001B[0;34m\u001B[0m\u001B[0;34m\u001B[0m\u001B[0m\n\u001B[1;32m   3074\u001B[0m             \u001B[0moverride_flat_arg_shapes\u001B[0m\u001B[0;34m=\u001B[0m\u001B[0moverride_flat_arg_shapes\u001B[0m\u001B[0;34m,\u001B[0m\u001B[0;34m\u001B[0m\u001B[0;34m\u001B[0m\u001B[0m\n\u001B[0;32m-> 3075\u001B[0;31m             capture_by_value=self._capture_by_value),\n\u001B[0m\u001B[1;32m   3076\u001B[0m         \u001B[0mself\u001B[0m\u001B[0;34m.\u001B[0m\u001B[0m_function_attributes\u001B[0m\u001B[0;34m,\u001B[0m\u001B[0;34m\u001B[0m\u001B[0;34m\u001B[0m\u001B[0m\n\u001B[1;32m   3077\u001B[0m         \u001B[0mfunction_spec\u001B[0m\u001B[0;34m=\u001B[0m\u001B[0mself\u001B[0m\u001B[0;34m.\u001B[0m\u001B[0mfunction_spec\u001B[0m\u001B[0;34m,\u001B[0m\u001B[0;34m\u001B[0m\u001B[0;34m\u001B[0m\u001B[0m\n",
      "\u001B[0;32m~/.virtualenvs/exploration-Tqzb7Mc2/lib/python3.7/site-packages/tensorflow/python/framework/func_graph.py\u001B[0m in \u001B[0;36mfunc_graph_from_py_func\u001B[0;34m(name, python_func, args, kwargs, signature, func_graph, autograph, autograph_options, add_control_dependencies, arg_names, op_return_value, collections, capture_by_value, override_flat_arg_shapes)\u001B[0m\n\u001B[1;32m    984\u001B[0m         \u001B[0m_\u001B[0m\u001B[0;34m,\u001B[0m \u001B[0moriginal_func\u001B[0m \u001B[0;34m=\u001B[0m \u001B[0mtf_decorator\u001B[0m\u001B[0;34m.\u001B[0m\u001B[0munwrap\u001B[0m\u001B[0;34m(\u001B[0m\u001B[0mpython_func\u001B[0m\u001B[0;34m)\u001B[0m\u001B[0;34m\u001B[0m\u001B[0;34m\u001B[0m\u001B[0m\n\u001B[1;32m    985\u001B[0m \u001B[0;34m\u001B[0m\u001B[0m\n\u001B[0;32m--> 986\u001B[0;31m       \u001B[0mfunc_outputs\u001B[0m \u001B[0;34m=\u001B[0m \u001B[0mpython_func\u001B[0m\u001B[0;34m(\u001B[0m\u001B[0;34m*\u001B[0m\u001B[0mfunc_args\u001B[0m\u001B[0;34m,\u001B[0m \u001B[0;34m**\u001B[0m\u001B[0mfunc_kwargs\u001B[0m\u001B[0;34m)\u001B[0m\u001B[0;34m\u001B[0m\u001B[0;34m\u001B[0m\u001B[0m\n\u001B[0m\u001B[1;32m    987\u001B[0m \u001B[0;34m\u001B[0m\u001B[0m\n\u001B[1;32m    988\u001B[0m       \u001B[0;31m# invariant: `func_outputs` contains only Tensors, CompositeTensors,\u001B[0m\u001B[0;34m\u001B[0m\u001B[0;34m\u001B[0m\u001B[0;34m\u001B[0m\u001B[0m\n",
      "\u001B[0;32m~/.virtualenvs/exploration-Tqzb7Mc2/lib/python3.7/site-packages/tensorflow/python/eager/def_function.py\u001B[0m in \u001B[0;36mwrapped_fn\u001B[0;34m(*args, **kwds)\u001B[0m\n\u001B[1;32m    598\u001B[0m         \u001B[0;31m# __wrapped__ allows AutoGraph to swap in a converted function. We give\u001B[0m\u001B[0;34m\u001B[0m\u001B[0;34m\u001B[0m\u001B[0;34m\u001B[0m\u001B[0m\n\u001B[1;32m    599\u001B[0m         \u001B[0;31m# the function a weak reference to itself to avoid a reference cycle.\u001B[0m\u001B[0;34m\u001B[0m\u001B[0;34m\u001B[0m\u001B[0;34m\u001B[0m\u001B[0m\n\u001B[0;32m--> 600\u001B[0;31m         \u001B[0;32mreturn\u001B[0m \u001B[0mweak_wrapped_fn\u001B[0m\u001B[0;34m(\u001B[0m\u001B[0;34m)\u001B[0m\u001B[0;34m.\u001B[0m\u001B[0m__wrapped__\u001B[0m\u001B[0;34m(\u001B[0m\u001B[0;34m*\u001B[0m\u001B[0margs\u001B[0m\u001B[0;34m,\u001B[0m \u001B[0;34m**\u001B[0m\u001B[0mkwds\u001B[0m\u001B[0;34m)\u001B[0m\u001B[0;34m\u001B[0m\u001B[0;34m\u001B[0m\u001B[0m\n\u001B[0m\u001B[1;32m    601\u001B[0m     \u001B[0mweak_wrapped_fn\u001B[0m \u001B[0;34m=\u001B[0m \u001B[0mweakref\u001B[0m\u001B[0;34m.\u001B[0m\u001B[0mref\u001B[0m\u001B[0;34m(\u001B[0m\u001B[0mwrapped_fn\u001B[0m\u001B[0;34m)\u001B[0m\u001B[0;34m\u001B[0m\u001B[0;34m\u001B[0m\u001B[0m\n\u001B[1;32m    602\u001B[0m \u001B[0;34m\u001B[0m\u001B[0m\n",
      "\u001B[0;32m~/.virtualenvs/exploration-Tqzb7Mc2/lib/python3.7/site-packages/tensorflow/python/framework/func_graph.py\u001B[0m in \u001B[0;36mwrapper\u001B[0;34m(*args, **kwargs)\u001B[0m\n\u001B[1;32m    971\u001B[0m           \u001B[0;32mexcept\u001B[0m \u001B[0mException\u001B[0m \u001B[0;32mas\u001B[0m \u001B[0me\u001B[0m\u001B[0;34m:\u001B[0m  \u001B[0;31m# pylint:disable=broad-except\u001B[0m\u001B[0;34m\u001B[0m\u001B[0;34m\u001B[0m\u001B[0m\n\u001B[1;32m    972\u001B[0m             \u001B[0;32mif\u001B[0m \u001B[0mhasattr\u001B[0m\u001B[0;34m(\u001B[0m\u001B[0me\u001B[0m\u001B[0;34m,\u001B[0m \u001B[0;34m\"ag_error_metadata\"\u001B[0m\u001B[0;34m)\u001B[0m\u001B[0;34m:\u001B[0m\u001B[0;34m\u001B[0m\u001B[0;34m\u001B[0m\u001B[0m\n\u001B[0;32m--> 973\u001B[0;31m               \u001B[0;32mraise\u001B[0m \u001B[0me\u001B[0m\u001B[0;34m.\u001B[0m\u001B[0mag_error_metadata\u001B[0m\u001B[0;34m.\u001B[0m\u001B[0mto_exception\u001B[0m\u001B[0;34m(\u001B[0m\u001B[0me\u001B[0m\u001B[0;34m)\u001B[0m\u001B[0;34m\u001B[0m\u001B[0;34m\u001B[0m\u001B[0m\n\u001B[0m\u001B[1;32m    974\u001B[0m             \u001B[0;32melse\u001B[0m\u001B[0;34m:\u001B[0m\u001B[0;34m\u001B[0m\u001B[0;34m\u001B[0m\u001B[0m\n\u001B[1;32m    975\u001B[0m               \u001B[0;32mraise\u001B[0m\u001B[0;34m\u001B[0m\u001B[0;34m\u001B[0m\u001B[0m\n",
      "\u001B[0;31mValueError\u001B[0m: in user code:\n\n    /Users/mercef02/.virtualenvs/exploration-Tqzb7Mc2/lib/python3.7/site-packages/tensorflow/python/keras/engine/training.py:806 train_function  *\n        return step_function(self, iterator)\n    /Users/mercef02/.virtualenvs/exploration-Tqzb7Mc2/lib/python3.7/site-packages/tensorflow/python/keras/engine/training.py:796 step_function  **\n        outputs = model.distribute_strategy.run(run_step, args=(data,))\n    /Users/mercef02/.virtualenvs/exploration-Tqzb7Mc2/lib/python3.7/site-packages/tensorflow/python/distribute/distribute_lib.py:1211 run\n        return self._extended.call_for_each_replica(fn, args=args, kwargs=kwargs)\n    /Users/mercef02/.virtualenvs/exploration-Tqzb7Mc2/lib/python3.7/site-packages/tensorflow/python/distribute/distribute_lib.py:2585 call_for_each_replica\n        return self._call_for_each_replica(fn, args, kwargs)\n    /Users/mercef02/.virtualenvs/exploration-Tqzb7Mc2/lib/python3.7/site-packages/tensorflow/python/distribute/distribute_lib.py:2945 _call_for_each_replica\n        return fn(*args, **kwargs)\n    /Users/mercef02/.virtualenvs/exploration-Tqzb7Mc2/lib/python3.7/site-packages/tensorflow/python/keras/engine/training.py:789 run_step  **\n        outputs = model.train_step(data)\n    /Users/mercef02/.virtualenvs/exploration-Tqzb7Mc2/lib/python3.7/site-packages/tensorflow_recommenders/models/base.py:76 train_step\n        self.optimizer.apply_gradients(zip(gradients, self.trainable_variables))\n    /Users/mercef02/.virtualenvs/exploration-Tqzb7Mc2/lib/python3.7/site-packages/tensorflow/python/keras/optimizer_v2/optimizer_v2.py:513 apply_gradients\n        grads_and_vars = _filter_grads(grads_and_vars)\n    /Users/mercef02/.virtualenvs/exploration-Tqzb7Mc2/lib/python3.7/site-packages/tensorflow/python/keras/optimizer_v2/optimizer_v2.py:1271 _filter_grads\n        ([v.name for _, v in grads_and_vars],))\n\n    ValueError: No gradients provided for any variable: ['counter:0'].\n"
     ]
    }
   ],
   "source": [
    "num_epochs = 2\n",
    "lr = 0.01\n",
    "cached_train = sfv_train.batch(128).cache()\n",
    "cached_test = sfv_test.batch(128).cache()\n",
    "#model_link = 'https://tfhub.dev/google/nnlm-en-dim128-with-normalization/2'\n",
    "#text_model = {\"format\": \"text\", \"link\": model_link}\n",
    "recsys2_im = ItemSimilarityModel(test_candidate_ids=unique_item_ids,\n",
    "                                      features=['image_embedding'],\n",
    "                                      feature_dims=[None],\n",
    "                                      unique_item_ids=unique_item_ids,\n",
    "                                      item_body_lookup=body_lookup_table,\n",
    "                                      item_tags_lookup=tags_lookup_table,\n",
    "                                      item_category_lookup=category_lookup_table,\n",
    "                                      item_image_lookup=thumbnail_lookup_table,\n",
    "                                      image_embedding_lookup_table=im_embeddings_lookup,\n",
    "                                      layer_sizes=[])\n",
    "\n",
    "recsys2_im.compile(optimizer=tf.keras.optimizers.Adagrad(lr))\n",
    "recsys2_im.fit(    cached_train,\n",
    "    validation_data=cached_test,\n",
    "    validation_freq=1,\n",
    "    epochs=num_epochs,\n",
    "    verbose=1)\n",
    "\n",
    "\n",
    "print(f'Train accuracy: {one_layer_history.history[\"factorized_top_k/top_100_categorical_accuracy\"][-1]}')   \n",
    "print(f'Validation accuracy: {one_layer_history.history[\"val_factorized_top_k/top_100_categorical_accuracy\"][-1]}')\n",
    "\n",
    "recsys2_im_metrics = recsys2_im.evaluate(holdout_logs_tf.batch(128).cache())\n",
    "\n",
    "recsys2_im_metrics"
   ]
  },
  {
   "cell_type": "code",
   "execution_count": 352,
   "metadata": {},
   "outputs": [
    {
     "name": "stdout",
     "output_type": "stream",
     "text": [
      "Epoch 1/3\n",
      "WARNING:tensorflow:The dtype of the source tensor must be floating (e.g. tf.float32) when calling GradientTape.gradient, got tf.int32\n"
     ]
    },
    {
     "name": "stderr",
     "output_type": "stream",
     "text": [
      "WARNING:tensorflow:The dtype of the source tensor must be floating (e.g. tf.float32) when calling GradientTape.gradient, got tf.int32\n"
     ]
    },
    {
     "name": "stdout",
     "output_type": "stream",
     "text": [
      "WARNING:tensorflow:Gradients do not exist for variables ['counter:0'] when minimizing the loss.\n"
     ]
    },
    {
     "name": "stderr",
     "output_type": "stream",
     "text": [
      "WARNING:tensorflow:Gradients do not exist for variables ['counter:0'] when minimizing the loss.\n"
     ]
    },
    {
     "name": "stdout",
     "output_type": "stream",
     "text": [
      "WARNING:tensorflow:The dtype of the source tensor must be floating (e.g. tf.float32) when calling GradientTape.gradient, got tf.int32\n"
     ]
    },
    {
     "name": "stderr",
     "output_type": "stream",
     "text": [
      "WARNING:tensorflow:The dtype of the source tensor must be floating (e.g. tf.float32) when calling GradientTape.gradient, got tf.int32\n"
     ]
    },
    {
     "name": "stdout",
     "output_type": "stream",
     "text": [
      "WARNING:tensorflow:Gradients do not exist for variables ['counter:0'] when minimizing the loss.\n"
     ]
    },
    {
     "name": "stderr",
     "output_type": "stream",
     "text": [
      "WARNING:tensorflow:Gradients do not exist for variables ['counter:0'] when minimizing the loss.\n"
     ]
    },
    {
     "name": "stdout",
     "output_type": "stream",
     "text": [
      "1704/1704 [==============================] - 600s 352ms/step - factorized_top_k/top_1_categorical_accuracy: 0.0115 - factorized_top_k/top_5_categorical_accuracy: 0.1137 - factorized_top_k/top_10_categorical_accuracy: 0.1675 - factorized_top_k/top_50_categorical_accuracy: 0.2580 - factorized_top_k/top_100_categorical_accuracy: 0.2865 - loss: 5.2211 - regularization_loss: 0.0000e+00 - total_loss: 5.2211 - val_factorized_top_k/top_1_categorical_accuracy: 0.0120 - val_factorized_top_k/top_5_categorical_accuracy: 0.1999 - val_factorized_top_k/top_10_categorical_accuracy: 0.2934 - val_factorized_top_k/top_50_categorical_accuracy: 0.4277 - val_factorized_top_k/top_100_categorical_accuracy: 0.4447 - val_loss: 4.9520 - val_regularization_loss: 0.0000e+00 - val_total_loss: 4.9520\n",
      "Epoch 2/3\n",
      "1704/1704 [==============================] - 507s 297ms/step - factorized_top_k/top_1_categorical_accuracy: 0.0243 - factorized_top_k/top_5_categorical_accuracy: 0.2088 - factorized_top_k/top_10_categorical_accuracy: 0.3477 - factorized_top_k/top_50_categorical_accuracy: 0.6227 - factorized_top_k/top_100_categorical_accuracy: 0.6471 - loss: 8.7887 - regularization_loss: 0.0000e+00 - total_loss: 8.7887 - val_factorized_top_k/top_1_categorical_accuracy: 0.0268 - val_factorized_top_k/top_5_categorical_accuracy: 0.2043 - val_factorized_top_k/top_10_categorical_accuracy: 0.3123 - val_factorized_top_k/top_50_categorical_accuracy: 0.4761 - val_factorized_top_k/top_100_categorical_accuracy: 0.5085 - val_loss: 4.5088 - val_regularization_loss: 0.0000e+00 - val_total_loss: 4.5088\n",
      "Epoch 3/3\n",
      "1704/1704 [==============================] - 510s 299ms/step - factorized_top_k/top_1_categorical_accuracy: 0.0167 - factorized_top_k/top_5_categorical_accuracy: 0.2085 - factorized_top_k/top_10_categorical_accuracy: 0.3637 - factorized_top_k/top_50_categorical_accuracy: 0.6269 - factorized_top_k/top_100_categorical_accuracy: 0.6584 - loss: 8.7100 - regularization_loss: 0.0000e+00 - total_loss: 8.7100 - val_factorized_top_k/top_1_categorical_accuracy: 0.0266 - val_factorized_top_k/top_5_categorical_accuracy: 0.2062 - val_factorized_top_k/top_10_categorical_accuracy: 0.3107 - val_factorized_top_k/top_50_categorical_accuracy: 0.4729 - val_factorized_top_k/top_100_categorical_accuracy: 0.5100 - val_loss: 4.5490 - val_regularization_loss: 0.0000e+00 - val_total_loss: 4.5490\n",
      "Train accuracy: 0.5124850869178772\n",
      "Validation accuracy: 0.9847819805145264\n",
      "552/552 [==============================] - 178s 322ms/step - factorized_top_k/top_1_categorical_accuracy: 0.0202 - factorized_top_k/top_5_categorical_accuracy: 0.1514 - factorized_top_k/top_10_categorical_accuracy: 0.2336 - factorized_top_k/top_50_categorical_accuracy: 0.3986 - factorized_top_k/top_100_categorical_accuracy: 0.4356 - loss: 6.1705 - regularization_loss: 0.0000e+00 - total_loss: 6.1705\n"
     ]
    },
    {
     "data": {
      "text/plain": [
       "[0.0201894361525774,\n",
       " 0.15136413276195526,\n",
       " 0.23360846936702728,\n",
       " 0.3986351490020752,\n",
       " 0.43557360768318176]"
      ]
     },
     "execution_count": 352,
     "metadata": {},
     "output_type": "execute_result"
    }
   ],
   "source": [
    "num_epochs = 3\n",
    "lr = 0.01\n",
    "cached_train = sfv_train.batch(128).cache()\n",
    "cached_test = sfv_test.batch(128).cache()\n",
    "cf_one_layer = ItemSimilarityModel(test_candidate_ids=unique_item_ids,\n",
    "                                      features=['item_id', 'body'],\n",
    "                                      feature_dims=[100, 64],\n",
    "                                      unique_item_ids=unique_item_ids,\n",
    "                                      item_body_lookup=body_lookup_table,\n",
    "                                      item_tags_lookup=tags_lookup_table,\n",
    "                                      item_category_lookup=category_lookup_table,\n",
    "                                      item_image_lookup=thumbnail_lookup_table,\n",
    "                                      image_embedding_lookup_table=im_embeddings_lookup,\n",
    "                                      layer_sizes=[100])\n",
    "cf_one_layer.compile(optimizer=tf.keras.optimizers.Adagrad(lr))\n",
    "\n",
    "cf_one_layer_history = cf_one_layer.fit(\n",
    "    cached_train,\n",
    "    validation_data=cached_test,\n",
    "    validation_freq=1,\n",
    "    epochs=num_epochs,\n",
    "    verbose=1)\n",
    "#    callbacks=[tensorboard_callback])\n",
    "\n",
    "print(f'Train accuracy: {one_layer_history.history[\"factorized_top_k/top_100_categorical_accuracy\"][-1]}')   \n",
    "print(f'Validation accuracy: {one_layer_history.history[\"val_factorized_top_k/top_100_categorical_accuracy\"][-1]}')\n",
    "\n",
    "id_metrics = cf_one_layer.evaluate(holdout_logs_tf.batch(128).cache())\n",
    "id_metrics"
   ]
  },
  {
   "cell_type": "code",
   "execution_count": 75,
   "metadata": {},
   "outputs": [
    {
     "name": "stdout",
     "output_type": "stream",
     "text": [
      "Epoch 1/10\n",
      "WARNING:tensorflow:The dtype of the source tensor must be floating (e.g. tf.float32) when calling GradientTape.gradient, got tf.int32\n"
     ]
    },
    {
     "name": "stderr",
     "output_type": "stream",
     "text": [
      "WARNING:tensorflow:The dtype of the source tensor must be floating (e.g. tf.float32) when calling GradientTape.gradient, got tf.int32\n"
     ]
    },
    {
     "name": "stdout",
     "output_type": "stream",
     "text": [
      "WARNING:tensorflow:Gradients do not exist for variables ['counter:0'] when minimizing the loss.\n"
     ]
    },
    {
     "name": "stderr",
     "output_type": "stream",
     "text": [
      "WARNING:tensorflow:Gradients do not exist for variables ['counter:0'] when minimizing the loss.\n"
     ]
    },
    {
     "name": "stdout",
     "output_type": "stream",
     "text": [
      "WARNING:tensorflow:The dtype of the source tensor must be floating (e.g. tf.float32) when calling GradientTape.gradient, got tf.int32\n"
     ]
    },
    {
     "name": "stderr",
     "output_type": "stream",
     "text": [
      "WARNING:tensorflow:The dtype of the source tensor must be floating (e.g. tf.float32) when calling GradientTape.gradient, got tf.int32\n"
     ]
    },
    {
     "name": "stdout",
     "output_type": "stream",
     "text": [
      "WARNING:tensorflow:Gradients do not exist for variables ['counter:0'] when minimizing the loss.\n"
     ]
    },
    {
     "name": "stderr",
     "output_type": "stream",
     "text": [
      "WARNING:tensorflow:Gradients do not exist for variables ['counter:0'] when minimizing the loss.\n"
     ]
    },
    {
     "name": "stdout",
     "output_type": "stream",
     "text": [
      "2/2 [==============================] - ETA: 0s - factorized_top_k/top_1_categorical_accuracy: 0.0000e+00 - factorized_top_k/top_5_categorical_accuracy: 0.0000e+00 - factorized_top_k/top_10_categorical_accuracy: 0.0000e+00 - factorized_top_k/top_50_categorical_accuracy: 0.0039 - factorized_top_k/top_100_categorical_accuracy: 0.0039 - loss: 4.8954 - regularization_loss: 0.0000e+00 - total_loss: 4.8954        WARNING:tensorflow:Model was constructed with shape (None,) for input Tensor(\"item_id_string_lookup_layer_input_6:0\", shape=(None,), dtype=string), but it was called on an input with incompatible shape ().\n"
     ]
    },
    {
     "name": "stderr",
     "output_type": "stream",
     "text": [
      "WARNING:tensorflow:Model was constructed with shape (None,) for input Tensor(\"item_id_string_lookup_layer_input_6:0\", shape=(None,), dtype=string), but it was called on an input with incompatible shape ().\n"
     ]
    },
    {
     "name": "stdout",
     "output_type": "stream",
     "text": [
      "WARNING:tensorflow:Model was constructed with shape (None,) for input Tensor(\"body_text_vectorisation_layer_input_5:0\", shape=(None,), dtype=string), but it was called on an input with incompatible shape ().\n"
     ]
    },
    {
     "name": "stderr",
     "output_type": "stream",
     "text": [
      "WARNING:tensorflow:Model was constructed with shape (None,) for input Tensor(\"body_text_vectorisation_layer_input_5:0\", shape=(None,), dtype=string), but it was called on an input with incompatible shape ().\n"
     ]
    },
    {
     "ename": "ValueError",
     "evalue": "in user code:\n\n    /Users/mercef02/.virtualenvs/exploration-Tqzb7Mc2/lib/python3.7/site-packages/tensorflow/python/keras/engine/training.py:1224 test_function  *\n        return step_function(self, iterator)\n    <ipython-input-6-e48051f929fe>:104 call  *\n        feature_embeddings.append(self.body_embedding(body))\n    /Users/mercef02/.virtualenvs/exploration-Tqzb7Mc2/lib/python3.7/site-packages/tensorflow/python/keras/engine/base_layer.py:985 __call__  **\n        outputs = call_fn(inputs, *args, **kwargs)\n    /Users/mercef02/.virtualenvs/exploration-Tqzb7Mc2/lib/python3.7/site-packages/tensorflow/python/keras/engine/sequential.py:372 call\n        return super(Sequential, self).call(inputs, training=training, mask=mask)\n    /Users/mercef02/.virtualenvs/exploration-Tqzb7Mc2/lib/python3.7/site-packages/tensorflow/python/keras/engine/functional.py:386 call\n        inputs, training=training, mask=mask)\n    /Users/mercef02/.virtualenvs/exploration-Tqzb7Mc2/lib/python3.7/site-packages/tensorflow/python/keras/engine/functional.py:508 _run_internal_graph\n        outputs = node.layer(*args, **kwargs)\n    /Users/mercef02/.virtualenvs/exploration-Tqzb7Mc2/lib/python3.7/site-packages/tensorflow/python/keras/engine/base_layer.py:976 __call__\n        self.name)\n    /Users/mercef02/.virtualenvs/exploration-Tqzb7Mc2/lib/python3.7/site-packages/tensorflow/python/keras/engine/input_spec.py:180 assert_input_compatibility\n        str(x.shape.as_list()))\n\n    ValueError: Input 0 of layer body_global_averaging_pooling_layer is incompatible with the layer: expected ndim=3, found ndim=2. Full shape received: [None, 64]\n",
     "output_type": "error",
     "traceback": [
      "\u001B[0;31m---------------------------------------------------------------------------\u001B[0m",
      "\u001B[0;31mValueError\u001B[0m                                Traceback (most recent call last)",
      "\u001B[0;32m<ipython-input-75-a91b72151190>\u001B[0m in \u001B[0;36m<module>\u001B[0;34m\u001B[0m\n\u001B[1;32m     20\u001B[0m     \u001B[0mvalidation_freq\u001B[0m\u001B[0;34m=\u001B[0m\u001B[0;36m1\u001B[0m\u001B[0;34m,\u001B[0m\u001B[0;34m\u001B[0m\u001B[0;34m\u001B[0m\u001B[0m\n\u001B[1;32m     21\u001B[0m     \u001B[0mepochs\u001B[0m\u001B[0;34m=\u001B[0m\u001B[0mnum_epochs\u001B[0m\u001B[0;34m,\u001B[0m\u001B[0;34m\u001B[0m\u001B[0;34m\u001B[0m\u001B[0m\n\u001B[0;32m---> 22\u001B[0;31m     verbose=1)\n\u001B[0m\u001B[1;32m     23\u001B[0m \u001B[0;31m#    callbacks=[tensorboard_callback])\u001B[0m\u001B[0;34m\u001B[0m\u001B[0;34m\u001B[0m\u001B[0;34m\u001B[0m\u001B[0m\n\u001B[1;32m     24\u001B[0m \u001B[0;34m\u001B[0m\u001B[0m\n",
      "\u001B[0;32m~/.virtualenvs/exploration-Tqzb7Mc2/lib/python3.7/site-packages/tensorflow/python/keras/engine/training.py\u001B[0m in \u001B[0;36m_method_wrapper\u001B[0;34m(self, *args, **kwargs)\u001B[0m\n\u001B[1;32m    106\u001B[0m   \u001B[0;32mdef\u001B[0m \u001B[0m_method_wrapper\u001B[0m\u001B[0;34m(\u001B[0m\u001B[0mself\u001B[0m\u001B[0;34m,\u001B[0m \u001B[0;34m*\u001B[0m\u001B[0margs\u001B[0m\u001B[0;34m,\u001B[0m \u001B[0;34m**\u001B[0m\u001B[0mkwargs\u001B[0m\u001B[0;34m)\u001B[0m\u001B[0;34m:\u001B[0m\u001B[0;34m\u001B[0m\u001B[0;34m\u001B[0m\u001B[0m\n\u001B[1;32m    107\u001B[0m     \u001B[0;32mif\u001B[0m \u001B[0;32mnot\u001B[0m \u001B[0mself\u001B[0m\u001B[0;34m.\u001B[0m\u001B[0m_in_multi_worker_mode\u001B[0m\u001B[0;34m(\u001B[0m\u001B[0;34m)\u001B[0m\u001B[0;34m:\u001B[0m  \u001B[0;31m# pylint: disable=protected-access\u001B[0m\u001B[0;34m\u001B[0m\u001B[0;34m\u001B[0m\u001B[0m\n\u001B[0;32m--> 108\u001B[0;31m       \u001B[0;32mreturn\u001B[0m \u001B[0mmethod\u001B[0m\u001B[0;34m(\u001B[0m\u001B[0mself\u001B[0m\u001B[0;34m,\u001B[0m \u001B[0;34m*\u001B[0m\u001B[0margs\u001B[0m\u001B[0;34m,\u001B[0m \u001B[0;34m**\u001B[0m\u001B[0mkwargs\u001B[0m\u001B[0;34m)\u001B[0m\u001B[0;34m\u001B[0m\u001B[0;34m\u001B[0m\u001B[0m\n\u001B[0m\u001B[1;32m    109\u001B[0m \u001B[0;34m\u001B[0m\u001B[0m\n\u001B[1;32m    110\u001B[0m     \u001B[0;31m# Running inside `run_distribute_coordinator` already.\u001B[0m\u001B[0;34m\u001B[0m\u001B[0;34m\u001B[0m\u001B[0;34m\u001B[0m\u001B[0m\n",
      "\u001B[0;32m~/.virtualenvs/exploration-Tqzb7Mc2/lib/python3.7/site-packages/tensorflow/python/keras/engine/training.py\u001B[0m in \u001B[0;36mfit\u001B[0;34m(self, x, y, batch_size, epochs, verbose, callbacks, validation_split, validation_data, shuffle, class_weight, sample_weight, initial_epoch, steps_per_epoch, validation_steps, validation_batch_size, validation_freq, max_queue_size, workers, use_multiprocessing)\u001B[0m\n\u001B[1;32m   1131\u001B[0m               \u001B[0mworkers\u001B[0m\u001B[0;34m=\u001B[0m\u001B[0mworkers\u001B[0m\u001B[0;34m,\u001B[0m\u001B[0;34m\u001B[0m\u001B[0;34m\u001B[0m\u001B[0m\n\u001B[1;32m   1132\u001B[0m               \u001B[0muse_multiprocessing\u001B[0m\u001B[0;34m=\u001B[0m\u001B[0muse_multiprocessing\u001B[0m\u001B[0;34m,\u001B[0m\u001B[0;34m\u001B[0m\u001B[0;34m\u001B[0m\u001B[0m\n\u001B[0;32m-> 1133\u001B[0;31m               return_dict=True)\n\u001B[0m\u001B[1;32m   1134\u001B[0m           \u001B[0mval_logs\u001B[0m \u001B[0;34m=\u001B[0m \u001B[0;34m{\u001B[0m\u001B[0;34m'val_'\u001B[0m \u001B[0;34m+\u001B[0m \u001B[0mname\u001B[0m\u001B[0;34m:\u001B[0m \u001B[0mval\u001B[0m \u001B[0;32mfor\u001B[0m \u001B[0mname\u001B[0m\u001B[0;34m,\u001B[0m \u001B[0mval\u001B[0m \u001B[0;32min\u001B[0m \u001B[0mval_logs\u001B[0m\u001B[0;34m.\u001B[0m\u001B[0mitems\u001B[0m\u001B[0;34m(\u001B[0m\u001B[0;34m)\u001B[0m\u001B[0;34m}\u001B[0m\u001B[0;34m\u001B[0m\u001B[0;34m\u001B[0m\u001B[0m\n\u001B[1;32m   1135\u001B[0m           \u001B[0mepoch_logs\u001B[0m\u001B[0;34m.\u001B[0m\u001B[0mupdate\u001B[0m\u001B[0;34m(\u001B[0m\u001B[0mval_logs\u001B[0m\u001B[0;34m)\u001B[0m\u001B[0;34m\u001B[0m\u001B[0;34m\u001B[0m\u001B[0m\n",
      "\u001B[0;32m~/.virtualenvs/exploration-Tqzb7Mc2/lib/python3.7/site-packages/tensorflow/python/keras/engine/training.py\u001B[0m in \u001B[0;36m_method_wrapper\u001B[0;34m(self, *args, **kwargs)\u001B[0m\n\u001B[1;32m    106\u001B[0m   \u001B[0;32mdef\u001B[0m \u001B[0m_method_wrapper\u001B[0m\u001B[0;34m(\u001B[0m\u001B[0mself\u001B[0m\u001B[0;34m,\u001B[0m \u001B[0;34m*\u001B[0m\u001B[0margs\u001B[0m\u001B[0;34m,\u001B[0m \u001B[0;34m**\u001B[0m\u001B[0mkwargs\u001B[0m\u001B[0;34m)\u001B[0m\u001B[0;34m:\u001B[0m\u001B[0;34m\u001B[0m\u001B[0;34m\u001B[0m\u001B[0m\n\u001B[1;32m    107\u001B[0m     \u001B[0;32mif\u001B[0m \u001B[0;32mnot\u001B[0m \u001B[0mself\u001B[0m\u001B[0;34m.\u001B[0m\u001B[0m_in_multi_worker_mode\u001B[0m\u001B[0;34m(\u001B[0m\u001B[0;34m)\u001B[0m\u001B[0;34m:\u001B[0m  \u001B[0;31m# pylint: disable=protected-access\u001B[0m\u001B[0;34m\u001B[0m\u001B[0;34m\u001B[0m\u001B[0m\n\u001B[0;32m--> 108\u001B[0;31m       \u001B[0;32mreturn\u001B[0m \u001B[0mmethod\u001B[0m\u001B[0;34m(\u001B[0m\u001B[0mself\u001B[0m\u001B[0;34m,\u001B[0m \u001B[0;34m*\u001B[0m\u001B[0margs\u001B[0m\u001B[0;34m,\u001B[0m \u001B[0;34m**\u001B[0m\u001B[0mkwargs\u001B[0m\u001B[0;34m)\u001B[0m\u001B[0;34m\u001B[0m\u001B[0;34m\u001B[0m\u001B[0m\n\u001B[0m\u001B[1;32m    109\u001B[0m \u001B[0;34m\u001B[0m\u001B[0m\n\u001B[1;32m    110\u001B[0m     \u001B[0;31m# Running inside `run_distribute_coordinator` already.\u001B[0m\u001B[0;34m\u001B[0m\u001B[0;34m\u001B[0m\u001B[0;34m\u001B[0m\u001B[0m\n",
      "\u001B[0;32m~/.virtualenvs/exploration-Tqzb7Mc2/lib/python3.7/site-packages/tensorflow/python/keras/engine/training.py\u001B[0m in \u001B[0;36mevaluate\u001B[0;34m(self, x, y, batch_size, verbose, sample_weight, steps, callbacks, max_queue_size, workers, use_multiprocessing, return_dict)\u001B[0m\n\u001B[1;32m   1377\u001B[0m             \u001B[0;32mwith\u001B[0m \u001B[0mtrace\u001B[0m\u001B[0;34m.\u001B[0m\u001B[0mTrace\u001B[0m\u001B[0;34m(\u001B[0m\u001B[0;34m'TraceContext'\u001B[0m\u001B[0;34m,\u001B[0m \u001B[0mgraph_type\u001B[0m\u001B[0;34m=\u001B[0m\u001B[0;34m'test'\u001B[0m\u001B[0;34m,\u001B[0m \u001B[0mstep_num\u001B[0m\u001B[0;34m=\u001B[0m\u001B[0mstep\u001B[0m\u001B[0;34m)\u001B[0m\u001B[0;34m:\u001B[0m\u001B[0;34m\u001B[0m\u001B[0;34m\u001B[0m\u001B[0m\n\u001B[1;32m   1378\u001B[0m               \u001B[0mcallbacks\u001B[0m\u001B[0;34m.\u001B[0m\u001B[0mon_test_batch_begin\u001B[0m\u001B[0;34m(\u001B[0m\u001B[0mstep\u001B[0m\u001B[0;34m)\u001B[0m\u001B[0;34m\u001B[0m\u001B[0;34m\u001B[0m\u001B[0m\n\u001B[0;32m-> 1379\u001B[0;31m               \u001B[0mtmp_logs\u001B[0m \u001B[0;34m=\u001B[0m \u001B[0mtest_function\u001B[0m\u001B[0;34m(\u001B[0m\u001B[0miterator\u001B[0m\u001B[0;34m)\u001B[0m\u001B[0;34m\u001B[0m\u001B[0;34m\u001B[0m\u001B[0m\n\u001B[0m\u001B[1;32m   1380\u001B[0m               \u001B[0;32mif\u001B[0m \u001B[0mdata_handler\u001B[0m\u001B[0;34m.\u001B[0m\u001B[0mshould_sync\u001B[0m\u001B[0;34m:\u001B[0m\u001B[0;34m\u001B[0m\u001B[0;34m\u001B[0m\u001B[0m\n\u001B[1;32m   1381\u001B[0m                 \u001B[0mcontext\u001B[0m\u001B[0;34m.\u001B[0m\u001B[0masync_wait\u001B[0m\u001B[0;34m(\u001B[0m\u001B[0;34m)\u001B[0m\u001B[0;34m\u001B[0m\u001B[0;34m\u001B[0m\u001B[0m\n",
      "\u001B[0;32m~/.virtualenvs/exploration-Tqzb7Mc2/lib/python3.7/site-packages/tensorflow/python/eager/def_function.py\u001B[0m in \u001B[0;36m__call__\u001B[0;34m(self, *args, **kwds)\u001B[0m\n\u001B[1;32m    778\u001B[0m       \u001B[0;32melse\u001B[0m\u001B[0;34m:\u001B[0m\u001B[0;34m\u001B[0m\u001B[0;34m\u001B[0m\u001B[0m\n\u001B[1;32m    779\u001B[0m         \u001B[0mcompiler\u001B[0m \u001B[0;34m=\u001B[0m \u001B[0;34m\"nonXla\"\u001B[0m\u001B[0;34m\u001B[0m\u001B[0;34m\u001B[0m\u001B[0m\n\u001B[0;32m--> 780\u001B[0;31m         \u001B[0mresult\u001B[0m \u001B[0;34m=\u001B[0m \u001B[0mself\u001B[0m\u001B[0;34m.\u001B[0m\u001B[0m_call\u001B[0m\u001B[0;34m(\u001B[0m\u001B[0;34m*\u001B[0m\u001B[0margs\u001B[0m\u001B[0;34m,\u001B[0m \u001B[0;34m**\u001B[0m\u001B[0mkwds\u001B[0m\u001B[0;34m)\u001B[0m\u001B[0;34m\u001B[0m\u001B[0;34m\u001B[0m\u001B[0m\n\u001B[0m\u001B[1;32m    781\u001B[0m \u001B[0;34m\u001B[0m\u001B[0m\n\u001B[1;32m    782\u001B[0m       \u001B[0mnew_tracing_count\u001B[0m \u001B[0;34m=\u001B[0m \u001B[0mself\u001B[0m\u001B[0;34m.\u001B[0m\u001B[0m_get_tracing_count\u001B[0m\u001B[0;34m(\u001B[0m\u001B[0;34m)\u001B[0m\u001B[0;34m\u001B[0m\u001B[0;34m\u001B[0m\u001B[0m\n",
      "\u001B[0;32m~/.virtualenvs/exploration-Tqzb7Mc2/lib/python3.7/site-packages/tensorflow/python/eager/def_function.py\u001B[0m in \u001B[0;36m_call\u001B[0;34m(self, *args, **kwds)\u001B[0m\n\u001B[1;32m    821\u001B[0m       \u001B[0;31m# This is the first call of __call__, so we have to initialize.\u001B[0m\u001B[0;34m\u001B[0m\u001B[0;34m\u001B[0m\u001B[0;34m\u001B[0m\u001B[0m\n\u001B[1;32m    822\u001B[0m       \u001B[0minitializers\u001B[0m \u001B[0;34m=\u001B[0m \u001B[0;34m[\u001B[0m\u001B[0;34m]\u001B[0m\u001B[0;34m\u001B[0m\u001B[0;34m\u001B[0m\u001B[0m\n\u001B[0;32m--> 823\u001B[0;31m       \u001B[0mself\u001B[0m\u001B[0;34m.\u001B[0m\u001B[0m_initialize\u001B[0m\u001B[0;34m(\u001B[0m\u001B[0margs\u001B[0m\u001B[0;34m,\u001B[0m \u001B[0mkwds\u001B[0m\u001B[0;34m,\u001B[0m \u001B[0madd_initializers_to\u001B[0m\u001B[0;34m=\u001B[0m\u001B[0minitializers\u001B[0m\u001B[0;34m)\u001B[0m\u001B[0;34m\u001B[0m\u001B[0;34m\u001B[0m\u001B[0m\n\u001B[0m\u001B[1;32m    824\u001B[0m     \u001B[0;32mfinally\u001B[0m\u001B[0;34m:\u001B[0m\u001B[0;34m\u001B[0m\u001B[0;34m\u001B[0m\u001B[0m\n\u001B[1;32m    825\u001B[0m       \u001B[0;31m# At this point we know that the initialization is complete (or less\u001B[0m\u001B[0;34m\u001B[0m\u001B[0;34m\u001B[0m\u001B[0;34m\u001B[0m\u001B[0m\n",
      "\u001B[0;32m~/.virtualenvs/exploration-Tqzb7Mc2/lib/python3.7/site-packages/tensorflow/python/eager/def_function.py\u001B[0m in \u001B[0;36m_initialize\u001B[0;34m(self, args, kwds, add_initializers_to)\u001B[0m\n\u001B[1;32m    695\u001B[0m     self._concrete_stateful_fn = (\n\u001B[1;32m    696\u001B[0m         self._stateful_fn._get_concrete_function_internal_garbage_collected(  # pylint: disable=protected-access\n\u001B[0;32m--> 697\u001B[0;31m             *args, **kwds))\n\u001B[0m\u001B[1;32m    698\u001B[0m \u001B[0;34m\u001B[0m\u001B[0m\n\u001B[1;32m    699\u001B[0m     \u001B[0;32mdef\u001B[0m \u001B[0minvalid_creator_scope\u001B[0m\u001B[0;34m(\u001B[0m\u001B[0;34m*\u001B[0m\u001B[0munused_args\u001B[0m\u001B[0;34m,\u001B[0m \u001B[0;34m**\u001B[0m\u001B[0munused_kwds\u001B[0m\u001B[0;34m)\u001B[0m\u001B[0;34m:\u001B[0m\u001B[0;34m\u001B[0m\u001B[0;34m\u001B[0m\u001B[0m\n",
      "\u001B[0;32m~/.virtualenvs/exploration-Tqzb7Mc2/lib/python3.7/site-packages/tensorflow/python/eager/function.py\u001B[0m in \u001B[0;36m_get_concrete_function_internal_garbage_collected\u001B[0;34m(self, *args, **kwargs)\u001B[0m\n\u001B[1;32m   2853\u001B[0m       \u001B[0margs\u001B[0m\u001B[0;34m,\u001B[0m \u001B[0mkwargs\u001B[0m \u001B[0;34m=\u001B[0m \u001B[0;32mNone\u001B[0m\u001B[0;34m,\u001B[0m \u001B[0;32mNone\u001B[0m\u001B[0;34m\u001B[0m\u001B[0;34m\u001B[0m\u001B[0m\n\u001B[1;32m   2854\u001B[0m     \u001B[0;32mwith\u001B[0m \u001B[0mself\u001B[0m\u001B[0;34m.\u001B[0m\u001B[0m_lock\u001B[0m\u001B[0;34m:\u001B[0m\u001B[0;34m\u001B[0m\u001B[0;34m\u001B[0m\u001B[0m\n\u001B[0;32m-> 2855\u001B[0;31m       \u001B[0mgraph_function\u001B[0m\u001B[0;34m,\u001B[0m \u001B[0m_\u001B[0m\u001B[0;34m,\u001B[0m \u001B[0m_\u001B[0m \u001B[0;34m=\u001B[0m \u001B[0mself\u001B[0m\u001B[0;34m.\u001B[0m\u001B[0m_maybe_define_function\u001B[0m\u001B[0;34m(\u001B[0m\u001B[0margs\u001B[0m\u001B[0;34m,\u001B[0m \u001B[0mkwargs\u001B[0m\u001B[0;34m)\u001B[0m\u001B[0;34m\u001B[0m\u001B[0;34m\u001B[0m\u001B[0m\n\u001B[0m\u001B[1;32m   2856\u001B[0m     \u001B[0;32mreturn\u001B[0m \u001B[0mgraph_function\u001B[0m\u001B[0;34m\u001B[0m\u001B[0;34m\u001B[0m\u001B[0m\n\u001B[1;32m   2857\u001B[0m \u001B[0;34m\u001B[0m\u001B[0m\n",
      "\u001B[0;32m~/.virtualenvs/exploration-Tqzb7Mc2/lib/python3.7/site-packages/tensorflow/python/eager/function.py\u001B[0m in \u001B[0;36m_maybe_define_function\u001B[0;34m(self, args, kwargs)\u001B[0m\n\u001B[1;32m   3211\u001B[0m \u001B[0;34m\u001B[0m\u001B[0m\n\u001B[1;32m   3212\u001B[0m       \u001B[0mself\u001B[0m\u001B[0;34m.\u001B[0m\u001B[0m_function_cache\u001B[0m\u001B[0;34m.\u001B[0m\u001B[0mmissed\u001B[0m\u001B[0;34m.\u001B[0m\u001B[0madd\u001B[0m\u001B[0;34m(\u001B[0m\u001B[0mcall_context_key\u001B[0m\u001B[0;34m)\u001B[0m\u001B[0;34m\u001B[0m\u001B[0;34m\u001B[0m\u001B[0m\n\u001B[0;32m-> 3213\u001B[0;31m       \u001B[0mgraph_function\u001B[0m \u001B[0;34m=\u001B[0m \u001B[0mself\u001B[0m\u001B[0;34m.\u001B[0m\u001B[0m_create_graph_function\u001B[0m\u001B[0;34m(\u001B[0m\u001B[0margs\u001B[0m\u001B[0;34m,\u001B[0m \u001B[0mkwargs\u001B[0m\u001B[0;34m)\u001B[0m\u001B[0;34m\u001B[0m\u001B[0;34m\u001B[0m\u001B[0m\n\u001B[0m\u001B[1;32m   3214\u001B[0m       \u001B[0mself\u001B[0m\u001B[0;34m.\u001B[0m\u001B[0m_function_cache\u001B[0m\u001B[0;34m.\u001B[0m\u001B[0mprimary\u001B[0m\u001B[0;34m[\u001B[0m\u001B[0mcache_key\u001B[0m\u001B[0;34m]\u001B[0m \u001B[0;34m=\u001B[0m \u001B[0mgraph_function\u001B[0m\u001B[0;34m\u001B[0m\u001B[0;34m\u001B[0m\u001B[0m\n\u001B[1;32m   3215\u001B[0m       \u001B[0;32mreturn\u001B[0m \u001B[0mgraph_function\u001B[0m\u001B[0;34m,\u001B[0m \u001B[0margs\u001B[0m\u001B[0;34m,\u001B[0m \u001B[0mkwargs\u001B[0m\u001B[0;34m\u001B[0m\u001B[0;34m\u001B[0m\u001B[0m\n",
      "\u001B[0;32m~/.virtualenvs/exploration-Tqzb7Mc2/lib/python3.7/site-packages/tensorflow/python/eager/function.py\u001B[0m in \u001B[0;36m_create_graph_function\u001B[0;34m(self, args, kwargs, override_flat_arg_shapes)\u001B[0m\n\u001B[1;32m   3073\u001B[0m             \u001B[0marg_names\u001B[0m\u001B[0;34m=\u001B[0m\u001B[0marg_names\u001B[0m\u001B[0;34m,\u001B[0m\u001B[0;34m\u001B[0m\u001B[0;34m\u001B[0m\u001B[0m\n\u001B[1;32m   3074\u001B[0m             \u001B[0moverride_flat_arg_shapes\u001B[0m\u001B[0;34m=\u001B[0m\u001B[0moverride_flat_arg_shapes\u001B[0m\u001B[0;34m,\u001B[0m\u001B[0;34m\u001B[0m\u001B[0;34m\u001B[0m\u001B[0m\n\u001B[0;32m-> 3075\u001B[0;31m             capture_by_value=self._capture_by_value),\n\u001B[0m\u001B[1;32m   3076\u001B[0m         \u001B[0mself\u001B[0m\u001B[0;34m.\u001B[0m\u001B[0m_function_attributes\u001B[0m\u001B[0;34m,\u001B[0m\u001B[0;34m\u001B[0m\u001B[0;34m\u001B[0m\u001B[0m\n\u001B[1;32m   3077\u001B[0m         \u001B[0mfunction_spec\u001B[0m\u001B[0;34m=\u001B[0m\u001B[0mself\u001B[0m\u001B[0;34m.\u001B[0m\u001B[0mfunction_spec\u001B[0m\u001B[0;34m,\u001B[0m\u001B[0;34m\u001B[0m\u001B[0;34m\u001B[0m\u001B[0m\n",
      "\u001B[0;32m~/.virtualenvs/exploration-Tqzb7Mc2/lib/python3.7/site-packages/tensorflow/python/framework/func_graph.py\u001B[0m in \u001B[0;36mfunc_graph_from_py_func\u001B[0;34m(name, python_func, args, kwargs, signature, func_graph, autograph, autograph_options, add_control_dependencies, arg_names, op_return_value, collections, capture_by_value, override_flat_arg_shapes)\u001B[0m\n\u001B[1;32m    984\u001B[0m         \u001B[0m_\u001B[0m\u001B[0;34m,\u001B[0m \u001B[0moriginal_func\u001B[0m \u001B[0;34m=\u001B[0m \u001B[0mtf_decorator\u001B[0m\u001B[0;34m.\u001B[0m\u001B[0munwrap\u001B[0m\u001B[0;34m(\u001B[0m\u001B[0mpython_func\u001B[0m\u001B[0;34m)\u001B[0m\u001B[0;34m\u001B[0m\u001B[0;34m\u001B[0m\u001B[0m\n\u001B[1;32m    985\u001B[0m \u001B[0;34m\u001B[0m\u001B[0m\n\u001B[0;32m--> 986\u001B[0;31m       \u001B[0mfunc_outputs\u001B[0m \u001B[0;34m=\u001B[0m \u001B[0mpython_func\u001B[0m\u001B[0;34m(\u001B[0m\u001B[0;34m*\u001B[0m\u001B[0mfunc_args\u001B[0m\u001B[0;34m,\u001B[0m \u001B[0;34m**\u001B[0m\u001B[0mfunc_kwargs\u001B[0m\u001B[0;34m)\u001B[0m\u001B[0;34m\u001B[0m\u001B[0;34m\u001B[0m\u001B[0m\n\u001B[0m\u001B[1;32m    987\u001B[0m \u001B[0;34m\u001B[0m\u001B[0m\n\u001B[1;32m    988\u001B[0m       \u001B[0;31m# invariant: `func_outputs` contains only Tensors, CompositeTensors,\u001B[0m\u001B[0;34m\u001B[0m\u001B[0;34m\u001B[0m\u001B[0;34m\u001B[0m\u001B[0m\n",
      "\u001B[0;32m~/.virtualenvs/exploration-Tqzb7Mc2/lib/python3.7/site-packages/tensorflow/python/eager/def_function.py\u001B[0m in \u001B[0;36mwrapped_fn\u001B[0;34m(*args, **kwds)\u001B[0m\n\u001B[1;32m    598\u001B[0m         \u001B[0;31m# __wrapped__ allows AutoGraph to swap in a converted function. We give\u001B[0m\u001B[0;34m\u001B[0m\u001B[0;34m\u001B[0m\u001B[0;34m\u001B[0m\u001B[0m\n\u001B[1;32m    599\u001B[0m         \u001B[0;31m# the function a weak reference to itself to avoid a reference cycle.\u001B[0m\u001B[0;34m\u001B[0m\u001B[0;34m\u001B[0m\u001B[0;34m\u001B[0m\u001B[0m\n\u001B[0;32m--> 600\u001B[0;31m         \u001B[0;32mreturn\u001B[0m \u001B[0mweak_wrapped_fn\u001B[0m\u001B[0;34m(\u001B[0m\u001B[0;34m)\u001B[0m\u001B[0;34m.\u001B[0m\u001B[0m__wrapped__\u001B[0m\u001B[0;34m(\u001B[0m\u001B[0;34m*\u001B[0m\u001B[0margs\u001B[0m\u001B[0;34m,\u001B[0m \u001B[0;34m**\u001B[0m\u001B[0mkwds\u001B[0m\u001B[0;34m)\u001B[0m\u001B[0;34m\u001B[0m\u001B[0;34m\u001B[0m\u001B[0m\n\u001B[0m\u001B[1;32m    601\u001B[0m     \u001B[0mweak_wrapped_fn\u001B[0m \u001B[0;34m=\u001B[0m \u001B[0mweakref\u001B[0m\u001B[0;34m.\u001B[0m\u001B[0mref\u001B[0m\u001B[0;34m(\u001B[0m\u001B[0mwrapped_fn\u001B[0m\u001B[0;34m)\u001B[0m\u001B[0;34m\u001B[0m\u001B[0;34m\u001B[0m\u001B[0m\n\u001B[1;32m    602\u001B[0m \u001B[0;34m\u001B[0m\u001B[0m\n",
      "\u001B[0;32m~/.virtualenvs/exploration-Tqzb7Mc2/lib/python3.7/site-packages/tensorflow/python/framework/func_graph.py\u001B[0m in \u001B[0;36mwrapper\u001B[0;34m(*args, **kwargs)\u001B[0m\n\u001B[1;32m    971\u001B[0m           \u001B[0;32mexcept\u001B[0m \u001B[0mException\u001B[0m \u001B[0;32mas\u001B[0m \u001B[0me\u001B[0m\u001B[0;34m:\u001B[0m  \u001B[0;31m# pylint:disable=broad-except\u001B[0m\u001B[0;34m\u001B[0m\u001B[0;34m\u001B[0m\u001B[0m\n\u001B[1;32m    972\u001B[0m             \u001B[0;32mif\u001B[0m \u001B[0mhasattr\u001B[0m\u001B[0;34m(\u001B[0m\u001B[0me\u001B[0m\u001B[0;34m,\u001B[0m \u001B[0;34m\"ag_error_metadata\"\u001B[0m\u001B[0;34m)\u001B[0m\u001B[0;34m:\u001B[0m\u001B[0;34m\u001B[0m\u001B[0;34m\u001B[0m\u001B[0m\n\u001B[0;32m--> 973\u001B[0;31m               \u001B[0;32mraise\u001B[0m \u001B[0me\u001B[0m\u001B[0;34m.\u001B[0m\u001B[0mag_error_metadata\u001B[0m\u001B[0;34m.\u001B[0m\u001B[0mto_exception\u001B[0m\u001B[0;34m(\u001B[0m\u001B[0me\u001B[0m\u001B[0;34m)\u001B[0m\u001B[0;34m\u001B[0m\u001B[0;34m\u001B[0m\u001B[0m\n\u001B[0m\u001B[1;32m    974\u001B[0m             \u001B[0;32melse\u001B[0m\u001B[0;34m:\u001B[0m\u001B[0;34m\u001B[0m\u001B[0;34m\u001B[0m\u001B[0m\n\u001B[1;32m    975\u001B[0m               \u001B[0;32mraise\u001B[0m\u001B[0;34m\u001B[0m\u001B[0;34m\u001B[0m\u001B[0m\n",
      "\u001B[0;31mValueError\u001B[0m: in user code:\n\n    /Users/mercef02/.virtualenvs/exploration-Tqzb7Mc2/lib/python3.7/site-packages/tensorflow/python/keras/engine/training.py:1224 test_function  *\n        return step_function(self, iterator)\n    <ipython-input-6-e48051f929fe>:104 call  *\n        feature_embeddings.append(self.body_embedding(body))\n    /Users/mercef02/.virtualenvs/exploration-Tqzb7Mc2/lib/python3.7/site-packages/tensorflow/python/keras/engine/base_layer.py:985 __call__  **\n        outputs = call_fn(inputs, *args, **kwargs)\n    /Users/mercef02/.virtualenvs/exploration-Tqzb7Mc2/lib/python3.7/site-packages/tensorflow/python/keras/engine/sequential.py:372 call\n        return super(Sequential, self).call(inputs, training=training, mask=mask)\n    /Users/mercef02/.virtualenvs/exploration-Tqzb7Mc2/lib/python3.7/site-packages/tensorflow/python/keras/engine/functional.py:386 call\n        inputs, training=training, mask=mask)\n    /Users/mercef02/.virtualenvs/exploration-Tqzb7Mc2/lib/python3.7/site-packages/tensorflow/python/keras/engine/functional.py:508 _run_internal_graph\n        outputs = node.layer(*args, **kwargs)\n    /Users/mercef02/.virtualenvs/exploration-Tqzb7Mc2/lib/python3.7/site-packages/tensorflow/python/keras/engine/base_layer.py:976 __call__\n        self.name)\n    /Users/mercef02/.virtualenvs/exploration-Tqzb7Mc2/lib/python3.7/site-packages/tensorflow/python/keras/engine/input_spec.py:180 assert_input_compatibility\n        str(x.shape.as_list()))\n\n    ValueError: Input 0 of layer body_global_averaging_pooling_layer is incompatible with the layer: expected ndim=3, found ndim=2. Full shape received: [None, 64]\n"
     ]
    }
   ],
   "source": [
    "num_epochs = 10\n",
    "lr = 0.01\n",
    "cached_train = sfv_train.take(256).batch(128).cache()\n",
    "cached_test = sfv_val.take(256).batch(128).cache()\n",
    "cf_one_layer = ItemSimilarityModel(test_candidate_ids=unique_item_ids,\n",
    "                                      features=['item_id', 'body'],\n",
    "                                      feature_dims=[100, 64],\n",
    "                                      unique_item_ids=unique_item_ids,\n",
    "                                      item_body_lookup=body_lookup_table,\n",
    "                                      item_tags_lookup=tags_lookup_table,\n",
    "                                      item_category_lookup=category_lookup_table,\n",
    "                                      item_image_lookup=thumbnail_lookup_table,\n",
    "                                      image_embedding_lookup_table=im_embeddings_lookup,\n",
    "                                      layer_sizes=[])\n",
    "cf_one_layer.compile(optimizer=tf.keras.optimizers.Adagrad(lr))\n",
    "\n",
    "cf_one_layer_history = cf_one_layer.fit(\n",
    "    cached_train,\n",
    "    validation_data=sfv_val,\n",
    "    validation_freq=1,\n",
    "    epochs=num_epochs,\n",
    "    verbose=1)\n",
    "#    callbacks=[tensorboard_callback])\n",
    "\n",
    "print(f'Train accuracy: {one_layer_history.history[\"factorized_top_k/top_100_categorical_accuracy\"][-1]}')   \n",
    "print(f'Validation accuracy: {one_layer_history.history[\"val_factorized_top_k/top_100_categorical_accuracy\"][-1]}')\n",
    "\n",
    "id_metrics = cf_one_layer.evaluate(holdout_logs_tf.batch(128).cache())\n",
    "id_metrics"
   ]
  },
  {
   "cell_type": "markdown",
   "metadata": {},
   "source": [
    "## Are the results sensible?\n"
   ]
  },
  {
   "cell_type": "markdown",
   "metadata": {},
   "source": [
    "## Export embeddings into nearest neighbour index\n",
    "\n",
    "# Let's get the most paired items"
   ]
  },
  {
   "cell_type": "code",
   "execution_count": null,
   "metadata": {
    "pycharm": {
     "name": "#%%\n"
    }
   },
   "outputs": [],
   "source": [
    "\n",
    "\n",
    "\n"
   ]
  },
  {
   "cell_type": "code",
   "execution_count": null,
   "metadata": {
    "pycharm": {
     "name": "#%%\n"
    }
   },
   "outputs": [],
   "source": [
    "item_embeddings = get_dict_of_embeddings(trained_model, unique_item_ids)\n",
    "annoy_index, id_to_uri, uri_to_id = build_annoy_index(item_embeddings)"
   ]
  },
  {
   "cell_type": "code",
   "execution_count": null,
   "metadata": {
    "pycharm": {
     "name": "#%%\n"
    }
   },
   "outputs": [],
   "source": [
    "#query_uri = '/news/technology-53018000'\n",
    "#query_uri = '/sport/football/53805003'\n",
    "#query_uri = '/news/business-10665047'\n",
    "#query_uri = '/news/uk-england-hampshire-53838761'\n",
    "\n",
    "query_uri, groundtruth_uri = vc.index[1].split('_')\n",
    "print(f'query_uri = {query_uri}')\n",
    "print(f'groundtruth_uri = {groundtruth_uri}')\n",
    "\n",
    "rec_uris = generate_model_recs(query_uri, annoy_index, uri_to_id, id_to_uri, uri_to_embedding, es, _es_index, 20)\n",
    "print(f'LITMUS TEST: {groundtruth_uri in rec_uris}')\n",
    "print('-------------------')\n",
    "print('-------------------')\n",
    "\n",
    "for rec in rec_uris:\n",
    "    print_item(rec, es, _es_index)\n",
    "    print('-------------------')\n",
    "\n",
    "\n"
   ]
  },
  {
   "cell_type": "code",
   "execution_count": null,
   "metadata": {
    "pycharm": {
     "name": "#%%\n"
    }
   },
   "outputs": [],
   "source": [
    "# Use brute-force search to set up retrieval using the trained representations.\n",
    "# index = tfrs.layers.ann.BruteForce(trained_model.item_model)\n",
    "# index.index(items_tf.batch(100).map(trained_model.item_model), items_tf)\n",
    "# # Get some recommendations.\n",
    "# query_uri = '/news/business-10665047'\n",
    "# query_uri = '129'\n",
    "# _, titles = index(np.array([query_uri]))\n",
    "# print(f\"Top 3 recommendations for item {query_uri}: {titles[0, :3]}\")"
   ]
  },
  {
   "cell_type": "code",
   "execution_count": null,
   "metadata": {
    "pycharm": {
     "name": "#%%\n"
    }
   },
   "outputs": [],
   "source": [
    "a = request_asset_from_ares()\n",
    "a\n",
    "\n"
   ]
  }
 ],
 "metadata": {
  "kernelspec": {
   "display_name": "deep-recommender-embeddings",
   "language": "python",
   "name": "deep-recommender-embeddings"
  },
  "language_info": {
   "codemirror_mode": {
    "name": "ipython",
    "version": 3
   },
   "file_extension": ".py",
   "mimetype": "text/x-python",
   "name": "python",
   "nbconvert_exporter": "python",
   "pygments_lexer": "ipython3",
   "version": "3.8.6"
  }
 },
 "nbformat": 4,
 "nbformat_minor": 2
}