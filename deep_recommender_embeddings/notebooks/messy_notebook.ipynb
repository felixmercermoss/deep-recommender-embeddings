{
 "cells": [
  {
   "cell_type": "code",
   "execution_count": 1,
   "metadata": {},
   "outputs": [],
   "source": [
    "import sys\n",
    "import os\n",
    "\n",
    "module_path = os.path.abspath(os.path.join(os.pardir, os.pardir))\n",
    "if module_path not in sys.path:\n",
    "    sys.path.append(module_path)"
   ]
  },
  {
   "cell_type": "code",
   "execution_count": 11,
   "metadata": {
    "pycharm": {
     "name": "#%%\n"
    }
   },
   "outputs": [],
   "source": [
    "import os\n",
    "import datetime\n",
    "\n",
    "import pickle\n",
    "\n",
    "import tensorflow as tf\n",
    "import pandas as pd\n",
    "import numpy as np\n",
    "from deep_recommender_embeddings.src.ares import request_asset_from_ares\n",
    "from deep_recommender_embeddings.src.elasticsearch_utils import get_es_instance, get_data_from_es, print_item\n",
    "from deep_recommender_embeddings.src.image_embeddings import generate_image_embeddings\n",
    "from deep_recommender_embeddings.src.models import ItemSimilarityModel\n",
    "from deep_recommender_embeddings.src.plotting import plot_metric\n",
    "from deep_recommender_embeddings.src.tf_utils import get_tf_lookup_table_for_property, get_tf_lookup_for_dict\n",
    "from deep_recommender_embeddings.src.inference import get_dict_of_embeddings, build_annoy_index\n",
    "from deep_recommender_embeddings.src.io import export_embeddings_to_file\n",
    "\n",
    "%matplotlib inline\n",
    "\n",
    "from annoy import AnnoyIndex\n",
    "\n",
    "from deep_recommender_embeddings.src.preprocessing import load_data, clean_data, filter_logs, get_pairs, \\\n",
    "    get_item_pairs_from_journeys, generate_model_recs"
   ]
  },
  {
   "cell_type": "code",
   "execution_count": 3,
   "metadata": {
    "pycharm": {
     "name": "#%%\n"
    }
   },
   "outputs": [],
   "source": [
    "%load_ext autoreload\n",
    "%autoreload 2"
   ]
  },
  {
   "cell_type": "code",
   "execution_count": 4,
   "metadata": {
    "pycharm": {
     "name": "#%%\n"
    }
   },
   "outputs": [],
   "source": [
    "#%reload_ext autoreload\n",
    "\n",
    "#reload(deep_recommender_embeddings.src.tf_utils)"
   ]
  },
  {
   "cell_type": "code",
   "execution_count": 5,
   "metadata": {},
   "outputs": [],
   "source": [
    "import ssl\n",
    "\n",
    "try:\n",
    "    _create_unverified_https_context = ssl._create_unverified_context\n",
    "except AttributeError:\n",
    "    pass\n",
    "else:\n",
    "    ssl._create_default_https_context = _create_unverified_https_context\n"
   ]
  },
  {
   "cell_type": "markdown",
   "metadata": {
    "pycharm": {
     "name": "#%% md\n"
    }
   },
   "source": [
    "## Load content data from ES"
   ]
  },
  {
   "cell_type": "code",
   "execution_count": 6,
   "metadata": {},
   "outputs": [],
   "source": [
    "_es_index = 'sfv_02112020'\n",
    "_es_host = 'localhost'\n",
    "_es_port = '9200'\n",
    "es = get_es_instance(es_host=_es_host, es_port=_es_port)\n",
    "\n",
    "# This is the imaginary date that recommendations will begenerated on\n",
    "prediction_time = \"2020-11-02T00:00:00\"\n",
    "\n",
    "# Business rules usually prevent recs being returned that are older than 90 days so we will only retrieve items\n",
    "# that were published within this time window\n",
    "max_age_days = 90"
   ]
  },
  {
   "cell_type": "markdown",
   "metadata": {
    "pycharm": {
     "name": "#%% md\n"
    }
   },
   "source": [
    "Now let's fetch all the relevant data from elasticsearch. For all items in the publication window we will fetch the id,\n",
    "all the text, the tags, the category and the image url."
   ]
  },
  {
   "cell_type": "code",
   "execution_count": 7,
   "metadata": {
    "pycharm": {
     "name": "#%%\n"
    }
   },
   "outputs": [
    {
     "name": "stdout",
     "output_type": "stream",
     "text": [
      "0\n",
      "1\n",
      "2\n",
      "Grabbed 5060 items from elasticsearch\n"
     ]
    }
   ],
   "source": [
    "features = [\"combinedBodySummaryHeadline\",\"tagsText\", \"articleCategoryName\", \"thumbnailUrl\"]\n",
    "hits = get_data_from_es(es, features, 30000, 5000, prediction_time, max_age_days, _es_index)\n",
    "unique_item_ids = [hit['sort'][0] for hit in hits]\n",
    "print(f'Grabbed {len(unique_item_ids)} items from elasticsearch')"
   ]
  },
  {
   "cell_type": "markdown",
   "metadata": {
    "pycharm": {
     "name": "#%% md\n"
    }
   },
   "source": [
    "### Generate tensorflow lookup tables\n",
    "Tensorflow requires special lookup tables to use in its graph so here we extract the relevant information into these\n",
    "objects."
   ]
  },
  {
   "cell_type": "code",
   "execution_count": 8,
   "metadata": {
    "pycharm": {
     "name": "#%%\n"
    }
   },
   "outputs": [
    {
     "name": "stdout",
     "output_type": "stream",
     "text": [
      "Tensorflow lookup table created for combinedBodySummaryHeadline with 5060 entries.\n",
      "Tensorflow lookup table created for tagsText with 3544 entries.\n",
      "Tensorflow lookup table created for articleCategoryName with 4527 entries.\n",
      "Tensorflow lookup table created for thumbnailUrl with 5060 entries.\n"
     ]
    }
   ],
   "source": [
    "body_lookup_table, _ = get_tf_lookup_table_for_property(hits, \"combinedBodySummaryHeadline\", clean=True)\n",
    "tags_lookup_table, _ = get_tf_lookup_table_for_property(hits, \"tagsText\")\n",
    "category_lookup_table, unique_categories = get_tf_lookup_table_for_property(hits, \"articleCategoryName\")\n",
    "thumbnail_lookup_table, _ = get_tf_lookup_table_for_property(hits, \"thumbnailUrl\")"
   ]
  },
  {
   "cell_type": "markdown",
   "metadata": {
    "pycharm": {
     "name": "#%% md\n"
    }
   },
   "source": [
    "### Generate image embeddings with pretrained model and save\n"
   ]
  },
  {
   "cell_type": "code",
   "execution_count": 12,
   "metadata": {
    "pycharm": {
     "name": "#%%\n"
    }
   },
   "outputs": [],
   "source": [
    "model_link = 'https://tfhub.dev/google/imagenet/mobilenet_v2_140_224/feature_vector/4'\n",
    "embeddings_fpath = '../data/embeddings/image/mobilenet_v2_140_224.pk'\n",
    "IMAGE_SHAPE = (224,224)\n",
    "generate_embeddings = False\n",
    "\n",
    "if generate_embeddings:\n",
    "    im_embeddings = generate_image_embeddings(model_link, thumbnail_lookup_table, IMAGE_SHAPE, unique_item_ids)\n",
    "    export_embeddings_to_file(im_embeddings, embeddings_fpath)\n",
    "else:\n",
    "    with open(embeddings_fpath, 'rb') as f:\n",
    "        im_embeddings = pickle.load(f)"
   ]
  },
  {
   "cell_type": "code",
   "execution_count": 13,
   "metadata": {
    "pycharm": {
     "name": "#%%\n"
    }
   },
   "outputs": [
    {
     "name": "stdout",
     "output_type": "stream",
     "text": [
      "Tensorflow lookup table created for vector dim=(1792,) with 5060 entries.\n"
     ]
    }
   ],
   "source": [
    "im_vec_lookup_table = get_tf_lookup_for_dict(im_embeddings)\n"
   ]
  },
  {
   "cell_type": "code",
   "execution_count": 14,
   "metadata": {
    "pycharm": {
     "name": "#%%\n"
    }
   },
   "outputs": [],
   "source": [
    "# inp = body_lookup_table.lookup(tf.convert_to_tensor(['/news/uk-england-nottinghamshire-54731548', '/news/election-us-2020-54754797']))\n",
    "# TEXT_MODEL_LINK = 'https://tfhub.dev/tensorflow/albert_en_large/2'\n",
    "# #TEXT_MODEL_LINK = 'https://tfhub.dev/google/nnlm-en-dim50/2'\n",
    "# TEXT_MODEL_LINK = 'https://tfhub.dev/tensorflow/small_bert/bert_en_uncased_L-12_H-128_A-2/1'\n",
    "\n",
    "# text_model_embedding = tf.keras.Sequential([\n",
    "#     hub.KerasLayer(TEXT_MODEL_LINK,input_shape=[],\n",
    "#                 dtype=tf.string, trainable=False),\n",
    "# #    tf.keras.layers.Embedding(input_dim=50, output_dim=embedding_dim, name=\"text_model_embedding_layer\"),\n",
    "# #    tf.keras.layers.GlobalAveragePooling1D(name=\"text_model_global_averaging_pooling_layer\")\n",
    "#     ])\n",
    "# text_model_embedding(inp)\n"
   ]
  },
  {
   "cell_type": "markdown",
   "metadata": {
    "pycharm": {
     "name": "#%% md\n"
    }
   },
   "source": [
    "## Load the user data\n",
    "Load the vocabulary of the of item IDs into a tensorflow dataset."
   ]
  },
  {
   "cell_type": "code",
   "execution_count": 15,
   "metadata": {},
   "outputs": [],
   "source": [
    "DATA_PATH = '/Users/mercef02/Projects/datasets_models/sfv_user_user_zoom_20201026_20201102/sfv_user*' #'/Users/mercef02/Projects/datasets/sfv_user_week_compact/*.csv'\n",
    "logs = load_data(d_path=DATA_PATH, stop_after_n_files=3)\n",
    "logs = clean_data(logs)"
   ]
  },
  {
   "cell_type": "code",
   "execution_count": 16,
   "metadata": {
    "pycharm": {
     "name": "#%%\n"
    }
   },
   "outputs": [
    {
     "name": "stdout",
     "output_type": "stream",
     "text": [
      "Original interactions: 7052134\n",
      "Date filtered interactions: 1772802\n",
      "Minimum mention filtered interactions  : 1690846\n",
      "Interactions filtered for items existing in ES : 1241746\n"
     ]
    }
   ],
   "source": [
    "min_date = pd.to_datetime('2020-10-31T00:00:00')\n",
    "max_date = pd.to_datetime('2020-11-01T11:59:59')\n",
    "min_mentions = 5\n",
    "train_logs = filter_logs(logs, min_date, max_date, min_mentions, unique_item_ids)"
   ]
  },
  {
   "cell_type": "markdown",
   "metadata": {
    "pycharm": {
     "name": "#%% md\n"
    }
   },
   "source": [
    "### Generate item pairs \n",
    "The input for the model is pairs of consecutively consumed items so next we need to convert the journeys into item pairs"
   ]
  },
  {
   "cell_type": "code",
   "execution_count": 17,
   "metadata": {},
   "outputs": [
    {
     "name": "stdout",
     "output_type": "stream",
     "text": [
      "Total number of item pairs: 242245\n"
     ]
    }
   ],
   "source": [
    "train_pairs = get_item_pairs_from_journeys(train_logs)\n",
    "train_pairs_df = pd.DataFrame(train_pairs)\n",
    "train_logs_tf = tf.data.Dataset.from_tensor_slices(dict(train_pairs_df))"
   ]
  },
  {
   "cell_type": "markdown",
   "metadata": {},
   "source": [
    "Let's visualise what some of these pairs of items look like that will be useful later for a sanity check."
   ]
  },
  {
   "cell_type": "code",
   "execution_count": 18,
   "metadata": {},
   "outputs": [
    {
     "data": {
      "text/html": [
       "<div>\n",
       "<style scoped>\n",
       "    .dataframe tbody tr th:only-of-type {\n",
       "        vertical-align: middle;\n",
       "    }\n",
       "\n",
       "    .dataframe tbody tr th {\n",
       "        vertical-align: top;\n",
       "    }\n",
       "\n",
       "    .dataframe thead th {\n",
       "        text-align: right;\n",
       "    }\n",
       "</style>\n",
       "<table border=\"1\" class=\"dataframe\">\n",
       "  <thead>\n",
       "    <tr style=\"text-align: right;\">\n",
       "      <th></th>\n",
       "      <th>item_a</th>\n",
       "      <th>item_b</th>\n",
       "      <th>shingled</th>\n",
       "    </tr>\n",
       "  </thead>\n",
       "  <tbody>\n",
       "    <tr>\n",
       "      <th>0</th>\n",
       "      <td>/news/world-us-canada-54754415</td>\n",
       "      <td>/news/election-us-2020-54757538</td>\n",
       "      <td>/news/world-us-canada-54754415_/news/election-...</td>\n",
       "    </tr>\n",
       "    <tr>\n",
       "      <th>1</th>\n",
       "      <td>/news/world-us-canada-54745441</td>\n",
       "      <td>/news/world-europe-54764386</td>\n",
       "      <td>/news/world-us-canada-54745441_/news/world-eur...</td>\n",
       "    </tr>\n",
       "    <tr>\n",
       "      <th>2</th>\n",
       "      <td>/sport/rugby-union/54763014</td>\n",
       "      <td>/sport/rugby-union/54765801</td>\n",
       "      <td>/sport/rugby-union/54763014_/sport/rugby-union...</td>\n",
       "    </tr>\n",
       "    <tr>\n",
       "      <th>3</th>\n",
       "      <td>/sport/boxing/54742612</td>\n",
       "      <td>/news/uk-england-nottinghamshire-54731548</td>\n",
       "      <td>/sport/boxing/54742612_/news/uk-england-nottin...</td>\n",
       "    </tr>\n",
       "    <tr>\n",
       "      <th>4</th>\n",
       "      <td>/news/uk-54761037</td>\n",
       "      <td>/news/world-europe-54764386</td>\n",
       "      <td>/news/uk-54761037_/news/world-europe-54764386</td>\n",
       "    </tr>\n",
       "  </tbody>\n",
       "</table>\n",
       "</div>"
      ],
      "text/plain": [
       "                           item_a                                     item_b  \\\n",
       "0  /news/world-us-canada-54754415            /news/election-us-2020-54757538   \n",
       "1  /news/world-us-canada-54745441                /news/world-europe-54764386   \n",
       "2     /sport/rugby-union/54763014                /sport/rugby-union/54765801   \n",
       "3          /sport/boxing/54742612  /news/uk-england-nottinghamshire-54731548   \n",
       "4               /news/uk-54761037                /news/world-europe-54764386   \n",
       "\n",
       "                                            shingled  \n",
       "0  /news/world-us-canada-54754415_/news/election-...  \n",
       "1  /news/world-us-canada-54745441_/news/world-eur...  \n",
       "2  /sport/rugby-union/54763014_/sport/rugby-union...  \n",
       "3  /sport/boxing/54742612_/news/uk-england-nottin...  \n",
       "4      /news/uk-54761037_/news/world-europe-54764386  "
      ]
     },
     "execution_count": 18,
     "metadata": {},
     "output_type": "execute_result"
    }
   ],
   "source": [
    "train_pairs_df['shingled'] = train_pairs_df['item_a'] + '_' + train_pairs_df['item_b']\n",
    "vc = train_pairs_df.shingled.value_counts()\n",
    "train_pairs_df.head()"
   ]
  },
  {
   "cell_type": "code",
   "execution_count": 19,
   "metadata": {
    "pycharm": {
     "name": "#%%\n"
    }
   },
   "outputs": [
    {
     "data": {
      "text/plain": [
       "<AxesSubplot:>"
      ]
     },
     "execution_count": 19,
     "metadata": {},
     "output_type": "execute_result"
    },
    {
     "data": {
      "image/png": "[encoded data removed]",
      "text/plain": [
       "<Figure size 432x288 with 1 Axes>"
      ]
     },
     "metadata": {
      "needs_background": "light"
     },
     "output_type": "display_data"
    }
   ],
   "source": [
    "# Here we are visualising the histogram of the item pairs ordered by their frequency.\n",
    "vc.head(20).plot(kind='bar')"
   ]
  },
  {
   "cell_type": "markdown",
   "metadata": {
    "pycharm": {
     "name": "#%% md\n"
    }
   },
   "source": [
    "### Holdout data"
   ]
  },
  {
   "cell_type": "code",
   "execution_count": 20,
   "metadata": {},
   "outputs": [
    {
     "name": "stdout",
     "output_type": "stream",
     "text": [
      "Original interactions: 7052134\n",
      "Date filtered interactions: 746980\n",
      "Minimum mention filtered interactions  : 698555\n",
      "Interactions filtered for items existing in ES : 505485\n",
      "Total number of item pairs: 70631\n",
      "Total number of holdout item pairs: 70631\n"
     ]
    }
   ],
   "source": [
    "\n",
    "min_date = pd.to_datetime('2020-11-01T12:00:00')\n",
    "max_date = pd.to_datetime('2020-11-02T00:00:00')\n",
    "min_mentions = 5\n",
    "holdout_logs = filter_logs(logs, min_date, max_date, min_mentions, unique_item_ids)\n",
    "holdout_pairs = get_item_pairs_from_journeys(holdout_logs)\n",
    "print(f\"Total number of holdout item pairs: {len(holdout_pairs)}\")\n",
    "holdout_logs_tf = tf.data.Dataset.from_tensor_slices(dict(pd.DataFrame(holdout_pairs)))"
   ]
  },
  {
   "cell_type": "markdown",
   "metadata": {},
   "source": [
    "## Train/Test Split"
   ]
  },
  {
   "cell_type": "code",
   "execution_count": 21,
   "metadata": {
    "pycharm": {
     "name": "#%%\n"
    }
   },
   "outputs": [
    {
     "name": "stdout",
     "output_type": "stream",
     "text": [
      "Number of train pairs: 218020\n",
      "Number of test pairs: 24225\n"
     ]
    }
   ],
   "source": [
    "tf.random.set_seed(42)\n",
    "training_shuffled = train_logs_tf.shuffle(buffer_size=100_000, seed=42, reshuffle_each_iteration=False)\n",
    "train_pc = 0.9\n",
    "test_pc = 0.1\n",
    "sfv_train = training_shuffled.take(np.floor(len(training_shuffled)*train_pc))\n",
    "sfv_val = training_shuffled.skip(np.floor(len(training_shuffled)*train_pc))\n",
    "print(f'Number of train pairs: {len(sfv_train)}')\n",
    "print(f'Number of test pairs: {len(sfv_val)}')\n"
   ]
  },
  {
   "cell_type": "markdown",
   "metadata": {},
   "source": [
    "## Training"
   ]
  },
  {
   "cell_type": "code",
   "execution_count": null,
   "metadata": {},
   "outputs": [
    {
     "name": "stdout",
     "output_type": "stream",
     "text": [
      "Epoch 1/10\n",
      "WARNING:tensorflow:The dtype of the source tensor must be floating (e.g. tf.float32) when calling GradientTape.gradient, got tf.int32\n",
      "WARNING:tensorflow:Gradients do not exist for variables ['counter:0'] when minimizing the loss.\n",
      "WARNING:tensorflow:The dtype of the source tensor must be floating (e.g. tf.float32) when calling GradientTape.gradient, got tf.int32\n",
      "WARNING:tensorflow:Gradients do not exist for variables ['counter:0'] when minimizing the loss.\n",
      "1704/1704 [==============================] - 175s 100ms/step - factorized_top_k/top_1_categorical_accuracy: 0.0000e+00 - factorized_top_k/top_5_categorical_accuracy: 0.0671 - factorized_top_k/top_10_categorical_accuracy: 0.0969 - factorized_top_k/top_50_categorical_accuracy: 0.1658 - factorized_top_k/top_100_categorical_accuracy: 0.2070 - loss: 9.0311 - regularization_loss: 0.0000e+00 - total_loss: 9.0311 - val_factorized_top_k/top_1_categorical_accuracy: 0.0000e+00 - val_factorized_top_k/top_5_categorical_accuracy: 0.0768 - val_factorized_top_k/top_10_categorical_accuracy: 0.1145 - val_factorized_top_k/top_50_categorical_accuracy: 0.1781 - val_factorized_top_k/top_100_categorical_accuracy: 0.2376 - val_loss: 6.9544 - val_regularization_loss: 0.0000e+00 - val_total_loss: 6.9544\n",
      "Epoch 2/10\n",
      " 149/1704 [=>............................] - ETA: 1:40 - factorized_top_k/top_1_categorical_accuracy: 0.0000e+00 - factorized_top_k/top_5_categorical_accuracy: 0.0816 - factorized_top_k/top_10_categorical_accuracy: 0.1186 - factorized_top_k/top_50_categorical_accuracy: 0.1887 - factorized_top_k/top_100_categorical_accuracy: 0.2401 - loss: 8.9748 - regularization_loss: 0.0000e+00 - total_loss: 8.9748"
     ]
    }
   ],
   "source": [
    "model_link = 'https://tfhub.dev/google/nnlm-en-dim50/2'\n",
    "model = {\"format\": \"text\", \"link\": model_link}\n",
    "num_epochs = 10\n",
    "lr = 0.01\n",
    "cached_train = sfv_train.batch(128).cache()\n",
    "cached_test = sfv_val.batch(128).cache()\n",
    "model_one_layer = ItemSimilarityModel(test_candidate_ids=unique_item_ids,\n",
    "                                      features=['item_id'],\n",
    "                                      feature_dims=[64],\n",
    "                                      unique_item_ids=unique_item_ids,\n",
    "                                      item_body_lookup=body_lookup_table,\n",
    "                                      item_tags_lookup=tags_lookup_table,\n",
    "                                      item_category_lookup=category_lookup_table,\n",
    "                                      image_embedding_lookup_table=im_vec_lookup_table,\n",
    "                                      layer_sizes=[],\n",
    "                                      pretrained_text_model=model_link)\n",
    "model_one_layer.compile(optimizer=tf.keras.optimizers.Adagrad(lr))\n",
    "\n",
    "one_layer_history = model_one_layer.fit(\n",
    "    cached_train,\n",
    "    validation_data=cached_test,\n",
    "    validation_freq=1,\n",
    "    epochs=num_epochs,\n",
    "    verbose=1)\n",
    "\n",
    "\n",
    "print(f'Train accuracy: {one_layer_history.history[\"factorized_top_k/top_100_categorical_accuracy\"][-1]}')   \n",
    "print(f'Validation accuracy: {one_layer_history.history[\"val_factorized_top_k/top_100_categorical_accuracy\"][-1]}')\n",
    "plot_metric(one_layer_history, 'factorized_top_k/top_100_categorical_accuracy')\n",
    "print(\"Hold out metrics:\")\n",
    "metrics = model_one_layer.evaluate(holdout_logs_tf.batch(128).cache())\n",
    "print(f'Holdout accuracy: {metrics[4]}')\n",
    "metrics\n"
   ]
  },
  {
   "cell_type": "code",
   "execution_count": 169,
   "metadata": {},
   "outputs": [
    {
     "name": "stdout",
     "output_type": "stream",
     "text": [
      "Epoch 1/4\n",
      "WARNING:tensorflow:The dtype of the source tensor must be floating (e.g. tf.float32) when calling GradientTape.gradient, got tf.int32\n",
      "WARNING:tensorflow:Gradients do not exist for variables ['counter:0'] when minimizing the loss.\n",
      "WARNING:tensorflow:The dtype of the source tensor must be floating (e.g. tf.float32) when calling GradientTape.gradient, got tf.int32\n",
      "WARNING:tensorflow:Gradients do not exist for variables ['counter:0'] when minimizing the loss.\n",
      "1704/1704 [==============================] - 135s 79ms/step - factorized_top_k/top_1_categorical_accuracy: 0.0000e+00 - factorized_top_k/top_5_categorical_accuracy: 0.0894 - factorized_top_k/top_10_categorical_accuracy: 0.1382 - factorized_top_k/top_50_categorical_accuracy: 0.2286 - factorized_top_k/top_100_categorical_accuracy: 0.2742 - loss: 8.8587 - regularization_loss: 0.0000e+00 - total_loss: 8.8587 - val_factorized_top_k/top_1_categorical_accuracy: 0.0000e+00 - val_factorized_top_k/top_5_categorical_accuracy: 0.1185 - val_factorized_top_k/top_10_categorical_accuracy: 0.1727 - val_factorized_top_k/top_50_categorical_accuracy: 0.2697 - val_factorized_top_k/top_100_categorical_accuracy: 0.3146 - val_loss: 6.6314 - val_regularization_loss: 0.0000e+00 - val_total_loss: 6.6314\n",
      "Epoch 2/4\n",
      "1704/1704 [==============================] - 130s 76ms/step - factorized_top_k/top_1_categorical_accuracy: 0.0000e+00 - factorized_top_k/top_5_categorical_accuracy: 0.1069 - factorized_top_k/top_10_categorical_accuracy: 0.1634 - factorized_top_k/top_50_categorical_accuracy: 0.2750 - factorized_top_k/top_100_categorical_accuracy: 0.3360 - loss: 8.8663 - regularization_loss: 0.0000e+00 - total_loss: 8.8663 - val_factorized_top_k/top_1_categorical_accuracy: 0.0000e+00 - val_factorized_top_k/top_5_categorical_accuracy: 0.1109 - val_factorized_top_k/top_10_categorical_accuracy: 0.1674 - val_factorized_top_k/top_50_categorical_accuracy: 0.2787 - val_factorized_top_k/top_100_categorical_accuracy: 0.3478 - val_loss: 7.0820 - val_regularization_loss: 0.0000e+00 - val_total_loss: 7.0820\n",
      "Epoch 3/4\n",
      "1704/1704 [==============================] - 129s 76ms/step - factorized_top_k/top_1_categorical_accuracy: 0.0000e+00 - factorized_top_k/top_5_categorical_accuracy: 0.1054 - factorized_top_k/top_10_categorical_accuracy: 0.1629 - factorized_top_k/top_50_categorical_accuracy: 0.2887 - factorized_top_k/top_100_categorical_accuracy: 0.3589 - loss: 8.8685 - regularization_loss: 0.0000e+00 - total_loss: 8.8685 - val_factorized_top_k/top_1_categorical_accuracy: 0.0000e+00 - val_factorized_top_k/top_5_categorical_accuracy: 0.1026 - val_factorized_top_k/top_10_categorical_accuracy: 0.1605 - val_factorized_top_k/top_50_categorical_accuracy: 0.2870 - val_factorized_top_k/top_100_categorical_accuracy: 0.3603 - val_loss: 7.5878 - val_regularization_loss: 0.0000e+00 - val_total_loss: 7.5878\n",
      "Epoch 4/4\n",
      "1704/1704 [==============================] - 130s 76ms/step - factorized_top_k/top_1_categorical_accuracy: 0.0000e+00 - factorized_top_k/top_5_categorical_accuracy: 0.0994 - factorized_top_k/top_10_categorical_accuracy: 0.1570 - factorized_top_k/top_50_categorical_accuracy: 0.2823 - factorized_top_k/top_100_categorical_accuracy: 0.3554 - loss: 8.8800 - regularization_loss: 0.0000e+00 - total_loss: 8.8800 - val_factorized_top_k/top_1_categorical_accuracy: 0.0000e+00 - val_factorized_top_k/top_5_categorical_accuracy: 0.1012 - val_factorized_top_k/top_10_categorical_accuracy: 0.1593 - val_factorized_top_k/top_50_categorical_accuracy: 0.2691 - val_factorized_top_k/top_100_categorical_accuracy: 0.3384 - val_loss: 7.5851 - val_regularization_loss: 0.0000e+00 - val_total_loss: 7.5851\n",
      "Train accuracy: 0.3554352819919586\n",
      "Validation accuracy: 0.33841073513031006\n",
      "Hold out metrics:\n",
      "552/552 [==============================] - 39s 70ms/step - factorized_top_k/top_1_categorical_accuracy: 0.0000e+00 - factorized_top_k/top_5_categorical_accuracy: 0.1033 - factorized_top_k/top_10_categorical_accuracy: 0.1568 - factorized_top_k/top_50_categorical_accuracy: 0.2748 - factorized_top_k/top_100_categorical_accuracy: 0.3038 - loss: 8.3316 - regularization_loss: 0.0000e+00 - total_loss: 8.3316\n",
      "Holdout accuracy: 0.3037901222705841\n"
     ]
    },
    {
     "data": {
      "text/plain": [
       "[0.0,\n",
       " 0.10326910018920898,\n",
       " 0.15684331953525543,\n",
       " 0.27480852603912354,\n",
       " 0.3037901222705841,\n",
       " 7.579155921936035,\n",
       " 0,\n",
       " 7.579155921936035]"
      ]
     },
     "execution_count": 169,
     "metadata": {},
     "output_type": "execute_result"
    },
    {
     "data": {
      "image/png": "[encoded data removed]",
      "text/plain": [
       "<Figure size 432x288 with 1 Axes>"
      ]
     },
     "metadata": {
      "needs_background": "light"
     },
     "output_type": "display_data"
    }
   ],
   "source": [
    "model_link = 'https://tfhub.dev/google/nnlm-en-dim50/2'\n",
    "model = {\"format\": \"text\", \"link\": model_link}\n",
    "num_epochs = 4\n",
    "lr = 0.01\n",
    "cached_train = sfv_train.batch(128).cache()\n",
    "cached_test = sfv_val.batch(128).cache()\n",
    "model_one_layer = ItemSimilarityModel(test_candidate_ids=unique_item_ids,\n",
    "                                      features=['item_id' ],\n",
    "                                      feature_dims=[100],\n",
    "                                      unique_item_ids=unique_item_ids,\n",
    "                                      item_body_lookup=body_lookup_table,\n",
    "                                      item_tags_lookup=tags_lookup_table,\n",
    "                                      item_category_lookup=category_lookup_table,\n",
    "                                      image_embedding_lookup_table=im_vec_lookup_table,\n",
    "                                      layer_sizes=[],\n",
    "                                      pretrained_text_model=model_link)\n",
    "model_one_layer.compile(optimizer=tf.keras.optimizers.Adagrad(lr))\n",
    "\n",
    "one_layer_history = model_one_layer.fit(\n",
    "    cached_train,\n",
    "    validation_data=cached_test,\n",
    "    validation_freq=1,\n",
    "    epochs=num_epochs,\n",
    "    verbose=1)\n",
    "\n",
    "\n",
    "print(f'Train accuracy: {one_layer_history.history[\"factorized_top_k/top_100_categorical_accuracy\"][-1]}')   \n",
    "print(f'Validation accuracy: {one_layer_history.history[\"val_factorized_top_k/top_100_categorical_accuracy\"][-1]}')\n",
    "plot_metric(one_layer_history, 'factorized_top_k/top_100_categorical_accuracy')\n",
    "print(\"Hold out metrics:\")\n",
    "metrics = model_one_layer.evaluate(holdout_logs_tf.batch(128).cache())\n",
    "print(f'Holdout accuracy: {metrics[4]}')\n",
    "metrics\n"
   ]
  },
  {
   "cell_type": "code",
   "execution_count": 170,
   "metadata": {},
   "outputs": [],
   "source": [
    "save_embeddings_fpath = '../data/embeddings/trained/item_id_100.pkl'\n",
    "item_embeddings = get_dict_of_embeddings(model_one_layer, unique_item_ids, save_fpath=save_embeddings_fpath)\n",
    "annoy_index, id_to_uri, uri_to_id = build_annoy_index(item_embeddings)"
   ]
  },
  {
   "cell_type": "code",
   "execution_count": 171,
   "metadata": {},
   "outputs": [
    {
     "name": "stdout",
     "output_type": "stream",
     "text": [
      "query_uri = /news/uk-england-manchester-54730059\n",
      "groundtruth_uri = /news/uk-54761037\n",
      "Generating recommendations for:\n",
      "/news/uk-england-manchester-54730059 \n",
      " A man who refused to protect himself says his views were changed by a battle with Covid-19.\n",
      "-------------------\n",
      "-------------------\n",
      "LITMUS TEST: False\n",
      "-------------------\n",
      "-------------------\n",
      "/news/uk-england-manchester-54730059 \n",
      " A man who refused to protect himself says his views were changed by a battle with Covid-19.\n",
      "-------------------\n",
      "/news/uk-england-54708593 \n",
      " John Myatt wore a Roman helmet and his best pair of trunks to complete the 73-mile walk.\n",
      "-------------------\n",
      "/news/stories-54737460 \n",
      " The racism and abuse suffered by thousands of children born to African-American fathers and white German mothers in post-war Germany.\n",
      "-------------------\n",
      "/news/uk-england-tyne-54736028 \n",
      " A woman turns her garden into a huge Halloween display in memory of her daughter.\n",
      "-------------------\n",
      "/news/world-europe-53802226 \n",
      " Crowds gathered in the Spanish capital on Sunday to protest against the mandatory use of face masks.\n",
      "-------------------\n",
      "/news/uk-england-cambridgeshire-53744376 \n",
      " A mum whose cancer returned while expecting a second child walks the streets in glitter for charity.\n",
      "-------------------\n",
      "/news/uk-england-london-54153493 \n",
      " A man has died and an 11-year-old child is critically ill after a lorry crashed into a house.\n",
      "-------------------\n",
      "/news/health-52382236 \n",
      " The BBC looks at the work needed to create a coronavirus vaccine and when one might be ready.\n",
      "-------------------\n",
      "/news/world-asia-china-54269046 \n",
      " Breeding snakes and types of rat for food or medicine is a source of income for some of China's poorest people.\n",
      "-------------------\n",
      "/news/uk-politics-53209836 \n",
      " Home Secretary Priti Patel says localised lockdowns could be used to control coronavirus flare-ups.\n",
      "-------------------\n",
      "/sport/rugby-union/54765032 \n",
      " Wales prop Rhys Carre's joy at his first try for Wales is tempered by their loss to Scotland.\n",
      "-------------------\n",
      "/news/world-africa-54031971 \n",
      " Disposal of PPE used in the fight against Covid-19 is creating a safety and environmental challenge in Kenya.\n",
      "-------------------\n",
      "/news/uk-england-beds-bucks-herts-54434421 \n",
      " The sons, who were consoling their grieving mother, were told to move away due to social distancing.\n",
      "-------------------\n",
      "/news/world-asia-54206824 \n",
      " Thousands of devices are being distributed to vulnerable groups such as the elderly.\n",
      "-------------------\n",
      "/news/world-us-canada-51678644 \n",
      " These first-time voters are part of a Latino electorate that has tripled in size since 2000.\n",
      "-------------------\n",
      "/sport/football/54731982 \n",
      " Manchester United manager Ole Gunnar Solskjaer praises striker Marcus Rashford for showing he can keep focused \"on what's important\" on and off the pitch.\n",
      "-------------------\n",
      "/news/uk-wales-54751375 \n",
      " The first minister says they were not sufficient to deal with the \"onslaught\" of the virus.\n",
      "-------------------\n",
      "/news/uk-england-tyne-54747785 \n",
      " Artist Amy Kirby decorates her house in horror characters to give people \"a good scare\".\n",
      "-------------------\n",
      "/sport/snooker/53800912 \n",
      " Kyren Wilson and Ronnie O'Sullivan have very different reactions as disco music is accidently piped into the Crucible arena in between frames of the World Snooker Championship final.\n",
      "-------------------\n",
      "/sport/football/54765429 \n",
      " Hibernian manager Jack Ross says his players are hurting after their 2-1 extra-time defeat to Hearts in the Scottish Cup semi-final.\n",
      "-------------------\n"
     ]
    }
   ],
   "source": [
    "query_uri, groundtruth_uri = vc.index[4].split('_')\n",
    "print(f'query_uri = {query_uri}')\n",
    "print(f'groundtruth_uri = {groundtruth_uri}')\n",
    "\n",
    "rec_uris = generate_model_recs(query_uri, annoy_index, uri_to_id, id_to_uri, item_embeddings, es, _es_index, 20)\n",
    "print(f'LITMUS TEST: {groundtruth_uri in rec_uris}')\n",
    "print('-------------------')\n",
    "print('-------------------')\n",
    "\n",
    "for rec in rec_uris:\n",
    "    print_item(rec, es, _es_index)\n",
    "    print('-------------------')"
   ]
  },
  {
   "cell_type": "code",
   "execution_count": 172,
   "metadata": {},
   "outputs": [
    {
     "name": "stdout",
     "output_type": "stream",
     "text": [
      "Epoch 1/10\n",
      "WARNING:tensorflow:The dtype of the source tensor must be floating (e.g. tf.float32) when calling GradientTape.gradient, got tf.int32\n",
      "WARNING:tensorflow:Gradients do not exist for variables ['counter:0'] when minimizing the loss.\n",
      "WARNING:tensorflow:The dtype of the source tensor must be floating (e.g. tf.float32) when calling GradientTape.gradient, got tf.int32\n",
      "WARNING:tensorflow:Gradients do not exist for variables ['counter:0'] when minimizing the loss.\n",
      "1704/1704 [==============================] - 552s 323ms/step - factorized_top_k/top_1_categorical_accuracy: 0.0160 - factorized_top_k/top_5_categorical_accuracy: 0.0962 - factorized_top_k/top_10_categorical_accuracy: 0.1391 - factorized_top_k/top_50_categorical_accuracy: 0.2477 - factorized_top_k/top_100_categorical_accuracy: 0.3174 - loss: 4.4145 - regularization_loss: 0.0000e+00 - total_loss: 4.4145 - val_factorized_top_k/top_1_categorical_accuracy: 0.0304 - val_factorized_top_k/top_5_categorical_accuracy: 0.1051 - val_factorized_top_k/top_10_categorical_accuracy: 0.1408 - val_factorized_top_k/top_50_categorical_accuracy: 0.2565 - val_factorized_top_k/top_100_categorical_accuracy: 0.3404 - val_loss: 2.8968 - val_regularization_loss: 0.0000e+00 - val_total_loss: 2.8968\n",
      "Epoch 2/10\n",
      "1704/1704 [==============================] - 529s 310ms/step - factorized_top_k/top_1_categorical_accuracy: 0.0215 - factorized_top_k/top_5_categorical_accuracy: 0.1100 - factorized_top_k/top_10_categorical_accuracy: 0.1540 - factorized_top_k/top_50_categorical_accuracy: 0.2893 - factorized_top_k/top_100_categorical_accuracy: 0.3736 - loss: 4.3417 - regularization_loss: 0.0000e+00 - total_loss: 4.3417 - val_factorized_top_k/top_1_categorical_accuracy: 0.0348 - val_factorized_top_k/top_5_categorical_accuracy: 0.1127 - val_factorized_top_k/top_10_categorical_accuracy: 0.1571 - val_factorized_top_k/top_50_categorical_accuracy: 0.2704 - val_factorized_top_k/top_100_categorical_accuracy: 0.3730 - val_loss: 2.9077 - val_regularization_loss: 0.0000e+00 - val_total_loss: 2.9077\n",
      "Epoch 3/10\n",
      "1704/1704 [==============================] - 507s 298ms/step - factorized_top_k/top_1_categorical_accuracy: 0.0207 - factorized_top_k/top_5_categorical_accuracy: 0.1058 - factorized_top_k/top_10_categorical_accuracy: 0.1537 - factorized_top_k/top_50_categorical_accuracy: 0.2909 - factorized_top_k/top_100_categorical_accuracy: 0.3824 - loss: 4.3288 - regularization_loss: 0.0000e+00 - total_loss: 4.3288 - val_factorized_top_k/top_1_categorical_accuracy: 0.0247 - val_factorized_top_k/top_5_categorical_accuracy: 0.1072 - val_factorized_top_k/top_10_categorical_accuracy: 0.1556 - val_factorized_top_k/top_50_categorical_accuracy: 0.2870 - val_factorized_top_k/top_100_categorical_accuracy: 0.3922 - val_loss: 2.8903 - val_regularization_loss: 0.0000e+00 - val_total_loss: 2.8903\n",
      "Epoch 4/10\n",
      "1704/1704 [==============================] - 511s 300ms/step - factorized_top_k/top_1_categorical_accuracy: 0.0198 - factorized_top_k/top_5_categorical_accuracy: 0.1055 - factorized_top_k/top_10_categorical_accuracy: 0.1552 - factorized_top_k/top_50_categorical_accuracy: 0.2895 - factorized_top_k/top_100_categorical_accuracy: 0.3840 - loss: 4.3216 - regularization_loss: 0.0000e+00 - total_loss: 4.3216 - val_factorized_top_k/top_1_categorical_accuracy: 0.0323 - val_factorized_top_k/top_5_categorical_accuracy: 0.1129 - val_factorized_top_k/top_10_categorical_accuracy: 0.1520 - val_factorized_top_k/top_50_categorical_accuracy: 0.2976 - val_factorized_top_k/top_100_categorical_accuracy: 0.4003 - val_loss: 2.8556 - val_regularization_loss: 0.0000e+00 - val_total_loss: 2.8556\n",
      "Epoch 5/10\n",
      "1704/1704 [==============================] - 509s 299ms/step - factorized_top_k/top_1_categorical_accuracy: 0.0194 - factorized_top_k/top_5_categorical_accuracy: 0.1054 - factorized_top_k/top_10_categorical_accuracy: 0.1548 - factorized_top_k/top_50_categorical_accuracy: 0.2864 - factorized_top_k/top_100_categorical_accuracy: 0.3859 - loss: 4.3163 - regularization_loss: 0.0000e+00 - total_loss: 4.3163 - val_factorized_top_k/top_1_categorical_accuracy: 0.0324 - val_factorized_top_k/top_5_categorical_accuracy: 0.1120 - val_factorized_top_k/top_10_categorical_accuracy: 0.1578 - val_factorized_top_k/top_50_categorical_accuracy: 0.2951 - val_factorized_top_k/top_100_categorical_accuracy: 0.3850 - val_loss: 2.8720 - val_regularization_loss: 0.0000e+00 - val_total_loss: 2.8720\n",
      "Epoch 6/10\n",
      "1704/1704 [==============================] - 511s 300ms/step - factorized_top_k/top_1_categorical_accuracy: 0.0189 - factorized_top_k/top_5_categorical_accuracy: 0.1040 - factorized_top_k/top_10_categorical_accuracy: 0.1554 - factorized_top_k/top_50_categorical_accuracy: 0.2847 - factorized_top_k/top_100_categorical_accuracy: 0.3870 - loss: 4.3127 - regularization_loss: 0.0000e+00 - total_loss: 4.3127 - val_factorized_top_k/top_1_categorical_accuracy: 0.0240 - val_factorized_top_k/top_5_categorical_accuracy: 0.1114 - val_factorized_top_k/top_10_categorical_accuracy: 0.1582 - val_factorized_top_k/top_50_categorical_accuracy: 0.2923 - val_factorized_top_k/top_100_categorical_accuracy: 0.3754 - val_loss: 2.8674 - val_regularization_loss: 0.0000e+00 - val_total_loss: 2.8674\n",
      "Epoch 7/10\n",
      "1704/1704 [==============================] - 513s 301ms/step - factorized_top_k/top_1_categorical_accuracy: 0.0178 - factorized_top_k/top_5_categorical_accuracy: 0.1043 - factorized_top_k/top_10_categorical_accuracy: 0.1566 - factorized_top_k/top_50_categorical_accuracy: 0.2836 - factorized_top_k/top_100_categorical_accuracy: 0.3876 - loss: 4.3089 - regularization_loss: 0.0000e+00 - total_loss: 4.3089 - val_factorized_top_k/top_1_categorical_accuracy: 0.0251 - val_factorized_top_k/top_5_categorical_accuracy: 0.1122 - val_factorized_top_k/top_10_categorical_accuracy: 0.1571 - val_factorized_top_k/top_50_categorical_accuracy: 0.2912 - val_factorized_top_k/top_100_categorical_accuracy: 0.3796 - val_loss: 2.8640 - val_regularization_loss: 0.0000e+00 - val_total_loss: 2.8640\n",
      "Epoch 8/10\n",
      "1704/1704 [==============================] - 512s 301ms/step - factorized_top_k/top_1_categorical_accuracy: 0.0165 - factorized_top_k/top_5_categorical_accuracy: 0.1027 - factorized_top_k/top_10_categorical_accuracy: 0.1565 - factorized_top_k/top_50_categorical_accuracy: 0.2825 - factorized_top_k/top_100_categorical_accuracy: 0.3877 - loss: 4.3067 - regularization_loss: 0.0000e+00 - total_loss: 4.3067 - val_factorized_top_k/top_1_categorical_accuracy: 0.0251 - val_factorized_top_k/top_5_categorical_accuracy: 0.1118 - val_factorized_top_k/top_10_categorical_accuracy: 0.1577 - val_factorized_top_k/top_50_categorical_accuracy: 0.2884 - val_factorized_top_k/top_100_categorical_accuracy: 0.3864 - val_loss: 2.8673 - val_regularization_loss: 0.0000e+00 - val_total_loss: 2.8673\n",
      "Epoch 9/10\n",
      "1704/1704 [==============================] - 512s 301ms/step - factorized_top_k/top_1_categorical_accuracy: 0.0158 - factorized_top_k/top_5_categorical_accuracy: 0.1027 - factorized_top_k/top_10_categorical_accuracy: 0.1564 - factorized_top_k/top_50_categorical_accuracy: 0.2801 - factorized_top_k/top_100_categorical_accuracy: 0.3852 - loss: 4.3044 - regularization_loss: 0.0000e+00 - total_loss: 4.3044 - val_factorized_top_k/top_1_categorical_accuracy: 0.0211 - val_factorized_top_k/top_5_categorical_accuracy: 0.1136 - val_factorized_top_k/top_10_categorical_accuracy: 0.1564 - val_factorized_top_k/top_50_categorical_accuracy: 0.2862 - val_factorized_top_k/top_100_categorical_accuracy: 0.3946 - val_loss: 2.8450 - val_regularization_loss: 0.0000e+00 - val_total_loss: 2.8450\n",
      "Epoch 10/10\n",
      "1704/1704 [==============================] - 515s 302ms/step - factorized_top_k/top_1_categorical_accuracy: 0.0156 - factorized_top_k/top_5_categorical_accuracy: 0.1028 - factorized_top_k/top_10_categorical_accuracy: 0.1565 - factorized_top_k/top_50_categorical_accuracy: 0.2780 - factorized_top_k/top_100_categorical_accuracy: 0.3835 - loss: 4.3032 - regularization_loss: 0.0000e+00 - total_loss: 4.3032 - val_factorized_top_k/top_1_categorical_accuracy: 0.0256 - val_factorized_top_k/top_5_categorical_accuracy: 0.1112 - val_factorized_top_k/top_10_categorical_accuracy: 0.1572 - val_factorized_top_k/top_50_categorical_accuracy: 0.2793 - val_factorized_top_k/top_100_categorical_accuracy: 0.3932 - val_loss: 2.8378 - val_regularization_loss: 0.0000e+00 - val_total_loss: 2.8378\n"
     ]
    },
    {
     "name": "stdout",
     "output_type": "stream",
     "text": [
      "Train accuracy: 0.38351067900657654\n",
      "Validation accuracy: 0.39318886399269104\n",
      "Hold out metrics:\n",
      "552/552 [==============================] - 148s 267ms/step - factorized_top_k/top_1_categorical_accuracy: 0.0191 - factorized_top_k/top_5_categorical_accuracy: 0.0835 - factorized_top_k/top_10_categorical_accuracy: 0.1544 - factorized_top_k/top_50_categorical_accuracy: 0.2980 - factorized_top_k/top_100_categorical_accuracy: 0.3552 - loss: 4.6922 - regularization_loss: 0.0000e+00 - total_loss: 4.6922\n",
      "Holdout accuracy: 0.3552123010158539\n"
     ]
    },
    {
     "data": {
      "text/plain": [
       "[0.019085103645920753,\n",
       " 0.08349025249481201,\n",
       " 0.15443643927574158,\n",
       " 0.2980419397354126,\n",
       " 0.3552123010158539,\n",
       " 4.626432418823242,\n",
       " 0,\n",
       " 4.626432418823242]"
      ]
     },
     "execution_count": 172,
     "metadata": {},
     "output_type": "execute_result"
    },
    {
     "data": {
      "image/png": "[encoded data removed]",
      "text/plain": [
       "<Figure size 432x288 with 1 Axes>"
      ]
     },
     "metadata": {
      "needs_background": "light"
     },
     "output_type": "display_data"
    }
   ],
   "source": [
    "model_link = 'https://tfhub.dev/google/nnlm-en-dim50/2'\n",
    "model = {\"format\": \"text\", \"link\": model_link}\n",
    "num_epochs = 10\n",
    "lr = 0.01\n",
    "cached_train = sfv_train.batch(128).cache()\n",
    "cached_test = sfv_val.batch(128).cache()\n",
    "model_one_layer = ItemSimilarityModel(test_candidate_ids=unique_item_ids,\n",
    "                                      features=['image_embedding', 'body'],\n",
    "                                      feature_dims=[100, 64],\n",
    "                                      unique_item_ids=unique_item_ids,\n",
    "                                      item_body_lookup=body_lookup_table,\n",
    "                                      item_tags_lookup=tags_lookup_table,\n",
    "                                      item_category_lookup=category_lookup_table,\n",
    "                                      image_embedding_lookup_table=im_vec_lookup_table,\n",
    "                                      layer_sizes=[],\n",
    "                                      pretrained_text_model=model_link)\n",
    "model_one_layer.compile(optimizer=tf.keras.optimizers.Adagrad(lr))\n",
    "\n",
    "one_layer_history = model_one_layer.fit(\n",
    "    cached_train,\n",
    "    validation_data=cached_test,\n",
    "    validation_freq=1,\n",
    "    epochs=num_epochs,\n",
    "    verbose=1)\n",
    "\n",
    "\n",
    "print(f'Train accuracy: {one_layer_history.history[\"factorized_top_k/top_100_categorical_accuracy\"][-1]}')   \n",
    "print(f'Validation accuracy: {one_layer_history.history[\"val_factorized_top_k/top_100_categorical_accuracy\"][-1]}')\n",
    "plot_metric(one_layer_history, 'factorized_top_k/top_100_categorical_accuracy')\n",
    "print(\"Hold out metrics:\")\n",
    "metrics = model_one_layer.evaluate(holdout_logs_tf.batch(128).cache())\n",
    "print(f'Holdout accuracy: {metrics[4]}')\n",
    "metrics\n"
   ]
  },
  {
   "cell_type": "code",
   "execution_count": 162,
   "metadata": {
    "pycharm": {
     "name": "#%%\n"
    }
   },
   "outputs": [],
   "source": [
    "save_embeddings_fpath = '../data/embeddings/trained/image_100.pkl'\n",
    "item_embeddings = get_dict_of_embeddings(model_one_layer, unique_item_ids, save_fpath=None)\n",
    "annoy_index, id_to_uri, uri_to_id = build_annoy_index(item_embeddings)"
   ]
  },
  {
   "cell_type": "code",
   "execution_count": 166,
   "metadata": {},
   "outputs": [],
   "source": [
    "with open(save_embeddings_fpath, 'wb') as f:\n",
    "    pickle.dump(item_embeddings, f)"
   ]
  },
  {
   "cell_type": "code",
   "execution_count": 167,
   "metadata": {
    "pycharm": {
     "name": "#%%\n"
    }
   },
   "outputs": [
    {
     "name": "stdout",
     "output_type": "stream",
     "text": [
      "query_uri = /news/uk-england-manchester-54730059\n",
      "groundtruth_uri = /news/uk-54761037\n",
      "Generating recommendations for:\n",
      "/news/uk-england-manchester-54730059 \n",
      " A man who refused to protect himself says his views were changed by a battle with Covid-19.\n",
      "-------------------\n",
      "-------------------\n",
      "LITMUS TEST: True\n",
      "-------------------\n",
      "-------------------\n",
      "/news/uk-england-manchester-54730059 \n",
      " A man who refused to protect himself says his views were changed by a battle with Covid-19.\n",
      "-------------------\n",
      "/news/uk-england-kent-53727910 \n",
      " A 29-year-old man was arrested after a fight broke out at a gathering at Greatstone beach.\n",
      "-------------------\n",
      "/news/uk-england-nottinghamshire-54746814 \n",
      " The city moved into the top tier of Covid-19 restrictions at midnight after an overall rise in infection rates.\n",
      "-------------------\n",
      "/news/world-us-canada-54745441 \n",
      " Clive Myrie has visited the Navajo Nation in Arizona where the death rate is the highest in the US.\n",
      "-------------------\n",
      "/news/health-53599124 \n",
      " The BBC follows the journey of an A&E doctor who recently recovered from Covid-19.\n",
      "-------------------\n",
      "/news/uk-54833332 \n",
      " Students at Manchester University tear down fencing constructed around their campus without warning.\n",
      "-------------------\n",
      "/sport/football/53941399 \n",
      " Defending champions Linfield, Sion Swifts and Glentoran all win on the opening night of the NIFL Women's Premiership.\n",
      "-------------------\n",
      "/news/world-middle-east-53742844 \n",
      " The commemoration took place exactly one week since the blast which killed more than 200 people and injured thousands.\n",
      "-------------------\n",
      "/news/world-middle-east-54511703 \n",
      " Specially trained dogs in Lebanon are learning to detect coronavirus as part of a research project.\n",
      "-------------------\n",
      "/news/uk-52545334 \n",
      " Sean Mallon's photos of an Aer Lingus Belfast-Heathrow flight showed passengers sitting close together.\n",
      "-------------------\n",
      "/news/world-europe-53802226 \n",
      " Crowds gathered in the Spanish capital on Sunday to protest against the mandatory use of face masks.\n",
      "-------------------\n",
      "/news/uk-england-london-54662889 \n",
      " The brothers ran high-energy dance classes from their living room in Harrow every day during lockdown.\n",
      "-------------------\n",
      "/news/health-52665256 \n",
      " Not everyone in care homes is entitled to Covid-19 testing. Jayne McCubbin looks at those left behind.\n",
      "-------------------\n",
      "/news/uk-54761037 \n",
      " Three-year-old Eva is hailed a \"hero\" for her actions when her mother, Emma, had a seizure.\n",
      "-------------------\n",
      "/news/uk-england-birmingham-54877172 \n",
      " BBC Midlands Today's Rebecca Wood trawls the archives to mark the charity's 40th birthday.\n",
      "-------------------\n",
      "/news/business-54279490 \n",
      " A year after the collapse of travel firm Thomas Cook, we see how two of their former flight attendants have rebuilt their lives.\n",
      "-------------------\n",
      "/news/health-52382236 \n",
      " The BBC looks at the work needed to create a coronavirus vaccine and when one might be ready.\n",
      "-------------------\n",
      "/news/uk-england-merseyside-53838350 \n",
      " Relatives want Covid-19 tests introduced for care home visitors to make visiting their loved ones safe.\n",
      "-------------------\n",
      "/newsround/54251168 \n",
      " The fashion industry says it is making changes to become more sustainable. But what impact does if have on the planet?\n",
      "-------------------\n",
      "/news/uk-northern-ireland-53635015 \n",
      " In April 1993, John Hume faced severe criticism for secret dialogue he had with the Sinn Féin leader.\n",
      "-------------------\n"
     ]
    }
   ],
   "source": [
    "query_uri, groundtruth_uri = vc.index[4].split('_')\n",
    "print(f'query_uri = {query_uri}')\n",
    "print(f'groundtruth_uri = {groundtruth_uri}')\n",
    "\n",
    "rec_uris = generate_model_recs(query_uri, annoy_index, uri_to_id, id_to_uri, item_embeddings, es, _es_index, 20)\n",
    "print(f'LITMUS TEST: {groundtruth_uri in rec_uris}')\n",
    "print('-------------------')\n",
    "print('-------------------')\n",
    "\n",
    "for rec in rec_uris:\n",
    "    print_item(rec, es, _es_index)\n",
    "    print('-------------------')"
   ]
  },
  {
   "cell_type": "code",
   "execution_count": null,
   "metadata": {},
   "outputs": [],
   "source": [
    "### Pretrained text model nnlm 50"
   ]
  },
  {
   "cell_type": "markdown",
   "metadata": {},
   "source": [
    "### Pretrained text model nnlm 128"
   ]
  },
  {
   "cell_type": "code",
   "execution_count": 173,
   "metadata": {},
   "outputs": [
    {
     "name": "stdout",
     "output_type": "stream",
     "text": [
      "Using pretrained TEXT model: https://tfhub.dev/google/nnlm-en-dim128-with-normalization/2\n",
      "552/552 [==============================] - 135s 243ms/step - factorized_top_k/top_1_categorical_accuracy: 0.0014 - factorized_top_k/top_5_categorical_accuracy: 0.0270 - factorized_top_k/top_10_categorical_accuracy: 0.0425 - factorized_top_k/top_50_categorical_accuracy: 0.1208 - factorized_top_k/top_100_categorical_accuracy: 0.1472 - loss: 5.0174 - regularization_loss: 0.0000e+00 - total_loss: 5.0174\n"
     ]
    },
    {
     "data": {
      "text/plain": [
       "[0.0014299670001491904,\n",
       " 0.027041951194405556,\n",
       " 0.04254505783319473,\n",
       " 0.12076850235462189,\n",
       " 0.14720165729522705,\n",
       " 5.357172012329102,\n",
       " 0,\n",
       " 5.357172012329102]"
      ]
     },
     "execution_count": 173,
     "metadata": {},
     "output_type": "execute_result"
    }
   ],
   "source": [
    "#model_link = 'https://tfhub.dev/google/nnlm-en-dim50/2'\n",
    "#model_link = 'https://tfhub.dev/tensorflow/albert_en_large/2'\n",
    "model_link = 'https://tfhub.dev/google/nnlm-en-dim128-with-normalization/2'\n",
    "\n",
    "model = {\"format\": \"text\", \"link\": model_link}\n",
    "recsys2 = ItemSimilarityModel(test_candidate_ids=unique_item_ids,\n",
    "                                      features=['text_model'],\n",
    "                                      feature_dims=[model],\n",
    "                                      unique_item_ids=unique_item_ids,\n",
    "                                      item_body_lookup=body_lookup_table,\n",
    "                                      item_tags_lookup=tags_lookup_table,\n",
    "                                      item_category_lookup=category_lookup_table,\n",
    "                                      item_image_lookup=thumbnail_lookup_table,\n",
    "                                      layer_sizes=[],\n",
    "                                      pretrained_text_model=model_link)\n",
    "recsys2.compile(optimizer=tf.keras.optimizers.Adagrad(lr))\n",
    "recsys2_metrics = recsys2.evaluate(holdout_logs_tf.batch(128).cache())\n",
    "recsys2_metrics\n"
   ]
  },
  {
   "cell_type": "markdown",
   "metadata": {},
   "source": [
    "### Pretrained image model "
   ]
  },
  {
   "cell_type": "code",
   "execution_count": 286,
   "metadata": {},
   "outputs": [
    {
     "name": "stdout",
     "output_type": "stream",
     "text": [
      "Using pretrained IMAGE model: https://tfhub.dev/google/imagenet/mobilenet_v2_100_96/feature_vector/4\n",
      "552/552 [==============================] - 79s 143ms/step - factorized_top_k/top_1_categorical_accuracy: 0.0000e+00 - factorized_top_k/top_5_categorical_accuracy: 0.0031 - factorized_top_k/top_10_categorical_accuracy: 0.0120 - factorized_top_k/top_50_categorical_accuracy: 0.0499 - factorized_top_k/top_100_categorical_accuracy: 0.0787 - loss: 13.6808 - regularization_loss: 0.0000e+00 - total_loss: 13.6808\n"
     ]
    },
    {
     "data": {
      "text/plain": [
       "[0.0,\n",
       " 0.003086463548243046,\n",
       " 0.01203437615185976,\n",
       " 0.04990726336836815,\n",
       " 0.07871897518634796]"
      ]
     },
     "execution_count": 286,
     "metadata": {},
     "output_type": "execute_result"
    }
   ],
   "source": [
    "recsys2_im = ItemSimilarityModel(test_candidate_ids=unique_item_ids,\n",
    "                                      features=['image_embedding'],\n",
    "                                      feature_dims=[None],\n",
    "                                      unique_item_ids=unique_item_ids,\n",
    "                                      item_body_lookup=body_lookup_table,\n",
    "                                      item_tags_lookup=tags_lookup_table,\n",
    "                                      item_category_lookup=category_lookup_table,\n",
    "                                      item_image_lookup=thumbnail_lookup_table,\n",
    "                                      image_embedding_lookup_table=im_embeddings_lookup,\n",
    "                                      layer_sizes=[])\n",
    "recsys2_im.compile(optimizer=tf.keras.optimizers.Adagrad(lr))\n",
    "recsys2_im_metrics = recsys2_im.evaluate(holdout_logs_tf.batch(128).cache())\n",
    "recsys2_im_metrics\n"
   ]
  },
  {
   "cell_type": "code",
   "execution_count": 71,
   "metadata": {},
   "outputs": [
    {
     "ename": "ValueError",
     "evalue": "in user code:\n\n    <ipython-input-6-e48051f929fe>:177 call  *\n        return self.dense_layers(feature_embedding)\n    /Users/mercef02/.virtualenvs/exploration-Tqzb7Mc2/lib/python3.7/site-packages/tensorflow/python/keras/engine/base_layer.py:976 __call__  **\n        self.name)\n    /Users/mercef02/.virtualenvs/exploration-Tqzb7Mc2/lib/python3.7/site-packages/tensorflow/python/keras/engine/input_spec.py:168 assert_input_compatibility\n        layer_name + ' is incompatible with the layer: '\n\n    ValueError: Input 0 of layer sequential_deep is incompatible with the layer: its rank is undefined, but the layer requires a defined rank.\n",
     "output_type": "error",
     "traceback": [
      "\u001B[0;31m---------------------------------------------------------------------------\u001B[0m",
      "\u001B[0;31mValueError\u001B[0m                                Traceback (most recent call last)",
      "\u001B[0;32m<ipython-input-71-735d35459e24>\u001B[0m in \u001B[0;36m<module>\u001B[0;34m\u001B[0m\n\u001B[1;32m      9\u001B[0m                                       \u001B[0mitem_image_lookup\u001B[0m\u001B[0;34m=\u001B[0m\u001B[0mthumbnail_lookup_table\u001B[0m\u001B[0;34m,\u001B[0m\u001B[0;34m\u001B[0m\u001B[0;34m\u001B[0m\u001B[0m\n\u001B[1;32m     10\u001B[0m                                       \u001B[0mimage_embedding_lookup_table\u001B[0m\u001B[0;34m=\u001B[0m\u001B[0mim_vec_lookup_table\u001B[0m\u001B[0;34m,\u001B[0m\u001B[0;34m\u001B[0m\u001B[0;34m\u001B[0m\u001B[0m\n\u001B[0;32m---> 11\u001B[0;31m                                       layer_sizes=[512, 100])\n\u001B[0m\u001B[1;32m     12\u001B[0m \u001B[0mrecsys2_im\u001B[0m\u001B[0;34m.\u001B[0m\u001B[0mcompile\u001B[0m\u001B[0;34m(\u001B[0m\u001B[0moptimizer\u001B[0m\u001B[0;34m=\u001B[0m\u001B[0mtf\u001B[0m\u001B[0;34m.\u001B[0m\u001B[0mkeras\u001B[0m\u001B[0;34m.\u001B[0m\u001B[0moptimizers\u001B[0m\u001B[0;34m.\u001B[0m\u001B[0mAdagrad\u001B[0m\u001B[0;34m(\u001B[0m\u001B[0mlr\u001B[0m\u001B[0;34m)\u001B[0m\u001B[0;34m)\u001B[0m\u001B[0;34m\u001B[0m\u001B[0;34m\u001B[0m\u001B[0m\n\u001B[1;32m     13\u001B[0m \u001B[0mrecsys2_im_metrics\u001B[0m \u001B[0;34m=\u001B[0m \u001B[0mrecsys2_im\u001B[0m\u001B[0;34m.\u001B[0m\u001B[0mevaluate\u001B[0m\u001B[0;34m(\u001B[0m\u001B[0mholdout_logs_tf\u001B[0m\u001B[0;34m.\u001B[0m\u001B[0mbatch\u001B[0m\u001B[0;34m(\u001B[0m\u001B[0;36m128\u001B[0m\u001B[0;34m)\u001B[0m\u001B[0;34m.\u001B[0m\u001B[0mcache\u001B[0m\u001B[0;34m(\u001B[0m\u001B[0;34m)\u001B[0m\u001B[0;34m)\u001B[0m\u001B[0;34m\u001B[0m\u001B[0;34m\u001B[0m\u001B[0m\n",
      "\u001B[0;32m<ipython-input-6-e48051f929fe>\u001B[0m in \u001B[0;36m__init__\u001B[0;34m(self, test_candidate_ids, features, feature_dims, unique_item_ids, item_body_lookup, item_tags_lookup, item_category_lookup, item_image_lookup, image_embedding_lookup_table, layer_sizes, pretrained_text_model, pretrained_image_model, compute_metrics)\u001B[0m\n\u001B[1;32m    222\u001B[0m \u001B[0;34m\u001B[0m\u001B[0m\n\u001B[1;32m    223\u001B[0m     self.task = tfrs.tasks.Retrieval(loss=tf.keras.losses.CategoricalCrossentropy(),\n\u001B[0;32m--> 224\u001B[0;31m             metrics=tfrs.metrics.FactorizedTopK(candidates=test_candidate_ids.batch(512).map(self.item_model)))\n\u001B[0m\u001B[1;32m    225\u001B[0m \u001B[0;34m\u001B[0m\u001B[0m\n\u001B[1;32m    226\u001B[0m   \u001B[0;32mdef\u001B[0m \u001B[0mcompute_loss\u001B[0m\u001B[0;34m(\u001B[0m\u001B[0mself\u001B[0m\u001B[0;34m,\u001B[0m \u001B[0mraw_features\u001B[0m\u001B[0;34m:\u001B[0m \u001B[0mDict\u001B[0m\u001B[0;34m[\u001B[0m\u001B[0mText\u001B[0m\u001B[0;34m,\u001B[0m \u001B[0mtf\u001B[0m\u001B[0;34m.\u001B[0m\u001B[0mTensor\u001B[0m\u001B[0;34m]\u001B[0m\u001B[0;34m,\u001B[0m \u001B[0mtraining\u001B[0m\u001B[0;34m=\u001B[0m\u001B[0;32mFalse\u001B[0m\u001B[0;34m)\u001B[0m \u001B[0;34m->\u001B[0m \u001B[0mtf\u001B[0m\u001B[0;34m.\u001B[0m\u001B[0mTensor\u001B[0m\u001B[0;34m:\u001B[0m\u001B[0;34m\u001B[0m\u001B[0;34m\u001B[0m\u001B[0m\n",
      "\u001B[0;32m~/.virtualenvs/exploration-Tqzb7Mc2/lib/python3.7/site-packages/tensorflow/python/data/ops/dataset_ops.py\u001B[0m in \u001B[0;36mmap\u001B[0;34m(self, map_func, num_parallel_calls, deterministic)\u001B[0m\n\u001B[1;32m   1693\u001B[0m     \"\"\"\n\u001B[1;32m   1694\u001B[0m     \u001B[0;32mif\u001B[0m \u001B[0mnum_parallel_calls\u001B[0m \u001B[0;32mis\u001B[0m \u001B[0;32mNone\u001B[0m\u001B[0;34m:\u001B[0m\u001B[0;34m\u001B[0m\u001B[0;34m\u001B[0m\u001B[0m\n\u001B[0;32m-> 1695\u001B[0;31m       \u001B[0;32mreturn\u001B[0m \u001B[0mMapDataset\u001B[0m\u001B[0;34m(\u001B[0m\u001B[0mself\u001B[0m\u001B[0;34m,\u001B[0m \u001B[0mmap_func\u001B[0m\u001B[0;34m,\u001B[0m \u001B[0mpreserve_cardinality\u001B[0m\u001B[0;34m=\u001B[0m\u001B[0;32mTrue\u001B[0m\u001B[0;34m)\u001B[0m\u001B[0;34m\u001B[0m\u001B[0;34m\u001B[0m\u001B[0m\n\u001B[0m\u001B[1;32m   1696\u001B[0m     \u001B[0;32melse\u001B[0m\u001B[0;34m:\u001B[0m\u001B[0;34m\u001B[0m\u001B[0;34m\u001B[0m\u001B[0m\n\u001B[1;32m   1697\u001B[0m       return ParallelMapDataset(\n",
      "\u001B[0;32m~/.virtualenvs/exploration-Tqzb7Mc2/lib/python3.7/site-packages/tensorflow/python/data/ops/dataset_ops.py\u001B[0m in \u001B[0;36m__init__\u001B[0;34m(self, input_dataset, map_func, use_inter_op_parallelism, preserve_cardinality, use_legacy_function)\u001B[0m\n\u001B[1;32m   4043\u001B[0m         \u001B[0mself\u001B[0m\u001B[0;34m.\u001B[0m\u001B[0m_transformation_name\u001B[0m\u001B[0;34m(\u001B[0m\u001B[0;34m)\u001B[0m\u001B[0;34m,\u001B[0m\u001B[0;34m\u001B[0m\u001B[0;34m\u001B[0m\u001B[0m\n\u001B[1;32m   4044\u001B[0m         \u001B[0mdataset\u001B[0m\u001B[0;34m=\u001B[0m\u001B[0minput_dataset\u001B[0m\u001B[0;34m,\u001B[0m\u001B[0;34m\u001B[0m\u001B[0;34m\u001B[0m\u001B[0m\n\u001B[0;32m-> 4045\u001B[0;31m         use_legacy_function=use_legacy_function)\n\u001B[0m\u001B[1;32m   4046\u001B[0m     variant_tensor = gen_dataset_ops.map_dataset(\n\u001B[1;32m   4047\u001B[0m         \u001B[0minput_dataset\u001B[0m\u001B[0;34m.\u001B[0m\u001B[0m_variant_tensor\u001B[0m\u001B[0;34m,\u001B[0m  \u001B[0;31m# pylint: disable=protected-access\u001B[0m\u001B[0;34m\u001B[0m\u001B[0;34m\u001B[0m\u001B[0m\n",
      "\u001B[0;32m~/.virtualenvs/exploration-Tqzb7Mc2/lib/python3.7/site-packages/tensorflow/python/data/ops/dataset_ops.py\u001B[0m in \u001B[0;36m__init__\u001B[0;34m(self, func, transformation_name, dataset, input_classes, input_shapes, input_types, input_structure, add_to_graph, use_legacy_function, defun_kwargs)\u001B[0m\n\u001B[1;32m   3369\u001B[0m       \u001B[0;32mwith\u001B[0m \u001B[0mtracking\u001B[0m\u001B[0;34m.\u001B[0m\u001B[0mresource_tracker_scope\u001B[0m\u001B[0;34m(\u001B[0m\u001B[0mresource_tracker\u001B[0m\u001B[0;34m)\u001B[0m\u001B[0;34m:\u001B[0m\u001B[0;34m\u001B[0m\u001B[0;34m\u001B[0m\u001B[0m\n\u001B[1;32m   3370\u001B[0m         \u001B[0;31m# TODO(b/141462134): Switch to using garbage collection.\u001B[0m\u001B[0;34m\u001B[0m\u001B[0;34m\u001B[0m\u001B[0;34m\u001B[0m\u001B[0m\n\u001B[0;32m-> 3371\u001B[0;31m         \u001B[0mself\u001B[0m\u001B[0;34m.\u001B[0m\u001B[0m_function\u001B[0m \u001B[0;34m=\u001B[0m \u001B[0mwrapper_fn\u001B[0m\u001B[0;34m.\u001B[0m\u001B[0mget_concrete_function\u001B[0m\u001B[0;34m(\u001B[0m\u001B[0;34m)\u001B[0m\u001B[0;34m\u001B[0m\u001B[0;34m\u001B[0m\u001B[0m\n\u001B[0m\u001B[1;32m   3372\u001B[0m         \u001B[0;32mif\u001B[0m \u001B[0madd_to_graph\u001B[0m\u001B[0;34m:\u001B[0m\u001B[0;34m\u001B[0m\u001B[0;34m\u001B[0m\u001B[0m\n\u001B[1;32m   3373\u001B[0m           \u001B[0mself\u001B[0m\u001B[0;34m.\u001B[0m\u001B[0m_function\u001B[0m\u001B[0;34m.\u001B[0m\u001B[0madd_to_graph\u001B[0m\u001B[0;34m(\u001B[0m\u001B[0mops\u001B[0m\u001B[0;34m.\u001B[0m\u001B[0mget_default_graph\u001B[0m\u001B[0;34m(\u001B[0m\u001B[0;34m)\u001B[0m\u001B[0;34m)\u001B[0m\u001B[0;34m\u001B[0m\u001B[0;34m\u001B[0m\u001B[0m\n",
      "\u001B[0;32m~/.virtualenvs/exploration-Tqzb7Mc2/lib/python3.7/site-packages/tensorflow/python/eager/function.py\u001B[0m in \u001B[0;36mget_concrete_function\u001B[0;34m(self, *args, **kwargs)\u001B[0m\n\u001B[1;32m   2937\u001B[0m     \"\"\"\n\u001B[1;32m   2938\u001B[0m     graph_function = self._get_concrete_function_garbage_collected(\n\u001B[0;32m-> 2939\u001B[0;31m         *args, **kwargs)\n\u001B[0m\u001B[1;32m   2940\u001B[0m     \u001B[0mgraph_function\u001B[0m\u001B[0;34m.\u001B[0m\u001B[0m_garbage_collector\u001B[0m\u001B[0;34m.\u001B[0m\u001B[0mrelease\u001B[0m\u001B[0;34m(\u001B[0m\u001B[0;34m)\u001B[0m  \u001B[0;31m# pylint: disable=protected-access\u001B[0m\u001B[0;34m\u001B[0m\u001B[0;34m\u001B[0m\u001B[0m\n\u001B[1;32m   2941\u001B[0m     \u001B[0;32mreturn\u001B[0m \u001B[0mgraph_function\u001B[0m\u001B[0;34m\u001B[0m\u001B[0;34m\u001B[0m\u001B[0m\n",
      "\u001B[0;32m~/.virtualenvs/exploration-Tqzb7Mc2/lib/python3.7/site-packages/tensorflow/python/eager/function.py\u001B[0m in \u001B[0;36m_get_concrete_function_garbage_collected\u001B[0;34m(self, *args, **kwargs)\u001B[0m\n\u001B[1;32m   2904\u001B[0m       \u001B[0margs\u001B[0m\u001B[0;34m,\u001B[0m \u001B[0mkwargs\u001B[0m \u001B[0;34m=\u001B[0m \u001B[0;32mNone\u001B[0m\u001B[0;34m,\u001B[0m \u001B[0;32mNone\u001B[0m\u001B[0;34m\u001B[0m\u001B[0;34m\u001B[0m\u001B[0m\n\u001B[1;32m   2905\u001B[0m     \u001B[0;32mwith\u001B[0m \u001B[0mself\u001B[0m\u001B[0;34m.\u001B[0m\u001B[0m_lock\u001B[0m\u001B[0;34m:\u001B[0m\u001B[0;34m\u001B[0m\u001B[0;34m\u001B[0m\u001B[0m\n\u001B[0;32m-> 2906\u001B[0;31m       \u001B[0mgraph_function\u001B[0m\u001B[0;34m,\u001B[0m \u001B[0margs\u001B[0m\u001B[0;34m,\u001B[0m \u001B[0mkwargs\u001B[0m \u001B[0;34m=\u001B[0m \u001B[0mself\u001B[0m\u001B[0;34m.\u001B[0m\u001B[0m_maybe_define_function\u001B[0m\u001B[0;34m(\u001B[0m\u001B[0margs\u001B[0m\u001B[0;34m,\u001B[0m \u001B[0mkwargs\u001B[0m\u001B[0;34m)\u001B[0m\u001B[0;34m\u001B[0m\u001B[0;34m\u001B[0m\u001B[0m\n\u001B[0m\u001B[1;32m   2907\u001B[0m       \u001B[0mseen_names\u001B[0m \u001B[0;34m=\u001B[0m \u001B[0mset\u001B[0m\u001B[0;34m(\u001B[0m\u001B[0;34m)\u001B[0m\u001B[0;34m\u001B[0m\u001B[0;34m\u001B[0m\u001B[0m\n\u001B[1;32m   2908\u001B[0m       captured = object_identity.ObjectIdentitySet(\n",
      "\u001B[0;32m~/.virtualenvs/exploration-Tqzb7Mc2/lib/python3.7/site-packages/tensorflow/python/eager/function.py\u001B[0m in \u001B[0;36m_maybe_define_function\u001B[0;34m(self, args, kwargs)\u001B[0m\n\u001B[1;32m   3211\u001B[0m \u001B[0;34m\u001B[0m\u001B[0m\n\u001B[1;32m   3212\u001B[0m       \u001B[0mself\u001B[0m\u001B[0;34m.\u001B[0m\u001B[0m_function_cache\u001B[0m\u001B[0;34m.\u001B[0m\u001B[0mmissed\u001B[0m\u001B[0;34m.\u001B[0m\u001B[0madd\u001B[0m\u001B[0;34m(\u001B[0m\u001B[0mcall_context_key\u001B[0m\u001B[0;34m)\u001B[0m\u001B[0;34m\u001B[0m\u001B[0;34m\u001B[0m\u001B[0m\n\u001B[0;32m-> 3213\u001B[0;31m       \u001B[0mgraph_function\u001B[0m \u001B[0;34m=\u001B[0m \u001B[0mself\u001B[0m\u001B[0;34m.\u001B[0m\u001B[0m_create_graph_function\u001B[0m\u001B[0;34m(\u001B[0m\u001B[0margs\u001B[0m\u001B[0;34m,\u001B[0m \u001B[0mkwargs\u001B[0m\u001B[0;34m)\u001B[0m\u001B[0;34m\u001B[0m\u001B[0;34m\u001B[0m\u001B[0m\n\u001B[0m\u001B[1;32m   3214\u001B[0m       \u001B[0mself\u001B[0m\u001B[0;34m.\u001B[0m\u001B[0m_function_cache\u001B[0m\u001B[0;34m.\u001B[0m\u001B[0mprimary\u001B[0m\u001B[0;34m[\u001B[0m\u001B[0mcache_key\u001B[0m\u001B[0;34m]\u001B[0m \u001B[0;34m=\u001B[0m \u001B[0mgraph_function\u001B[0m\u001B[0;34m\u001B[0m\u001B[0;34m\u001B[0m\u001B[0m\n\u001B[1;32m   3215\u001B[0m       \u001B[0;32mreturn\u001B[0m \u001B[0mgraph_function\u001B[0m\u001B[0;34m,\u001B[0m \u001B[0margs\u001B[0m\u001B[0;34m,\u001B[0m \u001B[0mkwargs\u001B[0m\u001B[0;34m\u001B[0m\u001B[0;34m\u001B[0m\u001B[0m\n",
      "\u001B[0;32m~/.virtualenvs/exploration-Tqzb7Mc2/lib/python3.7/site-packages/tensorflow/python/eager/function.py\u001B[0m in \u001B[0;36m_create_graph_function\u001B[0;34m(self, args, kwargs, override_flat_arg_shapes)\u001B[0m\n\u001B[1;32m   3073\u001B[0m             \u001B[0marg_names\u001B[0m\u001B[0;34m=\u001B[0m\u001B[0marg_names\u001B[0m\u001B[0;34m,\u001B[0m\u001B[0;34m\u001B[0m\u001B[0;34m\u001B[0m\u001B[0m\n\u001B[1;32m   3074\u001B[0m             \u001B[0moverride_flat_arg_shapes\u001B[0m\u001B[0;34m=\u001B[0m\u001B[0moverride_flat_arg_shapes\u001B[0m\u001B[0;34m,\u001B[0m\u001B[0;34m\u001B[0m\u001B[0;34m\u001B[0m\u001B[0m\n\u001B[0;32m-> 3075\u001B[0;31m             capture_by_value=self._capture_by_value),\n\u001B[0m\u001B[1;32m   3076\u001B[0m         \u001B[0mself\u001B[0m\u001B[0;34m.\u001B[0m\u001B[0m_function_attributes\u001B[0m\u001B[0;34m,\u001B[0m\u001B[0;34m\u001B[0m\u001B[0;34m\u001B[0m\u001B[0m\n\u001B[1;32m   3077\u001B[0m         \u001B[0mfunction_spec\u001B[0m\u001B[0;34m=\u001B[0m\u001B[0mself\u001B[0m\u001B[0;34m.\u001B[0m\u001B[0mfunction_spec\u001B[0m\u001B[0;34m,\u001B[0m\u001B[0;34m\u001B[0m\u001B[0;34m\u001B[0m\u001B[0m\n",
      "\u001B[0;32m~/.virtualenvs/exploration-Tqzb7Mc2/lib/python3.7/site-packages/tensorflow/python/framework/func_graph.py\u001B[0m in \u001B[0;36mfunc_graph_from_py_func\u001B[0;34m(name, python_func, args, kwargs, signature, func_graph, autograph, autograph_options, add_control_dependencies, arg_names, op_return_value, collections, capture_by_value, override_flat_arg_shapes)\u001B[0m\n\u001B[1;32m    984\u001B[0m         \u001B[0m_\u001B[0m\u001B[0;34m,\u001B[0m \u001B[0moriginal_func\u001B[0m \u001B[0;34m=\u001B[0m \u001B[0mtf_decorator\u001B[0m\u001B[0;34m.\u001B[0m\u001B[0munwrap\u001B[0m\u001B[0;34m(\u001B[0m\u001B[0mpython_func\u001B[0m\u001B[0;34m)\u001B[0m\u001B[0;34m\u001B[0m\u001B[0;34m\u001B[0m\u001B[0m\n\u001B[1;32m    985\u001B[0m \u001B[0;34m\u001B[0m\u001B[0m\n\u001B[0;32m--> 986\u001B[0;31m       \u001B[0mfunc_outputs\u001B[0m \u001B[0;34m=\u001B[0m \u001B[0mpython_func\u001B[0m\u001B[0;34m(\u001B[0m\u001B[0;34m*\u001B[0m\u001B[0mfunc_args\u001B[0m\u001B[0;34m,\u001B[0m \u001B[0;34m**\u001B[0m\u001B[0mfunc_kwargs\u001B[0m\u001B[0;34m)\u001B[0m\u001B[0;34m\u001B[0m\u001B[0;34m\u001B[0m\u001B[0m\n\u001B[0m\u001B[1;32m    987\u001B[0m \u001B[0;34m\u001B[0m\u001B[0m\n\u001B[1;32m    988\u001B[0m       \u001B[0;31m# invariant: `func_outputs` contains only Tensors, CompositeTensors,\u001B[0m\u001B[0;34m\u001B[0m\u001B[0;34m\u001B[0m\u001B[0;34m\u001B[0m\u001B[0m\n",
      "\u001B[0;32m~/.virtualenvs/exploration-Tqzb7Mc2/lib/python3.7/site-packages/tensorflow/python/data/ops/dataset_ops.py\u001B[0m in \u001B[0;36mwrapper_fn\u001B[0;34m(*args)\u001B[0m\n\u001B[1;32m   3362\u001B[0m           attributes=defun_kwargs)\n\u001B[1;32m   3363\u001B[0m       \u001B[0;32mdef\u001B[0m \u001B[0mwrapper_fn\u001B[0m\u001B[0;34m(\u001B[0m\u001B[0;34m*\u001B[0m\u001B[0margs\u001B[0m\u001B[0;34m)\u001B[0m\u001B[0;34m:\u001B[0m  \u001B[0;31m# pylint: disable=missing-docstring\u001B[0m\u001B[0;34m\u001B[0m\u001B[0;34m\u001B[0m\u001B[0m\n\u001B[0;32m-> 3364\u001B[0;31m         \u001B[0mret\u001B[0m \u001B[0;34m=\u001B[0m \u001B[0m_wrapper_helper\u001B[0m\u001B[0;34m(\u001B[0m\u001B[0;34m*\u001B[0m\u001B[0margs\u001B[0m\u001B[0;34m)\u001B[0m\u001B[0;34m\u001B[0m\u001B[0;34m\u001B[0m\u001B[0m\n\u001B[0m\u001B[1;32m   3365\u001B[0m         \u001B[0mret\u001B[0m \u001B[0;34m=\u001B[0m \u001B[0mstructure\u001B[0m\u001B[0;34m.\u001B[0m\u001B[0mto_tensor_list\u001B[0m\u001B[0;34m(\u001B[0m\u001B[0mself\u001B[0m\u001B[0;34m.\u001B[0m\u001B[0m_output_structure\u001B[0m\u001B[0;34m,\u001B[0m \u001B[0mret\u001B[0m\u001B[0;34m)\u001B[0m\u001B[0;34m\u001B[0m\u001B[0;34m\u001B[0m\u001B[0m\n\u001B[1;32m   3366\u001B[0m         \u001B[0;32mreturn\u001B[0m \u001B[0;34m[\u001B[0m\u001B[0mops\u001B[0m\u001B[0;34m.\u001B[0m\u001B[0mconvert_to_tensor\u001B[0m\u001B[0;34m(\u001B[0m\u001B[0mt\u001B[0m\u001B[0;34m)\u001B[0m \u001B[0;32mfor\u001B[0m \u001B[0mt\u001B[0m \u001B[0;32min\u001B[0m \u001B[0mret\u001B[0m\u001B[0;34m]\u001B[0m\u001B[0;34m\u001B[0m\u001B[0;34m\u001B[0m\u001B[0m\n",
      "\u001B[0;32m~/.virtualenvs/exploration-Tqzb7Mc2/lib/python3.7/site-packages/tensorflow/python/data/ops/dataset_ops.py\u001B[0m in \u001B[0;36m_wrapper_helper\u001B[0;34m(*args)\u001B[0m\n\u001B[1;32m   3297\u001B[0m         \u001B[0mnested_args\u001B[0m \u001B[0;34m=\u001B[0m \u001B[0;34m(\u001B[0m\u001B[0mnested_args\u001B[0m\u001B[0;34m,\u001B[0m\u001B[0;34m)\u001B[0m\u001B[0;34m\u001B[0m\u001B[0;34m\u001B[0m\u001B[0m\n\u001B[1;32m   3298\u001B[0m \u001B[0;34m\u001B[0m\u001B[0m\n\u001B[0;32m-> 3299\u001B[0;31m       \u001B[0mret\u001B[0m \u001B[0;34m=\u001B[0m \u001B[0mautograph\u001B[0m\u001B[0;34m.\u001B[0m\u001B[0mtf_convert\u001B[0m\u001B[0;34m(\u001B[0m\u001B[0mfunc\u001B[0m\u001B[0;34m,\u001B[0m \u001B[0mag_ctx\u001B[0m\u001B[0;34m)\u001B[0m\u001B[0;34m(\u001B[0m\u001B[0;34m*\u001B[0m\u001B[0mnested_args\u001B[0m\u001B[0;34m)\u001B[0m\u001B[0;34m\u001B[0m\u001B[0;34m\u001B[0m\u001B[0m\n\u001B[0m\u001B[1;32m   3300\u001B[0m       \u001B[0;31m# If `func` returns a list of tensors, `nest.flatten()` and\u001B[0m\u001B[0;34m\u001B[0m\u001B[0;34m\u001B[0m\u001B[0;34m\u001B[0m\u001B[0m\n\u001B[1;32m   3301\u001B[0m       \u001B[0;31m# `ops.convert_to_tensor()` would conspire to attempt to stack\u001B[0m\u001B[0;34m\u001B[0m\u001B[0;34m\u001B[0m\u001B[0;34m\u001B[0m\u001B[0m\n",
      "\u001B[0;32m~/.virtualenvs/exploration-Tqzb7Mc2/lib/python3.7/site-packages/tensorflow/python/autograph/impl/api.py\u001B[0m in \u001B[0;36mwrapper\u001B[0;34m(*args, **kwargs)\u001B[0m\n\u001B[1;32m    256\u001B[0m       \u001B[0;32mexcept\u001B[0m \u001B[0mException\u001B[0m \u001B[0;32mas\u001B[0m \u001B[0me\u001B[0m\u001B[0;34m:\u001B[0m  \u001B[0;31m# pylint:disable=broad-except\u001B[0m\u001B[0;34m\u001B[0m\u001B[0;34m\u001B[0m\u001B[0m\n\u001B[1;32m    257\u001B[0m         \u001B[0;32mif\u001B[0m \u001B[0mhasattr\u001B[0m\u001B[0;34m(\u001B[0m\u001B[0me\u001B[0m\u001B[0;34m,\u001B[0m \u001B[0;34m'ag_error_metadata'\u001B[0m\u001B[0;34m)\u001B[0m\u001B[0;34m:\u001B[0m\u001B[0;34m\u001B[0m\u001B[0;34m\u001B[0m\u001B[0m\n\u001B[0;32m--> 258\u001B[0;31m           \u001B[0;32mraise\u001B[0m \u001B[0me\u001B[0m\u001B[0;34m.\u001B[0m\u001B[0mag_error_metadata\u001B[0m\u001B[0;34m.\u001B[0m\u001B[0mto_exception\u001B[0m\u001B[0;34m(\u001B[0m\u001B[0me\u001B[0m\u001B[0;34m)\u001B[0m\u001B[0;34m\u001B[0m\u001B[0;34m\u001B[0m\u001B[0m\n\u001B[0m\u001B[1;32m    259\u001B[0m         \u001B[0;32melse\u001B[0m\u001B[0;34m:\u001B[0m\u001B[0;34m\u001B[0m\u001B[0;34m\u001B[0m\u001B[0m\n\u001B[1;32m    260\u001B[0m           \u001B[0;32mraise\u001B[0m\u001B[0;34m\u001B[0m\u001B[0;34m\u001B[0m\u001B[0m\n",
      "\u001B[0;31mValueError\u001B[0m: in user code:\n\n    <ipython-input-6-e48051f929fe>:177 call  *\n        return self.dense_layers(feature_embedding)\n    /Users/mercef02/.virtualenvs/exploration-Tqzb7Mc2/lib/python3.7/site-packages/tensorflow/python/keras/engine/base_layer.py:976 __call__  **\n        self.name)\n    /Users/mercef02/.virtualenvs/exploration-Tqzb7Mc2/lib/python3.7/site-packages/tensorflow/python/keras/engine/input_spec.py:168 assert_input_compatibility\n        layer_name + ' is incompatible with the layer: '\n\n    ValueError: Input 0 of layer sequential_deep is incompatible with the layer: its rank is undefined, but the layer requires a defined rank.\n"
     ]
    }
   ],
   "source": [
    "lr = 0.01\n",
    "recsys2_im = ItemSimilarityModel(test_candidate_ids=unique_item_ids,\n",
    "                                      features=['image_embedding'],\n",
    "                                      feature_dims=[2048],\n",
    "                                      unique_item_ids=unique_item_ids,\n",
    "                                      item_body_lookup=body_lookup_table,\n",
    "                                      item_tags_lookup=tags_lookup_table,\n",
    "                                      item_category_lookup=category_lookup_table,\n",
    "                                      item_image_lookup=thumbnail_lookup_table,\n",
    "                                      image_embedding_lookup_table=im_vec_lookup_table,\n",
    "                                      layer_sizes=[])\n",
    "recsys2_im.compile(optimizer=tf.keras.optimizers.Adagrad(lr))\n",
    "recsys2_im_metrics = recsys2_im.evaluate(holdout_logs_tf.batch(128).cache())\n",
    "recsys2_im_metrics\n"
   ]
  },
  {
   "cell_type": "markdown",
   "metadata": {},
   "source": [
    "### Pretrained image model and pretrained text model"
   ]
  },
  {
   "cell_type": "code",
   "execution_count": 176,
   "metadata": {},
   "outputs": [
    {
     "name": "stdout",
     "output_type": "stream",
     "text": [
      "Using pretrained TEXT model: https://tfhub.dev/google/nnlm-en-dim128-with-normalization/2\n",
      "WARNING:tensorflow:5 out of the last 5 calls to <function recreate_function.<locals>.restored_function_body at 0x19f777dc0> triggered tf.function retracing. Tracing is expensive and the excessive number of tracings could be due to (1) creating @tf.function repeatedly in a loop, (2) passing tensors with different shapes, (3) passing Python objects instead of tensors. For (1), please define your @tf.function outside of the loop. For (2), @tf.function has experimental_relax_shapes=True option that relaxes argument shapes that can avoid unnecessary retracing. For (3), please refer to https://www.tensorflow.org/guide/function#controlling_retracing and https://www.tensorflow.org/api_docs/python/tf/function for  more details.\n"
     ]
    },
    {
     "name": "stderr",
     "output_type": "stream",
     "text": [
      "WARNING:tensorflow:5 out of the last 5 calls to <function recreate_function.<locals>.restored_function_body at 0x19f777dc0> triggered tf.function retracing. Tracing is expensive and the excessive number of tracings could be due to (1) creating @tf.function repeatedly in a loop, (2) passing tensors with different shapes, (3) passing Python objects instead of tensors. For (1), please define your @tf.function outside of the loop. For (2), @tf.function has experimental_relax_shapes=True option that relaxes argument shapes that can avoid unnecessary retracing. For (3), please refer to https://www.tensorflow.org/guide/function#controlling_retracing and https://www.tensorflow.org/api_docs/python/tf/function for  more details.\n"
     ]
    },
    {
     "name": "stdout",
     "output_type": "stream",
     "text": [
      "WARNING:tensorflow:6 out of the last 6 calls to <function recreate_function.<locals>.restored_function_body at 0x19f7f0d30> triggered tf.function retracing. Tracing is expensive and the excessive number of tracings could be due to (1) creating @tf.function repeatedly in a loop, (2) passing tensors with different shapes, (3) passing Python objects instead of tensors. For (1), please define your @tf.function outside of the loop. For (2), @tf.function has experimental_relax_shapes=True option that relaxes argument shapes that can avoid unnecessary retracing. For (3), please refer to https://www.tensorflow.org/guide/function#controlling_retracing and https://www.tensorflow.org/api_docs/python/tf/function for  more details.\n"
     ]
    },
    {
     "name": "stderr",
     "output_type": "stream",
     "text": [
      "WARNING:tensorflow:6 out of the last 6 calls to <function recreate_function.<locals>.restored_function_body at 0x19f7f0d30> triggered tf.function retracing. Tracing is expensive and the excessive number of tracings could be due to (1) creating @tf.function repeatedly in a loop, (2) passing tensors with different shapes, (3) passing Python objects instead of tensors. For (1), please define your @tf.function outside of the loop. For (2), @tf.function has experimental_relax_shapes=True option that relaxes argument shapes that can avoid unnecessary retracing. For (3), please refer to https://www.tensorflow.org/guide/function#controlling_retracing and https://www.tensorflow.org/api_docs/python/tf/function for  more details.\n"
     ]
    },
    {
     "name": "stdout",
     "output_type": "stream",
     "text": [
      "552/552 [==============================] - 125s 225ms/step - factorized_top_k/top_1_categorical_accuracy: 1.4158e-05 - factorized_top_k/top_5_categorical_accuracy: 0.0072 - factorized_top_k/top_10_categorical_accuracy: 0.0098 - factorized_top_k/top_50_categorical_accuracy: 0.0326 - factorized_top_k/top_100_categorical_accuracy: 0.0523 - loss: 4.8432 - regularization_loss: 0.0000e+00 - total_loss: 4.8432\n"
     ]
    },
    {
     "data": {
      "text/plain": [
       "[1.4158089470583946e-05,\n",
       " 0.007234783377498388,\n",
       " 0.009839871898293495,\n",
       " 0.032634396106004715,\n",
       " 0.05227166414260864,\n",
       " 4.630845069885254,\n",
       " 0,\n",
       " 4.630845069885254]"
      ]
     },
     "execution_count": 176,
     "metadata": {},
     "output_type": "execute_result"
    }
   ],
   "source": [
    "model_link = 'https://tfhub.dev/google/nnlm-en-dim128-with-normalization/2'\n",
    "\n",
    "text_model = {\"format\": \"text\", \"link\": model_link}\n",
    "\n",
    "recsys2_im = ItemSimilarityModel(test_candidate_ids=unique_item_ids,\n",
    "                                      features=['text_model', 'image_embedding'],\n",
    "                                      feature_dims=[text_model, None],\n",
    "                                      unique_item_ids=unique_item_ids,\n",
    "                                      item_body_lookup=body_lookup_table,\n",
    "                                      item_tags_lookup=tags_lookup_table,\n",
    "                                      item_category_lookup=category_lookup_table,\n",
    "                                      item_image_lookup=thumbnail_lookup_table,\n",
    "                                      image_embedding_lookup_table=im_vec_lookup_table,\n",
    "                                      layer_sizes=[])\n",
    "recsys2_im.compile(optimizer=tf.keras.optimizers.Adagrad(lr))\n",
    "\n",
    "recsys2_im_metrics = recsys2_im.evaluate(holdout_logs_tf.batch(128).cache())\n",
    "recsys2_im_metrics"
   ]
  },
  {
   "cell_type": "markdown",
   "metadata": {},
   "source": [
    "### Pretrained text model tuned on siamese network"
   ]
  },
  {
   "cell_type": "code",
   "execution_count": 179,
   "metadata": {},
   "outputs": [
    {
     "name": "stdout",
     "output_type": "stream",
     "text": [
      "Using pretrained TEXT model: https://tfhub.dev/google/nnlm-en-dim128-with-normalization/2\n",
      "WARNING:tensorflow:7 out of the last 7 calls to <function recreate_function.<locals>.restored_function_body at 0x19f62e280> triggered tf.function retracing. Tracing is expensive and the excessive number of tracings could be due to (1) creating @tf.function repeatedly in a loop, (2) passing tensors with different shapes, (3) passing Python objects instead of tensors. For (1), please define your @tf.function outside of the loop. For (2), @tf.function has experimental_relax_shapes=True option that relaxes argument shapes that can avoid unnecessary retracing. For (3), please refer to https://www.tensorflow.org/guide/function#controlling_retracing and https://www.tensorflow.org/api_docs/python/tf/function for  more details.\n"
     ]
    },
    {
     "name": "stderr",
     "output_type": "stream",
     "text": [
      "WARNING:tensorflow:7 out of the last 7 calls to <function recreate_function.<locals>.restored_function_body at 0x19f62e280> triggered tf.function retracing. Tracing is expensive and the excessive number of tracings could be due to (1) creating @tf.function repeatedly in a loop, (2) passing tensors with different shapes, (3) passing Python objects instead of tensors. For (1), please define your @tf.function outside of the loop. For (2), @tf.function has experimental_relax_shapes=True option that relaxes argument shapes that can avoid unnecessary retracing. For (3), please refer to https://www.tensorflow.org/guide/function#controlling_retracing and https://www.tensorflow.org/api_docs/python/tf/function for  more details.\n"
     ]
    },
    {
     "name": "stdout",
     "output_type": "stream",
     "text": [
      "WARNING:tensorflow:8 out of the last 8 calls to <function recreate_function.<locals>.restored_function_body at 0x19f62e4c0> triggered tf.function retracing. Tracing is expensive and the excessive number of tracings could be due to (1) creating @tf.function repeatedly in a loop, (2) passing tensors with different shapes, (3) passing Python objects instead of tensors. For (1), please define your @tf.function outside of the loop. For (2), @tf.function has experimental_relax_shapes=True option that relaxes argument shapes that can avoid unnecessary retracing. For (3), please refer to https://www.tensorflow.org/guide/function#controlling_retracing and https://www.tensorflow.org/api_docs/python/tf/function for  more details.\n"
     ]
    },
    {
     "name": "stderr",
     "output_type": "stream",
     "text": [
      "WARNING:tensorflow:8 out of the last 8 calls to <function recreate_function.<locals>.restored_function_body at 0x19f62e4c0> triggered tf.function retracing. Tracing is expensive and the excessive number of tracings could be due to (1) creating @tf.function repeatedly in a loop, (2) passing tensors with different shapes, (3) passing Python objects instead of tensors. For (1), please define your @tf.function outside of the loop. For (2), @tf.function has experimental_relax_shapes=True option that relaxes argument shapes that can avoid unnecessary retracing. For (3), please refer to https://www.tensorflow.org/guide/function#controlling_retracing and https://www.tensorflow.org/api_docs/python/tf/function for  more details.\n"
     ]
    },
    {
     "name": "stdout",
     "output_type": "stream",
     "text": [
      "WARNING:tensorflow:9 out of the last 9 calls to <function recreate_function.<locals>.restored_function_body at 0x1a4558ee0> triggered tf.function retracing. Tracing is expensive and the excessive number of tracings could be due to (1) creating @tf.function repeatedly in a loop, (2) passing tensors with different shapes, (3) passing Python objects instead of tensors. For (1), please define your @tf.function outside of the loop. For (2), @tf.function has experimental_relax_shapes=True option that relaxes argument shapes that can avoid unnecessary retracing. For (3), please refer to https://www.tensorflow.org/guide/function#controlling_retracing and https://www.tensorflow.org/api_docs/python/tf/function for  more details.\n"
     ]
    },
    {
     "name": "stderr",
     "output_type": "stream",
     "text": [
      "WARNING:tensorflow:9 out of the last 9 calls to <function recreate_function.<locals>.restored_function_body at 0x1a4558ee0> triggered tf.function retracing. Tracing is expensive and the excessive number of tracings could be due to (1) creating @tf.function repeatedly in a loop, (2) passing tensors with different shapes, (3) passing Python objects instead of tensors. For (1), please define your @tf.function outside of the loop. For (2), @tf.function has experimental_relax_shapes=True option that relaxes argument shapes that can avoid unnecessary retracing. For (3), please refer to https://www.tensorflow.org/guide/function#controlling_retracing and https://www.tensorflow.org/api_docs/python/tf/function for  more details.\n"
     ]
    },
    {
     "name": "stdout",
     "output_type": "stream",
     "text": [
      "Epoch 1/3\n",
      "WARNING:tensorflow:The dtype of the source tensor must be floating (e.g. tf.float32) when calling GradientTape.gradient, got tf.int32\n"
     ]
    },
    {
     "name": "stderr",
     "output_type": "stream",
     "text": [
      "WARNING:tensorflow:The dtype of the source tensor must be floating (e.g. tf.float32) when calling GradientTape.gradient, got tf.int32\n"
     ]
    },
    {
     "name": "stdout",
     "output_type": "stream",
     "text": [
      "WARNING:tensorflow:Gradients do not exist for variables ['counter:0'] when minimizing the loss.\n"
     ]
    },
    {
     "name": "stderr",
     "output_type": "stream",
     "text": [
      "WARNING:tensorflow:Gradients do not exist for variables ['counter:0'] when minimizing the loss.\n"
     ]
    },
    {
     "name": "stdout",
     "output_type": "stream",
     "text": [
      "WARNING:tensorflow:The dtype of the source tensor must be floating (e.g. tf.float32) when calling GradientTape.gradient, got tf.int32\n"
     ]
    },
    {
     "name": "stderr",
     "output_type": "stream",
     "text": [
      "WARNING:tensorflow:The dtype of the source tensor must be floating (e.g. tf.float32) when calling GradientTape.gradient, got tf.int32\n"
     ]
    },
    {
     "name": "stdout",
     "output_type": "stream",
     "text": [
      "WARNING:tensorflow:Gradients do not exist for variables ['counter:0'] when minimizing the loss.\n"
     ]
    },
    {
     "name": "stderr",
     "output_type": "stream",
     "text": [
      "WARNING:tensorflow:Gradients do not exist for variables ['counter:0'] when minimizing the loss.\n"
     ]
    },
    {
     "name": "stdout",
     "output_type": "stream",
     "text": [
      "1704/1704 [==============================] - 438s 256ms/step - factorized_top_k/top_1_categorical_accuracy: 0.0028 - factorized_top_k/top_5_categorical_accuracy: 0.0115 - factorized_top_k/top_10_categorical_accuracy: 0.0181 - factorized_top_k/top_50_categorical_accuracy: 0.0505 - factorized_top_k/top_100_categorical_accuracy: 0.0833 - loss: 4.6687 - regularization_loss: 0.0000e+00 - total_loss: 4.6687 - val_factorized_top_k/top_1_categorical_accuracy: 3.3024e-04 - val_factorized_top_k/top_5_categorical_accuracy: 0.0106 - val_factorized_top_k/top_10_categorical_accuracy: 0.0152 - val_factorized_top_k/top_50_categorical_accuracy: 0.0433 - val_factorized_top_k/top_100_categorical_accuracy: 0.0809 - val_loss: 3.1797 - val_regularization_loss: 0.0000e+00 - val_total_loss: 3.1797\n",
      "Epoch 2/3\n",
      "1704/1704 [==============================] - 430s 252ms/step - factorized_top_k/top_1_categorical_accuracy: 0.0015 - factorized_top_k/top_5_categorical_accuracy: 0.0083 - factorized_top_k/top_10_categorical_accuracy: 0.0152 - factorized_top_k/top_50_categorical_accuracy: 0.0497 - factorized_top_k/top_100_categorical_accuracy: 0.0849 - loss: 4.8753 - regularization_loss: 0.0000e+00 - total_loss: 4.8753 - val_factorized_top_k/top_1_categorical_accuracy: 0.0015 - val_factorized_top_k/top_5_categorical_accuracy: 0.0099 - val_factorized_top_k/top_10_categorical_accuracy: 0.0143 - val_factorized_top_k/top_50_categorical_accuracy: 0.0490 - val_factorized_top_k/top_100_categorical_accuracy: 0.0816 - val_loss: 3.9754 - val_regularization_loss: 0.0000e+00 - val_total_loss: 3.9754\n",
      "Epoch 3/3\n",
      "1704/1704 [==============================] - 373s 219ms/step - factorized_top_k/top_1_categorical_accuracy: 0.0017 - factorized_top_k/top_5_categorical_accuracy: 0.0139 - factorized_top_k/top_10_categorical_accuracy: 0.0187 - factorized_top_k/top_50_categorical_accuracy: 0.0618 - factorized_top_k/top_100_categorical_accuracy: 0.0939 - loss: 5.1233 - regularization_loss: 0.0000e+00 - total_loss: 5.1233 - val_factorized_top_k/top_1_categorical_accuracy: 0.0046 - val_factorized_top_k/top_5_categorical_accuracy: 0.0177 - val_factorized_top_k/top_10_categorical_accuracy: 0.0262 - val_factorized_top_k/top_50_categorical_accuracy: 0.0708 - val_factorized_top_k/top_100_categorical_accuracy: 0.1081 - val_loss: 4.3221 - val_regularization_loss: 0.0000e+00 - val_total_loss: 4.3221\n",
      "Train accuracy: 0.09387212246656418\n",
      "Validation accuracy: 0.10811145603656769\n",
      "552/552 [==============================] - 111s 200ms/step - factorized_top_k/top_1_categorical_accuracy: 0.0018 - factorized_top_k/top_5_categorical_accuracy: 0.0144 - factorized_top_k/top_10_categorical_accuracy: 0.0210 - factorized_top_k/top_50_categorical_accuracy: 0.0623 - factorized_top_k/top_100_categorical_accuracy: 0.1077 - loss: 5.3980 - regularization_loss: 0.0000e+00 - total_loss: 5.3980\n"
     ]
    },
    {
     "data": {
      "text/plain": [
       "[0.0018263935344293714,\n",
       " 0.014412934891879559,\n",
       " 0.020968129858374596,\n",
       " 0.06230974942445755,\n",
       " 0.10768643021583557,\n",
       " 5.5161871910095215,\n",
       " 0,\n",
       " 5.5161871910095215]"
      ]
     },
     "execution_count": 179,
     "metadata": {},
     "output_type": "execute_result"
    }
   ],
   "source": [
    "num_epochs = 3\n",
    "lr = 0.01\n",
    "cached_train = sfv_train.batch(128).cache()\n",
    "cached_test = sfv_val.batch(128).cache()\n",
    "model_link = 'https://tfhub.dev/google/nnlm-en-dim128-with-normalization/2'\n",
    "text_model = {\"format\": \"text\", \"link\": model_link}\n",
    "model_one_layer = ItemSimilarityModel(test_candidate_ids=unique_item_ids,\n",
    "                                      features=['text_model'],\n",
    "                                      feature_dims=[text_model],\n",
    "                                      unique_item_ids=unique_item_ids,\n",
    "                                      item_body_lookup=body_lookup_table,\n",
    "                                      item_tags_lookup=tags_lookup_table,\n",
    "                                      item_category_lookup=category_lookup_table,\n",
    "                                      item_image_lookup=thumbnail_lookup_table,\n",
    "                                      image_embedding_lookup_table=im_vec_lookup_table,\n",
    "                                      layer_sizes=[100])\n",
    "model_one_layer.compile(optimizer=tf.keras.optimizers.Adagrad(lr))\n",
    "\n",
    "one_layer_history = model_one_layer.fit(\n",
    "    cached_train,\n",
    "    validation_data=cached_test,\n",
    "    validation_freq=1,\n",
    "    epochs=num_epochs,\n",
    "    verbose=1)\n",
    "#    callbacks=[tensorboard_callback])\n",
    "\n",
    "print(f'Train accuracy: {one_layer_history.history[\"factorized_top_k/top_100_categorical_accuracy\"][-1]}')   \n",
    "print(f'Validation accuracy: {one_layer_history.history[\"val_factorized_top_k/top_100_categorical_accuracy\"][-1]}')\n",
    "\n",
    "text_deep_metrics = model_one_layer.evaluate(holdout_logs_tf.batch(128).cache())\n",
    "text_deep_metrics"
   ]
  },
  {
   "cell_type": "markdown",
   "metadata": {},
   "source": [
    "### Siamese network trained with item body text "
   ]
  },
  {
   "cell_type": "code",
   "execution_count": 182,
   "metadata": {},
   "outputs": [
    {
     "name": "stdout",
     "output_type": "stream",
     "text": [
      "Epoch 1/3\n",
      "WARNING:tensorflow:The dtype of the source tensor must be floating (e.g. tf.float32) when calling GradientTape.gradient, got tf.int32\n"
     ]
    },
    {
     "name": "stderr",
     "output_type": "stream",
     "text": [
      "WARNING:tensorflow:The dtype of the source tensor must be floating (e.g. tf.float32) when calling GradientTape.gradient, got tf.int32\n"
     ]
    },
    {
     "name": "stdout",
     "output_type": "stream",
     "text": [
      "WARNING:tensorflow:Gradients do not exist for variables ['counter:0'] when minimizing the loss.\n"
     ]
    },
    {
     "name": "stderr",
     "output_type": "stream",
     "text": [
      "WARNING:tensorflow:Gradients do not exist for variables ['counter:0'] when minimizing the loss.\n"
     ]
    },
    {
     "name": "stdout",
     "output_type": "stream",
     "text": [
      "WARNING:tensorflow:The dtype of the source tensor must be floating (e.g. tf.float32) when calling GradientTape.gradient, got tf.int32\n"
     ]
    },
    {
     "name": "stderr",
     "output_type": "stream",
     "text": [
      "WARNING:tensorflow:The dtype of the source tensor must be floating (e.g. tf.float32) when calling GradientTape.gradient, got tf.int32\n"
     ]
    },
    {
     "name": "stdout",
     "output_type": "stream",
     "text": [
      "WARNING:tensorflow:Gradients do not exist for variables ['counter:0'] when minimizing the loss.\n"
     ]
    },
    {
     "name": "stderr",
     "output_type": "stream",
     "text": [
      "WARNING:tensorflow:Gradients do not exist for variables ['counter:0'] when minimizing the loss.\n"
     ]
    },
    {
     "name": "stdout",
     "output_type": "stream",
     "text": [
      "1704/1704 [==============================] - 564s 330ms/step - factorized_top_k/top_1_categorical_accuracy: 0.5833 - factorized_top_k/top_5_categorical_accuracy: 0.6263 - factorized_top_k/top_10_categorical_accuracy: 0.6516 - factorized_top_k/top_50_categorical_accuracy: 0.6889 - factorized_top_k/top_100_categorical_accuracy: 0.7079 - loss: 4.8505 - regularization_loss: 0.0000e+00 - total_loss: 4.8505 - val_factorized_top_k/top_1_categorical_accuracy: 2.4768e-04 - val_factorized_top_k/top_5_categorical_accuracy: 4.9536e-04 - val_factorized_top_k/top_10_categorical_accuracy: 4.9536e-04 - val_factorized_top_k/top_50_categorical_accuracy: 0.0059 - val_factorized_top_k/top_100_categorical_accuracy: 0.0059 - val_loss: 3.4965 - val_regularization_loss: 0.0000e+00 - val_total_loss: 3.4965\n",
      "Epoch 2/3\n",
      "1704/1704 [==============================] - 730s 428ms/step - factorized_top_k/top_1_categorical_accuracy: 0.5939 - factorized_top_k/top_5_categorical_accuracy: 0.6308 - factorized_top_k/top_10_categorical_accuracy: 0.6490 - factorized_top_k/top_50_categorical_accuracy: 0.6716 - factorized_top_k/top_100_categorical_accuracy: 0.6811 - loss: 4.8505 - regularization_loss: 0.0000e+00 - total_loss: 4.8505 - val_factorized_top_k/top_1_categorical_accuracy: 0.1346 - val_factorized_top_k/top_5_categorical_accuracy: 0.2759 - val_factorized_top_k/top_10_categorical_accuracy: 0.3006 - val_factorized_top_k/top_50_categorical_accuracy: 0.3095 - val_factorized_top_k/top_100_categorical_accuracy: 0.4272 - val_loss: 3.4965 - val_regularization_loss: 0.0000e+00 - val_total_loss: 3.4965\n",
      "Epoch 3/3\n",
      "1704/1704 [==============================] - 540s 317ms/step - factorized_top_k/top_1_categorical_accuracy: 0.1566 - factorized_top_k/top_5_categorical_accuracy: 0.1728 - factorized_top_k/top_10_categorical_accuracy: 0.1806 - factorized_top_k/top_50_categorical_accuracy: 0.1942 - factorized_top_k/top_100_categorical_accuracy: 0.2017 - loss: 4.8505 - regularization_loss: 0.0000e+00 - total_loss: 4.8505 - val_factorized_top_k/top_1_categorical_accuracy: 0.0000e+00 - val_factorized_top_k/top_5_categorical_accuracy: 0.0000e+00 - val_factorized_top_k/top_10_categorical_accuracy: 0.0000e+00 - val_factorized_top_k/top_50_categorical_accuracy: 1.2384e-04 - val_factorized_top_k/top_100_categorical_accuracy: 4.1280e-04 - val_loss: 3.4965 - val_regularization_loss: 0.0000e+00 - val_total_loss: 3.4965\n",
      "Train accuracy: 0.2016603946685791\n",
      "Validation accuracy: 0.0004127967113163322\n",
      "552/552 [==============================] - 170s 307ms/step - factorized_top_k/top_1_categorical_accuracy: 0.0000e+00 - factorized_top_k/top_5_categorical_accuracy: 1.4158e-05 - factorized_top_k/top_10_categorical_accuracy: 4.2474e-05 - factorized_top_k/top_50_categorical_accuracy: 1.5574e-04 - factorized_top_k/top_100_categorical_accuracy: 1.8406e-04 - loss: 4.8512 - regularization_loss: 0.0000e+00 - total_loss: 4.8512\n"
     ]
    },
    {
     "data": {
      "text/plain": [
       "[0.0,\n",
       " 1.4158089470583946e-05,\n",
       " 4.2474268411751837e-05,\n",
       " 0.0001557389769004658,\n",
       " 0.00018405515584163368,\n",
       " 4.634729385375977,\n",
       " 0,\n",
       " 4.634729385375977]"
      ]
     },
     "execution_count": 182,
     "metadata": {},
     "output_type": "execute_result"
    }
   ],
   "source": [
    "num_epochs = 3\n",
    "lr = 0.01\n",
    "cached_train = sfv_train.batch(128).cache()\n",
    "cached_test = sfv_val.batch(128).cache()\n",
    "model_link = 'https://tfhub.dev/google/nnlm-en-dim128-with-normalization/2'\n",
    "text_model = {\"format\": \"text\", \"link\": model_link}\n",
    "model_one_layer = ItemSimilarityModel(test_candidate_ids=unique_item_ids,\n",
    "                                      features=['body'],\n",
    "                                      feature_dims=[64],\n",
    "                                      unique_item_ids=unique_item_ids,\n",
    "                                      item_body_lookup=body_lookup_table,\n",
    "                                      item_tags_lookup=tags_lookup_table,\n",
    "                                      item_category_lookup=category_lookup_table,\n",
    "                                      item_image_lookup=thumbnail_lookup_table,\n",
    "                                      image_embedding_lookup_table=im_vec_lookup_table,\n",
    "                                      layer_sizes=[],\n",
    "                                      compute_metrics=True)\n",
    "model_one_layer.compile(optimizer=tf.keras.optimizers.Adagrad(lr))\n",
    "\n",
    "one_layer_history = model_one_layer.fit(\n",
    "    cached_train,\n",
    "    validation_data=cached_test,\n",
    "    validation_freq=1,\n",
    "    epochs=num_epochs,\n",
    "    verbose=1)\n",
    "#    callbacks=[tensorboard_callback])\n",
    "\n",
    "print(f'Train accuracy: {one_layer_history.history[\"factorized_top_k/top_100_categorical_accuracy\"][-1]}')   \n",
    "print(f'Validation accuracy: {one_layer_history.history[\"val_factorized_top_k/top_100_categorical_accuracy\"][-1]}')\n",
    "model_one_layer.compute_metrics = True\n",
    "text_deep_metrics = model_one_layer.evaluate(holdout_logs_tf.batch(128).cache())\n",
    "text_deep_metrics"
   ]
  },
  {
   "cell_type": "markdown",
   "metadata": {},
   "source": [
    "### Siamese network trained with item tags text"
   ]
  },
  {
   "cell_type": "code",
   "execution_count": 342,
   "metadata": {},
   "outputs": [
    {
     "name": "stdout",
     "output_type": "stream",
     "text": [
      "Epoch 1/3\n",
      "WARNING:tensorflow:The dtype of the source tensor must be floating (e.g. tf.float32) when calling GradientTape.gradient, got tf.int32\n"
     ]
    },
    {
     "name": "stderr",
     "output_type": "stream",
     "text": [
      "WARNING:tensorflow:The dtype of the source tensor must be floating (e.g. tf.float32) when calling GradientTape.gradient, got tf.int32\n"
     ]
    },
    {
     "name": "stdout",
     "output_type": "stream",
     "text": [
      "WARNING:tensorflow:Gradients do not exist for variables ['counter:0'] when minimizing the loss.\n"
     ]
    },
    {
     "name": "stderr",
     "output_type": "stream",
     "text": [
      "WARNING:tensorflow:Gradients do not exist for variables ['counter:0'] when minimizing the loss.\n"
     ]
    },
    {
     "name": "stdout",
     "output_type": "stream",
     "text": [
      "WARNING:tensorflow:The dtype of the source tensor must be floating (e.g. tf.float32) when calling GradientTape.gradient, got tf.int32\n"
     ]
    },
    {
     "name": "stderr",
     "output_type": "stream",
     "text": [
      "WARNING:tensorflow:The dtype of the source tensor must be floating (e.g. tf.float32) when calling GradientTape.gradient, got tf.int32\n"
     ]
    },
    {
     "name": "stdout",
     "output_type": "stream",
     "text": [
      "WARNING:tensorflow:Gradients do not exist for variables ['counter:0'] when minimizing the loss.\n"
     ]
    },
    {
     "name": "stderr",
     "output_type": "stream",
     "text": [
      "WARNING:tensorflow:Gradients do not exist for variables ['counter:0'] when minimizing the loss.\n"
     ]
    },
    {
     "name": "stdout",
     "output_type": "stream",
     "text": [
      "1704/1704 [==============================] - 296s 174ms/step - factorized_top_k/top_1_categorical_accuracy: 0.7071 - factorized_top_k/top_5_categorical_accuracy: 0.7391 - factorized_top_k/top_10_categorical_accuracy: 0.7437 - factorized_top_k/top_50_categorical_accuracy: 0.7478 - factorized_top_k/top_100_categorical_accuracy: 0.7514 - loss: 4.8505 - regularization_loss: 0.0000e+00 - total_loss: 4.8505 - val_factorized_top_k/top_1_categorical_accuracy: 0.1431 - val_factorized_top_k/top_5_categorical_accuracy: 0.1450 - val_factorized_top_k/top_10_categorical_accuracy: 0.1528 - val_factorized_top_k/top_50_categorical_accuracy: 0.1528 - val_factorized_top_k/top_100_categorical_accuracy: 0.1528 - val_loss: 3.9120 - val_regularization_loss: 0.0000e+00 - val_total_loss: 3.9120\n",
      "Epoch 2/3\n",
      "1704/1704 [==============================] - 308s 181ms/step - factorized_top_k/top_1_categorical_accuracy: 0.4259 - factorized_top_k/top_5_categorical_accuracy: 0.4719 - factorized_top_k/top_10_categorical_accuracy: 0.4824 - factorized_top_k/top_50_categorical_accuracy: 0.4889 - factorized_top_k/top_100_categorical_accuracy: 0.4922 - loss: 4.8505 - regularization_loss: 0.0000e+00 - total_loss: 4.8505 - val_factorized_top_k/top_1_categorical_accuracy: 0.0000e+00 - val_factorized_top_k/top_5_categorical_accuracy: 0.0000e+00 - val_factorized_top_k/top_10_categorical_accuracy: 0.0000e+00 - val_factorized_top_k/top_50_categorical_accuracy: 0.0000e+00 - val_factorized_top_k/top_100_categorical_accuracy: 0.0000e+00 - val_loss: 3.9120 - val_regularization_loss: 0.0000e+00 - val_total_loss: 3.9120\n",
      "Epoch 3/3\n",
      "1704/1704 [==============================] - 315s 185ms/step - factorized_top_k/top_1_categorical_accuracy: 0.4553 - factorized_top_k/top_5_categorical_accuracy: 0.4925 - factorized_top_k/top_10_categorical_accuracy: 0.5000 - factorized_top_k/top_50_categorical_accuracy: 0.5078 - factorized_top_k/top_100_categorical_accuracy: 0.5125 - loss: 4.8505 - regularization_loss: 0.0000e+00 - total_loss: 4.8505 - val_factorized_top_k/top_1_categorical_accuracy: 0.9580 - val_factorized_top_k/top_5_categorical_accuracy: 0.9767 - val_factorized_top_k/top_10_categorical_accuracy: 0.9821 - val_factorized_top_k/top_50_categorical_accuracy: 0.9845 - val_factorized_top_k/top_100_categorical_accuracy: 0.9848 - val_loss: 3.9120 - val_regularization_loss: 0.0000e+00 - val_total_loss: 3.9120\n",
      "Train accuracy: 0.5124850869178772\n",
      "Validation accuracy: 0.9847819805145264\n"
     ]
    },
    {
     "ename": "RuntimeError",
     "evalue": "You must compile your model before training/testing. Use `model.compile(optimizer, loss)`.",
     "output_type": "error",
     "traceback": [
      "\u001B[0;31m---------------------------------------------------------------------------\u001B[0m",
      "\u001B[0;31mRuntimeError\u001B[0m                              Traceback (most recent call last)",
      "\u001B[0;32m<ipython-input-342-4d30ae23bc0c>\u001B[0m in \u001B[0;36m<module>\u001B[0;34m\u001B[0m\n\u001B[1;32m     28\u001B[0m \u001B[0mprint\u001B[0m\u001B[0;34m(\u001B[0m\u001B[0;34mf'Validation accuracy: {one_layer_history.history[\"val_factorized_top_k/top_100_categorical_accuracy\"][-1]}'\u001B[0m\u001B[0;34m)\u001B[0m\u001B[0;34m\u001B[0m\u001B[0;34m\u001B[0m\u001B[0m\n\u001B[1;32m     29\u001B[0m \u001B[0;34m\u001B[0m\u001B[0m\n\u001B[0;32m---> 30\u001B[0;31m \u001B[0mtags_deep_metrics\u001B[0m \u001B[0;34m=\u001B[0m \u001B[0mmodel_one_layer\u001B[0m\u001B[0;34m.\u001B[0m\u001B[0mevaluate\u001B[0m\u001B[0;34m(\u001B[0m\u001B[0mholdout_logs_tf\u001B[0m\u001B[0;34m.\u001B[0m\u001B[0mbatch\u001B[0m\u001B[0;34m(\u001B[0m\u001B[0;36m128\u001B[0m\u001B[0;34m)\u001B[0m\u001B[0;34m.\u001B[0m\u001B[0mcache\u001B[0m\u001B[0;34m(\u001B[0m\u001B[0;34m)\u001B[0m\u001B[0;34m)\u001B[0m\u001B[0;34m\u001B[0m\u001B[0;34m\u001B[0m\u001B[0m\n\u001B[0m\u001B[1;32m     31\u001B[0m \u001B[0mtags_deep_metrics\u001B[0m\u001B[0;34m\u001B[0m\u001B[0;34m\u001B[0m\u001B[0m\n",
      "\u001B[0;32m~/.virtualenvs/exploration-Tqzb7Mc2/lib/python3.7/site-packages/tensorflow/python/keras/engine/training.py\u001B[0m in \u001B[0;36m_method_wrapper\u001B[0;34m(self, *args, **kwargs)\u001B[0m\n\u001B[1;32m    106\u001B[0m   \u001B[0;32mdef\u001B[0m \u001B[0m_method_wrapper\u001B[0m\u001B[0;34m(\u001B[0m\u001B[0mself\u001B[0m\u001B[0;34m,\u001B[0m \u001B[0;34m*\u001B[0m\u001B[0margs\u001B[0m\u001B[0;34m,\u001B[0m \u001B[0;34m**\u001B[0m\u001B[0mkwargs\u001B[0m\u001B[0;34m)\u001B[0m\u001B[0;34m:\u001B[0m\u001B[0;34m\u001B[0m\u001B[0;34m\u001B[0m\u001B[0m\n\u001B[1;32m    107\u001B[0m     \u001B[0;32mif\u001B[0m \u001B[0;32mnot\u001B[0m \u001B[0mself\u001B[0m\u001B[0;34m.\u001B[0m\u001B[0m_in_multi_worker_mode\u001B[0m\u001B[0;34m(\u001B[0m\u001B[0;34m)\u001B[0m\u001B[0;34m:\u001B[0m  \u001B[0;31m# pylint: disable=protected-access\u001B[0m\u001B[0;34m\u001B[0m\u001B[0;34m\u001B[0m\u001B[0m\n\u001B[0;32m--> 108\u001B[0;31m       \u001B[0;32mreturn\u001B[0m \u001B[0mmethod\u001B[0m\u001B[0;34m(\u001B[0m\u001B[0mself\u001B[0m\u001B[0;34m,\u001B[0m \u001B[0;34m*\u001B[0m\u001B[0margs\u001B[0m\u001B[0;34m,\u001B[0m \u001B[0;34m**\u001B[0m\u001B[0mkwargs\u001B[0m\u001B[0;34m)\u001B[0m\u001B[0;34m\u001B[0m\u001B[0;34m\u001B[0m\u001B[0m\n\u001B[0m\u001B[1;32m    109\u001B[0m \u001B[0;34m\u001B[0m\u001B[0m\n\u001B[1;32m    110\u001B[0m     \u001B[0;31m# Running inside `run_distribute_coordinator` already.\u001B[0m\u001B[0;34m\u001B[0m\u001B[0;34m\u001B[0m\u001B[0;34m\u001B[0m\u001B[0m\n",
      "\u001B[0;32m~/.virtualenvs/exploration-Tqzb7Mc2/lib/python3.7/site-packages/tensorflow/python/keras/engine/training.py\u001B[0m in \u001B[0;36mevaluate\u001B[0;34m(self, x, y, batch_size, verbose, sample_weight, steps, callbacks, max_queue_size, workers, use_multiprocessing, return_dict)\u001B[0m\n\u001B[1;32m   1333\u001B[0m     \u001B[0m_keras_api_gauge\u001B[0m\u001B[0;34m.\u001B[0m\u001B[0mget_cell\u001B[0m\u001B[0;34m(\u001B[0m\u001B[0;34m'evaluate'\u001B[0m\u001B[0;34m)\u001B[0m\u001B[0;34m.\u001B[0m\u001B[0mset\u001B[0m\u001B[0;34m(\u001B[0m\u001B[0;32mTrue\u001B[0m\u001B[0;34m)\u001B[0m\u001B[0;34m\u001B[0m\u001B[0;34m\u001B[0m\u001B[0m\n\u001B[1;32m   1334\u001B[0m     \u001B[0mversion_utils\u001B[0m\u001B[0;34m.\u001B[0m\u001B[0mdisallow_legacy_graph\u001B[0m\u001B[0;34m(\u001B[0m\u001B[0;34m'Model'\u001B[0m\u001B[0;34m,\u001B[0m \u001B[0;34m'evaluate'\u001B[0m\u001B[0;34m)\u001B[0m\u001B[0;34m\u001B[0m\u001B[0;34m\u001B[0m\u001B[0m\n\u001B[0;32m-> 1335\u001B[0;31m     \u001B[0mself\u001B[0m\u001B[0;34m.\u001B[0m\u001B[0m_assert_compile_was_called\u001B[0m\u001B[0;34m(\u001B[0m\u001B[0;34m)\u001B[0m\u001B[0;34m\u001B[0m\u001B[0;34m\u001B[0m\u001B[0m\n\u001B[0m\u001B[1;32m   1336\u001B[0m     \u001B[0mself\u001B[0m\u001B[0;34m.\u001B[0m\u001B[0m_check_call_args\u001B[0m\u001B[0;34m(\u001B[0m\u001B[0;34m'evaluate'\u001B[0m\u001B[0;34m)\u001B[0m\u001B[0;34m\u001B[0m\u001B[0;34m\u001B[0m\u001B[0m\n\u001B[1;32m   1337\u001B[0m     \u001B[0m_disallow_inside_tf_function\u001B[0m\u001B[0;34m(\u001B[0m\u001B[0;34m'evaluate'\u001B[0m\u001B[0;34m)\u001B[0m\u001B[0;34m\u001B[0m\u001B[0;34m\u001B[0m\u001B[0m\n",
      "\u001B[0;32m~/.virtualenvs/exploration-Tqzb7Mc2/lib/python3.7/site-packages/tensorflow/python/keras/engine/training.py\u001B[0m in \u001B[0;36m_assert_compile_was_called\u001B[0;34m(self)\u001B[0m\n\u001B[1;32m   2567\u001B[0m     \u001B[0;31m# (i.e. whether the model is built and its inputs/outputs are set).\u001B[0m\u001B[0;34m\u001B[0m\u001B[0;34m\u001B[0m\u001B[0;34m\u001B[0m\u001B[0m\n\u001B[1;32m   2568\u001B[0m     \u001B[0;32mif\u001B[0m \u001B[0;32mnot\u001B[0m \u001B[0mself\u001B[0m\u001B[0;34m.\u001B[0m\u001B[0m_is_compiled\u001B[0m\u001B[0;34m:\u001B[0m\u001B[0;34m\u001B[0m\u001B[0;34m\u001B[0m\u001B[0m\n\u001B[0;32m-> 2569\u001B[0;31m       raise RuntimeError('You must compile your model before '\n\u001B[0m\u001B[1;32m   2570\u001B[0m                          \u001B[0;34m'training/testing. '\u001B[0m\u001B[0;34m\u001B[0m\u001B[0;34m\u001B[0m\u001B[0m\n\u001B[1;32m   2571\u001B[0m                          'Use `model.compile(optimizer, loss)`.')\n",
      "\u001B[0;31mRuntimeError\u001B[0m: You must compile your model before training/testing. Use `model.compile(optimizer, loss)`."
     ]
    }
   ],
   "source": [
    "num_epochs = 3\n",
    "lr = 0.01\n",
    "cached_train = sfv_train.batch(128).cache()\n",
    "cached_test = sfv_test.batch(128).cache()\n",
    "model_link = 'https://tfhub.dev/google/nnlm-en-dim128-with-normalization/2'\n",
    "text_model = {\"format\": \"text\", \"link\": model_link}\n",
    "tags_one_layer = ItemSimilarityModel(test_candidate_ids=unique_item_ids,\n",
    "                                      features=['tags'],\n",
    "                                      feature_dims=[64],\n",
    "                                      unique_item_ids=unique_item_ids,\n",
    "                                      item_body_lookup=body_lookup_table,\n",
    "                                      item_tags_lookup=tags_lookup_table,\n",
    "                                      item_category_lookup=category_lookup_table,\n",
    "                                      item_image_lookup=thumbnail_lookup_table,\n",
    "                                      image_embedding_lookup_table=im_vec_lookup_table,\n",
    "                                      layer_sizes=[])\n",
    "tags_one_layer.compile(optimizer=tf.keras.optimizers.Adagrad(lr))\n",
    "\n",
    "one_layer_history = tags_one_layer.fit(\n",
    "    cached_train,\n",
    "    validation_data=cached_test,\n",
    "    validation_freq=1,\n",
    "    epochs=num_epochs,\n",
    "    verbose=1)\n",
    "#    callbacks=[tensorboard_callback])\n",
    "\n",
    "print(f'Train accuracy: {one_layer_history.history[\"factorized_top_k/top_100_categorical_accuracy\"][-1]}')   \n",
    "print(f'Validation accuracy: {one_layer_history.history[\"val_factorized_top_k/top_100_categorical_accuracy\"][-1]}')\n",
    "\n",
    "tags_deep_metrics = model_one_layer.evaluate(holdout_logs_tf.batch(128).cache())\n",
    "tags_deep_metrics"
   ]
  },
  {
   "cell_type": "code",
   "execution_count": 344,
   "metadata": {},
   "outputs": [
    {
     "name": "stdout",
     "output_type": "stream",
     "text": [
      "552/552 [==============================] - 89s 161ms/step - factorized_top_k/top_1_categorical_accuracy: 0.9632 - factorized_top_k/top_5_categorical_accuracy: 0.9808 - factorized_top_k/top_10_categorical_accuracy: 0.9857 - factorized_top_k/top_50_categorical_accuracy: 0.9872 - factorized_top_k/top_100_categorical_accuracy: 0.9876 - loss: 4.8512 - regularization_loss: 0.0000e+00 - total_loss: 4.8512\n"
     ]
    }
   ],
   "source": [
    "tags_deep_metrics = tags_one_layer.evaluate(holdout_logs_tf.batch(128).cache())"
   ]
  },
  {
   "cell_type": "markdown",
   "metadata": {},
   "source": [
    "### Siamese network trained with item tags text and body"
   ]
  },
  {
   "cell_type": "code",
   "execution_count": 345,
   "metadata": {},
   "outputs": [
    {
     "name": "stdout",
     "output_type": "stream",
     "text": [
      "Epoch 1/3\n",
      "WARNING:tensorflow:The dtype of the source tensor must be floating (e.g. tf.float32) when calling GradientTape.gradient, got tf.int32\n"
     ]
    },
    {
     "name": "stderr",
     "output_type": "stream",
     "text": [
      "WARNING:tensorflow:The dtype of the source tensor must be floating (e.g. tf.float32) when calling GradientTape.gradient, got tf.int32\n"
     ]
    },
    {
     "name": "stdout",
     "output_type": "stream",
     "text": [
      "WARNING:tensorflow:Gradients do not exist for variables ['counter:0'] when minimizing the loss.\n"
     ]
    },
    {
     "name": "stderr",
     "output_type": "stream",
     "text": [
      "WARNING:tensorflow:Gradients do not exist for variables ['counter:0'] when minimizing the loss.\n"
     ]
    },
    {
     "name": "stdout",
     "output_type": "stream",
     "text": [
      "WARNING:tensorflow:The dtype of the source tensor must be floating (e.g. tf.float32) when calling GradientTape.gradient, got tf.int32\n"
     ]
    },
    {
     "name": "stderr",
     "output_type": "stream",
     "text": [
      "WARNING:tensorflow:The dtype of the source tensor must be floating (e.g. tf.float32) when calling GradientTape.gradient, got tf.int32\n"
     ]
    },
    {
     "name": "stdout",
     "output_type": "stream",
     "text": [
      "WARNING:tensorflow:Gradients do not exist for variables ['counter:0'] when minimizing the loss.\n"
     ]
    },
    {
     "name": "stderr",
     "output_type": "stream",
     "text": [
      "WARNING:tensorflow:Gradients do not exist for variables ['counter:0'] when minimizing the loss.\n"
     ]
    },
    {
     "name": "stdout",
     "output_type": "stream",
     "text": [
      "1704/1704 [==============================] - 723s 424ms/step - factorized_top_k/top_1_categorical_accuracy: 0.0140 - factorized_top_k/top_5_categorical_accuracy: 0.0587 - factorized_top_k/top_10_categorical_accuracy: 0.0695 - factorized_top_k/top_50_categorical_accuracy: 0.0869 - factorized_top_k/top_100_categorical_accuracy: 0.0950 - loss: 4.8505 - regularization_loss: 0.0000e+00 - total_loss: 4.8505 - val_factorized_top_k/top_1_categorical_accuracy: 0.0088 - val_factorized_top_k/top_5_categorical_accuracy: 0.3333 - val_factorized_top_k/top_10_categorical_accuracy: 0.4036 - val_factorized_top_k/top_50_categorical_accuracy: 0.6738 - val_factorized_top_k/top_100_categorical_accuracy: 0.9617 - val_loss: 3.9120 - val_regularization_loss: 0.0000e+00 - val_total_loss: 3.9120\n",
      "Epoch 2/3\n",
      "1704/1704 [==============================] - 653s 383ms/step - factorized_top_k/top_1_categorical_accuracy: 0.6046 - factorized_top_k/top_5_categorical_accuracy: 0.6613 - factorized_top_k/top_10_categorical_accuracy: 0.6792 - factorized_top_k/top_50_categorical_accuracy: 0.7110 - factorized_top_k/top_100_categorical_accuracy: 0.7263 - loss: 4.8505 - regularization_loss: 0.0000e+00 - total_loss: 4.8505 - val_factorized_top_k/top_1_categorical_accuracy: 5.8531e-04 - val_factorized_top_k/top_5_categorical_accuracy: 0.0438 - val_factorized_top_k/top_10_categorical_accuracy: 0.0697 - val_factorized_top_k/top_50_categorical_accuracy: 0.1254 - val_factorized_top_k/top_100_categorical_accuracy: 0.1403 - val_loss: 3.9120 - val_regularization_loss: 0.0000e+00 - val_total_loss: 3.9120\n",
      "Epoch 3/3\n",
      "1704/1704 [==============================] - 625s 367ms/step - factorized_top_k/top_1_categorical_accuracy: 0.4435 - factorized_top_k/top_5_categorical_accuracy: 0.4908 - factorized_top_k/top_10_categorical_accuracy: 0.5078 - factorized_top_k/top_50_categorical_accuracy: 0.5386 - factorized_top_k/top_100_categorical_accuracy: 0.5538 - loss: 4.8505 - regularization_loss: 0.0000e+00 - total_loss: 4.8505 - val_factorized_top_k/top_1_categorical_accuracy: 0.0000e+00 - val_factorized_top_k/top_5_categorical_accuracy: 5.8531e-04 - val_factorized_top_k/top_10_categorical_accuracy: 5.8531e-04 - val_factorized_top_k/top_50_categorical_accuracy: 0.0020 - val_factorized_top_k/top_100_categorical_accuracy: 0.0023 - val_loss: 3.9120 - val_regularization_loss: 0.0000e+00 - val_total_loss: 3.9120\n",
      "Train accuracy: 0.5538436770439148\n",
      "Validation accuracy: 0.0023412350565195084\n",
      "552/552 [==============================] - 200s 362ms/step - factorized_top_k/top_1_categorical_accuracy: 4.2474e-05 - factorized_top_k/top_5_categorical_accuracy: 3.9643e-04 - factorized_top_k/top_10_categorical_accuracy: 3.9643e-04 - factorized_top_k/top_50_categorical_accuracy: 0.0017 - factorized_top_k/top_100_categorical_accuracy: 0.0021 - loss: 4.8512 - regularization_loss: 0.0000e+00 - total_loss: 4.8512\n"
     ]
    },
    {
     "data": {
      "text/plain": [
       "[4.2474268411751837e-05,\n",
       " 0.0003964265051763505,\n",
       " 0.0003964265051763505,\n",
       " 0.0016564964316785336,\n",
       " 0.002067080931738019]"
      ]
     },
     "execution_count": 345,
     "metadata": {},
     "output_type": "execute_result"
    }
   ],
   "source": [
    "num_epochs = 3\n",
    "lr = 0.01\n",
    "cached_train = sfv_train.batch(128).cache()\n",
    "cached_test = sfv_val.batch(128).cache()\n",
    "model_link = 'https://tfhub.dev/google/nnlm-en-dim128-with-normalization/2'\n",
    "text_model = {\"format\": \"text\", \"link\": model_link}\n",
    "tags_text_siamese = ItemSimilarityModel(test_candidate_ids=unique_item_ids,\n",
    "                                      features=['tags', 'body'],\n",
    "                                      feature_dims=[64, 64],\n",
    "                                      unique_item_ids=unique_item_ids,\n",
    "                                      item_body_lookup=body_lookup_table,\n",
    "                                      item_tags_lookup=tags_lookup_table,\n",
    "                                      item_category_lookup=category_lookup_table,\n",
    "                                      item_image_lookup=thumbnail_lookup_table,\n",
    "                                      image_embedding_lookup_table=im_embeddings_lookup,\n",
    "                                      layer_sizes=[])\n",
    "tags_text_siamese.compile(optimizer=tf.keras.optimizers.Adagrad(lr))\n",
    "\n",
    "tags_text_history = tags_text_siamese.fit(\n",
    "    cached_train,\n",
    "    validation_data=cached_test,\n",
    "    validation_freq=1,\n",
    "    epochs=num_epochs,\n",
    "    verbose=1)\n",
    "#    callbacks=[tensorboard_callback])\n",
    "\n",
    "print(f'Train accuracy: {tags_text_history.history[\"factorized_top_k/top_100_categorical_accuracy\"][-1]}')   \n",
    "print(f'Validation accuracy: {tags_text_history.history[\"val_factorized_top_k/top_100_categorical_accuracy\"][-1]}')\n",
    "\n",
    "tags_text_metrics = tags_text_siamese.evaluate(holdout_logs_tf.batch(128).cache())\n",
    "tags_text_metrics"
   ]
  },
  {
   "cell_type": "markdown",
   "metadata": {},
   "source": [
    "### Deep Siamese network trained with item tags text and body"
   ]
  },
  {
   "cell_type": "code",
   "execution_count": 346,
   "metadata": {},
   "outputs": [
    {
     "name": "stdout",
     "output_type": "stream",
     "text": [
      "Epoch 1/3\n",
      "WARNING:tensorflow:The dtype of the source tensor must be floating (e.g. tf.float32) when calling GradientTape.gradient, got tf.int32\n"
     ]
    },
    {
     "name": "stderr",
     "output_type": "stream",
     "text": [
      "WARNING:tensorflow:The dtype of the source tensor must be floating (e.g. tf.float32) when calling GradientTape.gradient, got tf.int32\n"
     ]
    },
    {
     "name": "stdout",
     "output_type": "stream",
     "text": [
      "WARNING:tensorflow:Gradients do not exist for variables ['counter:0'] when minimizing the loss.\n"
     ]
    },
    {
     "name": "stderr",
     "output_type": "stream",
     "text": [
      "WARNING:tensorflow:Gradients do not exist for variables ['counter:0'] when minimizing the loss.\n"
     ]
    },
    {
     "name": "stdout",
     "output_type": "stream",
     "text": [
      "WARNING:tensorflow:The dtype of the source tensor must be floating (e.g. tf.float32) when calling GradientTape.gradient, got tf.int32\n"
     ]
    },
    {
     "name": "stderr",
     "output_type": "stream",
     "text": [
      "WARNING:tensorflow:The dtype of the source tensor must be floating (e.g. tf.float32) when calling GradientTape.gradient, got tf.int32\n"
     ]
    },
    {
     "name": "stdout",
     "output_type": "stream",
     "text": [
      "WARNING:tensorflow:Gradients do not exist for variables ['counter:0'] when minimizing the loss.\n"
     ]
    },
    {
     "name": "stderr",
     "output_type": "stream",
     "text": [
      "WARNING:tensorflow:Gradients do not exist for variables ['counter:0'] when minimizing the loss.\n"
     ]
    },
    {
     "name": "stdout",
     "output_type": "stream",
     "text": [
      "1704/1704 [==============================] - 746s 438ms/step - factorized_top_k/top_1_categorical_accuracy: 0.3441 - factorized_top_k/top_5_categorical_accuracy: 0.6136 - factorized_top_k/top_10_categorical_accuracy: 0.6474 - factorized_top_k/top_50_categorical_accuracy: 0.6939 - factorized_top_k/top_100_categorical_accuracy: 0.7140 - loss: 4.8505 - regularization_loss: 0.0000e+00 - total_loss: 4.8505 - val_factorized_top_k/top_1_categorical_accuracy: 0.0950 - val_factorized_top_k/top_5_categorical_accuracy: 0.9800 - val_factorized_top_k/top_10_categorical_accuracy: 0.9807 - val_factorized_top_k/top_50_categorical_accuracy: 0.9846 - val_factorized_top_k/top_100_categorical_accuracy: 0.9849 - val_loss: 3.9120 - val_regularization_loss: 0.0000e+00 - val_total_loss: 3.9120\n",
      "Epoch 2/3\n",
      "1704/1704 [==============================] - 690s 405ms/step - factorized_top_k/top_1_categorical_accuracy: 0.2354 - factorized_top_k/top_5_categorical_accuracy: 0.4494 - factorized_top_k/top_10_categorical_accuracy: 0.4717 - factorized_top_k/top_50_categorical_accuracy: 0.5028 - factorized_top_k/top_100_categorical_accuracy: 0.5151 - loss: 4.8505 - regularization_loss: 0.0000e+00 - total_loss: 4.8505 - val_factorized_top_k/top_1_categorical_accuracy: 0.3390 - val_factorized_top_k/top_5_categorical_accuracy: 0.9842 - val_factorized_top_k/top_10_categorical_accuracy: 0.9842 - val_factorized_top_k/top_50_categorical_accuracy: 0.9842 - val_factorized_top_k/top_100_categorical_accuracy: 0.9842 - val_loss: 3.9120 - val_regularization_loss: 0.0000e+00 - val_total_loss: 3.9120\n",
      "Epoch 3/3\n",
      "1704/1704 [==============================] - 647s 380ms/step - factorized_top_k/top_1_categorical_accuracy: 0.3221 - factorized_top_k/top_5_categorical_accuracy: 0.5675 - factorized_top_k/top_10_categorical_accuracy: 0.5895 - factorized_top_k/top_50_categorical_accuracy: 0.6204 - factorized_top_k/top_100_categorical_accuracy: 0.6360 - loss: 4.8505 - regularization_loss: 0.0000e+00 - total_loss: 4.8505 - val_factorized_top_k/top_1_categorical_accuracy: 0.0097 - val_factorized_top_k/top_5_categorical_accuracy: 0.0209 - val_factorized_top_k/top_10_categorical_accuracy: 0.0209 - val_factorized_top_k/top_50_categorical_accuracy: 0.0209 - val_factorized_top_k/top_100_categorical_accuracy: 0.0209 - val_loss: 3.9120 - val_regularization_loss: 0.0000e+00 - val_total_loss: 3.9120\n",
      "Train accuracy: 0.6360425353050232\n",
      "Validation accuracy: 0.02092478796839714\n",
      "552/552 [==============================] - 200s 362ms/step - factorized_top_k/top_1_categorical_accuracy: 0.0079 - factorized_top_k/top_5_categorical_accuracy: 0.0169 - factorized_top_k/top_10_categorical_accuracy: 0.0169 - factorized_top_k/top_50_categorical_accuracy: 0.0169 - factorized_top_k/top_100_categorical_accuracy: 0.0169 - loss: 4.8512 - regularization_loss: 0.0000e+00 - total_loss: 4.8512\n"
     ]
    },
    {
     "data": {
      "text/plain": [
       "[0.00788605585694313,\n",
       " 0.01687644235789776,\n",
       " 0.016890600323677063,\n",
       " 0.01694723218679428,\n",
       " 0.01694723218679428]"
      ]
     },
     "execution_count": 346,
     "metadata": {},
     "output_type": "execute_result"
    }
   ],
   "source": [
    "num_epochs = 3\n",
    "lr = 0.01\n",
    "cached_train = sfv_train.batch(128).cache()\n",
    "cached_test = sfv_test.batch(128).cache()\n",
    "model_link = 'https://tfhub.dev/google/nnlm-en-dim128-with-normalization/2'\n",
    "text_model = {\"format\": \"text\", \"link\": model_link}\n",
    "tags_body_deep = ItemSimilarityModel(test_candidate_ids=unique_item_ids,\n",
    "                                      features=['tags', 'body'],\n",
    "                                      feature_dims=[64, 64],\n",
    "                                      unique_item_ids=unique_item_ids,\n",
    "                                      item_body_lookup=body_lookup_table,\n",
    "                                      item_tags_lookup=tags_lookup_table,\n",
    "                                      item_category_lookup=category_lookup_table,\n",
    "                                      item_image_lookup=thumbnail_lookup_table,\n",
    "                                      image_embedding_lookup_table=im_embeddings_lookup,\n",
    "                                      layer_sizes=[96])\n",
    "tags_body_deep.compile(optimizer=tf.keras.optimizers.Adagrad(lr))\n",
    "\n",
    "tags_body_deep_metrics = tags_body_deep.fit(\n",
    "    cached_train,\n",
    "    validation_data=cached_test,\n",
    "    validation_freq=1,\n",
    "    epochs=num_epochs,\n",
    "    verbose=1)\n",
    "#    callbacks=[tensorboard_callback])\n",
    "\n",
    "print(f'Train accuracy: {tags_body_deep_metrics.history[\"factorized_top_k/top_100_categorical_accuracy\"][-1]}')   \n",
    "print(f'Validation accuracy: {tags_body_deep_metrics.history[\"val_factorized_top_k/top_100_categorical_accuracy\"][-1]}')\n",
    "\n",
    "tags_body_deep_metrics = tags_body_deep.evaluate(holdout_logs_tf.batch(128).cache())\n",
    "tags_body_deep_metrics"
   ]
  },
  {
   "cell_type": "markdown",
   "metadata": {},
   "source": [
    "### Deep Siamese network trained with item category and body"
   ]
  },
  {
   "cell_type": "code",
   "execution_count": 185,
   "metadata": {},
   "outputs": [
    {
     "name": "stdout",
     "output_type": "stream",
     "text": [
      "Epoch 1/3\n",
      "WARNING:tensorflow:The dtype of the source tensor must be floating (e.g. tf.float32) when calling GradientTape.gradient, got tf.int32\n"
     ]
    },
    {
     "name": "stderr",
     "output_type": "stream",
     "text": [
      "WARNING:tensorflow:The dtype of the source tensor must be floating (e.g. tf.float32) when calling GradientTape.gradient, got tf.int32\n"
     ]
    },
    {
     "name": "stdout",
     "output_type": "stream",
     "text": [
      "WARNING:tensorflow:Gradients do not exist for variables ['counter:0'] when minimizing the loss.\n"
     ]
    },
    {
     "name": "stderr",
     "output_type": "stream",
     "text": [
      "WARNING:tensorflow:Gradients do not exist for variables ['counter:0'] when minimizing the loss.\n"
     ]
    },
    {
     "name": "stdout",
     "output_type": "stream",
     "text": [
      "WARNING:tensorflow:The dtype of the source tensor must be floating (e.g. tf.float32) when calling GradientTape.gradient, got tf.int32\n"
     ]
    },
    {
     "name": "stderr",
     "output_type": "stream",
     "text": [
      "WARNING:tensorflow:The dtype of the source tensor must be floating (e.g. tf.float32) when calling GradientTape.gradient, got tf.int32\n"
     ]
    },
    {
     "name": "stdout",
     "output_type": "stream",
     "text": [
      "WARNING:tensorflow:Gradients do not exist for variables ['counter:0'] when minimizing the loss.\n"
     ]
    },
    {
     "name": "stderr",
     "output_type": "stream",
     "text": [
      "WARNING:tensorflow:Gradients do not exist for variables ['counter:0'] when minimizing the loss.\n"
     ]
    },
    {
     "name": "stdout",
     "output_type": "stream",
     "text": [
      "1704/1704 [==============================] - 133232s 78s/step - factorized_top_k/top_1_categorical_accuracy: 0.1037 - factorized_top_k/top_5_categorical_accuracy: 0.1064 - factorized_top_k/top_10_categorical_accuracy: 0.1065 - factorized_top_k/top_50_categorical_accuracy: 0.1228 - factorized_top_k/top_100_categorical_accuracy: 0.1554 - loss: 8.2435 - regularization_loss: 0.0000e+00 - total_loss: 8.2435 - val_factorized_top_k/top_1_categorical_accuracy: 0.0531 - val_factorized_top_k/top_5_categorical_accuracy: 0.0646 - val_factorized_top_k/top_10_categorical_accuracy: 0.0768 - val_factorized_top_k/top_50_categorical_accuracy: 0.1179 - val_factorized_top_k/top_100_categorical_accuracy: 0.1654 - val_loss: 7.2882 - val_regularization_loss: 0.0000e+00 - val_total_loss: 7.2882\n",
      "Epoch 2/3\n",
      "1704/1704 [==============================] - 572s 336ms/step - factorized_top_k/top_1_categorical_accuracy: 0.0995 - factorized_top_k/top_5_categorical_accuracy: 0.0995 - factorized_top_k/top_10_categorical_accuracy: 0.0995 - factorized_top_k/top_50_categorical_accuracy: 0.1116 - factorized_top_k/top_100_categorical_accuracy: 0.1447 - loss: 9.5546 - regularization_loss: 0.0000e+00 - total_loss: 9.5546 - val_factorized_top_k/top_1_categorical_accuracy: 0.1046 - val_factorized_top_k/top_5_categorical_accuracy: 0.1092 - val_factorized_top_k/top_10_categorical_accuracy: 0.1177 - val_factorized_top_k/top_50_categorical_accuracy: 0.1446 - val_factorized_top_k/top_100_categorical_accuracy: 0.1617 - val_loss: 6.8708 - val_regularization_loss: 0.0000e+00 - val_total_loss: 6.8708\n",
      "Epoch 3/3\n",
      "1704/1704 [==============================] - 595s 349ms/step - factorized_top_k/top_1_categorical_accuracy: 0.1022 - factorized_top_k/top_5_categorical_accuracy: 0.1022 - factorized_top_k/top_10_categorical_accuracy: 0.1022 - factorized_top_k/top_50_categorical_accuracy: 0.1129 - factorized_top_k/top_100_categorical_accuracy: 0.1326 - loss: 9.5964 - regularization_loss: 0.0000e+00 - total_loss: 9.5964 - val_factorized_top_k/top_1_categorical_accuracy: 0.1152 - val_factorized_top_k/top_5_categorical_accuracy: 0.1167 - val_factorized_top_k/top_10_categorical_accuracy: 0.1190 - val_factorized_top_k/top_50_categorical_accuracy: 0.1762 - val_factorized_top_k/top_100_categorical_accuracy: 0.2044 - val_loss: 6.9005 - val_regularization_loss: 0.0000e+00 - val_total_loss: 6.9005\n",
      "Train accuracy: 0.13255664706230164\n",
      "Validation accuracy: 0.20437563955783844\n",
      "552/552 [==============================] - 179s 324ms/step - factorized_top_k/top_1_categorical_accuracy: 0.1933 - factorized_top_k/top_5_categorical_accuracy: 0.1945 - factorized_top_k/top_10_categorical_accuracy: 0.2012 - factorized_top_k/top_50_categorical_accuracy: 0.2557 - factorized_top_k/top_100_categorical_accuracy: 0.2642 - loss: 8.4293 - regularization_loss: 0.0000e+00 - total_loss: 8.4293\n"
     ]
    },
    {
     "data": {
      "text/plain": [
       "[0.19332870841026306,\n",
       " 0.19454629719257355,\n",
       " 0.2012430876493454,\n",
       " 0.255695104598999,\n",
       " 0.264218270778656,\n",
       " 8.858963966369629,\n",
       " 0,\n",
       " 8.858963966369629]"
      ]
     },
     "execution_count": 185,
     "metadata": {},
     "output_type": "execute_result"
    }
   ],
   "source": [
    "num_epochs = 3\n",
    "lr = 0.01\n",
    "cached_train = sfv_train.batch(128).cache()\n",
    "cached_test = sfv_val.batch(128).cache()\n",
    "model_link = 'https://tfhub.dev/google/nnlm-en-dim128-with-normalization/2'\n",
    "text_model = {\"format\": \"text\", \"link\": model_link}\n",
    "tags_body_deep = ItemSimilarityModel(test_candidate_ids=unique_item_ids,\n",
    "                                      features=['category', 'body'],\n",
    "                                      feature_dims=[64, 64],\n",
    "                                      unique_item_ids=unique_item_ids,\n",
    "                                      item_body_lookup=body_lookup_table,\n",
    "                                      item_tags_lookup=tags_lookup_table,\n",
    "                                      item_category_lookup=category_lookup_table,\n",
    "                                      item_image_lookup=thumbnail_lookup_table,\n",
    "                                      image_embedding_lookup_table=im_vec_lookup_table,\n",
    "                                      layer_sizes=[96])\n",
    "tags_body_deep.compile(optimizer=tf.keras.optimizers.Adagrad(lr))\n",
    "\n",
    "tags_body_deep_metrics = tags_body_deep.fit(\n",
    "    cached_train,\n",
    "    validation_data=cached_test,\n",
    "    validation_freq=1,\n",
    "    epochs=num_epochs,\n",
    "    verbose=1)\n",
    "#    callbacks=[tensorboard_callback])\n",
    "\n",
    "print(f'Train accuracy: {tags_body_deep_metrics.history[\"factorized_top_k/top_100_categorical_accuracy\"][-1]}')   \n",
    "print(f'Validation accuracy: {tags_body_deep_metrics.history[\"val_factorized_top_k/top_100_categorical_accuracy\"][-1]}')\n",
    "\n",
    "tags_body_deep_metrics = tags_body_deep.evaluate(holdout_logs_tf.batch(128).cache())\n",
    "tags_body_deep_metrics"
   ]
  },
  {
   "cell_type": "markdown",
   "metadata": {},
   "source": [
    "###  Siamese network trained with item category and body"
   ]
  },
  {
   "cell_type": "code",
   "execution_count": 349,
   "metadata": {},
   "outputs": [
    {
     "name": "stdout",
     "output_type": "stream",
     "text": [
      "Epoch 1/3\n",
      "WARNING:tensorflow:The dtype of the source tensor must be floating (e.g. tf.float32) when calling GradientTape.gradient, got tf.int32\n"
     ]
    },
    {
     "name": "stderr",
     "output_type": "stream",
     "text": [
      "WARNING:tensorflow:The dtype of the source tensor must be floating (e.g. tf.float32) when calling GradientTape.gradient, got tf.int32\n"
     ]
    },
    {
     "name": "stdout",
     "output_type": "stream",
     "text": [
      "WARNING:tensorflow:Gradients do not exist for variables ['counter:0'] when minimizing the loss.\n"
     ]
    },
    {
     "name": "stderr",
     "output_type": "stream",
     "text": [
      "WARNING:tensorflow:Gradients do not exist for variables ['counter:0'] when minimizing the loss.\n"
     ]
    },
    {
     "name": "stdout",
     "output_type": "stream",
     "text": [
      "WARNING:tensorflow:The dtype of the source tensor must be floating (e.g. tf.float32) when calling GradientTape.gradient, got tf.int32\n"
     ]
    },
    {
     "name": "stderr",
     "output_type": "stream",
     "text": [
      "WARNING:tensorflow:The dtype of the source tensor must be floating (e.g. tf.float32) when calling GradientTape.gradient, got tf.int32\n"
     ]
    },
    {
     "name": "stdout",
     "output_type": "stream",
     "text": [
      "WARNING:tensorflow:Gradients do not exist for variables ['counter:0'] when minimizing the loss.\n"
     ]
    },
    {
     "name": "stderr",
     "output_type": "stream",
     "text": [
      "WARNING:tensorflow:Gradients do not exist for variables ['counter:0'] when minimizing the loss.\n"
     ]
    },
    {
     "name": "stdout",
     "output_type": "stream",
     "text": [
      "1704/1704 [==============================] - 604s 355ms/step - factorized_top_k/top_1_categorical_accuracy: 0.1008 - factorized_top_k/top_5_categorical_accuracy: 0.1013 - factorized_top_k/top_10_categorical_accuracy: 0.1015 - factorized_top_k/top_50_categorical_accuracy: 0.1130 - factorized_top_k/top_100_categorical_accuracy: 0.1380 - loss: 8.6451 - regularization_loss: 0.0000e+00 - total_loss: 8.6451 - val_factorized_top_k/top_1_categorical_accuracy: 0.2182 - val_factorized_top_k/top_5_categorical_accuracy: 0.2192 - val_factorized_top_k/top_10_categorical_accuracy: 0.2193 - val_factorized_top_k/top_50_categorical_accuracy: 0.2220 - val_factorized_top_k/top_100_categorical_accuracy: 0.2450 - val_loss: 7.4189 - val_regularization_loss: 0.0000e+00 - val_total_loss: 7.4189\n",
      "Epoch 2/3\n",
      "1704/1704 [==============================] - 526s 309ms/step - factorized_top_k/top_1_categorical_accuracy: 0.1016 - factorized_top_k/top_5_categorical_accuracy: 0.1020 - factorized_top_k/top_10_categorical_accuracy: 0.1022 - factorized_top_k/top_50_categorical_accuracy: 0.1128 - factorized_top_k/top_100_categorical_accuracy: 0.1396 - loss: 8.8262 - regularization_loss: 0.0000e+00 - total_loss: 8.8262 - val_factorized_top_k/top_1_categorical_accuracy: 0.0764 - val_factorized_top_k/top_5_categorical_accuracy: 0.0764 - val_factorized_top_k/top_10_categorical_accuracy: 0.0765 - val_factorized_top_k/top_50_categorical_accuracy: 0.0840 - val_factorized_top_k/top_100_categorical_accuracy: 0.1001 - val_loss: 7.4076 - val_regularization_loss: 0.0000e+00 - val_total_loss: 7.4076\n",
      "Epoch 3/3\n",
      "1704/1704 [==============================] - 526s 309ms/step - factorized_top_k/top_1_categorical_accuracy: 0.0993 - factorized_top_k/top_5_categorical_accuracy: 0.0996 - factorized_top_k/top_10_categorical_accuracy: 0.0998 - factorized_top_k/top_50_categorical_accuracy: 0.1103 - factorized_top_k/top_100_categorical_accuracy: 0.1357 - loss: 8.8856 - regularization_loss: 0.0000e+00 - total_loss: 8.8856 - val_factorized_top_k/top_1_categorical_accuracy: 0.0944 - val_factorized_top_k/top_5_categorical_accuracy: 0.0950 - val_factorized_top_k/top_10_categorical_accuracy: 0.0950 - val_factorized_top_k/top_50_categorical_accuracy: 0.1011 - val_factorized_top_k/top_100_categorical_accuracy: 0.1200 - val_loss: 7.8349 - val_regularization_loss: 0.0000e+00 - val_total_loss: 7.8349\n",
      "Train accuracy: 0.13572148978710175\n",
      "Validation accuracy: 0.11998829245567322\n",
      "552/552 [==============================] - 172s 312ms/step - factorized_top_k/top_1_categorical_accuracy: 0.1161 - factorized_top_k/top_5_categorical_accuracy: 0.1166 - factorized_top_k/top_10_categorical_accuracy: 0.1166 - factorized_top_k/top_50_categorical_accuracy: 0.1214 - factorized_top_k/top_100_categorical_accuracy: 0.1405 - loss: 8.3816 - regularization_loss: 0.0000e+00 - total_loss: 8.3816\n"
     ]
    },
    {
     "data": {
      "text/plain": [
       "[0.11613880842924118,\n",
       " 0.11659186333417892,\n",
       " 0.11659186333417892,\n",
       " 0.12143392860889435,\n",
       " 0.1405048817396164]"
      ]
     },
     "execution_count": 349,
     "metadata": {},
     "output_type": "execute_result"
    }
   ],
   "source": [
    "num_epochs = 3\n",
    "lr = 0.01\n",
    "cached_train = sfv_train.batch(128).cache()\n",
    "cached_test = sfv_test.batch(128).cache()\n",
    "model_link = 'https://tfhub.dev/google/nnlm-en-dim128-with-normalization/2'\n",
    "text_model = {\"format\": \"text\", \"link\": model_link}\n",
    "tags_body_deep = ItemSimilarityModel(test_candidate_ids=unique_item_ids,\n",
    "                                      features=['category', 'body'],\n",
    "                                      feature_dims=[64, 64],\n",
    "                                      unique_item_ids=unique_item_ids,\n",
    "                                      item_body_lookup=body_lookup_table,\n",
    "                                      item_tags_lookup=tags_lookup_table,\n",
    "                                      item_category_lookup=category_lookup_table,\n",
    "                                      item_image_lookup=thumbnail_lookup_table,\n",
    "                                      image_embedding_lookup_table=im_embeddings_lookup,\n",
    "                                      layer_sizes=[])\n",
    "tags_body_deep.compile(optimizer=tf.keras.optimizers.Adagrad(lr))\n",
    "\n",
    "tags_body_deep_metrics = tags_body_deep.fit(\n",
    "    cached_train,\n",
    "    validation_data=cached_test,\n",
    "    validation_freq=1,\n",
    "    epochs=num_epochs,\n",
    "    verbose=1)\n",
    "#    callbacks=[tensorboard_callback])\n",
    "\n",
    "print(f'Train accuracy: {tags_body_deep_metrics.history[\"factorized_top_k/top_100_categorical_accuracy\"][-1]}')   \n",
    "print(f'Validation accuracy: {tags_body_deep_metrics.history[\"val_factorized_top_k/top_100_categorical_accuracy\"][-1]}')\n",
    "\n",
    "tags_body_deep_metrics = tags_body_deep.evaluate(holdout_logs_tf.batch(128).cache())\n",
    "tags_body_deep_metrics"
   ]
  },
  {
   "cell_type": "code",
   "execution_count": null,
   "metadata": {},
   "outputs": [],
   "source": []
  },
  {
   "cell_type": "markdown",
   "metadata": {},
   "source": [
    "### Pure CF embeddings"
   ]
  },
  {
   "cell_type": "code",
   "execution_count": 347,
   "metadata": {},
   "outputs": [
    {
     "name": "stdout",
     "output_type": "stream",
     "text": [
      "Epoch 1/3\n",
      "WARNING:tensorflow:The dtype of the source tensor must be floating (e.g. tf.float32) when calling GradientTape.gradient, got tf.int32\n"
     ]
    },
    {
     "name": "stderr",
     "output_type": "stream",
     "text": [
      "WARNING:tensorflow:The dtype of the source tensor must be floating (e.g. tf.float32) when calling GradientTape.gradient, got tf.int32\n"
     ]
    },
    {
     "name": "stdout",
     "output_type": "stream",
     "text": [
      "WARNING:tensorflow:Gradients do not exist for variables ['counter:0'] when minimizing the loss.\n"
     ]
    },
    {
     "name": "stderr",
     "output_type": "stream",
     "text": [
      "WARNING:tensorflow:Gradients do not exist for variables ['counter:0'] when minimizing the loss.\n"
     ]
    },
    {
     "name": "stdout",
     "output_type": "stream",
     "text": [
      "WARNING:tensorflow:The dtype of the source tensor must be floating (e.g. tf.float32) when calling GradientTape.gradient, got tf.int32\n"
     ]
    },
    {
     "name": "stderr",
     "output_type": "stream",
     "text": [
      "WARNING:tensorflow:The dtype of the source tensor must be floating (e.g. tf.float32) when calling GradientTape.gradient, got tf.int32\n"
     ]
    },
    {
     "name": "stdout",
     "output_type": "stream",
     "text": [
      "WARNING:tensorflow:Gradients do not exist for variables ['counter:0'] when minimizing the loss.\n"
     ]
    },
    {
     "name": "stderr",
     "output_type": "stream",
     "text": [
      "WARNING:tensorflow:Gradients do not exist for variables ['counter:0'] when minimizing the loss.\n"
     ]
    },
    {
     "name": "stdout",
     "output_type": "stream",
     "text": [
      "1704/1704 [==============================] - 139s 82ms/step - factorized_top_k/top_1_categorical_accuracy: 0.0000e+00 - factorized_top_k/top_5_categorical_accuracy: 0.0920 - factorized_top_k/top_10_categorical_accuracy: 0.1408 - factorized_top_k/top_50_categorical_accuracy: 0.2360 - factorized_top_k/top_100_categorical_accuracy: 0.2791 - loss: 8.9186 - regularization_loss: 0.0000e+00 - total_loss: 8.9186 - val_factorized_top_k/top_1_categorical_accuracy: 0.0000e+00 - val_factorized_top_k/top_5_categorical_accuracy: 0.1223 - val_factorized_top_k/top_10_categorical_accuracy: 0.1803 - val_factorized_top_k/top_50_categorical_accuracy: 0.2479 - val_factorized_top_k/top_100_categorical_accuracy: 0.2944 - val_loss: 6.2466 - val_regularization_loss: 0.0000e+00 - val_total_loss: 6.2466\n",
      "Epoch 2/3\n",
      "1704/1704 [==============================] - 140s 82ms/step - factorized_top_k/top_1_categorical_accuracy: 0.0000e+00 - factorized_top_k/top_5_categorical_accuracy: 0.1180 - factorized_top_k/top_10_categorical_accuracy: 0.1679 - factorized_top_k/top_50_categorical_accuracy: 0.2804 - factorized_top_k/top_100_categorical_accuracy: 0.3321 - loss: 9.0030 - regularization_loss: 0.0000e+00 - total_loss: 9.0030 - val_factorized_top_k/top_1_categorical_accuracy: 0.0000e+00 - val_factorized_top_k/top_5_categorical_accuracy: 0.1506 - val_factorized_top_k/top_10_categorical_accuracy: 0.1891 - val_factorized_top_k/top_50_categorical_accuracy: 0.2789 - val_factorized_top_k/top_100_categorical_accuracy: 0.3017 - val_loss: 6.7166 - val_regularization_loss: 0.0000e+00 - val_total_loss: 6.7166\n",
      "Epoch 3/3\n",
      "1704/1704 [==============================] - 141s 83ms/step - factorized_top_k/top_1_categorical_accuracy: 0.0000e+00 - factorized_top_k/top_5_categorical_accuracy: 0.1231 - factorized_top_k/top_10_categorical_accuracy: 0.1653 - factorized_top_k/top_50_categorical_accuracy: 0.2845 - factorized_top_k/top_100_categorical_accuracy: 0.3393 - loss: 9.0097 - regularization_loss: 0.0000e+00 - total_loss: 9.0097 - val_factorized_top_k/top_1_categorical_accuracy: 0.0000e+00 - val_factorized_top_k/top_5_categorical_accuracy: 0.1768 - val_factorized_top_k/top_10_categorical_accuracy: 0.2180 - val_factorized_top_k/top_50_categorical_accuracy: 0.2826 - val_factorized_top_k/top_100_categorical_accuracy: 0.3130 - val_loss: 6.3418 - val_regularization_loss: 0.0000e+00 - val_total_loss: 6.3418\n",
      "Train accuracy: 0.5124850869178772\n",
      "Validation accuracy: 0.9847819805145264\n",
      "552/552 [==============================] - 44s 80ms/step - factorized_top_k/top_1_categorical_accuracy: 0.0000e+00 - factorized_top_k/top_5_categorical_accuracy: 0.1478 - factorized_top_k/top_10_categorical_accuracy: 0.1754 - factorized_top_k/top_50_categorical_accuracy: 0.2313 - factorized_top_k/top_100_categorical_accuracy: 0.2578 - loss: 8.7640 - regularization_loss: 0.0000e+00 - total_loss: 8.7640\n"
     ]
    },
    {
     "data": {
      "text/plain": [
       "[0.0,\n",
       " 0.1478104442358017,\n",
       " 0.17544704675674438,\n",
       " 0.23131486773490906,\n",
       " 0.2577621638774872]"
      ]
     },
     "execution_count": 347,
     "metadata": {},
     "output_type": "execute_result"
    }
   ],
   "source": [
    "num_epochs = 3\n",
    "lr = 0.01\n",
    "cached_train = sfv_train.batch(128).cache()\n",
    "cached_test = sfv_test.batch(128).cache()\n",
    "model_link = 'https://tfhub.dev/google/nnlm-en-dim128-with-normalization/2'\n",
    "text_model = {\"format\": \"text\", \"link\": model_link}\n",
    "cf_one_layer = ItemSimilarityModel(test_candidate_ids=unique_item_ids,\n",
    "                                      features=['item_id'],\n",
    "                                      feature_dims=[100],\n",
    "                                      unique_item_ids=unique_item_ids,\n",
    "                                      item_body_lookup=body_lookup_table,\n",
    "                                      item_tags_lookup=tags_lookup_table,\n",
    "                                      item_category_lookup=category_lookup_table,\n",
    "                                      item_image_lookup=thumbnail_lookup_table,\n",
    "                                      image_embedding_lookup_table=im_embeddings_lookup,\n",
    "                                      layer_sizes=[])\n",
    "cf_one_layer.compile(optimizer=tf.keras.optimizers.Adagrad(lr))\n",
    "\n",
    "cf_one_layer_history = cf_one_layer.fit(\n",
    "    cached_train,\n",
    "    validation_data=cached_test,\n",
    "    validation_freq=1,\n",
    "    epochs=num_epochs,\n",
    "    verbose=1)\n",
    "#    callbacks=[tensorboard_callback])\n",
    "\n",
    "print(f'Train accuracy: {one_layer_history.history[\"factorized_top_k/top_100_categorical_accuracy\"][-1]}')   \n",
    "print(f'Validation accuracy: {one_layer_history.history[\"val_factorized_top_k/top_100_categorical_accuracy\"][-1]}')\n",
    "\n",
    "id_metrics = cf_one_layer.evaluate(holdout_logs_tf.batch(128).cache())\n",
    "id_metrics"
   ]
  },
  {
   "cell_type": "markdown",
   "metadata": {},
   "source": [
    "###  CF + body + category embeddings"
   ]
  },
  {
   "cell_type": "code",
   "execution_count": 350,
   "metadata": {},
   "outputs": [
    {
     "name": "stdout",
     "output_type": "stream",
     "text": [
      "Epoch 1/3\n",
      "WARNING:tensorflow:The dtype of the source tensor must be floating (e.g. tf.float32) when calling GradientTape.gradient, got tf.int32\n"
     ]
    },
    {
     "name": "stderr",
     "output_type": "stream",
     "text": [
      "WARNING:tensorflow:The dtype of the source tensor must be floating (e.g. tf.float32) when calling GradientTape.gradient, got tf.int32\n"
     ]
    },
    {
     "name": "stdout",
     "output_type": "stream",
     "text": [
      "WARNING:tensorflow:Gradients do not exist for variables ['counter:0'] when minimizing the loss.\n"
     ]
    },
    {
     "name": "stderr",
     "output_type": "stream",
     "text": [
      "WARNING:tensorflow:Gradients do not exist for variables ['counter:0'] when minimizing the loss.\n"
     ]
    },
    {
     "name": "stdout",
     "output_type": "stream",
     "text": [
      "WARNING:tensorflow:The dtype of the source tensor must be floating (e.g. tf.float32) when calling GradientTape.gradient, got tf.int32\n"
     ]
    },
    {
     "name": "stderr",
     "output_type": "stream",
     "text": [
      "WARNING:tensorflow:The dtype of the source tensor must be floating (e.g. tf.float32) when calling GradientTape.gradient, got tf.int32\n"
     ]
    },
    {
     "name": "stdout",
     "output_type": "stream",
     "text": [
      "WARNING:tensorflow:Gradients do not exist for variables ['counter:0'] when minimizing the loss.\n"
     ]
    },
    {
     "name": "stderr",
     "output_type": "stream",
     "text": [
      "WARNING:tensorflow:Gradients do not exist for variables ['counter:0'] when minimizing the loss.\n"
     ]
    },
    {
     "name": "stdout",
     "output_type": "stream",
     "text": [
      "1704/1704 [==============================] - 635s 373ms/step - factorized_top_k/top_1_categorical_accuracy: 0.0179 - factorized_top_k/top_5_categorical_accuracy: 0.1033 - factorized_top_k/top_10_categorical_accuracy: 0.1400 - factorized_top_k/top_50_categorical_accuracy: 0.2147 - factorized_top_k/top_100_categorical_accuracy: 0.2598 - loss: 8.1931 - regularization_loss: 0.0000e+00 - total_loss: 8.1931 - val_factorized_top_k/top_1_categorical_accuracy: 0.0143 - val_factorized_top_k/top_5_categorical_accuracy: 0.0896 - val_factorized_top_k/top_10_categorical_accuracy: 0.1346 - val_factorized_top_k/top_50_categorical_accuracy: 0.1858 - val_factorized_top_k/top_100_categorical_accuracy: 0.2609 - val_loss: 8.7385 - val_regularization_loss: 0.0000e+00 - val_total_loss: 8.7385\n",
      "Epoch 2/3\n",
      "1704/1704 [==============================] - 561s 329ms/step - factorized_top_k/top_1_categorical_accuracy: 0.0172 - factorized_top_k/top_5_categorical_accuracy: 0.1251 - factorized_top_k/top_10_categorical_accuracy: 0.1732 - factorized_top_k/top_50_categorical_accuracy: 0.2499 - factorized_top_k/top_100_categorical_accuracy: 0.3018 - loss: 9.1053 - regularization_loss: 0.0000e+00 - total_loss: 9.1053 - val_factorized_top_k/top_1_categorical_accuracy: 0.0111 - val_factorized_top_k/top_5_categorical_accuracy: 0.1036 - val_factorized_top_k/top_10_categorical_accuracy: 0.1354 - val_factorized_top_k/top_50_categorical_accuracy: 0.2016 - val_factorized_top_k/top_100_categorical_accuracy: 0.2820 - val_loss: 8.6998 - val_regularization_loss: 0.0000e+00 - val_total_loss: 8.6998\n",
      "Epoch 3/3\n",
      "1704/1704 [==============================] - 600s 352ms/step - factorized_top_k/top_1_categorical_accuracy: 0.0172 - factorized_top_k/top_5_categorical_accuracy: 0.1302 - factorized_top_k/top_10_categorical_accuracy: 0.1836 - factorized_top_k/top_50_categorical_accuracy: 0.2606 - factorized_top_k/top_100_categorical_accuracy: 0.3112 - loss: 9.1563 - regularization_loss: 0.0000e+00 - total_loss: 9.1563 - val_factorized_top_k/top_1_categorical_accuracy: 0.0195 - val_factorized_top_k/top_5_categorical_accuracy: 0.1068 - val_factorized_top_k/top_10_categorical_accuracy: 0.1428 - val_factorized_top_k/top_50_categorical_accuracy: 0.2243 - val_factorized_top_k/top_100_categorical_accuracy: 0.2903 - val_loss: 8.4535 - val_regularization_loss: 0.0000e+00 - val_total_loss: 8.4535\n",
      "Train accuracy: 0.5124850869178772\n",
      "Validation accuracy: 0.9847819805145264\n",
      "552/552 [==============================] - 220s 398ms/step - factorized_top_k/top_1_categorical_accuracy: 0.0192 - factorized_top_k/top_5_categorical_accuracy: 0.0868 - factorized_top_k/top_10_categorical_accuracy: 0.1155 - factorized_top_k/top_50_categorical_accuracy: 0.1949 - factorized_top_k/top_100_categorical_accuracy: 0.2597 - loss: 8.7710 - regularization_loss: 0.0000e+00 - total_loss: 8.7710\n"
     ]
    },
    {
     "data": {
      "text/plain": [
       "[0.019240843132138252,\n",
       " 0.0867890864610672,\n",
       " 0.11547337472438812,\n",
       " 0.19494272768497467,\n",
       " 0.25967350602149963]"
      ]
     },
     "execution_count": 350,
     "metadata": {},
     "output_type": "execute_result"
    }
   ],
   "source": [
    "num_epochs = 3\n",
    "lr = 0.01\n",
    "cached_train = sfv_train.batch(128).cache()\n",
    "cached_test = sfv_test.batch(128).cache()\n",
    "model_link = 'https://tfhub.dev/google/nnlm-en-dim128-with-normalization/2'\n",
    "text_model = {\"format\": \"text\", \"link\": model_link}\n",
    "cf_one_layer = ItemSimilarityModel(test_candidate_ids=unique_item_ids,\n",
    "                                      features=['item_id', 'body', 'category'],\n",
    "                                      feature_dims=[64, 64, 64],\n",
    "                                      unique_item_ids=unique_item_ids,\n",
    "                                      item_body_lookup=body_lookup_table,\n",
    "                                      item_tags_lookup=tags_lookup_table,\n",
    "                                      item_category_lookup=category_lookup_table,\n",
    "                                      item_image_lookup=thumbnail_lookup_table,\n",
    "                                      image_embedding_lookup_table=im_embeddings_lookup,\n",
    "                                      layer_sizes=[96])\n",
    "cf_one_layer.compile(optimizer=tf.keras.optimizers.Adagrad(lr))\n",
    "\n",
    "cf_one_layer_history = cf_one_layer.fit(\n",
    "    cached_train,\n",
    "    validation_data=cached_test,\n",
    "    validation_freq=1,\n",
    "    epochs=num_epochs,\n",
    "    verbose=1)\n",
    "#    callbacks=[tensorboard_callback])\n",
    "\n",
    "print(f'Train accuracy: {one_layer_history.history[\"factorized_top_k/top_100_categorical_accuracy\"][-1]}')   \n",
    "print(f'Validation accuracy: {one_layer_history.history[\"val_factorized_top_k/top_100_categorical_accuracy\"][-1]}')\n",
    "\n",
    "id_metrics = cf_one_layer.evaluate(holdout_logs_tf.batch(128).cache())\n",
    "id_metrics"
   ]
  },
  {
   "cell_type": "markdown",
   "metadata": {},
   "source": [
    "###  CF + body  embeddings"
   ]
  },
  {
   "cell_type": "code",
   "execution_count": 352,
   "metadata": {},
   "outputs": [
    {
     "name": "stdout",
     "output_type": "stream",
     "text": [
      "Epoch 1/3\n",
      "WARNING:tensorflow:The dtype of the source tensor must be floating (e.g. tf.float32) when calling GradientTape.gradient, got tf.int32\n"
     ]
    },
    {
     "name": "stderr",
     "output_type": "stream",
     "text": [
      "WARNING:tensorflow:The dtype of the source tensor must be floating (e.g. tf.float32) when calling GradientTape.gradient, got tf.int32\n"
     ]
    },
    {
     "name": "stdout",
     "output_type": "stream",
     "text": [
      "WARNING:tensorflow:Gradients do not exist for variables ['counter:0'] when minimizing the loss.\n"
     ]
    },
    {
     "name": "stderr",
     "output_type": "stream",
     "text": [
      "WARNING:tensorflow:Gradients do not exist for variables ['counter:0'] when minimizing the loss.\n"
     ]
    },
    {
     "name": "stdout",
     "output_type": "stream",
     "text": [
      "WARNING:tensorflow:The dtype of the source tensor must be floating (e.g. tf.float32) when calling GradientTape.gradient, got tf.int32\n"
     ]
    },
    {
     "name": "stderr",
     "output_type": "stream",
     "text": [
      "WARNING:tensorflow:The dtype of the source tensor must be floating (e.g. tf.float32) when calling GradientTape.gradient, got tf.int32\n"
     ]
    },
    {
     "name": "stdout",
     "output_type": "stream",
     "text": [
      "WARNING:tensorflow:Gradients do not exist for variables ['counter:0'] when minimizing the loss.\n"
     ]
    },
    {
     "name": "stderr",
     "output_type": "stream",
     "text": [
      "WARNING:tensorflow:Gradients do not exist for variables ['counter:0'] when minimizing the loss.\n"
     ]
    },
    {
     "name": "stdout",
     "output_type": "stream",
     "text": [
      "1704/1704 [==============================] - 600s 352ms/step - factorized_top_k/top_1_categorical_accuracy: 0.0115 - factorized_top_k/top_5_categorical_accuracy: 0.1137 - factorized_top_k/top_10_categorical_accuracy: 0.1675 - factorized_top_k/top_50_categorical_accuracy: 0.2580 - factorized_top_k/top_100_categorical_accuracy: 0.2865 - loss: 5.2211 - regularization_loss: 0.0000e+00 - total_loss: 5.2211 - val_factorized_top_k/top_1_categorical_accuracy: 0.0120 - val_factorized_top_k/top_5_categorical_accuracy: 0.1999 - val_factorized_top_k/top_10_categorical_accuracy: 0.2934 - val_factorized_top_k/top_50_categorical_accuracy: 0.4277 - val_factorized_top_k/top_100_categorical_accuracy: 0.4447 - val_loss: 4.9520 - val_regularization_loss: 0.0000e+00 - val_total_loss: 4.9520\n",
      "Epoch 2/3\n",
      "1704/1704 [==============================] - 507s 297ms/step - factorized_top_k/top_1_categorical_accuracy: 0.0243 - factorized_top_k/top_5_categorical_accuracy: 0.2088 - factorized_top_k/top_10_categorical_accuracy: 0.3477 - factorized_top_k/top_50_categorical_accuracy: 0.6227 - factorized_top_k/top_100_categorical_accuracy: 0.6471 - loss: 8.7887 - regularization_loss: 0.0000e+00 - total_loss: 8.7887 - val_factorized_top_k/top_1_categorical_accuracy: 0.0268 - val_factorized_top_k/top_5_categorical_accuracy: 0.2043 - val_factorized_top_k/top_10_categorical_accuracy: 0.3123 - val_factorized_top_k/top_50_categorical_accuracy: 0.4761 - val_factorized_top_k/top_100_categorical_accuracy: 0.5085 - val_loss: 4.5088 - val_regularization_loss: 0.0000e+00 - val_total_loss: 4.5088\n",
      "Epoch 3/3\n",
      "1704/1704 [==============================] - 510s 299ms/step - factorized_top_k/top_1_categorical_accuracy: 0.0167 - factorized_top_k/top_5_categorical_accuracy: 0.2085 - factorized_top_k/top_10_categorical_accuracy: 0.3637 - factorized_top_k/top_50_categorical_accuracy: 0.6269 - factorized_top_k/top_100_categorical_accuracy: 0.6584 - loss: 8.7100 - regularization_loss: 0.0000e+00 - total_loss: 8.7100 - val_factorized_top_k/top_1_categorical_accuracy: 0.0266 - val_factorized_top_k/top_5_categorical_accuracy: 0.2062 - val_factorized_top_k/top_10_categorical_accuracy: 0.3107 - val_factorized_top_k/top_50_categorical_accuracy: 0.4729 - val_factorized_top_k/top_100_categorical_accuracy: 0.5100 - val_loss: 4.5490 - val_regularization_loss: 0.0000e+00 - val_total_loss: 4.5490\n",
      "Train accuracy: 0.5124850869178772\n",
      "Validation accuracy: 0.9847819805145264\n",
      "552/552 [==============================] - 178s 322ms/step - factorized_top_k/top_1_categorical_accuracy: 0.0202 - factorized_top_k/top_5_categorical_accuracy: 0.1514 - factorized_top_k/top_10_categorical_accuracy: 0.2336 - factorized_top_k/top_50_categorical_accuracy: 0.3986 - factorized_top_k/top_100_categorical_accuracy: 0.4356 - loss: 6.1705 - regularization_loss: 0.0000e+00 - total_loss: 6.1705\n"
     ]
    },
    {
     "data": {
      "text/plain": [
       "[0.0201894361525774,\n",
       " 0.15136413276195526,\n",
       " 0.23360846936702728,\n",
       " 0.3986351490020752,\n",
       " 0.43557360768318176]"
      ]
     },
     "execution_count": 352,
     "metadata": {},
     "output_type": "execute_result"
    }
   ],
   "source": [
    "num_epochs = 3\n",
    "lr = 0.01\n",
    "cached_train = sfv_train.batch(128).cache()\n",
    "cached_test = sfv_test.batch(128).cache()\n",
    "model_link = 'https://tfhub.dev/google/nnlm-en-dim128-with-normalization/2'\n",
    "text_model = {\"format\": \"text\", \"link\": model_link}\n",
    "cf_one_layer = ItemSimilarityModel(test_candidate_ids=unique_item_ids,\n",
    "                                      features=['item_id', 'body'],\n",
    "                                      feature_dims=[100, 64],\n",
    "                                      unique_item_ids=unique_item_ids,\n",
    "                                      item_body_lookup=body_lookup_table,\n",
    "                                      item_tags_lookup=tags_lookup_table,\n",
    "                                      item_category_lookup=category_lookup_table,\n",
    "                                      item_image_lookup=thumbnail_lookup_table,\n",
    "                                      image_embedding_lookup_table=im_embeddings_lookup,\n",
    "                                      layer_sizes=[100])\n",
    "cf_one_layer.compile(optimizer=tf.keras.optimizers.Adagrad(lr))\n",
    "\n",
    "cf_one_layer_history = cf_one_layer.fit(\n",
    "    cached_train,\n",
    "    validation_data=cached_test,\n",
    "    validation_freq=1,\n",
    "    epochs=num_epochs,\n",
    "    verbose=1)\n",
    "#    callbacks=[tensorboard_callback])\n",
    "\n",
    "print(f'Train accuracy: {one_layer_history.history[\"factorized_top_k/top_100_categorical_accuracy\"][-1]}')   \n",
    "print(f'Validation accuracy: {one_layer_history.history[\"val_factorized_top_k/top_100_categorical_accuracy\"][-1]}')\n",
    "\n",
    "id_metrics = cf_one_layer.evaluate(holdout_logs_tf.batch(128).cache())\n",
    "id_metrics"
   ]
  },
  {
   "cell_type": "code",
   "execution_count": 310,
   "metadata": {},
   "outputs": [
    {
     "name": "stdout",
     "output_type": "stream",
     "text": [
      "Epoch 1/2\n",
      "WARNING:tensorflow:The dtype of the source tensor must be floating (e.g. tf.float32) when calling GradientTape.gradient, got tf.int32\n"
     ]
    },
    {
     "name": "stderr",
     "output_type": "stream",
     "text": [
      "WARNING:tensorflow:The dtype of the source tensor must be floating (e.g. tf.float32) when calling GradientTape.gradient, got tf.int32\n"
     ]
    },
    {
     "ename": "ValueError",
     "evalue": "in user code:\n\n    /Users/mercef02/.virtualenvs/exploration-Tqzb7Mc2/lib/python3.7/site-packages/tensorflow/python/keras/engine/training.py:806 train_function  *\n        return step_function(self, iterator)\n    /Users/mercef02/.virtualenvs/exploration-Tqzb7Mc2/lib/python3.7/site-packages/tensorflow/python/keras/engine/training.py:796 step_function  **\n        outputs = model.distribute_strategy.run(run_step, args=(data,))\n    /Users/mercef02/.virtualenvs/exploration-Tqzb7Mc2/lib/python3.7/site-packages/tensorflow/python/distribute/distribute_lib.py:1211 run\n        return self._extended.call_for_each_replica(fn, args=args, kwargs=kwargs)\n    /Users/mercef02/.virtualenvs/exploration-Tqzb7Mc2/lib/python3.7/site-packages/tensorflow/python/distribute/distribute_lib.py:2585 call_for_each_replica\n        return self._call_for_each_replica(fn, args, kwargs)\n    /Users/mercef02/.virtualenvs/exploration-Tqzb7Mc2/lib/python3.7/site-packages/tensorflow/python/distribute/distribute_lib.py:2945 _call_for_each_replica\n        return fn(*args, **kwargs)\n    /Users/mercef02/.virtualenvs/exploration-Tqzb7Mc2/lib/python3.7/site-packages/tensorflow/python/keras/engine/training.py:789 run_step  **\n        outputs = model.train_step(data)\n    /Users/mercef02/.virtualenvs/exploration-Tqzb7Mc2/lib/python3.7/site-packages/tensorflow_recommenders/models/base.py:76 train_step\n        self.optimizer.apply_gradients(zip(gradients, self.trainable_variables))\n    /Users/mercef02/.virtualenvs/exploration-Tqzb7Mc2/lib/python3.7/site-packages/tensorflow/python/keras/optimizer_v2/optimizer_v2.py:513 apply_gradients\n        grads_and_vars = _filter_grads(grads_and_vars)\n    /Users/mercef02/.virtualenvs/exploration-Tqzb7Mc2/lib/python3.7/site-packages/tensorflow/python/keras/optimizer_v2/optimizer_v2.py:1271 _filter_grads\n        ([v.name for _, v in grads_and_vars],))\n\n    ValueError: No gradients provided for any variable: ['counter:0'].\n",
     "output_type": "error",
     "traceback": [
      "\u001B[0;31m---------------------------------------------------------------------------\u001B[0m",
      "\u001B[0;31mValueError\u001B[0m                                Traceback (most recent call last)",
      "\u001B[0;32m<ipython-input-310-4b9bac129cf2>\u001B[0m in \u001B[0;36m<module>\u001B[0;34m\u001B[0m\n\u001B[1;32m     21\u001B[0m     \u001B[0mvalidation_freq\u001B[0m\u001B[0;34m=\u001B[0m\u001B[0;36m1\u001B[0m\u001B[0;34m,\u001B[0m\u001B[0;34m\u001B[0m\u001B[0;34m\u001B[0m\u001B[0m\n\u001B[1;32m     22\u001B[0m     \u001B[0mepochs\u001B[0m\u001B[0;34m=\u001B[0m\u001B[0mnum_epochs\u001B[0m\u001B[0;34m,\u001B[0m\u001B[0;34m\u001B[0m\u001B[0;34m\u001B[0m\u001B[0m\n\u001B[0;32m---> 23\u001B[0;31m     verbose=1)\n\u001B[0m\u001B[1;32m     24\u001B[0m \u001B[0;34m\u001B[0m\u001B[0m\n\u001B[1;32m     25\u001B[0m \u001B[0;34m\u001B[0m\u001B[0m\n",
      "\u001B[0;32m~/.virtualenvs/exploration-Tqzb7Mc2/lib/python3.7/site-packages/tensorflow/python/keras/engine/training.py\u001B[0m in \u001B[0;36m_method_wrapper\u001B[0;34m(self, *args, **kwargs)\u001B[0m\n\u001B[1;32m    106\u001B[0m   \u001B[0;32mdef\u001B[0m \u001B[0m_method_wrapper\u001B[0m\u001B[0;34m(\u001B[0m\u001B[0mself\u001B[0m\u001B[0;34m,\u001B[0m \u001B[0;34m*\u001B[0m\u001B[0margs\u001B[0m\u001B[0;34m,\u001B[0m \u001B[0;34m**\u001B[0m\u001B[0mkwargs\u001B[0m\u001B[0;34m)\u001B[0m\u001B[0;34m:\u001B[0m\u001B[0;34m\u001B[0m\u001B[0;34m\u001B[0m\u001B[0m\n\u001B[1;32m    107\u001B[0m     \u001B[0;32mif\u001B[0m \u001B[0;32mnot\u001B[0m \u001B[0mself\u001B[0m\u001B[0;34m.\u001B[0m\u001B[0m_in_multi_worker_mode\u001B[0m\u001B[0;34m(\u001B[0m\u001B[0;34m)\u001B[0m\u001B[0;34m:\u001B[0m  \u001B[0;31m# pylint: disable=protected-access\u001B[0m\u001B[0;34m\u001B[0m\u001B[0;34m\u001B[0m\u001B[0m\n\u001B[0;32m--> 108\u001B[0;31m       \u001B[0;32mreturn\u001B[0m \u001B[0mmethod\u001B[0m\u001B[0;34m(\u001B[0m\u001B[0mself\u001B[0m\u001B[0;34m,\u001B[0m \u001B[0;34m*\u001B[0m\u001B[0margs\u001B[0m\u001B[0;34m,\u001B[0m \u001B[0;34m**\u001B[0m\u001B[0mkwargs\u001B[0m\u001B[0;34m)\u001B[0m\u001B[0;34m\u001B[0m\u001B[0;34m\u001B[0m\u001B[0m\n\u001B[0m\u001B[1;32m    109\u001B[0m \u001B[0;34m\u001B[0m\u001B[0m\n\u001B[1;32m    110\u001B[0m     \u001B[0;31m# Running inside `run_distribute_coordinator` already.\u001B[0m\u001B[0;34m\u001B[0m\u001B[0;34m\u001B[0m\u001B[0;34m\u001B[0m\u001B[0m\n",
      "\u001B[0;32m~/.virtualenvs/exploration-Tqzb7Mc2/lib/python3.7/site-packages/tensorflow/python/keras/engine/training.py\u001B[0m in \u001B[0;36mfit\u001B[0;34m(self, x, y, batch_size, epochs, verbose, callbacks, validation_split, validation_data, shuffle, class_weight, sample_weight, initial_epoch, steps_per_epoch, validation_steps, validation_batch_size, validation_freq, max_queue_size, workers, use_multiprocessing)\u001B[0m\n\u001B[1;32m   1096\u001B[0m                 batch_size=batch_size):\n\u001B[1;32m   1097\u001B[0m               \u001B[0mcallbacks\u001B[0m\u001B[0;34m.\u001B[0m\u001B[0mon_train_batch_begin\u001B[0m\u001B[0;34m(\u001B[0m\u001B[0mstep\u001B[0m\u001B[0;34m)\u001B[0m\u001B[0;34m\u001B[0m\u001B[0;34m\u001B[0m\u001B[0m\n\u001B[0;32m-> 1098\u001B[0;31m               \u001B[0mtmp_logs\u001B[0m \u001B[0;34m=\u001B[0m \u001B[0mtrain_function\u001B[0m\u001B[0;34m(\u001B[0m\u001B[0miterator\u001B[0m\u001B[0;34m)\u001B[0m\u001B[0;34m\u001B[0m\u001B[0;34m\u001B[0m\u001B[0m\n\u001B[0m\u001B[1;32m   1099\u001B[0m               \u001B[0;32mif\u001B[0m \u001B[0mdata_handler\u001B[0m\u001B[0;34m.\u001B[0m\u001B[0mshould_sync\u001B[0m\u001B[0;34m:\u001B[0m\u001B[0;34m\u001B[0m\u001B[0;34m\u001B[0m\u001B[0m\n\u001B[1;32m   1100\u001B[0m                 \u001B[0mcontext\u001B[0m\u001B[0;34m.\u001B[0m\u001B[0masync_wait\u001B[0m\u001B[0;34m(\u001B[0m\u001B[0;34m)\u001B[0m\u001B[0;34m\u001B[0m\u001B[0;34m\u001B[0m\u001B[0m\n",
      "\u001B[0;32m~/.virtualenvs/exploration-Tqzb7Mc2/lib/python3.7/site-packages/tensorflow/python/eager/def_function.py\u001B[0m in \u001B[0;36m__call__\u001B[0;34m(self, *args, **kwds)\u001B[0m\n\u001B[1;32m    778\u001B[0m       \u001B[0;32melse\u001B[0m\u001B[0;34m:\u001B[0m\u001B[0;34m\u001B[0m\u001B[0;34m\u001B[0m\u001B[0m\n\u001B[1;32m    779\u001B[0m         \u001B[0mcompiler\u001B[0m \u001B[0;34m=\u001B[0m \u001B[0;34m\"nonXla\"\u001B[0m\u001B[0;34m\u001B[0m\u001B[0;34m\u001B[0m\u001B[0m\n\u001B[0;32m--> 780\u001B[0;31m         \u001B[0mresult\u001B[0m \u001B[0;34m=\u001B[0m \u001B[0mself\u001B[0m\u001B[0;34m.\u001B[0m\u001B[0m_call\u001B[0m\u001B[0;34m(\u001B[0m\u001B[0;34m*\u001B[0m\u001B[0margs\u001B[0m\u001B[0;34m,\u001B[0m \u001B[0;34m**\u001B[0m\u001B[0mkwds\u001B[0m\u001B[0;34m)\u001B[0m\u001B[0;34m\u001B[0m\u001B[0;34m\u001B[0m\u001B[0m\n\u001B[0m\u001B[1;32m    781\u001B[0m \u001B[0;34m\u001B[0m\u001B[0m\n\u001B[1;32m    782\u001B[0m       \u001B[0mnew_tracing_count\u001B[0m \u001B[0;34m=\u001B[0m \u001B[0mself\u001B[0m\u001B[0;34m.\u001B[0m\u001B[0m_get_tracing_count\u001B[0m\u001B[0;34m(\u001B[0m\u001B[0;34m)\u001B[0m\u001B[0;34m\u001B[0m\u001B[0;34m\u001B[0m\u001B[0m\n",
      "\u001B[0;32m~/.virtualenvs/exploration-Tqzb7Mc2/lib/python3.7/site-packages/tensorflow/python/eager/def_function.py\u001B[0m in \u001B[0;36m_call\u001B[0;34m(self, *args, **kwds)\u001B[0m\n\u001B[1;32m    821\u001B[0m       \u001B[0;31m# This is the first call of __call__, so we have to initialize.\u001B[0m\u001B[0;34m\u001B[0m\u001B[0;34m\u001B[0m\u001B[0;34m\u001B[0m\u001B[0m\n\u001B[1;32m    822\u001B[0m       \u001B[0minitializers\u001B[0m \u001B[0;34m=\u001B[0m \u001B[0;34m[\u001B[0m\u001B[0;34m]\u001B[0m\u001B[0;34m\u001B[0m\u001B[0;34m\u001B[0m\u001B[0m\n\u001B[0;32m--> 823\u001B[0;31m       \u001B[0mself\u001B[0m\u001B[0;34m.\u001B[0m\u001B[0m_initialize\u001B[0m\u001B[0;34m(\u001B[0m\u001B[0margs\u001B[0m\u001B[0;34m,\u001B[0m \u001B[0mkwds\u001B[0m\u001B[0;34m,\u001B[0m \u001B[0madd_initializers_to\u001B[0m\u001B[0;34m=\u001B[0m\u001B[0minitializers\u001B[0m\u001B[0;34m)\u001B[0m\u001B[0;34m\u001B[0m\u001B[0;34m\u001B[0m\u001B[0m\n\u001B[0m\u001B[1;32m    824\u001B[0m     \u001B[0;32mfinally\u001B[0m\u001B[0;34m:\u001B[0m\u001B[0;34m\u001B[0m\u001B[0;34m\u001B[0m\u001B[0m\n\u001B[1;32m    825\u001B[0m       \u001B[0;31m# At this point we know that the initialization is complete (or less\u001B[0m\u001B[0;34m\u001B[0m\u001B[0;34m\u001B[0m\u001B[0;34m\u001B[0m\u001B[0m\n",
      "\u001B[0;32m~/.virtualenvs/exploration-Tqzb7Mc2/lib/python3.7/site-packages/tensorflow/python/eager/def_function.py\u001B[0m in \u001B[0;36m_initialize\u001B[0;34m(self, args, kwds, add_initializers_to)\u001B[0m\n\u001B[1;32m    695\u001B[0m     self._concrete_stateful_fn = (\n\u001B[1;32m    696\u001B[0m         self._stateful_fn._get_concrete_function_internal_garbage_collected(  # pylint: disable=protected-access\n\u001B[0;32m--> 697\u001B[0;31m             *args, **kwds))\n\u001B[0m\u001B[1;32m    698\u001B[0m \u001B[0;34m\u001B[0m\u001B[0m\n\u001B[1;32m    699\u001B[0m     \u001B[0;32mdef\u001B[0m \u001B[0minvalid_creator_scope\u001B[0m\u001B[0;34m(\u001B[0m\u001B[0;34m*\u001B[0m\u001B[0munused_args\u001B[0m\u001B[0;34m,\u001B[0m \u001B[0;34m**\u001B[0m\u001B[0munused_kwds\u001B[0m\u001B[0;34m)\u001B[0m\u001B[0;34m:\u001B[0m\u001B[0;34m\u001B[0m\u001B[0;34m\u001B[0m\u001B[0m\n",
      "\u001B[0;32m~/.virtualenvs/exploration-Tqzb7Mc2/lib/python3.7/site-packages/tensorflow/python/eager/function.py\u001B[0m in \u001B[0;36m_get_concrete_function_internal_garbage_collected\u001B[0;34m(self, *args, **kwargs)\u001B[0m\n\u001B[1;32m   2853\u001B[0m       \u001B[0margs\u001B[0m\u001B[0;34m,\u001B[0m \u001B[0mkwargs\u001B[0m \u001B[0;34m=\u001B[0m \u001B[0;32mNone\u001B[0m\u001B[0;34m,\u001B[0m \u001B[0;32mNone\u001B[0m\u001B[0;34m\u001B[0m\u001B[0;34m\u001B[0m\u001B[0m\n\u001B[1;32m   2854\u001B[0m     \u001B[0;32mwith\u001B[0m \u001B[0mself\u001B[0m\u001B[0;34m.\u001B[0m\u001B[0m_lock\u001B[0m\u001B[0;34m:\u001B[0m\u001B[0;34m\u001B[0m\u001B[0;34m\u001B[0m\u001B[0m\n\u001B[0;32m-> 2855\u001B[0;31m       \u001B[0mgraph_function\u001B[0m\u001B[0;34m,\u001B[0m \u001B[0m_\u001B[0m\u001B[0;34m,\u001B[0m \u001B[0m_\u001B[0m \u001B[0;34m=\u001B[0m \u001B[0mself\u001B[0m\u001B[0;34m.\u001B[0m\u001B[0m_maybe_define_function\u001B[0m\u001B[0;34m(\u001B[0m\u001B[0margs\u001B[0m\u001B[0;34m,\u001B[0m \u001B[0mkwargs\u001B[0m\u001B[0;34m)\u001B[0m\u001B[0;34m\u001B[0m\u001B[0;34m\u001B[0m\u001B[0m\n\u001B[0m\u001B[1;32m   2856\u001B[0m     \u001B[0;32mreturn\u001B[0m \u001B[0mgraph_function\u001B[0m\u001B[0;34m\u001B[0m\u001B[0;34m\u001B[0m\u001B[0m\n\u001B[1;32m   2857\u001B[0m \u001B[0;34m\u001B[0m\u001B[0m\n",
      "\u001B[0;32m~/.virtualenvs/exploration-Tqzb7Mc2/lib/python3.7/site-packages/tensorflow/python/eager/function.py\u001B[0m in \u001B[0;36m_maybe_define_function\u001B[0;34m(self, args, kwargs)\u001B[0m\n\u001B[1;32m   3211\u001B[0m \u001B[0;34m\u001B[0m\u001B[0m\n\u001B[1;32m   3212\u001B[0m       \u001B[0mself\u001B[0m\u001B[0;34m.\u001B[0m\u001B[0m_function_cache\u001B[0m\u001B[0;34m.\u001B[0m\u001B[0mmissed\u001B[0m\u001B[0;34m.\u001B[0m\u001B[0madd\u001B[0m\u001B[0;34m(\u001B[0m\u001B[0mcall_context_key\u001B[0m\u001B[0;34m)\u001B[0m\u001B[0;34m\u001B[0m\u001B[0;34m\u001B[0m\u001B[0m\n\u001B[0;32m-> 3213\u001B[0;31m       \u001B[0mgraph_function\u001B[0m \u001B[0;34m=\u001B[0m \u001B[0mself\u001B[0m\u001B[0;34m.\u001B[0m\u001B[0m_create_graph_function\u001B[0m\u001B[0;34m(\u001B[0m\u001B[0margs\u001B[0m\u001B[0;34m,\u001B[0m \u001B[0mkwargs\u001B[0m\u001B[0;34m)\u001B[0m\u001B[0;34m\u001B[0m\u001B[0;34m\u001B[0m\u001B[0m\n\u001B[0m\u001B[1;32m   3214\u001B[0m       \u001B[0mself\u001B[0m\u001B[0;34m.\u001B[0m\u001B[0m_function_cache\u001B[0m\u001B[0;34m.\u001B[0m\u001B[0mprimary\u001B[0m\u001B[0;34m[\u001B[0m\u001B[0mcache_key\u001B[0m\u001B[0;34m]\u001B[0m \u001B[0;34m=\u001B[0m \u001B[0mgraph_function\u001B[0m\u001B[0;34m\u001B[0m\u001B[0;34m\u001B[0m\u001B[0m\n\u001B[1;32m   3215\u001B[0m       \u001B[0;32mreturn\u001B[0m \u001B[0mgraph_function\u001B[0m\u001B[0;34m,\u001B[0m \u001B[0margs\u001B[0m\u001B[0;34m,\u001B[0m \u001B[0mkwargs\u001B[0m\u001B[0;34m\u001B[0m\u001B[0;34m\u001B[0m\u001B[0m\n",
      "\u001B[0;32m~/.virtualenvs/exploration-Tqzb7Mc2/lib/python3.7/site-packages/tensorflow/python/eager/function.py\u001B[0m in \u001B[0;36m_create_graph_function\u001B[0;34m(self, args, kwargs, override_flat_arg_shapes)\u001B[0m\n\u001B[1;32m   3073\u001B[0m             \u001B[0marg_names\u001B[0m\u001B[0;34m=\u001B[0m\u001B[0marg_names\u001B[0m\u001B[0;34m,\u001B[0m\u001B[0;34m\u001B[0m\u001B[0;34m\u001B[0m\u001B[0m\n\u001B[1;32m   3074\u001B[0m             \u001B[0moverride_flat_arg_shapes\u001B[0m\u001B[0;34m=\u001B[0m\u001B[0moverride_flat_arg_shapes\u001B[0m\u001B[0;34m,\u001B[0m\u001B[0;34m\u001B[0m\u001B[0;34m\u001B[0m\u001B[0m\n\u001B[0;32m-> 3075\u001B[0;31m             capture_by_value=self._capture_by_value),\n\u001B[0m\u001B[1;32m   3076\u001B[0m         \u001B[0mself\u001B[0m\u001B[0;34m.\u001B[0m\u001B[0m_function_attributes\u001B[0m\u001B[0;34m,\u001B[0m\u001B[0;34m\u001B[0m\u001B[0;34m\u001B[0m\u001B[0m\n\u001B[1;32m   3077\u001B[0m         \u001B[0mfunction_spec\u001B[0m\u001B[0;34m=\u001B[0m\u001B[0mself\u001B[0m\u001B[0;34m.\u001B[0m\u001B[0mfunction_spec\u001B[0m\u001B[0;34m,\u001B[0m\u001B[0;34m\u001B[0m\u001B[0;34m\u001B[0m\u001B[0m\n",
      "\u001B[0;32m~/.virtualenvs/exploration-Tqzb7Mc2/lib/python3.7/site-packages/tensorflow/python/framework/func_graph.py\u001B[0m in \u001B[0;36mfunc_graph_from_py_func\u001B[0;34m(name, python_func, args, kwargs, signature, func_graph, autograph, autograph_options, add_control_dependencies, arg_names, op_return_value, collections, capture_by_value, override_flat_arg_shapes)\u001B[0m\n\u001B[1;32m    984\u001B[0m         \u001B[0m_\u001B[0m\u001B[0;34m,\u001B[0m \u001B[0moriginal_func\u001B[0m \u001B[0;34m=\u001B[0m \u001B[0mtf_decorator\u001B[0m\u001B[0;34m.\u001B[0m\u001B[0munwrap\u001B[0m\u001B[0;34m(\u001B[0m\u001B[0mpython_func\u001B[0m\u001B[0;34m)\u001B[0m\u001B[0;34m\u001B[0m\u001B[0;34m\u001B[0m\u001B[0m\n\u001B[1;32m    985\u001B[0m \u001B[0;34m\u001B[0m\u001B[0m\n\u001B[0;32m--> 986\u001B[0;31m       \u001B[0mfunc_outputs\u001B[0m \u001B[0;34m=\u001B[0m \u001B[0mpython_func\u001B[0m\u001B[0;34m(\u001B[0m\u001B[0;34m*\u001B[0m\u001B[0mfunc_args\u001B[0m\u001B[0;34m,\u001B[0m \u001B[0;34m**\u001B[0m\u001B[0mfunc_kwargs\u001B[0m\u001B[0;34m)\u001B[0m\u001B[0;34m\u001B[0m\u001B[0;34m\u001B[0m\u001B[0m\n\u001B[0m\u001B[1;32m    987\u001B[0m \u001B[0;34m\u001B[0m\u001B[0m\n\u001B[1;32m    988\u001B[0m       \u001B[0;31m# invariant: `func_outputs` contains only Tensors, CompositeTensors,\u001B[0m\u001B[0;34m\u001B[0m\u001B[0;34m\u001B[0m\u001B[0;34m\u001B[0m\u001B[0m\n",
      "\u001B[0;32m~/.virtualenvs/exploration-Tqzb7Mc2/lib/python3.7/site-packages/tensorflow/python/eager/def_function.py\u001B[0m in \u001B[0;36mwrapped_fn\u001B[0;34m(*args, **kwds)\u001B[0m\n\u001B[1;32m    598\u001B[0m         \u001B[0;31m# __wrapped__ allows AutoGraph to swap in a converted function. We give\u001B[0m\u001B[0;34m\u001B[0m\u001B[0;34m\u001B[0m\u001B[0;34m\u001B[0m\u001B[0m\n\u001B[1;32m    599\u001B[0m         \u001B[0;31m# the function a weak reference to itself to avoid a reference cycle.\u001B[0m\u001B[0;34m\u001B[0m\u001B[0;34m\u001B[0m\u001B[0;34m\u001B[0m\u001B[0m\n\u001B[0;32m--> 600\u001B[0;31m         \u001B[0;32mreturn\u001B[0m \u001B[0mweak_wrapped_fn\u001B[0m\u001B[0;34m(\u001B[0m\u001B[0;34m)\u001B[0m\u001B[0;34m.\u001B[0m\u001B[0m__wrapped__\u001B[0m\u001B[0;34m(\u001B[0m\u001B[0;34m*\u001B[0m\u001B[0margs\u001B[0m\u001B[0;34m,\u001B[0m \u001B[0;34m**\u001B[0m\u001B[0mkwds\u001B[0m\u001B[0;34m)\u001B[0m\u001B[0;34m\u001B[0m\u001B[0;34m\u001B[0m\u001B[0m\n\u001B[0m\u001B[1;32m    601\u001B[0m     \u001B[0mweak_wrapped_fn\u001B[0m \u001B[0;34m=\u001B[0m \u001B[0mweakref\u001B[0m\u001B[0;34m.\u001B[0m\u001B[0mref\u001B[0m\u001B[0;34m(\u001B[0m\u001B[0mwrapped_fn\u001B[0m\u001B[0;34m)\u001B[0m\u001B[0;34m\u001B[0m\u001B[0;34m\u001B[0m\u001B[0m\n\u001B[1;32m    602\u001B[0m \u001B[0;34m\u001B[0m\u001B[0m\n",
      "\u001B[0;32m~/.virtualenvs/exploration-Tqzb7Mc2/lib/python3.7/site-packages/tensorflow/python/framework/func_graph.py\u001B[0m in \u001B[0;36mwrapper\u001B[0;34m(*args, **kwargs)\u001B[0m\n\u001B[1;32m    971\u001B[0m           \u001B[0;32mexcept\u001B[0m \u001B[0mException\u001B[0m \u001B[0;32mas\u001B[0m \u001B[0me\u001B[0m\u001B[0;34m:\u001B[0m  \u001B[0;31m# pylint:disable=broad-except\u001B[0m\u001B[0;34m\u001B[0m\u001B[0;34m\u001B[0m\u001B[0m\n\u001B[1;32m    972\u001B[0m             \u001B[0;32mif\u001B[0m \u001B[0mhasattr\u001B[0m\u001B[0;34m(\u001B[0m\u001B[0me\u001B[0m\u001B[0;34m,\u001B[0m \u001B[0;34m\"ag_error_metadata\"\u001B[0m\u001B[0;34m)\u001B[0m\u001B[0;34m:\u001B[0m\u001B[0;34m\u001B[0m\u001B[0;34m\u001B[0m\u001B[0m\n\u001B[0;32m--> 973\u001B[0;31m               \u001B[0;32mraise\u001B[0m \u001B[0me\u001B[0m\u001B[0;34m.\u001B[0m\u001B[0mag_error_metadata\u001B[0m\u001B[0;34m.\u001B[0m\u001B[0mto_exception\u001B[0m\u001B[0;34m(\u001B[0m\u001B[0me\u001B[0m\u001B[0;34m)\u001B[0m\u001B[0;34m\u001B[0m\u001B[0;34m\u001B[0m\u001B[0m\n\u001B[0m\u001B[1;32m    974\u001B[0m             \u001B[0;32melse\u001B[0m\u001B[0;34m:\u001B[0m\u001B[0;34m\u001B[0m\u001B[0;34m\u001B[0m\u001B[0m\n\u001B[1;32m    975\u001B[0m               \u001B[0;32mraise\u001B[0m\u001B[0;34m\u001B[0m\u001B[0;34m\u001B[0m\u001B[0m\n",
      "\u001B[0;31mValueError\u001B[0m: in user code:\n\n    /Users/mercef02/.virtualenvs/exploration-Tqzb7Mc2/lib/python3.7/site-packages/tensorflow/python/keras/engine/training.py:806 train_function  *\n        return step_function(self, iterator)\n    /Users/mercef02/.virtualenvs/exploration-Tqzb7Mc2/lib/python3.7/site-packages/tensorflow/python/keras/engine/training.py:796 step_function  **\n        outputs = model.distribute_strategy.run(run_step, args=(data,))\n    /Users/mercef02/.virtualenvs/exploration-Tqzb7Mc2/lib/python3.7/site-packages/tensorflow/python/distribute/distribute_lib.py:1211 run\n        return self._extended.call_for_each_replica(fn, args=args, kwargs=kwargs)\n    /Users/mercef02/.virtualenvs/exploration-Tqzb7Mc2/lib/python3.7/site-packages/tensorflow/python/distribute/distribute_lib.py:2585 call_for_each_replica\n        return self._call_for_each_replica(fn, args, kwargs)\n    /Users/mercef02/.virtualenvs/exploration-Tqzb7Mc2/lib/python3.7/site-packages/tensorflow/python/distribute/distribute_lib.py:2945 _call_for_each_replica\n        return fn(*args, **kwargs)\n    /Users/mercef02/.virtualenvs/exploration-Tqzb7Mc2/lib/python3.7/site-packages/tensorflow/python/keras/engine/training.py:789 run_step  **\n        outputs = model.train_step(data)\n    /Users/mercef02/.virtualenvs/exploration-Tqzb7Mc2/lib/python3.7/site-packages/tensorflow_recommenders/models/base.py:76 train_step\n        self.optimizer.apply_gradients(zip(gradients, self.trainable_variables))\n    /Users/mercef02/.virtualenvs/exploration-Tqzb7Mc2/lib/python3.7/site-packages/tensorflow/python/keras/optimizer_v2/optimizer_v2.py:513 apply_gradients\n        grads_and_vars = _filter_grads(grads_and_vars)\n    /Users/mercef02/.virtualenvs/exploration-Tqzb7Mc2/lib/python3.7/site-packages/tensorflow/python/keras/optimizer_v2/optimizer_v2.py:1271 _filter_grads\n        ([v.name for _, v in grads_and_vars],))\n\n    ValueError: No gradients provided for any variable: ['counter:0'].\n"
     ]
    }
   ],
   "source": [
    "num_epochs = 2\n",
    "lr = 0.01\n",
    "cached_train = sfv_train.batch(128).cache()\n",
    "cached_test = sfv_test.batch(128).cache()\n",
    "#model_link = 'https://tfhub.dev/google/nnlm-en-dim128-with-normalization/2'\n",
    "#text_model = {\"format\": \"text\", \"link\": model_link}\n",
    "recsys2_im = ItemSimilarityModel(test_candidate_ids=unique_item_ids,\n",
    "                                      features=['image_embedding'],\n",
    "                                      feature_dims=[None],\n",
    "                                      unique_item_ids=unique_item_ids,\n",
    "                                      item_body_lookup=body_lookup_table,\n",
    "                                      item_tags_lookup=tags_lookup_table,\n",
    "                                      item_category_lookup=category_lookup_table,\n",
    "                                      item_image_lookup=thumbnail_lookup_table,\n",
    "                                      image_embedding_lookup_table=im_embeddings_lookup,\n",
    "                                      layer_sizes=[])\n",
    "\n",
    "recsys2_im.compile(optimizer=tf.keras.optimizers.Adagrad(lr))\n",
    "recsys2_im.fit(    cached_train,\n",
    "    validation_data=cached_test,\n",
    "    validation_freq=1,\n",
    "    epochs=num_epochs,\n",
    "    verbose=1)\n",
    "\n",
    "\n",
    "print(f'Train accuracy: {one_layer_history.history[\"factorized_top_k/top_100_categorical_accuracy\"][-1]}')   \n",
    "print(f'Validation accuracy: {one_layer_history.history[\"val_factorized_top_k/top_100_categorical_accuracy\"][-1]}')\n",
    "\n",
    "recsys2_im_metrics = recsys2_im.evaluate(holdout_logs_tf.batch(128).cache())\n",
    "\n",
    "recsys2_im_metrics"
   ]
  },
  {
   "cell_type": "code",
   "execution_count": 352,
   "metadata": {},
   "outputs": [
    {
     "name": "stdout",
     "output_type": "stream",
     "text": [
      "Epoch 1/3\n",
      "WARNING:tensorflow:The dtype of the source tensor must be floating (e.g. tf.float32) when calling GradientTape.gradient, got tf.int32\n"
     ]
    },
    {
     "name": "stderr",
     "output_type": "stream",
     "text": [
      "WARNING:tensorflow:The dtype of the source tensor must be floating (e.g. tf.float32) when calling GradientTape.gradient, got tf.int32\n"
     ]
    },
    {
     "name": "stdout",
     "output_type": "stream",
     "text": [
      "WARNING:tensorflow:Gradients do not exist for variables ['counter:0'] when minimizing the loss.\n"
     ]
    },
    {
     "name": "stderr",
     "output_type": "stream",
     "text": [
      "WARNING:tensorflow:Gradients do not exist for variables ['counter:0'] when minimizing the loss.\n"
     ]
    },
    {
     "name": "stdout",
     "output_type": "stream",
     "text": [
      "WARNING:tensorflow:The dtype of the source tensor must be floating (e.g. tf.float32) when calling GradientTape.gradient, got tf.int32\n"
     ]
    },
    {
     "name": "stderr",
     "output_type": "stream",
     "text": [
      "WARNING:tensorflow:The dtype of the source tensor must be floating (e.g. tf.float32) when calling GradientTape.gradient, got tf.int32\n"
     ]
    },
    {
     "name": "stdout",
     "output_type": "stream",
     "text": [
      "WARNING:tensorflow:Gradients do not exist for variables ['counter:0'] when minimizing the loss.\n"
     ]
    },
    {
     "name": "stderr",
     "output_type": "stream",
     "text": [
      "WARNING:tensorflow:Gradients do not exist for variables ['counter:0'] when minimizing the loss.\n"
     ]
    },
    {
     "name": "stdout",
     "output_type": "stream",
     "text": [
      "1704/1704 [==============================] - 600s 352ms/step - factorized_top_k/top_1_categorical_accuracy: 0.0115 - factorized_top_k/top_5_categorical_accuracy: 0.1137 - factorized_top_k/top_10_categorical_accuracy: 0.1675 - factorized_top_k/top_50_categorical_accuracy: 0.2580 - factorized_top_k/top_100_categorical_accuracy: 0.2865 - loss: 5.2211 - regularization_loss: 0.0000e+00 - total_loss: 5.2211 - val_factorized_top_k/top_1_categorical_accuracy: 0.0120 - val_factorized_top_k/top_5_categorical_accuracy: 0.1999 - val_factorized_top_k/top_10_categorical_accuracy: 0.2934 - val_factorized_top_k/top_50_categorical_accuracy: 0.4277 - val_factorized_top_k/top_100_categorical_accuracy: 0.4447 - val_loss: 4.9520 - val_regularization_loss: 0.0000e+00 - val_total_loss: 4.9520\n",
      "Epoch 2/3\n",
      "1704/1704 [==============================] - 507s 297ms/step - factorized_top_k/top_1_categorical_accuracy: 0.0243 - factorized_top_k/top_5_categorical_accuracy: 0.2088 - factorized_top_k/top_10_categorical_accuracy: 0.3477 - factorized_top_k/top_50_categorical_accuracy: 0.6227 - factorized_top_k/top_100_categorical_accuracy: 0.6471 - loss: 8.7887 - regularization_loss: 0.0000e+00 - total_loss: 8.7887 - val_factorized_top_k/top_1_categorical_accuracy: 0.0268 - val_factorized_top_k/top_5_categorical_accuracy: 0.2043 - val_factorized_top_k/top_10_categorical_accuracy: 0.3123 - val_factorized_top_k/top_50_categorical_accuracy: 0.4761 - val_factorized_top_k/top_100_categorical_accuracy: 0.5085 - val_loss: 4.5088 - val_regularization_loss: 0.0000e+00 - val_total_loss: 4.5088\n",
      "Epoch 3/3\n",
      "1704/1704 [==============================] - 510s 299ms/step - factorized_top_k/top_1_categorical_accuracy: 0.0167 - factorized_top_k/top_5_categorical_accuracy: 0.2085 - factorized_top_k/top_10_categorical_accuracy: 0.3637 - factorized_top_k/top_50_categorical_accuracy: 0.6269 - factorized_top_k/top_100_categorical_accuracy: 0.6584 - loss: 8.7100 - regularization_loss: 0.0000e+00 - total_loss: 8.7100 - val_factorized_top_k/top_1_categorical_accuracy: 0.0266 - val_factorized_top_k/top_5_categorical_accuracy: 0.2062 - val_factorized_top_k/top_10_categorical_accuracy: 0.3107 - val_factorized_top_k/top_50_categorical_accuracy: 0.4729 - val_factorized_top_k/top_100_categorical_accuracy: 0.5100 - val_loss: 4.5490 - val_regularization_loss: 0.0000e+00 - val_total_loss: 4.5490\n",
      "Train accuracy: 0.5124850869178772\n",
      "Validation accuracy: 0.9847819805145264\n",
      "552/552 [==============================] - 178s 322ms/step - factorized_top_k/top_1_categorical_accuracy: 0.0202 - factorized_top_k/top_5_categorical_accuracy: 0.1514 - factorized_top_k/top_10_categorical_accuracy: 0.2336 - factorized_top_k/top_50_categorical_accuracy: 0.3986 - factorized_top_k/top_100_categorical_accuracy: 0.4356 - loss: 6.1705 - regularization_loss: 0.0000e+00 - total_loss: 6.1705\n"
     ]
    },
    {
     "data": {
      "text/plain": [
       "[0.0201894361525774,\n",
       " 0.15136413276195526,\n",
       " 0.23360846936702728,\n",
       " 0.3986351490020752,\n",
       " 0.43557360768318176]"
      ]
     },
     "execution_count": 352,
     "metadata": {},
     "output_type": "execute_result"
    }
   ],
   "source": [
    "num_epochs = 3\n",
    "lr = 0.01\n",
    "cached_train = sfv_train.batch(128).cache()\n",
    "cached_test = sfv_test.batch(128).cache()\n",
    "cf_one_layer = ItemSimilarityModel(test_candidate_ids=unique_item_ids,\n",
    "                                      features=['item_id', 'body'],\n",
    "                                      feature_dims=[100, 64],\n",
    "                                      unique_item_ids=unique_item_ids,\n",
    "                                      item_body_lookup=body_lookup_table,\n",
    "                                      item_tags_lookup=tags_lookup_table,\n",
    "                                      item_category_lookup=category_lookup_table,\n",
    "                                      item_image_lookup=thumbnail_lookup_table,\n",
    "                                      image_embedding_lookup_table=im_embeddings_lookup,\n",
    "                                      layer_sizes=[100])\n",
    "cf_one_layer.compile(optimizer=tf.keras.optimizers.Adagrad(lr))\n",
    "\n",
    "cf_one_layer_history = cf_one_layer.fit(\n",
    "    cached_train,\n",
    "    validation_data=cached_test,\n",
    "    validation_freq=1,\n",
    "    epochs=num_epochs,\n",
    "    verbose=1)\n",
    "#    callbacks=[tensorboard_callback])\n",
    "\n",
    "print(f'Train accuracy: {one_layer_history.history[\"factorized_top_k/top_100_categorical_accuracy\"][-1]}')   \n",
    "print(f'Validation accuracy: {one_layer_history.history[\"val_factorized_top_k/top_100_categorical_accuracy\"][-1]}')\n",
    "\n",
    "id_metrics = cf_one_layer.evaluate(holdout_logs_tf.batch(128).cache())\n",
    "id_metrics"
   ]
  },
  {
   "cell_type": "code",
   "execution_count": 75,
   "metadata": {},
   "outputs": [
    {
     "name": "stdout",
     "output_type": "stream",
     "text": [
      "Epoch 1/10\n",
      "WARNING:tensorflow:The dtype of the source tensor must be floating (e.g. tf.float32) when calling GradientTape.gradient, got tf.int32\n"
     ]
    },
    {
     "name": "stderr",
     "output_type": "stream",
     "text": [
      "WARNING:tensorflow:The dtype of the source tensor must be floating (e.g. tf.float32) when calling GradientTape.gradient, got tf.int32\n"
     ]
    },
    {
     "name": "stdout",
     "output_type": "stream",
     "text": [
      "WARNING:tensorflow:Gradients do not exist for variables ['counter:0'] when minimizing the loss.\n"
     ]
    },
    {
     "name": "stderr",
     "output_type": "stream",
     "text": [
      "WARNING:tensorflow:Gradients do not exist for variables ['counter:0'] when minimizing the loss.\n"
     ]
    },
    {
     "name": "stdout",
     "output_type": "stream",
     "text": [
      "WARNING:tensorflow:The dtype of the source tensor must be floating (e.g. tf.float32) when calling GradientTape.gradient, got tf.int32\n"
     ]
    },
    {
     "name": "stderr",
     "output_type": "stream",
     "text": [
      "WARNING:tensorflow:The dtype of the source tensor must be floating (e.g. tf.float32) when calling GradientTape.gradient, got tf.int32\n"
     ]
    },
    {
     "name": "stdout",
     "output_type": "stream",
     "text": [
      "WARNING:tensorflow:Gradients do not exist for variables ['counter:0'] when minimizing the loss.\n"
     ]
    },
    {
     "name": "stderr",
     "output_type": "stream",
     "text": [
      "WARNING:tensorflow:Gradients do not exist for variables ['counter:0'] when minimizing the loss.\n"
     ]
    },
    {
     "name": "stdout",
     "output_type": "stream",
     "text": [
      "2/2 [==============================] - ETA: 0s - factorized_top_k/top_1_categorical_accuracy: 0.0000e+00 - factorized_top_k/top_5_categorical_accuracy: 0.0000e+00 - factorized_top_k/top_10_categorical_accuracy: 0.0000e+00 - factorized_top_k/top_50_categorical_accuracy: 0.0039 - factorized_top_k/top_100_categorical_accuracy: 0.0039 - loss: 4.8954 - regularization_loss: 0.0000e+00 - total_loss: 4.8954        WARNING:tensorflow:Model was constructed with shape (None,) for input Tensor(\"item_id_string_lookup_layer_input_6:0\", shape=(None,), dtype=string), but it was called on an input with incompatible shape ().\n"
     ]
    },
    {
     "name": "stderr",
     "output_type": "stream",
     "text": [
      "WARNING:tensorflow:Model was constructed with shape (None,) for input Tensor(\"item_id_string_lookup_layer_input_6:0\", shape=(None,), dtype=string), but it was called on an input with incompatible shape ().\n"
     ]
    },
    {
     "name": "stdout",
     "output_type": "stream",
     "text": [
      "WARNING:tensorflow:Model was constructed with shape (None,) for input Tensor(\"body_text_vectorisation_layer_input_5:0\", shape=(None,), dtype=string), but it was called on an input with incompatible shape ().\n"
     ]
    },
    {
     "name": "stderr",
     "output_type": "stream",
     "text": [
      "WARNING:tensorflow:Model was constructed with shape (None,) for input Tensor(\"body_text_vectorisation_layer_input_5:0\", shape=(None,), dtype=string), but it was called on an input with incompatible shape ().\n"
     ]
    },
    {
     "ename": "ValueError",
     "evalue": "in user code:\n\n    /Users/mercef02/.virtualenvs/exploration-Tqzb7Mc2/lib/python3.7/site-packages/tensorflow/python/keras/engine/training.py:1224 test_function  *\n        return step_function(self, iterator)\n    <ipython-input-6-e48051f929fe>:104 call  *\n        feature_embeddings.append(self.body_embedding(body))\n    /Users/mercef02/.virtualenvs/exploration-Tqzb7Mc2/lib/python3.7/site-packages/tensorflow/python/keras/engine/base_layer.py:985 __call__  **\n        outputs = call_fn(inputs, *args, **kwargs)\n    /Users/mercef02/.virtualenvs/exploration-Tqzb7Mc2/lib/python3.7/site-packages/tensorflow/python/keras/engine/sequential.py:372 call\n        return super(Sequential, self).call(inputs, training=training, mask=mask)\n    /Users/mercef02/.virtualenvs/exploration-Tqzb7Mc2/lib/python3.7/site-packages/tensorflow/python/keras/engine/functional.py:386 call\n        inputs, training=training, mask=mask)\n    /Users/mercef02/.virtualenvs/exploration-Tqzb7Mc2/lib/python3.7/site-packages/tensorflow/python/keras/engine/functional.py:508 _run_internal_graph\n        outputs = node.layer(*args, **kwargs)\n    /Users/mercef02/.virtualenvs/exploration-Tqzb7Mc2/lib/python3.7/site-packages/tensorflow/python/keras/engine/base_layer.py:976 __call__\n        self.name)\n    /Users/mercef02/.virtualenvs/exploration-Tqzb7Mc2/lib/python3.7/site-packages/tensorflow/python/keras/engine/input_spec.py:180 assert_input_compatibility\n        str(x.shape.as_list()))\n\n    ValueError: Input 0 of layer body_global_averaging_pooling_layer is incompatible with the layer: expected ndim=3, found ndim=2. Full shape received: [None, 64]\n",
     "output_type": "error",
     "traceback": [
      "\u001B[0;31m---------------------------------------------------------------------------\u001B[0m",
      "\u001B[0;31mValueError\u001B[0m                                Traceback (most recent call last)",
      "\u001B[0;32m<ipython-input-75-a91b72151190>\u001B[0m in \u001B[0;36m<module>\u001B[0;34m\u001B[0m\n\u001B[1;32m     20\u001B[0m     \u001B[0mvalidation_freq\u001B[0m\u001B[0;34m=\u001B[0m\u001B[0;36m1\u001B[0m\u001B[0;34m,\u001B[0m\u001B[0;34m\u001B[0m\u001B[0;34m\u001B[0m\u001B[0m\n\u001B[1;32m     21\u001B[0m     \u001B[0mepochs\u001B[0m\u001B[0;34m=\u001B[0m\u001B[0mnum_epochs\u001B[0m\u001B[0;34m,\u001B[0m\u001B[0;34m\u001B[0m\u001B[0;34m\u001B[0m\u001B[0m\n\u001B[0;32m---> 22\u001B[0;31m     verbose=1)\n\u001B[0m\u001B[1;32m     23\u001B[0m \u001B[0;31m#    callbacks=[tensorboard_callback])\u001B[0m\u001B[0;34m\u001B[0m\u001B[0;34m\u001B[0m\u001B[0;34m\u001B[0m\u001B[0m\n\u001B[1;32m     24\u001B[0m \u001B[0;34m\u001B[0m\u001B[0m\n",
      "\u001B[0;32m~/.virtualenvs/exploration-Tqzb7Mc2/lib/python3.7/site-packages/tensorflow/python/keras/engine/training.py\u001B[0m in \u001B[0;36m_method_wrapper\u001B[0;34m(self, *args, **kwargs)\u001B[0m\n\u001B[1;32m    106\u001B[0m   \u001B[0;32mdef\u001B[0m \u001B[0m_method_wrapper\u001B[0m\u001B[0;34m(\u001B[0m\u001B[0mself\u001B[0m\u001B[0;34m,\u001B[0m \u001B[0;34m*\u001B[0m\u001B[0margs\u001B[0m\u001B[0;34m,\u001B[0m \u001B[0;34m**\u001B[0m\u001B[0mkwargs\u001B[0m\u001B[0;34m)\u001B[0m\u001B[0;34m:\u001B[0m\u001B[0;34m\u001B[0m\u001B[0;34m\u001B[0m\u001B[0m\n\u001B[1;32m    107\u001B[0m     \u001B[0;32mif\u001B[0m \u001B[0;32mnot\u001B[0m \u001B[0mself\u001B[0m\u001B[0;34m.\u001B[0m\u001B[0m_in_multi_worker_mode\u001B[0m\u001B[0;34m(\u001B[0m\u001B[0;34m)\u001B[0m\u001B[0;34m:\u001B[0m  \u001B[0;31m# pylint: disable=protected-access\u001B[0m\u001B[0;34m\u001B[0m\u001B[0;34m\u001B[0m\u001B[0m\n\u001B[0;32m--> 108\u001B[0;31m       \u001B[0;32mreturn\u001B[0m \u001B[0mmethod\u001B[0m\u001B[0;34m(\u001B[0m\u001B[0mself\u001B[0m\u001B[0;34m,\u001B[0m \u001B[0;34m*\u001B[0m\u001B[0margs\u001B[0m\u001B[0;34m,\u001B[0m \u001B[0;34m**\u001B[0m\u001B[0mkwargs\u001B[0m\u001B[0;34m)\u001B[0m\u001B[0;34m\u001B[0m\u001B[0;34m\u001B[0m\u001B[0m\n\u001B[0m\u001B[1;32m    109\u001B[0m \u001B[0;34m\u001B[0m\u001B[0m\n\u001B[1;32m    110\u001B[0m     \u001B[0;31m# Running inside `run_distribute_coordinator` already.\u001B[0m\u001B[0;34m\u001B[0m\u001B[0;34m\u001B[0m\u001B[0;34m\u001B[0m\u001B[0m\n",
      "\u001B[0;32m~/.virtualenvs/exploration-Tqzb7Mc2/lib/python3.7/site-packages/tensorflow/python/keras/engine/training.py\u001B[0m in \u001B[0;36mfit\u001B[0;34m(self, x, y, batch_size, epochs, verbose, callbacks, validation_split, validation_data, shuffle, class_weight, sample_weight, initial_epoch, steps_per_epoch, validation_steps, validation_batch_size, validation_freq, max_queue_size, workers, use_multiprocessing)\u001B[0m\n\u001B[1;32m   1131\u001B[0m               \u001B[0mworkers\u001B[0m\u001B[0;34m=\u001B[0m\u001B[0mworkers\u001B[0m\u001B[0;34m,\u001B[0m\u001B[0;34m\u001B[0m\u001B[0;34m\u001B[0m\u001B[0m\n\u001B[1;32m   1132\u001B[0m               \u001B[0muse_multiprocessing\u001B[0m\u001B[0;34m=\u001B[0m\u001B[0muse_multiprocessing\u001B[0m\u001B[0;34m,\u001B[0m\u001B[0;34m\u001B[0m\u001B[0;34m\u001B[0m\u001B[0m\n\u001B[0;32m-> 1133\u001B[0;31m               return_dict=True)\n\u001B[0m\u001B[1;32m   1134\u001B[0m           \u001B[0mval_logs\u001B[0m \u001B[0;34m=\u001B[0m \u001B[0;34m{\u001B[0m\u001B[0;34m'val_'\u001B[0m \u001B[0;34m+\u001B[0m \u001B[0mname\u001B[0m\u001B[0;34m:\u001B[0m \u001B[0mval\u001B[0m \u001B[0;32mfor\u001B[0m \u001B[0mname\u001B[0m\u001B[0;34m,\u001B[0m \u001B[0mval\u001B[0m \u001B[0;32min\u001B[0m \u001B[0mval_logs\u001B[0m\u001B[0;34m.\u001B[0m\u001B[0mitems\u001B[0m\u001B[0;34m(\u001B[0m\u001B[0;34m)\u001B[0m\u001B[0;34m}\u001B[0m\u001B[0;34m\u001B[0m\u001B[0;34m\u001B[0m\u001B[0m\n\u001B[1;32m   1135\u001B[0m           \u001B[0mepoch_logs\u001B[0m\u001B[0;34m.\u001B[0m\u001B[0mupdate\u001B[0m\u001B[0;34m(\u001B[0m\u001B[0mval_logs\u001B[0m\u001B[0;34m)\u001B[0m\u001B[0;34m\u001B[0m\u001B[0;34m\u001B[0m\u001B[0m\n",
      "\u001B[0;32m~/.virtualenvs/exploration-Tqzb7Mc2/lib/python3.7/site-packages/tensorflow/python/keras/engine/training.py\u001B[0m in \u001B[0;36m_method_wrapper\u001B[0;34m(self, *args, **kwargs)\u001B[0m\n\u001B[1;32m    106\u001B[0m   \u001B[0;32mdef\u001B[0m \u001B[0m_method_wrapper\u001B[0m\u001B[0;34m(\u001B[0m\u001B[0mself\u001B[0m\u001B[0;34m,\u001B[0m \u001B[0;34m*\u001B[0m\u001B[0margs\u001B[0m\u001B[0;34m,\u001B[0m \u001B[0;34m**\u001B[0m\u001B[0mkwargs\u001B[0m\u001B[0;34m)\u001B[0m\u001B[0;34m:\u001B[0m\u001B[0;34m\u001B[0m\u001B[0;34m\u001B[0m\u001B[0m\n\u001B[1;32m    107\u001B[0m     \u001B[0;32mif\u001B[0m \u001B[0;32mnot\u001B[0m \u001B[0mself\u001B[0m\u001B[0;34m.\u001B[0m\u001B[0m_in_multi_worker_mode\u001B[0m\u001B[0;34m(\u001B[0m\u001B[0;34m)\u001B[0m\u001B[0;34m:\u001B[0m  \u001B[0;31m# pylint: disable=protected-access\u001B[0m\u001B[0;34m\u001B[0m\u001B[0;34m\u001B[0m\u001B[0m\n\u001B[0;32m--> 108\u001B[0;31m       \u001B[0;32mreturn\u001B[0m \u001B[0mmethod\u001B[0m\u001B[0;34m(\u001B[0m\u001B[0mself\u001B[0m\u001B[0;34m,\u001B[0m \u001B[0;34m*\u001B[0m\u001B[0margs\u001B[0m\u001B[0;34m,\u001B[0m \u001B[0;34m**\u001B[0m\u001B[0mkwargs\u001B[0m\u001B[0;34m)\u001B[0m\u001B[0;34m\u001B[0m\u001B[0;34m\u001B[0m\u001B[0m\n\u001B[0m\u001B[1;32m    109\u001B[0m \u001B[0;34m\u001B[0m\u001B[0m\n\u001B[1;32m    110\u001B[0m     \u001B[0;31m# Running inside `run_distribute_coordinator` already.\u001B[0m\u001B[0;34m\u001B[0m\u001B[0;34m\u001B[0m\u001B[0;34m\u001B[0m\u001B[0m\n",
      "\u001B[0;32m~/.virtualenvs/exploration-Tqzb7Mc2/lib/python3.7/site-packages/tensorflow/python/keras/engine/training.py\u001B[0m in \u001B[0;36mevaluate\u001B[0;34m(self, x, y, batch_size, verbose, sample_weight, steps, callbacks, max_queue_size, workers, use_multiprocessing, return_dict)\u001B[0m\n\u001B[1;32m   1377\u001B[0m             \u001B[0;32mwith\u001B[0m \u001B[0mtrace\u001B[0m\u001B[0;34m.\u001B[0m\u001B[0mTrace\u001B[0m\u001B[0;34m(\u001B[0m\u001B[0;34m'TraceContext'\u001B[0m\u001B[0;34m,\u001B[0m \u001B[0mgraph_type\u001B[0m\u001B[0;34m=\u001B[0m\u001B[0;34m'test'\u001B[0m\u001B[0;34m,\u001B[0m \u001B[0mstep_num\u001B[0m\u001B[0;34m=\u001B[0m\u001B[0mstep\u001B[0m\u001B[0;34m)\u001B[0m\u001B[0;34m:\u001B[0m\u001B[0;34m\u001B[0m\u001B[0;34m\u001B[0m\u001B[0m\n\u001B[1;32m   1378\u001B[0m               \u001B[0mcallbacks\u001B[0m\u001B[0;34m.\u001B[0m\u001B[0mon_test_batch_begin\u001B[0m\u001B[0;34m(\u001B[0m\u001B[0mstep\u001B[0m\u001B[0;34m)\u001B[0m\u001B[0;34m\u001B[0m\u001B[0;34m\u001B[0m\u001B[0m\n\u001B[0;32m-> 1379\u001B[0;31m               \u001B[0mtmp_logs\u001B[0m \u001B[0;34m=\u001B[0m \u001B[0mtest_function\u001B[0m\u001B[0;34m(\u001B[0m\u001B[0miterator\u001B[0m\u001B[0;34m)\u001B[0m\u001B[0;34m\u001B[0m\u001B[0;34m\u001B[0m\u001B[0m\n\u001B[0m\u001B[1;32m   1380\u001B[0m               \u001B[0;32mif\u001B[0m \u001B[0mdata_handler\u001B[0m\u001B[0;34m.\u001B[0m\u001B[0mshould_sync\u001B[0m\u001B[0;34m:\u001B[0m\u001B[0;34m\u001B[0m\u001B[0;34m\u001B[0m\u001B[0m\n\u001B[1;32m   1381\u001B[0m                 \u001B[0mcontext\u001B[0m\u001B[0;34m.\u001B[0m\u001B[0masync_wait\u001B[0m\u001B[0;34m(\u001B[0m\u001B[0;34m)\u001B[0m\u001B[0;34m\u001B[0m\u001B[0;34m\u001B[0m\u001B[0m\n",
      "\u001B[0;32m~/.virtualenvs/exploration-Tqzb7Mc2/lib/python3.7/site-packages/tensorflow/python/eager/def_function.py\u001B[0m in \u001B[0;36m__call__\u001B[0;34m(self, *args, **kwds)\u001B[0m\n\u001B[1;32m    778\u001B[0m       \u001B[0;32melse\u001B[0m\u001B[0;34m:\u001B[0m\u001B[0;34m\u001B[0m\u001B[0;34m\u001B[0m\u001B[0m\n\u001B[1;32m    779\u001B[0m         \u001B[0mcompiler\u001B[0m \u001B[0;34m=\u001B[0m \u001B[0;34m\"nonXla\"\u001B[0m\u001B[0;34m\u001B[0m\u001B[0;34m\u001B[0m\u001B[0m\n\u001B[0;32m--> 780\u001B[0;31m         \u001B[0mresult\u001B[0m \u001B[0;34m=\u001B[0m \u001B[0mself\u001B[0m\u001B[0;34m.\u001B[0m\u001B[0m_call\u001B[0m\u001B[0;34m(\u001B[0m\u001B[0;34m*\u001B[0m\u001B[0margs\u001B[0m\u001B[0;34m,\u001B[0m \u001B[0;34m**\u001B[0m\u001B[0mkwds\u001B[0m\u001B[0;34m)\u001B[0m\u001B[0;34m\u001B[0m\u001B[0;34m\u001B[0m\u001B[0m\n\u001B[0m\u001B[1;32m    781\u001B[0m \u001B[0;34m\u001B[0m\u001B[0m\n\u001B[1;32m    782\u001B[0m       \u001B[0mnew_tracing_count\u001B[0m \u001B[0;34m=\u001B[0m \u001B[0mself\u001B[0m\u001B[0;34m.\u001B[0m\u001B[0m_get_tracing_count\u001B[0m\u001B[0;34m(\u001B[0m\u001B[0;34m)\u001B[0m\u001B[0;34m\u001B[0m\u001B[0;34m\u001B[0m\u001B[0m\n",
      "\u001B[0;32m~/.virtualenvs/exploration-Tqzb7Mc2/lib/python3.7/site-packages/tensorflow/python/eager/def_function.py\u001B[0m in \u001B[0;36m_call\u001B[0;34m(self, *args, **kwds)\u001B[0m\n\u001B[1;32m    821\u001B[0m       \u001B[0;31m# This is the first call of __call__, so we have to initialize.\u001B[0m\u001B[0;34m\u001B[0m\u001B[0;34m\u001B[0m\u001B[0;34m\u001B[0m\u001B[0m\n\u001B[1;32m    822\u001B[0m       \u001B[0minitializers\u001B[0m \u001B[0;34m=\u001B[0m \u001B[0;34m[\u001B[0m\u001B[0;34m]\u001B[0m\u001B[0;34m\u001B[0m\u001B[0;34m\u001B[0m\u001B[0m\n\u001B[0;32m--> 823\u001B[0;31m       \u001B[0mself\u001B[0m\u001B[0;34m.\u001B[0m\u001B[0m_initialize\u001B[0m\u001B[0;34m(\u001B[0m\u001B[0margs\u001B[0m\u001B[0;34m,\u001B[0m \u001B[0mkwds\u001B[0m\u001B[0;34m,\u001B[0m \u001B[0madd_initializers_to\u001B[0m\u001B[0;34m=\u001B[0m\u001B[0minitializers\u001B[0m\u001B[0;34m)\u001B[0m\u001B[0;34m\u001B[0m\u001B[0;34m\u001B[0m\u001B[0m\n\u001B[0m\u001B[1;32m    824\u001B[0m     \u001B[0;32mfinally\u001B[0m\u001B[0;34m:\u001B[0m\u001B[0;34m\u001B[0m\u001B[0;34m\u001B[0m\u001B[0m\n\u001B[1;32m    825\u001B[0m       \u001B[0;31m# At this point we know that the initialization is complete (or less\u001B[0m\u001B[0;34m\u001B[0m\u001B[0;34m\u001B[0m\u001B[0;34m\u001B[0m\u001B[0m\n",
      "\u001B[0;32m~/.virtualenvs/exploration-Tqzb7Mc2/lib/python3.7/site-packages/tensorflow/python/eager/def_function.py\u001B[0m in \u001B[0;36m_initialize\u001B[0;34m(self, args, kwds, add_initializers_to)\u001B[0m\n\u001B[1;32m    695\u001B[0m     self._concrete_stateful_fn = (\n\u001B[1;32m    696\u001B[0m         self._stateful_fn._get_concrete_function_internal_garbage_collected(  # pylint: disable=protected-access\n\u001B[0;32m--> 697\u001B[0;31m             *args, **kwds))\n\u001B[0m\u001B[1;32m    698\u001B[0m \u001B[0;34m\u001B[0m\u001B[0m\n\u001B[1;32m    699\u001B[0m     \u001B[0;32mdef\u001B[0m \u001B[0minvalid_creator_scope\u001B[0m\u001B[0;34m(\u001B[0m\u001B[0;34m*\u001B[0m\u001B[0munused_args\u001B[0m\u001B[0;34m,\u001B[0m \u001B[0;34m**\u001B[0m\u001B[0munused_kwds\u001B[0m\u001B[0;34m)\u001B[0m\u001B[0;34m:\u001B[0m\u001B[0;34m\u001B[0m\u001B[0;34m\u001B[0m\u001B[0m\n",
      "\u001B[0;32m~/.virtualenvs/exploration-Tqzb7Mc2/lib/python3.7/site-packages/tensorflow/python/eager/function.py\u001B[0m in \u001B[0;36m_get_concrete_function_internal_garbage_collected\u001B[0;34m(self, *args, **kwargs)\u001B[0m\n\u001B[1;32m   2853\u001B[0m       \u001B[0margs\u001B[0m\u001B[0;34m,\u001B[0m \u001B[0mkwargs\u001B[0m \u001B[0;34m=\u001B[0m \u001B[0;32mNone\u001B[0m\u001B[0;34m,\u001B[0m \u001B[0;32mNone\u001B[0m\u001B[0;34m\u001B[0m\u001B[0;34m\u001B[0m\u001B[0m\n\u001B[1;32m   2854\u001B[0m     \u001B[0;32mwith\u001B[0m \u001B[0mself\u001B[0m\u001B[0;34m.\u001B[0m\u001B[0m_lock\u001B[0m\u001B[0;34m:\u001B[0m\u001B[0;34m\u001B[0m\u001B[0;34m\u001B[0m\u001B[0m\n\u001B[0;32m-> 2855\u001B[0;31m       \u001B[0mgraph_function\u001B[0m\u001B[0;34m,\u001B[0m \u001B[0m_\u001B[0m\u001B[0;34m,\u001B[0m \u001B[0m_\u001B[0m \u001B[0;34m=\u001B[0m \u001B[0mself\u001B[0m\u001B[0;34m.\u001B[0m\u001B[0m_maybe_define_function\u001B[0m\u001B[0;34m(\u001B[0m\u001B[0margs\u001B[0m\u001B[0;34m,\u001B[0m \u001B[0mkwargs\u001B[0m\u001B[0;34m)\u001B[0m\u001B[0;34m\u001B[0m\u001B[0;34m\u001B[0m\u001B[0m\n\u001B[0m\u001B[1;32m   2856\u001B[0m     \u001B[0;32mreturn\u001B[0m \u001B[0mgraph_function\u001B[0m\u001B[0;34m\u001B[0m\u001B[0;34m\u001B[0m\u001B[0m\n\u001B[1;32m   2857\u001B[0m \u001B[0;34m\u001B[0m\u001B[0m\n",
      "\u001B[0;32m~/.virtualenvs/exploration-Tqzb7Mc2/lib/python3.7/site-packages/tensorflow/python/eager/function.py\u001B[0m in \u001B[0;36m_maybe_define_function\u001B[0;34m(self, args, kwargs)\u001B[0m\n\u001B[1;32m   3211\u001B[0m \u001B[0;34m\u001B[0m\u001B[0m\n\u001B[1;32m   3212\u001B[0m       \u001B[0mself\u001B[0m\u001B[0;34m.\u001B[0m\u001B[0m_function_cache\u001B[0m\u001B[0;34m.\u001B[0m\u001B[0mmissed\u001B[0m\u001B[0;34m.\u001B[0m\u001B[0madd\u001B[0m\u001B[0;34m(\u001B[0m\u001B[0mcall_context_key\u001B[0m\u001B[0;34m)\u001B[0m\u001B[0;34m\u001B[0m\u001B[0;34m\u001B[0m\u001B[0m\n\u001B[0;32m-> 3213\u001B[0;31m       \u001B[0mgraph_function\u001B[0m \u001B[0;34m=\u001B[0m \u001B[0mself\u001B[0m\u001B[0;34m.\u001B[0m\u001B[0m_create_graph_function\u001B[0m\u001B[0;34m(\u001B[0m\u001B[0margs\u001B[0m\u001B[0;34m,\u001B[0m \u001B[0mkwargs\u001B[0m\u001B[0;34m)\u001B[0m\u001B[0;34m\u001B[0m\u001B[0;34m\u001B[0m\u001B[0m\n\u001B[0m\u001B[1;32m   3214\u001B[0m       \u001B[0mself\u001B[0m\u001B[0;34m.\u001B[0m\u001B[0m_function_cache\u001B[0m\u001B[0;34m.\u001B[0m\u001B[0mprimary\u001B[0m\u001B[0;34m[\u001B[0m\u001B[0mcache_key\u001B[0m\u001B[0;34m]\u001B[0m \u001B[0;34m=\u001B[0m \u001B[0mgraph_function\u001B[0m\u001B[0;34m\u001B[0m\u001B[0;34m\u001B[0m\u001B[0m\n\u001B[1;32m   3215\u001B[0m       \u001B[0;32mreturn\u001B[0m \u001B[0mgraph_function\u001B[0m\u001B[0;34m,\u001B[0m \u001B[0margs\u001B[0m\u001B[0;34m,\u001B[0m \u001B[0mkwargs\u001B[0m\u001B[0;34m\u001B[0m\u001B[0;34m\u001B[0m\u001B[0m\n",
      "\u001B[0;32m~/.virtualenvs/exploration-Tqzb7Mc2/lib/python3.7/site-packages/tensorflow/python/eager/function.py\u001B[0m in \u001B[0;36m_create_graph_function\u001B[0;34m(self, args, kwargs, override_flat_arg_shapes)\u001B[0m\n\u001B[1;32m   3073\u001B[0m             \u001B[0marg_names\u001B[0m\u001B[0;34m=\u001B[0m\u001B[0marg_names\u001B[0m\u001B[0;34m,\u001B[0m\u001B[0;34m\u001B[0m\u001B[0;34m\u001B[0m\u001B[0m\n\u001B[1;32m   3074\u001B[0m             \u001B[0moverride_flat_arg_shapes\u001B[0m\u001B[0;34m=\u001B[0m\u001B[0moverride_flat_arg_shapes\u001B[0m\u001B[0;34m,\u001B[0m\u001B[0;34m\u001B[0m\u001B[0;34m\u001B[0m\u001B[0m\n\u001B[0;32m-> 3075\u001B[0;31m             capture_by_value=self._capture_by_value),\n\u001B[0m\u001B[1;32m   3076\u001B[0m         \u001B[0mself\u001B[0m\u001B[0;34m.\u001B[0m\u001B[0m_function_attributes\u001B[0m\u001B[0;34m,\u001B[0m\u001B[0;34m\u001B[0m\u001B[0;34m\u001B[0m\u001B[0m\n\u001B[1;32m   3077\u001B[0m         \u001B[0mfunction_spec\u001B[0m\u001B[0;34m=\u001B[0m\u001B[0mself\u001B[0m\u001B[0;34m.\u001B[0m\u001B[0mfunction_spec\u001B[0m\u001B[0;34m,\u001B[0m\u001B[0;34m\u001B[0m\u001B[0;34m\u001B[0m\u001B[0m\n",
      "\u001B[0;32m~/.virtualenvs/exploration-Tqzb7Mc2/lib/python3.7/site-packages/tensorflow/python/framework/func_graph.py\u001B[0m in \u001B[0;36mfunc_graph_from_py_func\u001B[0;34m(name, python_func, args, kwargs, signature, func_graph, autograph, autograph_options, add_control_dependencies, arg_names, op_return_value, collections, capture_by_value, override_flat_arg_shapes)\u001B[0m\n\u001B[1;32m    984\u001B[0m         \u001B[0m_\u001B[0m\u001B[0;34m,\u001B[0m \u001B[0moriginal_func\u001B[0m \u001B[0;34m=\u001B[0m \u001B[0mtf_decorator\u001B[0m\u001B[0;34m.\u001B[0m\u001B[0munwrap\u001B[0m\u001B[0;34m(\u001B[0m\u001B[0mpython_func\u001B[0m\u001B[0;34m)\u001B[0m\u001B[0;34m\u001B[0m\u001B[0;34m\u001B[0m\u001B[0m\n\u001B[1;32m    985\u001B[0m \u001B[0;34m\u001B[0m\u001B[0m\n\u001B[0;32m--> 986\u001B[0;31m       \u001B[0mfunc_outputs\u001B[0m \u001B[0;34m=\u001B[0m \u001B[0mpython_func\u001B[0m\u001B[0;34m(\u001B[0m\u001B[0;34m*\u001B[0m\u001B[0mfunc_args\u001B[0m\u001B[0;34m,\u001B[0m \u001B[0;34m**\u001B[0m\u001B[0mfunc_kwargs\u001B[0m\u001B[0;34m)\u001B[0m\u001B[0;34m\u001B[0m\u001B[0;34m\u001B[0m\u001B[0m\n\u001B[0m\u001B[1;32m    987\u001B[0m \u001B[0;34m\u001B[0m\u001B[0m\n\u001B[1;32m    988\u001B[0m       \u001B[0;31m# invariant: `func_outputs` contains only Tensors, CompositeTensors,\u001B[0m\u001B[0;34m\u001B[0m\u001B[0;34m\u001B[0m\u001B[0;34m\u001B[0m\u001B[0m\n",
      "\u001B[0;32m~/.virtualenvs/exploration-Tqzb7Mc2/lib/python3.7/site-packages/tensorflow/python/eager/def_function.py\u001B[0m in \u001B[0;36mwrapped_fn\u001B[0;34m(*args, **kwds)\u001B[0m\n\u001B[1;32m    598\u001B[0m         \u001B[0;31m# __wrapped__ allows AutoGraph to swap in a converted function. We give\u001B[0m\u001B[0;34m\u001B[0m\u001B[0;34m\u001B[0m\u001B[0;34m\u001B[0m\u001B[0m\n\u001B[1;32m    599\u001B[0m         \u001B[0;31m# the function a weak reference to itself to avoid a reference cycle.\u001B[0m\u001B[0;34m\u001B[0m\u001B[0;34m\u001B[0m\u001B[0;34m\u001B[0m\u001B[0m\n\u001B[0;32m--> 600\u001B[0;31m         \u001B[0;32mreturn\u001B[0m \u001B[0mweak_wrapped_fn\u001B[0m\u001B[0;34m(\u001B[0m\u001B[0;34m)\u001B[0m\u001B[0;34m.\u001B[0m\u001B[0m__wrapped__\u001B[0m\u001B[0;34m(\u001B[0m\u001B[0;34m*\u001B[0m\u001B[0margs\u001B[0m\u001B[0;34m,\u001B[0m \u001B[0;34m**\u001B[0m\u001B[0mkwds\u001B[0m\u001B[0;34m)\u001B[0m\u001B[0;34m\u001B[0m\u001B[0;34m\u001B[0m\u001B[0m\n\u001B[0m\u001B[1;32m    601\u001B[0m     \u001B[0mweak_wrapped_fn\u001B[0m \u001B[0;34m=\u001B[0m \u001B[0mweakref\u001B[0m\u001B[0;34m.\u001B[0m\u001B[0mref\u001B[0m\u001B[0;34m(\u001B[0m\u001B[0mwrapped_fn\u001B[0m\u001B[0;34m)\u001B[0m\u001B[0;34m\u001B[0m\u001B[0;34m\u001B[0m\u001B[0m\n\u001B[1;32m    602\u001B[0m \u001B[0;34m\u001B[0m\u001B[0m\n",
      "\u001B[0;32m~/.virtualenvs/exploration-Tqzb7Mc2/lib/python3.7/site-packages/tensorflow/python/framework/func_graph.py\u001B[0m in \u001B[0;36mwrapper\u001B[0;34m(*args, **kwargs)\u001B[0m\n\u001B[1;32m    971\u001B[0m           \u001B[0;32mexcept\u001B[0m \u001B[0mException\u001B[0m \u001B[0;32mas\u001B[0m \u001B[0me\u001B[0m\u001B[0;34m:\u001B[0m  \u001B[0;31m# pylint:disable=broad-except\u001B[0m\u001B[0;34m\u001B[0m\u001B[0;34m\u001B[0m\u001B[0m\n\u001B[1;32m    972\u001B[0m             \u001B[0;32mif\u001B[0m \u001B[0mhasattr\u001B[0m\u001B[0;34m(\u001B[0m\u001B[0me\u001B[0m\u001B[0;34m,\u001B[0m \u001B[0;34m\"ag_error_metadata\"\u001B[0m\u001B[0;34m)\u001B[0m\u001B[0;34m:\u001B[0m\u001B[0;34m\u001B[0m\u001B[0;34m\u001B[0m\u001B[0m\n\u001B[0;32m--> 973\u001B[0;31m               \u001B[0;32mraise\u001B[0m \u001B[0me\u001B[0m\u001B[0;34m.\u001B[0m\u001B[0mag_error_metadata\u001B[0m\u001B[0;34m.\u001B[0m\u001B[0mto_exception\u001B[0m\u001B[0;34m(\u001B[0m\u001B[0me\u001B[0m\u001B[0;34m)\u001B[0m\u001B[0;34m\u001B[0m\u001B[0;34m\u001B[0m\u001B[0m\n\u001B[0m\u001B[1;32m    974\u001B[0m             \u001B[0;32melse\u001B[0m\u001B[0;34m:\u001B[0m\u001B[0;34m\u001B[0m\u001B[0;34m\u001B[0m\u001B[0m\n\u001B[1;32m    975\u001B[0m               \u001B[0;32mraise\u001B[0m\u001B[0;34m\u001B[0m\u001B[0;34m\u001B[0m\u001B[0m\n",
      "\u001B[0;31mValueError\u001B[0m: in user code:\n\n    /Users/mercef02/.virtualenvs/exploration-Tqzb7Mc2/lib/python3.7/site-packages/tensorflow/python/keras/engine/training.py:1224 test_function  *\n        return step_function(self, iterator)\n    <ipython-input-6-e48051f929fe>:104 call  *\n        feature_embeddings.append(self.body_embedding(body))\n    /Users/mercef02/.virtualenvs/exploration-Tqzb7Mc2/lib/python3.7/site-packages/tensorflow/python/keras/engine/base_layer.py:985 __call__  **\n        outputs = call_fn(inputs, *args, **kwargs)\n    /Users/mercef02/.virtualenvs/exploration-Tqzb7Mc2/lib/python3.7/site-packages/tensorflow/python/keras/engine/sequential.py:372 call\n        return super(Sequential, self).call(inputs, training=training, mask=mask)\n    /Users/mercef02/.virtualenvs/exploration-Tqzb7Mc2/lib/python3.7/site-packages/tensorflow/python/keras/engine/functional.py:386 call\n        inputs, training=training, mask=mask)\n    /Users/mercef02/.virtualenvs/exploration-Tqzb7Mc2/lib/python3.7/site-packages/tensorflow/python/keras/engine/functional.py:508 _run_internal_graph\n        outputs = node.layer(*args, **kwargs)\n    /Users/mercef02/.virtualenvs/exploration-Tqzb7Mc2/lib/python3.7/site-packages/tensorflow/python/keras/engine/base_layer.py:976 __call__\n        self.name)\n    /Users/mercef02/.virtualenvs/exploration-Tqzb7Mc2/lib/python3.7/site-packages/tensorflow/python/keras/engine/input_spec.py:180 assert_input_compatibility\n        str(x.shape.as_list()))\n\n    ValueError: Input 0 of layer body_global_averaging_pooling_layer is incompatible with the layer: expected ndim=3, found ndim=2. Full shape received: [None, 64]\n"
     ]
    }
   ],
   "source": [
    "num_epochs = 10\n",
    "lr = 0.01\n",
    "cached_train = sfv_train.take(256).batch(128).cache()\n",
    "cached_test = sfv_val.take(256).batch(128).cache()\n",
    "cf_one_layer = ItemSimilarityModel(test_candidate_ids=unique_item_ids,\n",
    "                                      features=['item_id', 'body'],\n",
    "                                      feature_dims=[100, 64],\n",
    "                                      unique_item_ids=unique_item_ids,\n",
    "                                      item_body_lookup=body_lookup_table,\n",
    "                                      item_tags_lookup=tags_lookup_table,\n",
    "                                      item_category_lookup=category_lookup_table,\n",
    "                                      item_image_lookup=thumbnail_lookup_table,\n",
    "                                      image_embedding_lookup_table=im_embeddings_lookup,\n",
    "                                      layer_sizes=[])\n",
    "cf_one_layer.compile(optimizer=tf.keras.optimizers.Adagrad(lr))\n",
    "\n",
    "cf_one_layer_history = cf_one_layer.fit(\n",
    "    cached_train,\n",
    "    validation_data=sfv_val,\n",
    "    validation_freq=1,\n",
    "    epochs=num_epochs,\n",
    "    verbose=1)\n",
    "#    callbacks=[tensorboard_callback])\n",
    "\n",
    "print(f'Train accuracy: {one_layer_history.history[\"factorized_top_k/top_100_categorical_accuracy\"][-1]}')   \n",
    "print(f'Validation accuracy: {one_layer_history.history[\"val_factorized_top_k/top_100_categorical_accuracy\"][-1]}')\n",
    "\n",
    "id_metrics = cf_one_layer.evaluate(holdout_logs_tf.batch(128).cache())\n",
    "id_metrics"
   ]
  },
  {
   "cell_type": "markdown",
   "metadata": {},
   "source": [
    "## Are the results sensible?\n"
   ]
  },
  {
   "cell_type": "markdown",
   "metadata": {},
   "source": [
    "## Export embeddings into nearest neighbour index\n",
    "\n",
    "# Let's get the most paired items"
   ]
  },
  {
   "cell_type": "code",
   "execution_count": null,
   "metadata": {
    "pycharm": {
     "name": "#%%\n"
    }
   },
   "outputs": [],
   "source": [
    "\n",
    "\n",
    "\n"
   ]
  },
  {
   "cell_type": "code",
   "execution_count": null,
   "metadata": {
    "pycharm": {
     "name": "#%%\n"
    }
   },
   "outputs": [],
   "source": [
    "item_embeddings = get_dict_of_embeddings(trained_model, unique_item_ids)\n",
    "annoy_index, id_to_uri, uri_to_id = build_annoy_index(item_embeddings)"
   ]
  },
  {
   "cell_type": "code",
   "execution_count": null,
   "metadata": {
    "pycharm": {
     "name": "#%%\n"
    }
   },
   "outputs": [],
   "source": [
    "#query_uri = '/news/technology-53018000'\n",
    "#query_uri = '/sport/football/53805003'\n",
    "#query_uri = '/news/business-10665047'\n",
    "#query_uri = '/news/uk-england-hampshire-53838761'\n",
    "\n",
    "query_uri, groundtruth_uri = vc.index[1].split('_')\n",
    "print(f'query_uri = {query_uri}')\n",
    "print(f'groundtruth_uri = {groundtruth_uri}')\n",
    "\n",
    "rec_uris = generate_model_recs(query_uri, annoy_index, uri_to_id, id_to_uri, uri_to_embedding, es, _es_index, 20)\n",
    "print(f'LITMUS TEST: {groundtruth_uri in rec_uris}')\n",
    "print('-------------------')\n",
    "print('-------------------')\n",
    "\n",
    "for rec in rec_uris:\n",
    "    print_item(rec, es, _es_index)\n",
    "    print('-------------------')\n",
    "\n",
    "\n"
   ]
  },
  {
   "cell_type": "code",
   "execution_count": null,
   "metadata": {
    "pycharm": {
     "name": "#%%\n"
    }
   },
   "outputs": [],
   "source": [
    "# Use brute-force search to set up retrieval using the trained representations.\n",
    "# index = tfrs.layers.ann.BruteForce(trained_model.item_model)\n",
    "# index.index(items_tf.batch(100).map(trained_model.item_model), items_tf)\n",
    "# # Get some recommendations.\n",
    "# query_uri = '/news/business-10665047'\n",
    "# query_uri = '129'\n",
    "# _, titles = index(np.array([query_uri]))\n",
    "# print(f\"Top 3 recommendations for item {query_uri}: {titles[0, :3]}\")"
   ]
  },
  {
   "cell_type": "code",
   "execution_count": null,
   "metadata": {
    "pycharm": {
     "name": "#%%\n"
    }
   },
   "outputs": [],
   "source": [
    "a = request_asset_from_ares()\n",
    "a\n",
    "\n"
   ]
  }
 ],
 "metadata": {
  "kernelspec": {
   "display_name": "deep-recommender-embeddings",
   "language": "python",
   "name": "deep-recommender-embeddings"
  },
  "language_info": {
   "codemirror_mode": {
    "name": "ipython",
    "version": 3
   },
   "file_extension": ".py",
   "mimetype": "text/x-python",
   "name": "python",
   "nbconvert_exporter": "python",
   "pygments_lexer": "ipython3",
   "version": "3.8.6"
  }
 },
 "nbformat": 4,
 "nbformat_minor": 2
}