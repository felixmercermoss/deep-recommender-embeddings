{
 "cells": [
  {
   "cell_type": "code",
   "execution_count": 1,
   "metadata": {},
   "outputs": [],
   "source": [
    "import pickle\n",
    "\n",
    "import tensorflow as tf\n",
    "import pandas as pd\n",
    "import numpy as np\n",
    "from annoy import AnnoyIndex\n",
    "import sys\n",
    "import os\n",
    "%matplotlib inline\n",
    "\n"
   ]
  },
  {
   "cell_type": "code",
   "execution_count": 2,
   "metadata": {},
   "outputs": [],
   "source": [
    "import tensorflow_recommenders as tfrs\n"
   ]
  },
  {
   "cell_type": "code",
   "execution_count": 3,
   "metadata": {},
   "outputs": [],
   "source": [
    "module_path = os.path.abspath(os.path.join(os.pardir, os.pardir))\n",
    "if module_path not in sys.path:\n",
    "    sys.path.append(module_path)"
   ]
  },
  {
   "cell_type": "code",
   "execution_count": 4,
   "metadata": {},
   "outputs": [
    {
     "name": "stderr",
     "output_type": "stream",
     "text": [
      "[nltk_data] Downloading package stopwords to\n",
      "[nltk_data]     /Users/mercef02/nltk_data...\n",
      "[nltk_data]   Package stopwords is already up-to-date!\n",
      "[nltk_data] Downloading package punkt to /Users/mercef02/nltk_data...\n",
      "[nltk_data]   Package punkt is already up-to-date!\n"
     ]
    }
   ],
   "source": [
    "from deep_recommender_embeddings.src.ares import request_asset_from_ares\n",
    "from deep_recommender_embeddings.src.elasticsearch_utils import get_es_instance, get_data_from_es, print_item\n",
    "from deep_recommender_embeddings.src.image_embeddings import generate_image_embeddings\n",
    "from deep_recommender_embeddings.src.models import ItemSimilarityModel, UserItemModel\n",
    "from deep_recommender_embeddings.src.plotting import plot_metric\n",
    "from deep_recommender_embeddings.src.tf_utils import get_tf_lookup_table_for_property, get_tf_lookup_for_dict\n",
    "from deep_recommender_embeddings.src.inference import get_dict_of_embeddings, build_annoy_index\n",
    "from deep_recommender_embeddings.src.io import export_embeddings_to_file\n",
    "from deep_recommender_embeddings.src.preprocessing import load_data, clean_data, filter_logs, get_pairs, \\\n",
    "    get_item_pairs_from_journeys, generate_model_recs, get_pairs_location"
   ]
  },
  {
   "cell_type": "code",
   "execution_count": 5,
   "metadata": {},
   "outputs": [],
   "source": [
    "%load_ext autoreload\n",
    "%autoreload 2"
   ]
  },
  {
   "cell_type": "code",
   "execution_count": 6,
   "metadata": {},
   "outputs": [],
   "source": [
    "%reload_ext autoreload\n"
   ]
  },
  {
   "cell_type": "code",
   "execution_count": 7,
   "metadata": {},
   "outputs": [],
   "source": [
    "import ssl\n",
    "\n",
    "try:\n",
    "    _create_unverified_https_context = ssl._create_unverified_context\n",
    "except AttributeError:\n",
    "    pass\n",
    "else:\n",
    "    ssl._create_default_https_context = _create_unverified_https_context\n"
   ]
  },
  {
   "cell_type": "markdown",
   "metadata": {},
   "source": [
    "## Load content data from ES"
   ]
  },
  {
   "cell_type": "code",
   "execution_count": 8,
   "metadata": {},
   "outputs": [],
   "source": [
    "_es_index = 'news_20210305c'\n",
    "_es_host = 'localhost'\n",
    "_es_port = '9200'\n",
    "es = get_es_instance(es_host=_es_host, es_port=_es_port)\n",
    "\n",
    "# This is the imaginary date that recommendations will be generated on\n",
    "prediction_time = \"2020-11-02T00:00:00\"\n",
    "\n",
    "# Business rules usually prevent recs being returned that are older than 90 days so we will only retrieve items\n",
    "# that were published within this time window\n",
    "max_age_days = 90"
   ]
  },
  {
   "cell_type": "markdown",
   "metadata": {},
   "source": [
    "Now let's fetch all the relevant data from elasticsearch. For all items in the publication window we will fetch the id,\n",
    "all the text, the tags, the category and the image url."
   ]
  },
  {
   "cell_type": "code",
   "execution_count": 9,
   "metadata": {},
   "outputs": [
    {
     "name": "stdout",
     "output_type": "stream",
     "text": [
      "0\n",
      "1\n",
      "2\n",
      "3\n",
      "4\n",
      "5\n",
      "6\n",
      "7\n",
      "8\n",
      "9\n",
      "Grabbed 42732 items from elasticsearch\n"
     ]
    }
   ],
   "source": [
    "features = [\"combinedBodySummaryHeadline\", \"tagsText\", \"articleCategoryName\"]\n",
    "hits = get_data_from_es(es, features, 50000, 5000, prediction_time, max_age_days, _es_index)\n",
    "unique_item_ids = [hit['sort'][0] for hit in hits]\n",
    "print(f'Grabbed {len(unique_item_ids)} items from elasticsearch')"
   ]
  },
  {
   "cell_type": "markdown",
   "metadata": {},
   "source": [
    "### Generate tensorflow lookup tables\n",
    "Tensorflow requires special lookup tables to use in its graph so here we extract the relevant information into these\n",
    "objects."
   ]
  },
  {
   "cell_type": "code",
   "execution_count": 10,
   "metadata": {
    "collapsed": false,
    "jupyter": {
     "outputs_hidden": false
    },
    "pycharm": {
     "name": "#%%\n"
    }
   },
   "outputs": [
    {
     "name": "stdout",
     "output_type": "stream",
     "text": [
      "Tensorflow lookup table created for combinedBodySummaryHeadline with 42732 entries.\n",
      "Tensorflow lookup table created for tagsText with 32987 entries.\n",
      "Tensorflow lookup table created for articleCategoryName with 42631 entries.\n"
     ]
    }
   ],
   "source": [
    "body_lookup_table, _ = get_tf_lookup_table_for_property(hits, \"combinedBodySummaryHeadline\", clean=True)\n",
    "tags_lookup_table, _ = get_tf_lookup_table_for_property(hits, \"tagsText\")\n",
    "category_lookup_table, unique_categories = get_tf_lookup_table_for_property(hits, \"articleCategoryName\")\n"
   ]
  },
  {
   "cell_type": "markdown",
   "metadata": {},
   "source": [
    "## Load raw user data\n",
    "Load the vocabulary of the of item IDs into a tensorflow dataset."
   ]
  },
  {
   "cell_type": "code",
   "execution_count": 14,
   "metadata": {},
   "outputs": [],
   "source": [
    "DATE_FIELD = 'event_start_datetime'\n",
    "USER_FIELD = 'audience_id'"
   ]
  },
  {
   "cell_type": "code",
   "execution_count": 148,
   "metadata": {},
   "outputs": [],
   "source": [
    "DATA_PATH = '/Users/mercef02/Projects/datasets_models/news_uk_logs_20210304/00*' #'/Users/mercef02/Projects/datasets/sfv_user_week_compact/*.csv'\n",
    "logs = load_data(d_path=DATA_PATH, stop_after_n_files=100, date_field=DATE_FIELD)\n"
   ]
  },
  {
   "cell_type": "code",
   "execution_count": 13,
   "metadata": {},
   "outputs": [
    {
     "data": {
      "text/html": [
       "<div>\n",
       "<style scoped>\n",
       "    .dataframe tbody tr th:only-of-type {\n",
       "        vertical-align: middle;\n",
       "    }\n",
       "\n",
       "    .dataframe tbody tr th {\n",
       "        vertical-align: top;\n",
       "    }\n",
       "\n",
       "    .dataframe thead th {\n",
       "        text-align: right;\n",
       "    }\n",
       "</style>\n",
       "<table border=\"1\" class=\"dataframe\">\n",
       "  <thead>\n",
       "    <tr style=\"text-align: right;\">\n",
       "      <th></th>\n",
       "      <th>audience_id</th>\n",
       "      <th>visit_id</th>\n",
       "      <th>event_start_datetime</th>\n",
       "      <th>url</th>\n",
       "      <th>geo_city_site_visited</th>\n",
       "    </tr>\n",
       "  </thead>\n",
       "  <tbody>\n",
       "    <tr>\n",
       "      <th>0</th>\n",
       "      <td>tLO9H7TouPBEV2ntA9PAzVncy95xUhNRZADSI/CPBqI=</td>\n",
       "      <td>115503</td>\n",
       "      <td>2021-03-04 23:38:23</td>\n",
       "      <td>https://www.bbc.co.uk/iplayer/help/iplayer-hel...</td>\n",
       "      <td>Glasgow</td>\n",
       "    </tr>\n",
       "    <tr>\n",
       "      <th>1</th>\n",
       "      <td>9JszSMFkcmemYVRG4daSJ0CCWoWxqRX2KymdejM2iZw=</td>\n",
       "      <td>42</td>\n",
       "      <td>2021-03-04 00:00:49</td>\n",
       "      <td>https://www.bbc.co.uk/mediacentre/latestnews</td>\n",
       "      <td>Bristol</td>\n",
       "    </tr>\n",
       "    <tr>\n",
       "      <th>2</th>\n",
       "      <td>s51FyBSVVL8nA5nkAYOtksDrJkyYaGmsJmqW1Z4nqGw=</td>\n",
       "      <td>32212</td>\n",
       "      <td>2021-03-04 13:01:06</td>\n",
       "      <td>https://www.bbc.co.uk/aboutthebbc/governance</td>\n",
       "      <td>Haringey</td>\n",
       "    </tr>\n",
       "    <tr>\n",
       "      <th>3</th>\n",
       "      <td>0Vk78MpdmAwLwU9wNu2GZxYpbljKjbL8o+8CptuEXOY=</td>\n",
       "      <td>75725</td>\n",
       "      <td>2021-03-04 22:01:01</td>\n",
       "      <td>https://www.bbc.co.uk/careers/</td>\n",
       "      <td>City of westminster</td>\n",
       "    </tr>\n",
       "    <tr>\n",
       "      <th>4</th>\n",
       "      <td>gV/4HfSX06SfRDuROXjI/+zOBTiVQZVVYeWsBmHt75c=</td>\n",
       "      <td>49973</td>\n",
       "      <td>2021-03-04 14:41:04</td>\n",
       "      <td>https://www.bbc.co.uk/showsandtours/shows/come...</td>\n",
       "      <td>Hoddesdon</td>\n",
       "    </tr>\n",
       "    <tr>\n",
       "      <th>5</th>\n",
       "      <td>adofuOlIGVIhAMysX8R3FzanZ8ivcHSf5IQxHFOJ8sY=</td>\n",
       "      <td>45102</td>\n",
       "      <td>2021-03-04 13:52:54</td>\n",
       "      <td>https://www.bbc.co.uk/iplayer/help/questions/g...</td>\n",
       "      <td>Portsmouth</td>\n",
       "    </tr>\n",
       "    <tr>\n",
       "      <th>6</th>\n",
       "      <td>C6zIKbLYZhkP1bYkJvsN4wsboD796b5Reui8nx6OPOc=</td>\n",
       "      <td>39091</td>\n",
       "      <td>2021-03-04 13:14:09</td>\n",
       "      <td>https://www.bbc.co.uk/showsandtours/bargain-hu...</td>\n",
       "      <td>Liverpool</td>\n",
       "    </tr>\n",
       "    <tr>\n",
       "      <th>7</th>\n",
       "      <td>Ihocmc4UK0YxzpOVOyjVhJRNI4eMJecBkxFfhNwCRok=</td>\n",
       "      <td>106621</td>\n",
       "      <td>2021-03-04 21:49:18</td>\n",
       "      <td>https://www.bbc.co.uk/showsandtours/shows/bank...</td>\n",
       "      <td>Nottingham</td>\n",
       "    </tr>\n",
       "    <tr>\n",
       "      <th>8</th>\n",
       "      <td>AELO6F5APanPNaFN9tZaFueCBU31THcDWxNkOkejaE8=</td>\n",
       "      <td>36485</td>\n",
       "      <td>2021-03-04 14:35:01</td>\n",
       "      <td>https://www.bbc.co.uk/bbcthree/article/b80a18e...</td>\n",
       "      <td>Nottingham</td>\n",
       "    </tr>\n",
       "    <tr>\n",
       "      <th>9</th>\n",
       "      <td>lkn4vVtgc/HUjg3cCILQPrXpb1WbuRCAep/gXmmSP14=</td>\n",
       "      <td>81615</td>\n",
       "      <td>2021-03-04 23:45:38</td>\n",
       "      <td>https://www.bbc.co.uk/mediacentre/mediapacks/k...</td>\n",
       "      <td>Coleraine</td>\n",
       "    </tr>\n",
       "    <tr>\n",
       "      <th>10</th>\n",
       "      <td>umULf8mbWT4Gawx7wlN+3a6oOCLn+Q0jg7a6mTBeP6g=</td>\n",
       "      <td>27123</td>\n",
       "      <td>2021-03-04 10:54:32</td>\n",
       "      <td>https://www.bbc.co.uk/showsandtours/shows/come...</td>\n",
       "      <td>Heswall</td>\n",
       "    </tr>\n",
       "    <tr>\n",
       "      <th>11</th>\n",
       "      <td>hrph8NozGNZBSBNdkwW8cQsYtMfIXDWtkprFeP3+eFU=</td>\n",
       "      <td>51903</td>\n",
       "      <td>2021-03-04 19:00:40</td>\n",
       "      <td>https://www.bbc.co.uk/bbcthree/article/253d8b3...</td>\n",
       "      <td>Dukinfield</td>\n",
       "    </tr>\n",
       "    <tr>\n",
       "      <th>12</th>\n",
       "      <td>JQme+uiU+bCEcg3lF1vD4pDH6LOgURnI2YCpoXbOyS8=</td>\n",
       "      <td>56083</td>\n",
       "      <td>2021-03-04 15:30:23</td>\n",
       "      <td>https://www.bbc.co.uk/contact/questions</td>\n",
       "      <td>Edinburgh</td>\n",
       "    </tr>\n",
       "    <tr>\n",
       "      <th>13</th>\n",
       "      <td>KQbZ8UwvdyE6TFuDTY2+gpzFs9A5ya8sqZ9NNg/Oh+w=</td>\n",
       "      <td>59461</td>\n",
       "      <td>2021-03-04 15:54:44</td>\n",
       "      <td>https://www.bbc.co.uk/iplayer/help/questions/s...</td>\n",
       "      <td>London</td>\n",
       "    </tr>\n",
       "    <tr>\n",
       "      <th>14</th>\n",
       "      <td>+VEfBiBmyIqKf0XKN6kc1Ag6byyt2EJOi+a4s8UNc4Q=</td>\n",
       "      <td>35753</td>\n",
       "      <td>2021-03-04 12:23:48</td>\n",
       "      <td>https://www.bbc.co.uk/reception/questions/dab/...</td>\n",
       "      <td>Wembley</td>\n",
       "    </tr>\n",
       "    <tr>\n",
       "      <th>15</th>\n",
       "      <td>sYKFtu+UHlaUJsFM4Kh/2q+WPmVHVPVgc7/0AejkMro=</td>\n",
       "      <td>51983</td>\n",
       "      <td>2021-03-04 16:37:12</td>\n",
       "      <td>https://www.bbc.co.uk/delivery/compliance-tv-o...</td>\n",
       "      <td>Withernsea</td>\n",
       "    </tr>\n",
       "    <tr>\n",
       "      <th>16</th>\n",
       "      <td>EppWW1f/N7o9IDdQUtUgBdSuct90DBjhm0oJ8fFqAXg=</td>\n",
       "      <td>43811</td>\n",
       "      <td>2021-03-04 16:55:49</td>\n",
       "      <td>https://www.bbc.co.uk/bbcthree/article/0034a2c...</td>\n",
       "      <td>Haringey</td>\n",
       "    </tr>\n",
       "    <tr>\n",
       "      <th>17</th>\n",
       "      <td>heUxowgIlfGh+UF4Q/d8SGiHJ0aC3BWUzk3uL3hvbBY=</td>\n",
       "      <td>80444</td>\n",
       "      <td>2021-03-04 06:38:31</td>\n",
       "      <td>https://www.bbc.co.uk/food/recipes/lemon_posse...</td>\n",
       "      <td>Waltham forest</td>\n",
       "    </tr>\n",
       "    <tr>\n",
       "      <th>18</th>\n",
       "      <td>pY1o5/BFsC2GSEa8exC2i8B2db3VJCii7YJAS1EFmdQ=</td>\n",
       "      <td>386241</td>\n",
       "      <td>2021-03-04 21:34:10</td>\n",
       "      <td>https://www.bbc.co.uk/cbbc/games/so-awkward-th...</td>\n",
       "      <td>Sidcup</td>\n",
       "    </tr>\n",
       "    <tr>\n",
       "      <th>19</th>\n",
       "      <td>I25NX3zMvoJhAsTArrA56Gb8sGYLebRg2UdJ+o805lg=</td>\n",
       "      <td>391114</td>\n",
       "      <td>2021-03-04 22:02:30</td>\n",
       "      <td>https://www.bbc.co.uk/cbbc/quizzes/animals-in-...</td>\n",
       "      <td>Ipswich</td>\n",
       "    </tr>\n",
       "    <tr>\n",
       "      <th>20</th>\n",
       "      <td>iQOaV5tBWLTNG+MPFvLIpYXDmmScnmRveTxHJckZN3M=</td>\n",
       "      <td>2935</td>\n",
       "      <td>2021-03-04 00:06:54</td>\n",
       "      <td>https://www.bbc.co.uk/food/recipes/bonfire_tof...</td>\n",
       "      <td>Edinburgh</td>\n",
       "    </tr>\n",
       "    <tr>\n",
       "      <th>21</th>\n",
       "      <td>YujHp+dcp+xlUWYn/EE4LOWT3kmKOzA8P9DjiO/i75g=</td>\n",
       "      <td>14183</td>\n",
       "      <td>2021-03-04 00:47:48</td>\n",
       "      <td>https://www.bbc.co.uk/food/recipes/nachos_92445</td>\n",
       "      <td>Glasgow</td>\n",
       "    </tr>\n",
       "    <tr>\n",
       "      <th>22</th>\n",
       "      <td>YNct5pkORwOgiKd8DmLOGKwArM5IjNUwnsKyzYn5PCU=</td>\n",
       "      <td>36973</td>\n",
       "      <td>2021-03-04 22:20:52</td>\n",
       "      <td>NaN</td>\n",
       "      <td>Tamworth</td>\n",
       "    </tr>\n",
       "    <tr>\n",
       "      <th>23</th>\n",
       "      <td>f/Gi/QxCaP/1wQK3/zHG6snBiQhhXfoDltBCpcj4Uqk=</td>\n",
       "      <td>31651</td>\n",
       "      <td>2021-03-04 20:10:26</td>\n",
       "      <td>https://www.bbc.co.uk/cymrufyw/56277074</td>\n",
       "      <td>Bridgend</td>\n",
       "    </tr>\n",
       "    <tr>\n",
       "      <th>24</th>\n",
       "      <td>ahduzSDoukvs2+JJrp2FOvYs/HXSbUhOGadZXc/nt4U=</td>\n",
       "      <td>300743</td>\n",
       "      <td>2021-03-04 18:56:38</td>\n",
       "      <td>https://www.bbc.co.uk/newsround/56268623</td>\n",
       "      <td>Barry</td>\n",
       "    </tr>\n",
       "    <tr>\n",
       "      <th>25</th>\n",
       "      <td>fSHWITw9vtsMc38p6/6Rp+FsUpLX6ERKZlP6tU+P/rE=</td>\n",
       "      <td>19775</td>\n",
       "      <td>2021-03-04 15:11:30</td>\n",
       "      <td>https://www.bbc.co.uk/cymrufyw/56253462</td>\n",
       "      <td>Newport</td>\n",
       "    </tr>\n",
       "    <tr>\n",
       "      <th>26</th>\n",
       "      <td>sIdutAMc1KfBezI84XWzBmsHtMveaCP4kEdSDzRacZA=</td>\n",
       "      <td>307601</td>\n",
       "      <td>2021-03-04 19:31:20</td>\n",
       "      <td>https://www.bbc.co.uk/newsround/32509766</td>\n",
       "      <td>Leeds</td>\n",
       "    </tr>\n",
       "    <tr>\n",
       "      <th>27</th>\n",
       "      <td>COgOTqvLoqcQZ9AxTjlRl+0ad3+u316lpVIRdcZ2Cwc=</td>\n",
       "      <td>309724</td>\n",
       "      <td>2021-03-04 19:58:09</td>\n",
       "      <td>https://www.bbc.co.uk/newsround/24983350</td>\n",
       "      <td>Uxbridge</td>\n",
       "    </tr>\n",
       "    <tr>\n",
       "      <th>28</th>\n",
       "      <td>/i9gW1ElsEIckHcy+Po16b93rdD22OKQRfHtSETG/Rs=</td>\n",
       "      <td>1554185</td>\n",
       "      <td>2021-03-04 23:57:58</td>\n",
       "      <td>https://www.bbc.co.uk/food/recipes/tumbet_98868</td>\n",
       "      <td>Rutherglen</td>\n",
       "    </tr>\n",
       "    <tr>\n",
       "      <th>29</th>\n",
       "      <td>lpucBML/6soz1U/TcHk93BCzL/Ki+P+q6RxwKDWN4fg=</td>\n",
       "      <td>406884</td>\n",
       "      <td>2021-03-04 02:52:31</td>\n",
       "      <td>https://www.bbc.co.uk/news/technology-56239242...</td>\n",
       "      <td>Southwark</td>\n",
       "    </tr>\n",
       "    <tr>\n",
       "      <th>30</th>\n",
       "      <td>wdWcL7gLgFgRBAg+y9y6yzO9X9J+T0BWPCCRZNdswWw=</td>\n",
       "      <td>17953</td>\n",
       "      <td>2021-03-04 07:28:38</td>\n",
       "      <td>https://www.bbc.co.uk/teach/supermovers/ks1-ma...</td>\n",
       "      <td>Wigan</td>\n",
       "    </tr>\n",
       "    <tr>\n",
       "      <th>31</th>\n",
       "      <td>/dpgV1IFdSmAScMaQx94BzfVRL1vQn3Ovtb9F0R4xfA=</td>\n",
       "      <td>405514</td>\n",
       "      <td>2021-03-04 22:24:57</td>\n",
       "      <td>https://www.bbc.co.uk/teach/ks2-spanish/zr3dt39</td>\n",
       "      <td>Westcliff-on-sea</td>\n",
       "    </tr>\n",
       "    <tr>\n",
       "      <th>32</th>\n",
       "      <td>a+HIuvp8pOEKF5HuJ3Cv9qUAtxqDHtM63i98GY1zXsg=</td>\n",
       "      <td>404593</td>\n",
       "      <td>2021-03-04 18:13:32</td>\n",
       "      <td>https://www.bbc.co.uk/teach/school-radio/engli...</td>\n",
       "      <td>Edgware</td>\n",
       "    </tr>\n",
       "    <tr>\n",
       "      <th>33</th>\n",
       "      <td>ISFNNaG0WtQSRRo4GPZImAWGHceNoPBcHpMJ72dnmME=</td>\n",
       "      <td>326731</td>\n",
       "      <td>2021-03-04 23:15:44</td>\n",
       "      <td>NaN</td>\n",
       "      <td>Tower hamlets</td>\n",
       "    </tr>\n",
       "    <tr>\n",
       "      <th>34</th>\n",
       "      <td>inu2tIl1mWtr+2n0eq1QlK37AbqAX9md8nt6AgQ/RPI=</td>\n",
       "      <td>1451691</td>\n",
       "      <td>2021-03-04 18:09:09</td>\n",
       "      <td>https://www.bbc.com/culture/article/20210226-n...</td>\n",
       "      <td>Carlisle</td>\n",
       "    </tr>\n",
       "    <tr>\n",
       "      <th>35</th>\n",
       "      <td>VSvsGYzwMvBmuGmtRdfAzMZy6svu31i/0+LlIkVYZ40=</td>\n",
       "      <td>490161</td>\n",
       "      <td>2021-03-04 06:43:03</td>\n",
       "      <td>https://www.bbc.com/future/article/20190522-ho...</td>\n",
       "      <td>Hamilton</td>\n",
       "    </tr>\n",
       "    <tr>\n",
       "      <th>36</th>\n",
       "      <td>pcJvuE1xk1xZKlfsmTkGf7lIxH2mTHJPvrcXbhK4opI=</td>\n",
       "      <td>508794</td>\n",
       "      <td>2021-03-04 06:50:46</td>\n",
       "      <td>https://www.bbc.com/future/article/20210217-th...</td>\n",
       "      <td>Faygate</td>\n",
       "    </tr>\n",
       "    <tr>\n",
       "      <th>37</th>\n",
       "      <td>PXyoIPG0MXQhAjijSvucfmRTMd9dNCzbhL7yHO5Q0gs=</td>\n",
       "      <td>412071</td>\n",
       "      <td>2021-03-04 19:13:42</td>\n",
       "      <td>https://www.bbc.co.uk/teach/class-clips-video/...</td>\n",
       "      <td>Cowes</td>\n",
       "    </tr>\n",
       "    <tr>\n",
       "      <th>38</th>\n",
       "      <td>Y0qShlErG//2Cs6PtAbS0r5w+jvRctK4ElIUJywDnTw=</td>\n",
       "      <td>12024</td>\n",
       "      <td>2021-03-04 06:05:53</td>\n",
       "      <td>https://www.bbc.co.uk/teach/class-clips-video/...</td>\n",
       "      <td>Southall</td>\n",
       "    </tr>\n",
       "    <tr>\n",
       "      <th>39</th>\n",
       "      <td>sPYIdNHgYJ98Gpw96yDcQgsFpeQfC0EJpPaSpVscw34=</td>\n",
       "      <td>282641</td>\n",
       "      <td>2021-03-04 01:52:28</td>\n",
       "      <td>https://www.bbc.co.uk/news/world-asia-55472446...</td>\n",
       "      <td>Manchester</td>\n",
       "    </tr>\n",
       "    <tr>\n",
       "      <th>40</th>\n",
       "      <td>k6Zf3fh22StY6U15mED00zcSQuk2j5W3XbNGB3A/OfI=</td>\n",
       "      <td>1733463</td>\n",
       "      <td>2021-03-04 21:18:03</td>\n",
       "      <td>https://www.bbc.com/culture/article/20190508-t...</td>\n",
       "      <td>Manchester</td>\n",
       "    </tr>\n",
       "    <tr>\n",
       "      <th>41</th>\n",
       "      <td>V/jzQwwlTqXV+6aXLS4nk+WXaVWfrLwQApUKbJMJqJU=</td>\n",
       "      <td>1725095</td>\n",
       "      <td>2021-03-04 21:19:21</td>\n",
       "      <td>http://www.bbc.com/travel/story/20200722-brita...</td>\n",
       "      <td>Plymouth</td>\n",
       "    </tr>\n",
       "    <tr>\n",
       "      <th>42</th>\n",
       "      <td>CS1dBUGEpJ8xrcJLqn8go7RnvnN0Dqz7wUgchvpwVZo=</td>\n",
       "      <td>138334</td>\n",
       "      <td>2021-03-04 08:21:01</td>\n",
       "      <td>https://www.bbc.co.uk/food/recipes/fluffyameri...</td>\n",
       "      <td>London</td>\n",
       "    </tr>\n",
       "    <tr>\n",
       "      <th>43</th>\n",
       "      <td>bWbFzu5HWGcweSin04IcOkrADOz+z4yNTZrt4KBu1EEYKv...</td>\n",
       "      <td>21963</td>\n",
       "      <td>2021-03-04 10:57:58</td>\n",
       "      <td>https://www.bbc.co.uk/mediacentre/mediapacks/k...</td>\n",
       "      <td>Tonypandy</td>\n",
       "    </tr>\n",
       "    <tr>\n",
       "      <th>44</th>\n",
       "      <td>8qveZxNOGCgbAmaU74sCDHQwE19Tiazi2vtjpxbAX6Y=</td>\n",
       "      <td>740854</td>\n",
       "      <td>2021-03-04 10:24:12</td>\n",
       "      <td>https://www.bbc.com/future/article/20210302-co...</td>\n",
       "      <td>East kilbride</td>\n",
       "    </tr>\n",
       "    <tr>\n",
       "      <th>45</th>\n",
       "      <td>zBGVVe4AccROUvPYrP26b695y+/NVToSo18nyqNW6m8rwF...</td>\n",
       "      <td>86761</td>\n",
       "      <td>2021-03-04 19:38:46</td>\n",
       "      <td>https://www.bbc.co.uk/iplayer/help/questions/s...</td>\n",
       "      <td>Harrogate</td>\n",
       "    </tr>\n",
       "    <tr>\n",
       "      <th>46</th>\n",
       "      <td>ZG95EoyQgAd9BcAqNjDq4Fan54FJ8YqA2sKmfPbi3IE=</td>\n",
       "      <td>362744</td>\n",
       "      <td>2021-03-04 19:35:15</td>\n",
       "      <td>https://www.bbc.co.uk/cbbc/quizzes/bp-do-you-k...</td>\n",
       "      <td>Bridgwater</td>\n",
       "    </tr>\n",
       "    <tr>\n",
       "      <th>47</th>\n",
       "      <td>J1lFkAhU5HIFlC0sW4FEE1bTdbB7TL5U9iJEY1oFacCuH9...</td>\n",
       "      <td>27894</td>\n",
       "      <td>2021-03-04 10:59:34</td>\n",
       "      <td>https://www.bbc.co.uk/showsandtours/take-part/...</td>\n",
       "      <td>Hemel hempstead</td>\n",
       "    </tr>\n",
       "    <tr>\n",
       "      <th>48</th>\n",
       "      <td>WJtCmpPXk47UJqaZ4iAU7sUpqOJ6ZWFBMQzfA40Aelalml...</td>\n",
       "      <td>101072</td>\n",
       "      <td>2021-03-04 21:13:37</td>\n",
       "      <td>https://www.bbc.co.uk/iplayer/help/iplayer-hel...</td>\n",
       "      <td>London</td>\n",
       "    </tr>\n",
       "    <tr>\n",
       "      <th>49</th>\n",
       "      <td>RFWTIjLAax11fWYtQk5XcQaDHgfzY5gzt2Tae/yE6VI=</td>\n",
       "      <td>363735</td>\n",
       "      <td>2021-03-04 15:07:45</td>\n",
       "      <td>https://www.bbc.co.uk/teach/school-radio/nurse...</td>\n",
       "      <td>Manchester</td>\n",
       "    </tr>\n",
       "  </tbody>\n",
       "</table>\n",
       "</div>"
      ],
      "text/plain": [
       "                                          audience_id  visit_id  \\\n",
       "0        tLO9H7TouPBEV2ntA9PAzVncy95xUhNRZADSI/CPBqI=    115503   \n",
       "1        9JszSMFkcmemYVRG4daSJ0CCWoWxqRX2KymdejM2iZw=        42   \n",
       "2        s51FyBSVVL8nA5nkAYOtksDrJkyYaGmsJmqW1Z4nqGw=     32212   \n",
       "3        0Vk78MpdmAwLwU9wNu2GZxYpbljKjbL8o+8CptuEXOY=     75725   \n",
       "4        gV/4HfSX06SfRDuROXjI/+zOBTiVQZVVYeWsBmHt75c=     49973   \n",
       "5        adofuOlIGVIhAMysX8R3FzanZ8ivcHSf5IQxHFOJ8sY=     45102   \n",
       "6        C6zIKbLYZhkP1bYkJvsN4wsboD796b5Reui8nx6OPOc=     39091   \n",
       "7        Ihocmc4UK0YxzpOVOyjVhJRNI4eMJecBkxFfhNwCRok=    106621   \n",
       "8        AELO6F5APanPNaFN9tZaFueCBU31THcDWxNkOkejaE8=     36485   \n",
       "9        lkn4vVtgc/HUjg3cCILQPrXpb1WbuRCAep/gXmmSP14=     81615   \n",
       "10       umULf8mbWT4Gawx7wlN+3a6oOCLn+Q0jg7a6mTBeP6g=     27123   \n",
       "11       hrph8NozGNZBSBNdkwW8cQsYtMfIXDWtkprFeP3+eFU=     51903   \n",
       "12       JQme+uiU+bCEcg3lF1vD4pDH6LOgURnI2YCpoXbOyS8=     56083   \n",
       "13       KQbZ8UwvdyE6TFuDTY2+gpzFs9A5ya8sqZ9NNg/Oh+w=     59461   \n",
       "14       +VEfBiBmyIqKf0XKN6kc1Ag6byyt2EJOi+a4s8UNc4Q=     35753   \n",
       "15       sYKFtu+UHlaUJsFM4Kh/2q+WPmVHVPVgc7/0AejkMro=     51983   \n",
       "16       EppWW1f/N7o9IDdQUtUgBdSuct90DBjhm0oJ8fFqAXg=     43811   \n",
       "17       heUxowgIlfGh+UF4Q/d8SGiHJ0aC3BWUzk3uL3hvbBY=     80444   \n",
       "18       pY1o5/BFsC2GSEa8exC2i8B2db3VJCii7YJAS1EFmdQ=    386241   \n",
       "19       I25NX3zMvoJhAsTArrA56Gb8sGYLebRg2UdJ+o805lg=    391114   \n",
       "20       iQOaV5tBWLTNG+MPFvLIpYXDmmScnmRveTxHJckZN3M=      2935   \n",
       "21       YujHp+dcp+xlUWYn/EE4LOWT3kmKOzA8P9DjiO/i75g=     14183   \n",
       "22       YNct5pkORwOgiKd8DmLOGKwArM5IjNUwnsKyzYn5PCU=     36973   \n",
       "23       f/Gi/QxCaP/1wQK3/zHG6snBiQhhXfoDltBCpcj4Uqk=     31651   \n",
       "24       ahduzSDoukvs2+JJrp2FOvYs/HXSbUhOGadZXc/nt4U=    300743   \n",
       "25       fSHWITw9vtsMc38p6/6Rp+FsUpLX6ERKZlP6tU+P/rE=     19775   \n",
       "26       sIdutAMc1KfBezI84XWzBmsHtMveaCP4kEdSDzRacZA=    307601   \n",
       "27       COgOTqvLoqcQZ9AxTjlRl+0ad3+u316lpVIRdcZ2Cwc=    309724   \n",
       "28       /i9gW1ElsEIckHcy+Po16b93rdD22OKQRfHtSETG/Rs=   1554185   \n",
       "29       lpucBML/6soz1U/TcHk93BCzL/Ki+P+q6RxwKDWN4fg=    406884   \n",
       "30       wdWcL7gLgFgRBAg+y9y6yzO9X9J+T0BWPCCRZNdswWw=     17953   \n",
       "31       /dpgV1IFdSmAScMaQx94BzfVRL1vQn3Ovtb9F0R4xfA=    405514   \n",
       "32       a+HIuvp8pOEKF5HuJ3Cv9qUAtxqDHtM63i98GY1zXsg=    404593   \n",
       "33       ISFNNaG0WtQSRRo4GPZImAWGHceNoPBcHpMJ72dnmME=    326731   \n",
       "34       inu2tIl1mWtr+2n0eq1QlK37AbqAX9md8nt6AgQ/RPI=   1451691   \n",
       "35       VSvsGYzwMvBmuGmtRdfAzMZy6svu31i/0+LlIkVYZ40=    490161   \n",
       "36       pcJvuE1xk1xZKlfsmTkGf7lIxH2mTHJPvrcXbhK4opI=    508794   \n",
       "37       PXyoIPG0MXQhAjijSvucfmRTMd9dNCzbhL7yHO5Q0gs=    412071   \n",
       "38       Y0qShlErG//2Cs6PtAbS0r5w+jvRctK4ElIUJywDnTw=     12024   \n",
       "39       sPYIdNHgYJ98Gpw96yDcQgsFpeQfC0EJpPaSpVscw34=    282641   \n",
       "40       k6Zf3fh22StY6U15mED00zcSQuk2j5W3XbNGB3A/OfI=   1733463   \n",
       "41       V/jzQwwlTqXV+6aXLS4nk+WXaVWfrLwQApUKbJMJqJU=   1725095   \n",
       "42       CS1dBUGEpJ8xrcJLqn8go7RnvnN0Dqz7wUgchvpwVZo=    138334   \n",
       "43  bWbFzu5HWGcweSin04IcOkrADOz+z4yNTZrt4KBu1EEYKv...     21963   \n",
       "44       8qveZxNOGCgbAmaU74sCDHQwE19Tiazi2vtjpxbAX6Y=    740854   \n",
       "45  zBGVVe4AccROUvPYrP26b695y+/NVToSo18nyqNW6m8rwF...     86761   \n",
       "46       ZG95EoyQgAd9BcAqNjDq4Fan54FJ8YqA2sKmfPbi3IE=    362744   \n",
       "47  J1lFkAhU5HIFlC0sW4FEE1bTdbB7TL5U9iJEY1oFacCuH9...     27894   \n",
       "48  WJtCmpPXk47UJqaZ4iAU7sUpqOJ6ZWFBMQzfA40Aelalml...    101072   \n",
       "49       RFWTIjLAax11fWYtQk5XcQaDHgfzY5gzt2Tae/yE6VI=    363735   \n",
       "\n",
       "   event_start_datetime                                                url  \\\n",
       "0   2021-03-04 23:38:23  https://www.bbc.co.uk/iplayer/help/iplayer-hel...   \n",
       "1   2021-03-04 00:00:49       https://www.bbc.co.uk/mediacentre/latestnews   \n",
       "2   2021-03-04 13:01:06       https://www.bbc.co.uk/aboutthebbc/governance   \n",
       "3   2021-03-04 22:01:01                     https://www.bbc.co.uk/careers/   \n",
       "4   2021-03-04 14:41:04  https://www.bbc.co.uk/showsandtours/shows/come...   \n",
       "5   2021-03-04 13:52:54  https://www.bbc.co.uk/iplayer/help/questions/g...   \n",
       "6   2021-03-04 13:14:09  https://www.bbc.co.uk/showsandtours/bargain-hu...   \n",
       "7   2021-03-04 21:49:18  https://www.bbc.co.uk/showsandtours/shows/bank...   \n",
       "8   2021-03-04 14:35:01  https://www.bbc.co.uk/bbcthree/article/b80a18e...   \n",
       "9   2021-03-04 23:45:38  https://www.bbc.co.uk/mediacentre/mediapacks/k...   \n",
       "10  2021-03-04 10:54:32  https://www.bbc.co.uk/showsandtours/shows/come...   \n",
       "11  2021-03-04 19:00:40  https://www.bbc.co.uk/bbcthree/article/253d8b3...   \n",
       "12  2021-03-04 15:30:23            https://www.bbc.co.uk/contact/questions   \n",
       "13  2021-03-04 15:54:44  https://www.bbc.co.uk/iplayer/help/questions/s...   \n",
       "14  2021-03-04 12:23:48  https://www.bbc.co.uk/reception/questions/dab/...   \n",
       "15  2021-03-04 16:37:12  https://www.bbc.co.uk/delivery/compliance-tv-o...   \n",
       "16  2021-03-04 16:55:49  https://www.bbc.co.uk/bbcthree/article/0034a2c...   \n",
       "17  2021-03-04 06:38:31  https://www.bbc.co.uk/food/recipes/lemon_posse...   \n",
       "18  2021-03-04 21:34:10  https://www.bbc.co.uk/cbbc/games/so-awkward-th...   \n",
       "19  2021-03-04 22:02:30  https://www.bbc.co.uk/cbbc/quizzes/animals-in-...   \n",
       "20  2021-03-04 00:06:54  https://www.bbc.co.uk/food/recipes/bonfire_tof...   \n",
       "21  2021-03-04 00:47:48    https://www.bbc.co.uk/food/recipes/nachos_92445   \n",
       "22  2021-03-04 22:20:52                                                NaN   \n",
       "23  2021-03-04 20:10:26            https://www.bbc.co.uk/cymrufyw/56277074   \n",
       "24  2021-03-04 18:56:38           https://www.bbc.co.uk/newsround/56268623   \n",
       "25  2021-03-04 15:11:30            https://www.bbc.co.uk/cymrufyw/56253462   \n",
       "26  2021-03-04 19:31:20           https://www.bbc.co.uk/newsround/32509766   \n",
       "27  2021-03-04 19:58:09           https://www.bbc.co.uk/newsround/24983350   \n",
       "28  2021-03-04 23:57:58    https://www.bbc.co.uk/food/recipes/tumbet_98868   \n",
       "29  2021-03-04 02:52:31  https://www.bbc.co.uk/news/technology-56239242...   \n",
       "30  2021-03-04 07:28:38  https://www.bbc.co.uk/teach/supermovers/ks1-ma...   \n",
       "31  2021-03-04 22:24:57    https://www.bbc.co.uk/teach/ks2-spanish/zr3dt39   \n",
       "32  2021-03-04 18:13:32  https://www.bbc.co.uk/teach/school-radio/engli...   \n",
       "33  2021-03-04 23:15:44                                                NaN   \n",
       "34  2021-03-04 18:09:09  https://www.bbc.com/culture/article/20210226-n...   \n",
       "35  2021-03-04 06:43:03  https://www.bbc.com/future/article/20190522-ho...   \n",
       "36  2021-03-04 06:50:46  https://www.bbc.com/future/article/20210217-th...   \n",
       "37  2021-03-04 19:13:42  https://www.bbc.co.uk/teach/class-clips-video/...   \n",
       "38  2021-03-04 06:05:53  https://www.bbc.co.uk/teach/class-clips-video/...   \n",
       "39  2021-03-04 01:52:28  https://www.bbc.co.uk/news/world-asia-55472446...   \n",
       "40  2021-03-04 21:18:03  https://www.bbc.com/culture/article/20190508-t...   \n",
       "41  2021-03-04 21:19:21  http://www.bbc.com/travel/story/20200722-brita...   \n",
       "42  2021-03-04 08:21:01  https://www.bbc.co.uk/food/recipes/fluffyameri...   \n",
       "43  2021-03-04 10:57:58  https://www.bbc.co.uk/mediacentre/mediapacks/k...   \n",
       "44  2021-03-04 10:24:12  https://www.bbc.com/future/article/20210302-co...   \n",
       "45  2021-03-04 19:38:46  https://www.bbc.co.uk/iplayer/help/questions/s...   \n",
       "46  2021-03-04 19:35:15  https://www.bbc.co.uk/cbbc/quizzes/bp-do-you-k...   \n",
       "47  2021-03-04 10:59:34  https://www.bbc.co.uk/showsandtours/take-part/...   \n",
       "48  2021-03-04 21:13:37  https://www.bbc.co.uk/iplayer/help/iplayer-hel...   \n",
       "49  2021-03-04 15:07:45  https://www.bbc.co.uk/teach/school-radio/nurse...   \n",
       "\n",
       "   geo_city_site_visited  \n",
       "0                Glasgow  \n",
       "1                Bristol  \n",
       "2               Haringey  \n",
       "3    City of westminster  \n",
       "4              Hoddesdon  \n",
       "5             Portsmouth  \n",
       "6              Liverpool  \n",
       "7             Nottingham  \n",
       "8             Nottingham  \n",
       "9              Coleraine  \n",
       "10               Heswall  \n",
       "11            Dukinfield  \n",
       "12             Edinburgh  \n",
       "13                London  \n",
       "14               Wembley  \n",
       "15            Withernsea  \n",
       "16              Haringey  \n",
       "17        Waltham forest  \n",
       "18                Sidcup  \n",
       "19               Ipswich  \n",
       "20             Edinburgh  \n",
       "21               Glasgow  \n",
       "22              Tamworth  \n",
       "23              Bridgend  \n",
       "24                 Barry  \n",
       "25               Newport  \n",
       "26                 Leeds  \n",
       "27              Uxbridge  \n",
       "28            Rutherglen  \n",
       "29             Southwark  \n",
       "30                 Wigan  \n",
       "31      Westcliff-on-sea  \n",
       "32               Edgware  \n",
       "33         Tower hamlets  \n",
       "34              Carlisle  \n",
       "35              Hamilton  \n",
       "36               Faygate  \n",
       "37                 Cowes  \n",
       "38              Southall  \n",
       "39            Manchester  \n",
       "40            Manchester  \n",
       "41              Plymouth  \n",
       "42                London  \n",
       "43             Tonypandy  \n",
       "44         East kilbride  \n",
       "45             Harrogate  \n",
       "46            Bridgwater  \n",
       "47       Hemel hempstead  \n",
       "48                London  \n",
       "49            Manchester  "
      ]
     },
     "execution_count": 13,
     "metadata": {},
     "output_type": "execute_result"
    }
   ],
   "source": [
    "logs.head(50)"
   ]
  },
  {
   "cell_type": "code",
   "execution_count": 149,
   "metadata": {},
   "outputs": [],
   "source": [
    "\n",
    "logs = clean_data(logs, [USER_FIELD, DATE_FIELD, 'url', 'geo_city_site_visited'], '/news/')\n",
    "min_date = pd.to_datetime('2021-03-04T00:00:00')\n",
    "max_date = pd.to_datetime('2021-03-04T11:59:59')\n",
    "min_mentions = 5"
   ]
  },
  {
   "cell_type": "code",
   "execution_count": 18,
   "metadata": {},
   "outputs": [
    {
     "data": {
      "text/html": [
       "<div>\n",
       "<style scoped>\n",
       "    .dataframe tbody tr th:only-of-type {\n",
       "        vertical-align: middle;\n",
       "    }\n",
       "\n",
       "    .dataframe tbody tr th {\n",
       "        vertical-align: top;\n",
       "    }\n",
       "\n",
       "    .dataframe thead th {\n",
       "        text-align: right;\n",
       "    }\n",
       "</style>\n",
       "<table border=\"1\" class=\"dataframe\">\n",
       "  <thead>\n",
       "    <tr style=\"text-align: right;\">\n",
       "      <th></th>\n",
       "      <th>audience_id</th>\n",
       "      <th>event_start_datetime</th>\n",
       "      <th>geo_city_site_visited</th>\n",
       "      <th>uri</th>\n",
       "    </tr>\n",
       "  </thead>\n",
       "  <tbody>\n",
       "    <tr>\n",
       "      <th>29</th>\n",
       "      <td>lpucBML/6soz1U/TcHk93BCzL/Ki+P+q6RxwKDWN4fg=</td>\n",
       "      <td>2021-03-04 02:52:31</td>\n",
       "      <td>Southwark</td>\n",
       "      <td>/news/technology-56239242</td>\n",
       "    </tr>\n",
       "    <tr>\n",
       "      <th>39</th>\n",
       "      <td>sPYIdNHgYJ98Gpw96yDcQgsFpeQfC0EJpPaSpVscw34=</td>\n",
       "      <td>2021-03-04 01:52:28</td>\n",
       "      <td>Manchester</td>\n",
       "      <td>/news/world-asia-55472446</td>\n",
       "    </tr>\n",
       "    <tr>\n",
       "      <th>158</th>\n",
       "      <td>3Lr5OzuexWD6m0bj08MikLbtjwGhj/Fc2gU3Z7tiSzY=</td>\n",
       "      <td>2021-03-04 00:35:18</td>\n",
       "      <td>Wakefield</td>\n",
       "      <td>/news/uk-56272104</td>\n",
       "    </tr>\n",
       "    <tr>\n",
       "      <th>159</th>\n",
       "      <td>G5pAYXT347wHjlC4ONQYVdsMAwSFtl1ysjRud0XE2n8=</td>\n",
       "      <td>2021-03-04 00:50:39</td>\n",
       "      <td>Omagh</td>\n",
       "      <td>/news/uk-56267807</td>\n",
       "    </tr>\n",
       "    <tr>\n",
       "      <th>160</th>\n",
       "      <td>rE3xy1mrmqGZ7P77YYs7y+e3/VqH+zu2Pp0Btu3Tp34=</td>\n",
       "      <td>2021-03-04 00:07:06</td>\n",
       "      <td>Stockton-on-tees</td>\n",
       "      <td>/news/business-56263581</td>\n",
       "    </tr>\n",
       "  </tbody>\n",
       "</table>\n",
       "</div>"
      ],
      "text/plain": [
       "                                      audience_id event_start_datetime  \\\n",
       "29   lpucBML/6soz1U/TcHk93BCzL/Ki+P+q6RxwKDWN4fg=  2021-03-04 02:52:31   \n",
       "39   sPYIdNHgYJ98Gpw96yDcQgsFpeQfC0EJpPaSpVscw34=  2021-03-04 01:52:28   \n",
       "158  3Lr5OzuexWD6m0bj08MikLbtjwGhj/Fc2gU3Z7tiSzY=  2021-03-04 00:35:18   \n",
       "159  G5pAYXT347wHjlC4ONQYVdsMAwSFtl1ysjRud0XE2n8=  2021-03-04 00:50:39   \n",
       "160  rE3xy1mrmqGZ7P77YYs7y+e3/VqH+zu2Pp0Btu3Tp34=  2021-03-04 00:07:06   \n",
       "\n",
       "    geo_city_site_visited                        uri  \n",
       "29              Southwark  /news/technology-56239242  \n",
       "39             Manchester  /news/world-asia-55472446  \n",
       "158             Wakefield          /news/uk-56272104  \n",
       "159                 Omagh          /news/uk-56267807  \n",
       "160      Stockton-on-tees    /news/business-56263581  "
      ]
     },
     "execution_count": 18,
     "metadata": {},
     "output_type": "execute_result"
    }
   ],
   "source": [
    "logs.head()\n"
   ]
  },
  {
   "cell_type": "code",
   "execution_count": 150,
   "metadata": {},
   "outputs": [
    {
     "name": "stdout",
     "output_type": "stream",
     "text": [
      "Original interactions: 22851008\n",
      "Date filtered interactions: 9115759\n",
      "Minimum mention filtered interactions  : 9034916\n",
      "Interactions filtered for items existing in ES : 7677652\n"
     ]
    }
   ],
   "source": [
    "train_logs = filter_logs(logs, min_date, max_date, min_mentions, unique_item_ids, DATE_FIELD)"
   ]
  },
  {
   "cell_type": "code",
   "execution_count": 443,
   "metadata": {},
   "outputs": [],
   "source": [
    "def show_most_pop_for_region(logs, region, n, d=True, summary=False):\n",
    "    \n",
    "    regional_logs = logs[logs.geo_city_site_visited == region]\n",
    "    counts = regional_logs.uri.value_counts()[:n]\n",
    "    if d:\n",
    "        print(counts)\n",
    "    \n",
    "    if summary:\n",
    "        for i, rec in enumerate(counts.index.to_numpy()):\n",
    "            print(f'({i})')\n",
    "            print_item(rec, es, _es_index)\n",
    "            print(f'-------------------')\n",
    "            \n",
    "        \n",
    "    return counts\n",
    "    \n"
   ]
  },
  {
   "cell_type": "code",
   "execution_count": 21,
   "metadata": {},
   "outputs": [
    {
     "data": {
      "text/html": [
       "<div>\n",
       "<style scoped>\n",
       "    .dataframe tbody tr th:only-of-type {\n",
       "        vertical-align: middle;\n",
       "    }\n",
       "\n",
       "    .dataframe tbody tr th {\n",
       "        vertical-align: top;\n",
       "    }\n",
       "\n",
       "    .dataframe thead th {\n",
       "        text-align: right;\n",
       "    }\n",
       "</style>\n",
       "<table border=\"1\" class=\"dataframe\">\n",
       "  <thead>\n",
       "    <tr style=\"text-align: right;\">\n",
       "      <th></th>\n",
       "      <th>audience_id</th>\n",
       "      <th>event_start_datetime</th>\n",
       "      <th>geo_city_site_visited</th>\n",
       "      <th>uri</th>\n",
       "    </tr>\n",
       "  </thead>\n",
       "  <tbody>\n",
       "    <tr>\n",
       "      <th>29</th>\n",
       "      <td>lpucBML/6soz1U/TcHk93BCzL/Ki+P+q6RxwKDWN4fg=</td>\n",
       "      <td>2021-03-04 02:52:31</td>\n",
       "      <td>Southwark</td>\n",
       "      <td>/news/technology-56239242</td>\n",
       "    </tr>\n",
       "    <tr>\n",
       "      <th>39</th>\n",
       "      <td>sPYIdNHgYJ98Gpw96yDcQgsFpeQfC0EJpPaSpVscw34=</td>\n",
       "      <td>2021-03-04 01:52:28</td>\n",
       "      <td>Manchester</td>\n",
       "      <td>/news/world-asia-55472446</td>\n",
       "    </tr>\n",
       "    <tr>\n",
       "      <th>158</th>\n",
       "      <td>3Lr5OzuexWD6m0bj08MikLbtjwGhj/Fc2gU3Z7tiSzY=</td>\n",
       "      <td>2021-03-04 00:35:18</td>\n",
       "      <td>Wakefield</td>\n",
       "      <td>/news/uk-56272104</td>\n",
       "    </tr>\n",
       "    <tr>\n",
       "      <th>159</th>\n",
       "      <td>G5pAYXT347wHjlC4ONQYVdsMAwSFtl1ysjRud0XE2n8=</td>\n",
       "      <td>2021-03-04 00:50:39</td>\n",
       "      <td>Omagh</td>\n",
       "      <td>/news/uk-56267807</td>\n",
       "    </tr>\n",
       "    <tr>\n",
       "      <th>160</th>\n",
       "      <td>rE3xy1mrmqGZ7P77YYs7y+e3/VqH+zu2Pp0Btu3Tp34=</td>\n",
       "      <td>2021-03-04 00:07:06</td>\n",
       "      <td>Stockton-on-tees</td>\n",
       "      <td>/news/business-56263581</td>\n",
       "    </tr>\n",
       "  </tbody>\n",
       "</table>\n",
       "</div>"
      ],
      "text/plain": [
       "                                      audience_id event_start_datetime  \\\n",
       "29   lpucBML/6soz1U/TcHk93BCzL/Ki+P+q6RxwKDWN4fg=  2021-03-04 02:52:31   \n",
       "39   sPYIdNHgYJ98Gpw96yDcQgsFpeQfC0EJpPaSpVscw34=  2021-03-04 01:52:28   \n",
       "158  3Lr5OzuexWD6m0bj08MikLbtjwGhj/Fc2gU3Z7tiSzY=  2021-03-04 00:35:18   \n",
       "159  G5pAYXT347wHjlC4ONQYVdsMAwSFtl1ysjRud0XE2n8=  2021-03-04 00:50:39   \n",
       "160  rE3xy1mrmqGZ7P77YYs7y+e3/VqH+zu2Pp0Btu3Tp34=  2021-03-04 00:07:06   \n",
       "\n",
       "    geo_city_site_visited                        uri  \n",
       "29              Southwark  /news/technology-56239242  \n",
       "39             Manchester  /news/world-asia-55472446  \n",
       "158             Wakefield          /news/uk-56272104  \n",
       "159                 Omagh          /news/uk-56267807  \n",
       "160      Stockton-on-tees    /news/business-56263581  "
      ]
     },
     "execution_count": 21,
     "metadata": {},
     "output_type": "execute_result"
    }
   ],
   "source": [
    "train_logs.head()"
   ]
  },
  {
   "cell_type": "code",
   "execution_count": 166,
   "metadata": {},
   "outputs": [],
   "source": [
    "location_vocab=np.array(train_logs.geo_city_site_visited.unique())"
   ]
  },
  {
   "cell_type": "code",
   "execution_count": 498,
   "metadata": {},
   "outputs": [],
   "source": [
    "location_counts = train_logs['geo_city_site_visited'].value_counts()"
   ]
  },
  {
   "cell_type": "code",
   "execution_count": 503,
   "metadata": {},
   "outputs": [
    {
     "data": {
      "text/plain": [
       "London                    219608\n",
       "Bristol                   133463\n",
       "Edinburgh                 125059\n",
       "Manchester                117682\n",
       "Birmingham                114471\n",
       "Newbury                   109809\n",
       "Nottingham                107409\n",
       "Glasgow                   103978\n",
       "Maidenhead                 92076\n",
       "Waltham forest             82455\n",
       "Sheffield                  74195\n",
       "Southwark                  74173\n",
       "Liverpool                  68904\n",
       "Leeds                      63410\n",
       "Hammersmith and fulham     61201\n",
       "Wembley                    59812\n",
       "Cardiff                    58198\n",
       "Belfast                    58183\n",
       "Tower hamlets              57662\n",
       "Wandsworth                 54044\n",
       "Lambeth                    52714\n",
       "Cambridge                  51933\n",
       "Leicester                  50072\n",
       "New addington              49948\n",
       "Barnet                     46992\n",
       "Camden                     45860\n",
       "Norwich                    45403\n",
       "Haringey                   43104\n",
       "Oxford                     42922\n",
       "Southampton                42525\n",
       "Name: geo_city_site_visited, dtype: int64"
      ]
     },
     "execution_count": 503,
     "metadata": {},
     "output_type": "execute_result"
    }
   ],
   "source": [
    "location_counts.head(30)"
   ]
  },
  {
   "cell_type": "code",
   "execution_count": 502,
   "metadata": {},
   "outputs": [
    {
     "data": {
      "text/plain": [
       "<AxesSubplot:>"
      ]
     },
     "execution_count": 502,
     "metadata": {},
     "output_type": "execute_result"
    },
    {
     "data": {
      "image/png": "[encoded data removed]",
      "text/plain": [
       "<Figure size 432x288 with 1 Axes>"
      ]
     },
     "metadata": {
      "needs_background": "light"
     },
     "output_type": "display_data"
    }
   ],
   "source": [
    "location_counts.iloc[:20].plot(kind='bar')"
   ]
  },
  {
   "cell_type": "code",
   "execution_count": 167,
   "metadata": {},
   "outputs": [
    {
     "data": {
      "text/plain": [
       "4375"
      ]
     },
     "execution_count": 167,
     "metadata": {},
     "output_type": "execute_result"
    }
   ],
   "source": [
    "len(location_vocab)"
   ]
  },
  {
   "cell_type": "markdown",
   "metadata": {},
   "source": [
    "### Generate useritem pairs \n",
    "The input for the model is pairs of consecutively consumed items so next we need to convert the journeys into item pairs"
   ]
  },
  {
   "cell_type": "code",
   "execution_count": 163,
   "metadata": {},
   "outputs": [
    {
     "name": "stdout",
     "output_type": "stream",
     "text": [
      "Total number of item pairs: 14510735\n"
     ]
    }
   ],
   "source": [
    "WINDOW=50 # this is the max distance in a user journey between pairs\n",
    " \n",
    "train_pairs = get_item_pairs_from_journeys(train_logs, window=WINDOW, date_field=DATE_FIELD, pair_function=get_pairs_location)\n",
    "train_pairs_df = pd.DataFrame(train_pairs)\n",
    "train_logs_tf = tf.data.Dataset.from_tensor_slices(dict(train_pairs_df))"
   ]
  },
  {
   "cell_type": "markdown",
   "metadata": {},
   "source": [
    "## Train/Test Split"
   ]
  },
  {
   "cell_type": "code",
   "execution_count": 544,
   "metadata": {},
   "outputs": [
    {
     "name": "stdout",
     "output_type": "stream",
     "text": [
      "Number of train pairs: 14438181\n",
      "Number of test pairs: 72553\n"
     ]
    }
   ],
   "source": [
    "tf.random.set_seed(42)\n",
    "training_shuffled = train_logs_tf.shuffle(buffer_size=100_000, seed=42, reshuffle_each_iteration=False)\n",
    "train_pc = 0.995\n",
    "test_pc = 0.005\n",
    "news_train = training_shuffled.take(np.floor(len(training_shuffled)*train_pc))\n",
    "news_val = training_shuffled.skip(np.floor(len(training_shuffled)*train_pc)).take(np.floor(len(training_shuffled)*test_pc))\n",
    "\n",
    "print(f'Number of train pairs: {len(news_train)}')\n",
    "print(f'Number of test pairs: {len(news_val)}')"
   ]
  },
  {
   "cell_type": "code",
   "execution_count": 545,
   "metadata": {},
   "outputs": [
    {
     "name": "stdout",
     "output_type": "stream",
     "text": [
      "Epoch 1/2\n",
      "14100/14100 [==============================] - 17862s 1s/step - factorized_top_k/top_1_categorical_accuracy: 0.0032 - factorized_top_k/top_5_categorical_accuracy: 0.0246 - factorized_top_k/top_10_categorical_accuracy: 0.0432 - factorized_top_k/top_50_categorical_accuracy: 0.1492 - factorized_top_k/top_100_categorical_accuracy: 0.2172 - loss: 6.9334 - regularization_loss: 0.0000e+00 - total_loss: 6.9334 - val_factorized_top_k/top_1_categorical_accuracy: 0.0020 - val_factorized_top_k/top_5_categorical_accuracy: 0.0109 - val_factorized_top_k/top_10_categorical_accuracy: 0.0223 - val_factorized_top_k/top_50_categorical_accuracy: 0.2169 - val_factorized_top_k/top_100_categorical_accuracy: 0.3421 - val_loss: 6.9350 - val_regularization_loss: 0.0000e+00 - val_total_loss: 6.9350\n",
      "Epoch 2/2\n",
      "14100/14100 [==============================] - 26533s 2s/step - factorized_top_k/top_1_categorical_accuracy: 0.0014 - factorized_top_k/top_5_categorical_accuracy: 0.0057 - factorized_top_k/top_10_categorical_accuracy: 0.0106 - factorized_top_k/top_50_categorical_accuracy: 0.0631 - factorized_top_k/top_100_categorical_accuracy: 0.1706 - loss: 6.9568 - regularization_loss: 0.0000e+00 - total_loss: 6.9568 - val_factorized_top_k/top_1_categorical_accuracy: 0.0032 - val_factorized_top_k/top_5_categorical_accuracy: 0.0088 - val_factorized_top_k/top_10_categorical_accuracy: 0.0111 - val_factorized_top_k/top_50_categorical_accuracy: 0.0303 - val_factorized_top_k/top_100_categorical_accuracy: 0.0843 - val_loss: 6.7754 - val_regularization_loss: 0.0000e+00 - val_total_loss: 6.7754\n",
      "Train accuracy: 0.1706392914056778\n",
      "Validation accuracy: 0.0842694342136383\n"
     ]
    },
    {
     "data": {
      "image/png": "[encoded data removed]",
      "text/plain": [
       "<Figure size 432x288 with 1 Axes>"
      ]
     },
     "metadata": {
      "needs_background": "light"
     },
     "output_type": "display_data"
    }
   ],
   "source": [
    "num_epochs = 2\n",
    "lr = 0.05\n",
    "cached_train = news_train.batch(1024).cache()\n",
    "cached_test = news_val.batch(1024).cache()\n",
    "\n",
    "model_one_layer = UserItemModel(test_candidate_ids=unique_item_ids,\n",
    "                   user_features=['location'],\n",
    "                   user_feature_dims=[100],\n",
    "                   location_vocab=location_vocab,\n",
    "                   user_layer_sizes=[],\n",
    "                   item_features=['item_id'],\n",
    "                   item_feature_dims=[200, 400],\n",
    "                   item_unique_item_ids=unique_item_ids,\n",
    "                   item_item_body_lookup=body_lookup_table,\n",
    "                   item_layer_sizes=[100],\n",
    "                   compute_metrics=True\n",
    "                               )\n",
    "    \n",
    "\n",
    "model_one_layer.compile(optimizer=tf.keras.optimizers.Adagrad(lr))\n",
    "\n",
    "one_layer_history = model_one_layer.fit(\n",
    "    cached_train,\n",
    "    validation_data=cached_test,\n",
    "    validation_freq=1,\n",
    "    epochs=num_epochs,\n",
    "    verbose=1)\n",
    "\n",
    "print(f'Train accuracy: {one_layer_history.history[\"factorized_top_k/top_100_categorical_accuracy\"][-1]}')   \n",
    "print(f'Validation accuracy: {one_layer_history.history[\"val_factorized_top_k/top_100_categorical_accuracy\"][-1]}')\n",
    "plot_metric(one_layer_history, 'factorized_top_k/top_100_categorical_accuracy')"
   ]
  },
  {
   "cell_type": "code",
   "execution_count": null,
   "metadata": {},
   "outputs": [],
   "source": [
    "print(f'Train accuracy: {one_layer_history.history[\"factorized_top_k/top_100_categorical_accuracy\"][-1]}')   \n",
    "print(f'Validation accuracy: {one_layer_history.history[\"val_factorized_top_k/top_100_categorical_accuracy\"][-1]}')\n",
    "plot_metric(one_layer_history, 'factorized_top_k/top_100_categorical_accuracy')"
   ]
  },
  {
   "cell_type": "code",
   "execution_count": 219,
   "metadata": {},
   "outputs": [],
   "source": [
    "def get_location_embedding(model, location_string):\n",
    "    ds = tf.data.Dataset.from_tensor_slices(\n",
    "    {\"user_location\": [location_string]}) \n",
    "    return model.predict(ds.batch(1))"
   ]
  },
  {
   "cell_type": "code",
   "execution_count": 538,
   "metadata": {},
   "outputs": [],
   "source": [
    "save_embeddings_fpath = '../data/embeddings/trained/location_user100_item_512_256full.pkl'\n",
    "item_embeddings = get_dict_of_embeddings(model_one_layer, unique_item_ids)\n",
    "export_embeddings_to_file(item_embeddings, save_embeddings_fpath)\n",
    "annoy_index, id_to_uri, uri_to_id = build_annoy_index(item_embeddings)"
   ]
  },
  {
   "cell_type": "code",
   "execution_count": 452,
   "metadata": {},
   "outputs": [],
   "source": [
    "def show_siamese_model_recs(model, location, n):\n",
    "    vec = get_location_embedding(model_one_layer.user_model, location)[0]\n",
    "    rec_uris = generate_model_recs(annoy_index, uri_to_id, id_to_uri, item_embeddings, es, _es_index, n, query_vector=vec)\n",
    "    #print(f'LITMUS TEST: {groundtruth_uri in rec_uris}')\n",
    "    print('-------------------')\n",
    "    print('-------------------')\n",
    "\n",
    "    for i, rec in enumerate(rec_uris):\n",
    "        print(f'({i+1})')\n",
    "        print_item(rec, es, _es_index)\n",
    "        print('-------------------')"
   ]
  },
  {
   "cell_type": "code",
   "execution_count": 541,
   "metadata": {},
   "outputs": [
    {
     "name": "stdout",
     "output_type": "stream",
     "text": [
      "Generating recommendations for:\n",
      "-------------------\n",
      "-------------------\n",
      "-------------------\n",
      "-------------------\n",
      "(1)\n",
      "/news/world-europe-56278125 \n",
      " Arlene Foster says the EU is ignoring unionist concerns, but Michelle O'Neill says Number 10 is acting in bad faith.\n",
      "-------------------\n",
      "(2)\n",
      "/news/world-europe-56212487 \n",
      " The emergence of the Irish revolutionary's bright blue plush puppies stunned Irish Twitter users.\n",
      "-------------------\n",
      "(3)\n",
      "/news/uk-scotland-56280065 \n",
      " The stamp duty holiday on house purchases was extended in the Westminster budget but will end in Scotland.\n",
      "-------------------\n",
      "(4)\n",
      "/news/business-55816139 \n",
      " There is 'unfairness in some of the millions excluded from government help, research for the BBC finds.\n",
      "-------------------\n",
      "(5)\n",
      "/news/explainers-53724381 \n",
      " What is the plan to stop border checks in Northern Ireland?\n",
      "-------------------\n",
      "(6)\n",
      "/news/uk-scotland-north-east-orkney-shetland-56268489 \n",
      " Thirty-four passengers on the flight from London to Aberdeen have yet to be traced due to incomplete data.\n",
      "-------------------\n",
      "(7)\n",
      "/news/uk-scotland-glasgow-west-56264359 \n",
      " Winifred Ryan, 81, said she would have continued for another 10 years if it was not for her failing eyesight.\n",
      "-------------------\n",
      "(8)\n",
      "/news/uk-england-manchester-56270554 \n",
      " Donald McPherson began taking funds out of his wife's account the day after she died, a court hears.\n",
      "-------------------\n",
      "(9)\n",
      "/news/uk-wales-56251005 \n",
      " Radek Kotlarek travelled more than 20 miles to go to the beach - breaking Wales' lockdown rules.\n",
      "-------------------\n",
      "(10)\n",
      "/news/uk-scotland-edinburgh-east-fife-56267417 \n",
      " Her 63-year-old husband died in an ambulance after being crushed at work in Whitburn, West Lothian.\n",
      "-------------------\n",
      "(11)\n",
      "/news/uk-scotland-56124183 \n",
      " The controversial US nuclear submarines operated for more than 30 years and has a lasting legacy.\n",
      "-------------------\n",
      "(12)\n",
      "/news/uk-scotland-53511877 \n",
      " A daily update on the number and location of coronavirus cases in Scotland.\n",
      "-------------------\n",
      "(13)\n",
      "/news/uk-scotland-56237471 \n",
      " Under new guidance local areas will have to have a lower number of positive cases before restrictions are eased.\n",
      "-------------------\n",
      "(14)\n",
      "/news/uk-northern-ireland-foyle-west-56244874 \n",
      " The People Before Profit councillor steps down after being diagnosed with ataxia.\n",
      "-------------------\n",
      "(15)\n",
      "/news/uk-england-nottinghamshire-56273660 \n",
      " Four people are arrested and 10 fined for Covid breaches after police break up an illegal gathering.\n",
      "-------------------\n",
      "(16)\n",
      "/news/uk-scotland-56260726 \n",
      " Campaigners want politicians to back a ban on conversion therapy and the suppression of someone's sexual identity.\n",
      "-------------------\n",
      "(17)\n",
      "/news/uk-scotland-north-east-orkney-shetland-56257842 \n",
      " The woman is reported to have died several years ago and the case in Aberdeen is being treated as \"unexplained\".\n",
      "-------------------\n",
      "(18)\n",
      "/news/uk-scotland-north-east-orkney-shetland-56270374 \n",
      " HMP and YOI Grampian - the replacement for Peterhead and Aberdeen prisons - opened back in 2014.\n",
      "-------------------\n",
      "(19)\n",
      "/news/uk-england-56086248 \n",
      " The air passengers did not declare they had been in a country deemed a high Covid risk, police say.\n",
      "-------------------\n",
      "(20)\n",
      "/news/uk-scotland-north-east-orkney-shetland-56257833 \n",
      " Three Scottish oil workers tested positive while in isolation after flying to Aberdeen from Brazil.\n",
      "-------------------\n"
     ]
    }
   ],
   "source": [
    "show_siamese_model_recs(model_one_layer, 'Belfast', 20)"
   ]
  },
  {
   "cell_type": "code",
   "execution_count": 531,
   "metadata": {},
   "outputs": [
    {
     "name": "stdout",
     "output_type": "stream",
     "text": [
      "/news/uk-56275888                             3051\n",
      "/news/health-56271627                         2091\n",
      "/news/technology-56266494                     1389\n",
      "/news/uk-56278445                             1283\n",
      "/news/business-56275415                       1114\n",
      "/news/blogs-the-papers-56274693               1097\n",
      "/news/business-56271295                       1009\n",
      "/news/world-us-canada-56275103                1005\n",
      "/news/business-56276953                        821\n",
      "/news/uk-england-northamptonshire-56274524     768\n",
      "/news/world-us-canada-56275335                 716\n",
      "/news/uk-politics-56274711                     644\n",
      "/news/uk-51768274                              588\n",
      "/news/health-56274293                          555\n",
      "/news/business-56263581                        555\n",
      "/news/entertainment-arts-56278135              502\n",
      "/news/uk-england-sussex-56268078               488\n",
      "/news/blogs-trending-56260345                  477\n",
      "/news/business-56209011                        468\n",
      "/news/world-europe-56270508                    441\n",
      "Name: uri, dtype: int64\n"
     ]
    },
    {
     "data": {
      "text/plain": [
       "/news/uk-56275888                             3051\n",
       "/news/health-56271627                         2091\n",
       "/news/technology-56266494                     1389\n",
       "/news/uk-56278445                             1283\n",
       "/news/business-56275415                       1114\n",
       "/news/blogs-the-papers-56274693               1097\n",
       "/news/business-56271295                       1009\n",
       "/news/world-us-canada-56275103                1005\n",
       "/news/business-56276953                        821\n",
       "/news/uk-england-northamptonshire-56274524     768\n",
       "/news/world-us-canada-56275335                 716\n",
       "/news/uk-politics-56274711                     644\n",
       "/news/uk-51768274                              588\n",
       "/news/health-56274293                          555\n",
       "/news/business-56263581                        555\n",
       "/news/entertainment-arts-56278135              502\n",
       "/news/uk-england-sussex-56268078               488\n",
       "/news/blogs-trending-56260345                  477\n",
       "/news/business-56209011                        468\n",
       "/news/world-europe-56270508                    441\n",
       "Name: uri, dtype: int64"
      ]
     },
     "execution_count": 531,
     "metadata": {},
     "output_type": "execute_result"
    }
   ],
   "source": [
    "show_most_pop_for_region(train_logs, 'York', 20)"
   ]
  },
  {
   "cell_type": "code",
   "execution_count": null,
   "metadata": {},
   "outputs": [],
   "source": [
    "all_data = train_logs \n",
    "location = 'Belfast'\n",
    "n=20\n",
    "min_\n",
    "\n",
    "\n",
    "location_data = data[data.geo_city_site_visited == location]\n",
    "location_article_reads = location_data[['uri', 'geo_city_site_visited']].groupby('uri').count()\n",
    "\n",
    "likelihood_reads_given_location = get_likelihood_reads(location_data, article_reads['audience_id'])\n",
    "likelihood_reads = get_likelihood_reads(data, article_reads['audience_id'])\n",
    "likilihood_of_location = get_prior_for_location(data, location_data)\n",
    "\n",
    "probabilities = (likelihood_reads_given_location * likilihood_of_location) / likelihood_reads\n",
    "\n",
    "article_reads = data.groupby('uri').count()\n",
    "article_reads['location_posterior'] = probabilities\n",
    "article_reads = article_reads.sort_values(by='location_posterior', ascending=False)"
   ]
  },
  {
   "cell_type": "markdown",
   "metadata": {},
   "source": [
    "# Naive Bayes Model"
   ]
  },
  {
   "cell_type": "code",
   "execution_count": 481,
   "metadata": {},
   "outputs": [],
   "source": [
    "# For each article, we want to calculate the posterior probability that the article is relevant to a region.\n",
    "\n",
    "# So Bayes theorem: P(model| data) = P(data|model) * P(model) / P(data)\n",
    "# This can be translated into:\n",
    "# P(Bristol relevant| Article reads) = P(Article reads | Bristol relevant) * P(Bristol relevant) / P(reads)\n",
    "\n",
    "\n",
    "from sklearn.neighbors import KernelDensity \n",
    "from sklearn.model_selection import GridSearchCV\n",
    "\n",
    "\n",
    "def build_kde_model(samples):\n",
    "    samples = samples.reshape((len(samples), 1))\n",
    "    model = KernelDensity(bandwidth=0.2, kernel='gaussian')\n",
    "    model.fit(samples)\n",
    "    return model\n",
    "    \n",
    "def probability_of_value(model, values):\n",
    "    values = np.asarray(values).reshape((len(values), 1))\n",
    "    probabilities = np.exp(model.score_samples(values))\n",
    "    return probabilities\n",
    "\n",
    "def get_posterior_for_location(n_reads, location_data, data):\n",
    "    likelihood_reads_given_location = get_likelihood_reads(location_data, n_reads)\n",
    "    likelihood_reads = get_likelihood_reads(data, n_reads)\n",
    "    likilihood_of_location = get_prior_for_location(data, location_data)\n",
    "    \n",
    "    posterior = (likelihood_reads_given_location * likilihood_of_location) / likelihood_reads\n",
    "    return {'posterior': posterior, \"likelihood_reads\": likelihood_reads, \"likelihood_reads_given_loc\": likelihood_reads_given_location}\n",
    "\n",
    "def get_likelihood_reads(data, reads):\n",
    "    samples = data.groupby('uri').count()['audience_id'].to_numpy()\n",
    "    log_samples = np.log(samples)\n",
    "    model = build_kde_model(log_samples)\n",
    "    log_reads = np.log(reads)\n",
    "    return probability_of_value(model, log_reads)\n",
    "\n",
    "def get_prior_for_location(data, location_data):\n",
    "    #location_vocab=np.array(data.geo_city_site_visited.unique())\n",
    "    #return 1/len(location_vocab)\n",
    "    return len(location_data)/len(data)\n",
    "\n",
    "def show_naive_bayes_for_location(all_data, location, n, min_reads):\n",
    "    location_data = data[data.geo_city_site_visited == location]\n",
    "    location_article_reads = location_data[['uri', 'geo_city_site_visited']].groupby('uri').count()\n",
    "    location_article_reads = location_article_reads[location_article_reads['geo_city_site_visited'] > min_reads]\n",
    "    probabilities = get_posterior_for_location(location_article_reads['geo_city_site_visited'], location_data, all_data)\n",
    "    location_article_reads['location_posterior'] = probabilities['posterior']\n",
    "    location_article_reads['likelihood_reads'] = probabilities['likelihood_reads']\n",
    "    location_article_reads['likelihood_reads_given_loc'] = probabilities['likelihood_reads_given_loc']\n",
    "    location_article_reads = location_article_reads.sort_values(by='location_posterior', ascending=False)\n",
    "    \n",
    "    for i, rec in enumerate(location_article_reads.index.to_numpy()[:n]):\n",
    "        print(f'{i+1}')\n",
    "        print_item(rec, es, _es_index)\n",
    "        print('-------------------')\n",
    "        #print(location_article_reads.sort_values(by='location_posterior', ascending=False)['location_posterior'][:n])\n",
    "    \n",
    "    return location_article_reads\n",
    " "
   ]
  },
  {
   "cell_type": "code",
   "execution_count": 300,
   "metadata": {},
   "outputs": [],
   "source": [
    "samples = data.groupby('uri').count()['audience_id'].to_numpy()"
   ]
  },
  {
   "cell_type": "code",
   "execution_count": 464,
   "metadata": {},
   "outputs": [
    {
     "data": {
      "text/plain": [
       "KernelDensity(bandwidth=2.0)"
      ]
     },
     "execution_count": 464,
     "metadata": {},
     "output_type": "execute_result"
    }
   ],
   "source": [
    "# log_samples = np.log(samples)\n",
    "# grid = GridSearchCV(KernelDensity(),\n",
    "#                         {'bandwidth': np.linspace(0.01, 2, 20)},\n",
    "#                     cv=20) # 20-fold cross-validation\n",
    "# grid.fit(log_samples)\n",
    "# print(grid.best_params_)\n",
    "\n",
    "model = KernelDensity(bandwidth=2.0, kernel='gaussian')\n",
    "model.fit(log_samples)"
   ]
  },
  {
   "cell_type": "code",
   "execution_count": 493,
   "metadata": {},
   "outputs": [],
   "source": [
    "ps = probability_of_value(model, np.arange(0,15))"
   ]
  },
  {
   "cell_type": "code",
   "execution_count": 494,
   "metadata": {},
   "outputs": [
    {
     "data": {
      "text/plain": [
       "0.01"
      ]
     },
     "execution_count": 494,
     "metadata": {},
     "output_type": "execute_result"
    }
   ],
   "source": [
    "grid.best_params_['bandwidth']"
   ]
  },
  {
   "cell_type": "code",
   "execution_count": 495,
   "metadata": {},
   "outputs": [
    {
     "data": {
      "text/plain": [
       "0.939992319343563"
      ]
     },
     "execution_count": 495,
     "metadata": {},
     "output_type": "execute_result"
    }
   ],
   "source": [
    "ps.sum()"
   ]
  },
  {
   "cell_type": "code",
   "execution_count": 467,
   "metadata": {},
   "outputs": [
    {
     "data": {
      "text/plain": [
       "array([0.0734425])"
      ]
     },
     "execution_count": 467,
     "metadata": {},
     "output_type": "execute_result"
    }
   ],
   "source": [
    "probability_of_value(model, np.log([1]))"
   ]
  },
  {
   "cell_type": "code",
   "execution_count": 468,
   "metadata": {},
   "outputs": [
    {
     "data": {
      "image/png": "[encoded data removed]",
      "text/plain": [
       "<Figure size 432x288 with 1 Axes>"
      ]
     },
     "metadata": {
      "needs_background": "light"
     },
     "output_type": "display_data"
    }
   ],
   "source": [
    "# plot the histogram and pdf\n",
    "pyplot.hist(log_samples, bins=20, density=True)\n",
    "pyplot.plot(np.arange(0,14), ps)\n",
    "pyplot.show()"
   ]
  },
  {
   "cell_type": "code",
   "execution_count": 371,
   "metadata": {},
   "outputs": [
    {
     "data": {
      "text/plain": [
       "array([[ 5.43807931],\n",
       "       [ 4.12713439],\n",
       "       [ 3.21887582],\n",
       "       ...,\n",
       "       [ 7.12447826],\n",
       "       [12.38829836],\n",
       "       [12.11232225]])"
      ]
     },
     "execution_count": 371,
     "metadata": {},
     "output_type": "execute_result"
    }
   ],
   "source": [
    "np.log(samples)"
   ]
  },
  {
   "cell_type": "code",
   "execution_count": 370,
   "metadata": {},
   "outputs": [
    {
     "data": {
      "image/png": "[encoded data removed]",
      "text/plain": [
       "<Figure size 432x288 with 1 Axes>"
      ]
     },
     "metadata": {
      "needs_background": "light"
     },
     "output_type": "display_data"
    }
   ],
   "source": [
    "# example of kernel density estimation for a bimodal data sample\n",
    "from matplotlib import pyplot\n",
    "from numpy.random import normal\n",
    "from numpy import hstack\n",
    "from numpy import asarray\n",
    "from numpy import exp\n",
    "from sklearn.neighbors import KernelDensity\n",
    "# generate a sample\n",
    "sample1 = normal(loc=20, scale=5, size=300)\n",
    "sample2 = normal(loc=40, scale=5, size=700)\n",
    "sample = hstack((sample1, sample2))\n",
    "# fit density\n",
    "model = KernelDensity(bandwidth=2, kernel='gaussian')\n",
    "sample = sample.reshape((len(sample), 1))\n",
    "model.fit(sample)\n",
    "# sample probabilities for a range of outcomes\n",
    "values = asarray([value for value in range(1, 60)])\n",
    "values = values.reshape((len(values), 1))\n",
    "probabilities = model.score_samples(values)\n",
    "probabilities = exp(probabilities)\n",
    "# plot the histogram and pdf\n",
    "pyplot.hist(sample, bins=50, density=True)\n",
    "pyplot.plot(values[:], probabilities)\n",
    "pyplot.show()"
   ]
  },
  {
   "cell_type": "code",
   "execution_count": 296,
   "metadata": {},
   "outputs": [],
   "source": [
    "all_reads = train_logs[['uri', 'geo_city_site_visited']].groupby('uri').count()"
   ]
  },
  {
   "cell_type": "code",
   "execution_count": 298,
   "metadata": {},
   "outputs": [
    {
     "data": {
      "text/plain": [
       "geo_city_site_visited    755633\n",
       "Name: /news/uk-56275888, dtype: int64"
      ]
     },
     "execution_count": 298,
     "metadata": {},
     "output_type": "execute_result"
    }
   ],
   "source": [
    "all_reads.loc['/news/uk-56275888']"
   ]
  },
  {
   "cell_type": "code",
   "execution_count": 431,
   "metadata": {},
   "outputs": [
    {
     "data": {
      "text/html": [
       "<div>\n",
       "<style scoped>\n",
       "    .dataframe tbody tr th:only-of-type {\n",
       "        vertical-align: middle;\n",
       "    }\n",
       "\n",
       "    .dataframe tbody tr th {\n",
       "        vertical-align: top;\n",
       "    }\n",
       "\n",
       "    .dataframe thead th {\n",
       "        text-align: right;\n",
       "    }\n",
       "</style>\n",
       "<table border=\"1\" class=\"dataframe\">\n",
       "  <thead>\n",
       "    <tr style=\"text-align: right;\">\n",
       "      <th></th>\n",
       "      <th>geo_city_site_visited</th>\n",
       "      <th>location_posterior</th>\n",
       "      <th>likelihood_reads</th>\n",
       "      <th>likelihood_reads_given_loc</th>\n",
       "    </tr>\n",
       "    <tr>\n",
       "      <th>uri</th>\n",
       "      <th></th>\n",
       "      <th></th>\n",
       "      <th></th>\n",
       "      <th></th>\n",
       "    </tr>\n",
       "  </thead>\n",
       "  <tbody>\n",
       "    <tr>\n",
       "      <th>/news/uk-56275888</th>\n",
       "      <td>5247</td>\n",
       "      <td>0.163119</td>\n",
       "      <td>0.002113</td>\n",
       "      <td>0.045489</td>\n",
       "    </tr>\n",
       "    <tr>\n",
       "      <th>/news/technology-56246852</th>\n",
       "      <td>355</td>\n",
       "      <td>0.054056</td>\n",
       "      <td>0.016300</td>\n",
       "      <td>0.116267</td>\n",
       "    </tr>\n",
       "    <tr>\n",
       "      <th>/news/uk-england-sussex-56268078</th>\n",
       "      <td>357</td>\n",
       "      <td>0.044223</td>\n",
       "      <td>0.021949</td>\n",
       "      <td>0.128083</td>\n",
       "    </tr>\n",
       "    <tr>\n",
       "      <th>/news/uk-northern-ireland-56216762</th>\n",
       "      <td>358</td>\n",
       "      <td>0.034092</td>\n",
       "      <td>0.026932</td>\n",
       "      <td>0.121160</td>\n",
       "    </tr>\n",
       "    <tr>\n",
       "      <th>/news/uk-northern-ireland-56276653</th>\n",
       "      <td>4583</td>\n",
       "      <td>0.032634</td>\n",
       "      <td>0.010564</td>\n",
       "      <td>0.045489</td>\n",
       "    </tr>\n",
       "    <tr>\n",
       "      <th>/news/world-europe-56269905</th>\n",
       "      <td>1411</td>\n",
       "      <td>0.028243</td>\n",
       "      <td>0.012212</td>\n",
       "      <td>0.045512</td>\n",
       "    </tr>\n",
       "    <tr>\n",
       "      <th>/news/business-56246848</th>\n",
       "      <td>235</td>\n",
       "      <td>0.023194</td>\n",
       "      <td>0.035701</td>\n",
       "      <td>0.109267</td>\n",
       "    </tr>\n",
       "    <tr>\n",
       "      <th>/news/entertainment-arts-56278135</th>\n",
       "      <td>745</td>\n",
       "      <td>0.021164</td>\n",
       "      <td>0.016691</td>\n",
       "      <td>0.046613</td>\n",
       "    </tr>\n",
       "    <tr>\n",
       "      <th>/news/uk-56278445</th>\n",
       "      <td>1783</td>\n",
       "      <td>0.020532</td>\n",
       "      <td>0.016829</td>\n",
       "      <td>0.045596</td>\n",
       "    </tr>\n",
       "    <tr>\n",
       "      <th>/news/entertainment-arts-56277805</th>\n",
       "      <td>234</td>\n",
       "      <td>0.019959</td>\n",
       "      <td>0.037373</td>\n",
       "      <td>0.098432</td>\n",
       "    </tr>\n",
       "    <tr>\n",
       "      <th>/news/uk-northern-ireland-56242985</th>\n",
       "      <td>238</td>\n",
       "      <td>0.019532</td>\n",
       "      <td>0.037795</td>\n",
       "      <td>0.097410</td>\n",
       "    </tr>\n",
       "    <tr>\n",
       "      <th>/news/world-europe-56278125</th>\n",
       "      <td>1722</td>\n",
       "      <td>0.019064</td>\n",
       "      <td>0.018125</td>\n",
       "      <td>0.045596</td>\n",
       "    </tr>\n",
       "    <tr>\n",
       "      <th>/news/uk-northern-ireland-56216764</th>\n",
       "      <td>266</td>\n",
       "      <td>0.016743</td>\n",
       "      <td>0.071513</td>\n",
       "      <td>0.158000</td>\n",
       "    </tr>\n",
       "    <tr>\n",
       "      <th>/news/world-europe-56270508</th>\n",
       "      <td>689</td>\n",
       "      <td>0.016711</td>\n",
       "      <td>0.023395</td>\n",
       "      <td>0.051590</td>\n",
       "    </tr>\n",
       "    <tr>\n",
       "      <th>/news/uk-northern-ireland-56277669</th>\n",
       "      <td>1190</td>\n",
       "      <td>0.016024</td>\n",
       "      <td>0.023389</td>\n",
       "      <td>0.049454</td>\n",
       "    </tr>\n",
       "    <tr>\n",
       "      <th>/news/uk-politics-55819489</th>\n",
       "      <td>265</td>\n",
       "      <td>0.015557</td>\n",
       "      <td>0.075458</td>\n",
       "      <td>0.154902</td>\n",
       "    </tr>\n",
       "    <tr>\n",
       "      <th>/news/health-56271627</th>\n",
       "      <td>1577</td>\n",
       "      <td>0.015488</td>\n",
       "      <td>0.036224</td>\n",
       "      <td>0.074034</td>\n",
       "    </tr>\n",
       "    <tr>\n",
       "      <th>/news/uk-northern-ireland-56243590</th>\n",
       "      <td>251</td>\n",
       "      <td>0.015438</td>\n",
       "      <td>0.042967</td>\n",
       "      <td>0.087533</td>\n",
       "    </tr>\n",
       "    <tr>\n",
       "      <th>/news/56238260</th>\n",
       "      <td>252</td>\n",
       "      <td>0.015332</td>\n",
       "      <td>0.043261</td>\n",
       "      <td>0.087525</td>\n",
       "    </tr>\n",
       "    <tr>\n",
       "      <th>/news/business-56275415</th>\n",
       "      <td>1546</td>\n",
       "      <td>0.014953</td>\n",
       "      <td>0.026412</td>\n",
       "      <td>0.052115</td>\n",
       "    </tr>\n",
       "  </tbody>\n",
       "</table>\n",
       "</div>"
      ],
      "text/plain": [
       "                                    geo_city_site_visited  location_posterior  \\\n",
       "uri                                                                             \n",
       "/news/uk-56275888                                    5247            0.163119   \n",
       "/news/technology-56246852                             355            0.054056   \n",
       "/news/uk-england-sussex-56268078                      357            0.044223   \n",
       "/news/uk-northern-ireland-56216762                    358            0.034092   \n",
       "/news/uk-northern-ireland-56276653                   4583            0.032634   \n",
       "/news/world-europe-56269905                          1411            0.028243   \n",
       "/news/business-56246848                               235            0.023194   \n",
       "/news/entertainment-arts-56278135                     745            0.021164   \n",
       "/news/uk-56278445                                    1783            0.020532   \n",
       "/news/entertainment-arts-56277805                     234            0.019959   \n",
       "/news/uk-northern-ireland-56242985                    238            0.019532   \n",
       "/news/world-europe-56278125                          1722            0.019064   \n",
       "/news/uk-northern-ireland-56216764                    266            0.016743   \n",
       "/news/world-europe-56270508                           689            0.016711   \n",
       "/news/uk-northern-ireland-56277669                   1190            0.016024   \n",
       "/news/uk-politics-55819489                            265            0.015557   \n",
       "/news/health-56271627                                1577            0.015488   \n",
       "/news/uk-northern-ireland-56243590                    251            0.015438   \n",
       "/news/56238260                                        252            0.015332   \n",
       "/news/business-56275415                              1546            0.014953   \n",
       "\n",
       "                                    likelihood_reads  \\\n",
       "uri                                                    \n",
       "/news/uk-56275888                           0.002113   \n",
       "/news/technology-56246852                   0.016300   \n",
       "/news/uk-england-sussex-56268078            0.021949   \n",
       "/news/uk-northern-ireland-56216762          0.026932   \n",
       "/news/uk-northern-ireland-56276653          0.010564   \n",
       "/news/world-europe-56269905                 0.012212   \n",
       "/news/business-56246848                     0.035701   \n",
       "/news/entertainment-arts-56278135           0.016691   \n",
       "/news/uk-56278445                           0.016829   \n",
       "/news/entertainment-arts-56277805           0.037373   \n",
       "/news/uk-northern-ireland-56242985          0.037795   \n",
       "/news/world-europe-56278125                 0.018125   \n",
       "/news/uk-northern-ireland-56216764          0.071513   \n",
       "/news/world-europe-56270508                 0.023395   \n",
       "/news/uk-northern-ireland-56277669          0.023389   \n",
       "/news/uk-politics-55819489                  0.075458   \n",
       "/news/health-56271627                       0.036224   \n",
       "/news/uk-northern-ireland-56243590          0.042967   \n",
       "/news/56238260                              0.043261   \n",
       "/news/business-56275415                     0.026412   \n",
       "\n",
       "                                    likelihood_reads_given_loc  \n",
       "uri                                                             \n",
       "/news/uk-56275888                                     0.045489  \n",
       "/news/technology-56246852                             0.116267  \n",
       "/news/uk-england-sussex-56268078                      0.128083  \n",
       "/news/uk-northern-ireland-56216762                    0.121160  \n",
       "/news/uk-northern-ireland-56276653                    0.045489  \n",
       "/news/world-europe-56269905                           0.045512  \n",
       "/news/business-56246848                               0.109267  \n",
       "/news/entertainment-arts-56278135                     0.046613  \n",
       "/news/uk-56278445                                     0.045596  \n",
       "/news/entertainment-arts-56277805                     0.098432  \n",
       "/news/uk-northern-ireland-56242985                    0.097410  \n",
       "/news/world-europe-56278125                           0.045596  \n",
       "/news/uk-northern-ireland-56216764                    0.158000  \n",
       "/news/world-europe-56270508                           0.051590  \n",
       "/news/uk-northern-ireland-56277669                    0.049454  \n",
       "/news/uk-politics-55819489                            0.154902  \n",
       "/news/health-56271627                                 0.074034  \n",
       "/news/uk-northern-ireland-56243590                    0.087533  \n",
       "/news/56238260                                        0.087525  \n",
       "/news/business-56275415                               0.052115  "
      ]
     },
     "execution_count": 431,
     "metadata": {},
     "output_type": "execute_result"
    }
   ],
   "source": [
    "a_reads.head(20)"
   ]
  },
  {
   "cell_type": "code",
   "execution_count": 505,
   "metadata": {},
   "outputs": [
    {
     "name": "stdout",
     "output_type": "stream",
     "text": [
      "(0)\n",
      "/news/uk-56275888 \n",
      " The Duchess of Sussex says she does not know how Buckingham Palace could expect her to \"be silent\".\n",
      "-------------------\n",
      "(1)\n",
      "/news/technology-56266494 \n",
      " The shop will stock hundreds of new own-brand items including UK-sourced milk and desserts.\n",
      "-------------------\n",
      "(2)\n",
      "/news/health-56271627 \n",
      " Infections fell by two-thirds in lockdown but one in 200 people still have the virus, a study says.\n",
      "-------------------\n",
      "(3)\n",
      "/news/uk-56278445 \n",
      " The Duke of Edinburgh will remain in hospital for a number of days, Buckingham Palace says.\n",
      "-------------------\n",
      "(4)\n",
      "/news/business-56271295 \n",
      " There's more support for many in the Budget, but for some it still falls short.\n",
      "-------------------\n",
      "(5)\n",
      "/news/business-56276953 \n",
      " The Budget leaves the chancellor looking more Scrooge than Santa, says the Institute for Fiscal Studies.\n",
      "-------------------\n",
      "(6)\n",
      "/news/business-56275415 \n",
      " About 200,000 pensions may get top-ups averaging £13,500 after nearly two decades of shortfalls.\n",
      "-------------------\n",
      "(7)\n",
      "/news/world-us-canada-56275103 \n",
      " President Biden criticises moves to relax Covid restrictions in the southern state and Mississippi.\n",
      "-------------------\n",
      "(8)\n",
      "/news/blogs-the-papers-56274693 \n",
      " The papers focus on the Budget and the investigation into claims the Duchess of Sussex bullied royal staff.\n",
      "-------------------\n",
      "(9)\n",
      "/news/uk-politics-56274711 \n",
      " Chancellor Rishi Sunak is accused of hitting the poorest hardest in his Budget plan to balance the books.\n",
      "-------------------\n",
      "(10)\n",
      "/news/uk-england-northamptonshire-56274524 \n",
      " Harry Dunn's family have the go-ahead to proceed with a claim against Jonathan and Anne Sacoolas.\n",
      "-------------------\n",
      "(11)\n",
      "/news/world-us-canada-56275335 \n",
      " A session is cancelled because of \"potential threats\" from a militia to storm the Congress building.\n",
      "-------------------\n",
      "(12)\n",
      "/news/entertainment-arts-56278135 \n",
      " The former Coronation Street star says he was tired of being rejected for roles and of online trolls.\n",
      "-------------------\n",
      "(13)\n",
      "/news/world-europe-56270508 \n",
      " The sisters say they were offered the jab when visiting their father in the United Arab Emirates.\n",
      "-------------------\n",
      "(14)\n",
      "/news/health-56274293 \n",
      " Rapid approval without lengthy tests can happen if new vaccines are needed to fight variants, say regulators.\n",
      "-------------------\n",
      "(15)\n",
      "/news/entertainment-arts-56277845 \n",
      " The actor made light of a recent controversy surrounding the heritage of his wife, Hilaria.\n",
      "-------------------\n",
      "(16)\n",
      "/news/business-56263581 \n",
      " Chancellor Rishi Sunak's Budget is packed with policies that will affect your finances. Here is a guide.\n",
      "-------------------\n",
      "(17)\n",
      "/news/world-europe-56278125 \n",
      " Arlene Foster says the EU is ignoring unionist concerns, but Michelle O'Neill says Number 10 is acting in bad faith.\n",
      "-------------------\n",
      "(18)\n",
      "/news/blogs-trending-56260345 \n",
      " Believers are using an old, irrelevant law to herald the supposed return to power of Donald Trump.\n",
      "-------------------\n",
      "(19)\n",
      "/news/uk-56272104 \n",
      " Buckingham Palace is \"very concerned\" by a report that royal staff made a complaint about the duchess.\n",
      "-------------------\n"
     ]
    }
   ],
   "source": [
    "\n",
    "a = show_most_pop_for_region(train_logs, 'Wandsworth', 20, d=False, summary=True)"
   ]
  },
  {
   "cell_type": "code",
   "execution_count": 543,
   "metadata": {},
   "outputs": [
    {
     "name": "stdout",
     "output_type": "stream",
     "text": [
      "1\n",
      "/news/uk-england-sussex-56268078 \n",
      " Whoever took the slabs had \"made a right old mess\", according to local resident Alan Stainer.\n",
      "-------------------\n",
      "2\n",
      "/news/uk-england-oxfordshire-56262712 \n",
      " The Labour party investigates after Jamila Azad claimed to have been vaccinated by a private doctor.\n",
      "-------------------\n",
      "3\n",
      "/news/entertainment-arts-56277845 \n",
      " The actor made light of a recent controversy surrounding the heritage of his wife, Hilaria.\n",
      "-------------------\n",
      "4\n",
      "/news/uk-51768274 \n",
      " Explore the data on coronavirus in the UK and find out how many cases there are in your area.\n",
      "-------------------\n",
      "5\n",
      "/news/uk-56272104 \n",
      " Buckingham Palace is \"very concerned\" by a report that royal staff made a complaint about the duchess.\n",
      "-------------------\n",
      "6\n",
      "/news/business-56272829 \n",
      " Forecasts suggests inheritance tax receipts will also rise, partly due to over-65s dying of Covid\n",
      "-------------------\n",
      "7\n",
      "/news/blogs-trending-56260345 \n",
      " Believers are using an old, irrelevant law to herald the supposed return to power of Donald Trump.\n",
      "-------------------\n",
      "8\n",
      "/news/uk-politics-56266773 \n",
      " Rishi Sunak has delivered his annual Budget in the House of Commons. Here's what you need to know.\n",
      "-------------------\n",
      "9\n",
      "/news/world-europe-56270508 \n",
      " The sisters say they were offered the jab when visiting their father in the United Arab Emirates.\n",
      "-------------------\n",
      "10\n",
      "/news/world-europe-56278125 \n",
      " Arlene Foster says the EU is ignoring unionist concerns, but Michelle O'Neill says Number 10 is acting in bad faith.\n",
      "-------------------\n",
      "11\n",
      "/news/world-asia-india-56263990 \n",
      " Calls are growing in India for Chief Justice Sharad Bobde to resign over his \"atrocious\" remarks.\n",
      "-------------------\n",
      "12\n",
      "/news/business-56209011 \n",
      " The so-called sharing economy has been greatly affected by the continuing Covid-19 pandemic.\n",
      "-------------------\n",
      "13\n",
      "/news/56238260 \n",
      " Levelling up was one of the themes of the chancellor's Budget.\n",
      "-------------------\n",
      "14\n",
      "/news/business-56271295 \n",
      " There's more support for many in the Budget, but for some it still falls short.\n",
      "-------------------\n",
      "15\n",
      "/news/business-56276953 \n",
      " The Budget leaves the chancellor looking more Scrooge than Santa, says the Institute for Fiscal Studies.\n",
      "-------------------\n",
      "16\n",
      "/news/business-56275415 \n",
      " About 200,000 pensions may get top-ups averaging £13,500 after nearly two decades of shortfalls.\n",
      "-------------------\n",
      "17\n",
      "/news/world-us-canada-56275103 \n",
      " President Biden criticises moves to relax Covid restrictions in the southern state and Mississippi.\n",
      "-------------------\n",
      "18\n",
      "/news/blogs-the-papers-56274693 \n",
      " The papers focus on the Budget and the investigation into claims the Duchess of Sussex bullied royal staff.\n",
      "-------------------\n",
      "19\n",
      "/news/uk-56278445 \n",
      " The Duke of Edinburgh will remain in hospital for a number of days, Buckingham Palace says.\n",
      "-------------------\n",
      "20\n",
      "/news/entertainment-arts-56278135 \n",
      " The former Coronation Street star says he was tired of being rejected for roles and of online trolls.\n",
      "-------------------\n"
     ]
    }
   ],
   "source": [
    "a_reads = show_naive_bayes_for_location(train_logs, 'Manchester', 20, 100)"
   ]
  },
  {
   "cell_type": "code",
   "execution_count": 507,
   "metadata": {},
   "outputs": [
    {
     "name": "stdout",
     "output_type": "stream",
     "text": [
      "Generating recommendations for:\n",
      "-------------------\n",
      "-------------------\n",
      "-------------------\n",
      "-------------------\n",
      "(1)\n",
      "/news/entertainment-arts-55853625 \n",
      " The film, which was first shown 50 years ago and locked away, re-appeared this month on YouTube.\n",
      "-------------------\n",
      "(2)\n",
      "/news/uk-politics-55607160 \n",
      " The Labour leader urges ministers to give councils more money instead to protect family budgets.\n",
      "-------------------\n",
      "(3)\n",
      "/news/uk-scotland-edinburgh-east-fife-56267417 \n",
      " Her 63-year-old husband died in an ambulance after being crushed at work in Whitburn, West Lothian.\n",
      "-------------------\n",
      "(4)\n",
      "/news/uk-england-beds-bucks-herts-56274523 \n",
      " Announcing the event, the festival's founder says this year's is \"more important than ever\".\n",
      "-------------------\n",
      "(5)\n",
      "/news/world-asia-55472446 \n",
      " An archaic Japanese law requires married couples to adopt the same surname, but many are asking why.\n",
      "-------------------\n",
      "(6)\n",
      "/news/world-us-canada-56273381 \n",
      " Governor Cuomo said he will not resign amidst allegations of sexual harassment by three women.\n",
      "-------------------\n",
      "(7)\n",
      "/news/uk-england-cambridgeshire-56201654 \n",
      " Fire crews described at the time how they tried to find the children inside the burning house.\n",
      "-------------------\n",
      "(8)\n",
      "/news/uk-england-dorset-56264782 \n",
      " Dorset Council is due to withdraw funding for its remaining tourist information centres in April.\n",
      "-------------------\n",
      "(9)\n",
      "/news/uk-england-tees-54979005 \n",
      " Ex-Cleveland officer alleged \"intimidation and victimisation\" but watchdog finds \"no evidence\".\n",
      "-------------------\n",
      "(10)\n",
      "/news/newsbeat-22064320 \n",
      " Vevo says one of the reasons it is launching a UK TV channel is because there aren't enough opportunities for artists to appear on television.\n",
      "-------------------\n",
      "(11)\n",
      "/news/world-latin-america-22360308 \n",
      " Peru says a body found in the Pacific Ocean is that of pilot of a hot air balloon that crashed on Sunday, while another man is still missing.\n",
      "-------------------\n",
      "(12)\n",
      "/news/uk-56165287 \n",
      " Five things you need to know about the coronavirus pandemic this Tuesday morning.\n",
      "-------------------\n",
      "(13)\n",
      "/news/newsbeat-26781716 \n",
      " The singer discusses wedding plans as a change in the law means from midnight gay couples can get married in England and Wales.\n",
      "-------------------\n",
      "(14)\n",
      "/news/newsbeat-41399043 \n",
      " What happens now the women's bobsleigh team have crowdfunded £30,000?\n",
      "-------------------\n",
      "(15)\n",
      "/news/newsbeat-11605851 \n",
      " England stiker Wayne Rooney has agreed a new deal keeping him at Manchester United for another five years.\n",
      "-------------------\n",
      "(16)\n",
      "/news/uk-scotland-56229035 \n",
      " Claims there is new evidence that show the first minister misled parliament make the front pages of Scotland's papers.\n",
      "-------------------\n",
      "(17)\n",
      "/news/newsbeat-37300102 \n",
      " Rangers and Celtic fans tell us their feelings as the Old Firm league derby returns following a four-year gap.\n",
      "-------------------\n",
      "(18)\n",
      "/news/world-us-canada-55138488 \n",
      " The man, 62, was rescued by a passing container ship, more than 80 miles off the Florida coast.\n",
      "-------------------\n",
      "(19)\n",
      "/news/uk-england-cumbria-55101681 \n",
      " In his letter to the prime minister, Monti asks: \"If we leave hand sanitiser by the cookies can he come?\"\n",
      "-------------------\n",
      "(20)\n",
      "/news/uk-northern-ireland-55668225 \n",
      " A respiratory doctor at the Mater Hospital warns that oxygen supplies are under \"extreme pressure\".\n",
      "-------------------\n"
     ]
    }
   ],
   "source": [
    "show_siamese_model_recs(model_one_layer, 'Wandsworth', 20)"
   ]
  },
  {
   "cell_type": "code",
   "execution_count": 231,
   "metadata": {},
   "outputs": [
    {
     "data": {
      "text/html": [
       "<div>\n",
       "<style scoped>\n",
       "    .dataframe tbody tr th:only-of-type {\n",
       "        vertical-align: middle;\n",
       "    }\n",
       "\n",
       "    .dataframe tbody tr th {\n",
       "        vertical-align: top;\n",
       "    }\n",
       "\n",
       "    .dataframe thead th {\n",
       "        text-align: right;\n",
       "    }\n",
       "</style>\n",
       "<table border=\"1\" class=\"dataframe\">\n",
       "  <thead>\n",
       "    <tr style=\"text-align: right;\">\n",
       "      <th></th>\n",
       "      <th>audience_id</th>\n",
       "      <th>event_start_datetime</th>\n",
       "      <th>geo_city_site_visited</th>\n",
       "      <th>location_posterior</th>\n",
       "    </tr>\n",
       "    <tr>\n",
       "      <th>uri</th>\n",
       "      <th></th>\n",
       "      <th></th>\n",
       "      <th></th>\n",
       "      <th></th>\n",
       "    </tr>\n",
       "  </thead>\n",
       "  <tbody>\n",
       "    <tr>\n",
       "      <th>/news/uk-56141867</th>\n",
       "      <td>851</td>\n",
       "      <td>851</td>\n",
       "      <td>851</td>\n",
       "      <td>0.049758</td>\n",
       "    </tr>\n",
       "    <tr>\n",
       "      <th>/news/business-56130187</th>\n",
       "      <td>1540</td>\n",
       "      <td>1540</td>\n",
       "      <td>1540</td>\n",
       "      <td>0.028885</td>\n",
       "    </tr>\n",
       "    <tr>\n",
       "      <th>/news/world-europe-56250460</th>\n",
       "      <td>1233</td>\n",
       "      <td>1233</td>\n",
       "      <td>1233</td>\n",
       "      <td>0.026646</td>\n",
       "    </tr>\n",
       "    <tr>\n",
       "      <th>/news/uk-wales-56165569</th>\n",
       "      <td>960</td>\n",
       "      <td>960</td>\n",
       "      <td>960</td>\n",
       "      <td>0.024441</td>\n",
       "    </tr>\n",
       "    <tr>\n",
       "      <th>/news/uk-england-norfolk-54452133</th>\n",
       "      <td>1271</td>\n",
       "      <td>1271</td>\n",
       "      <td>1271</td>\n",
       "      <td>0.024060</td>\n",
       "    </tr>\n",
       "    <tr>\n",
       "      <th>/news/technology-56251452</th>\n",
       "      <td>1091</td>\n",
       "      <td>1091</td>\n",
       "      <td>1091</td>\n",
       "      <td>0.023929</td>\n",
       "    </tr>\n",
       "    <tr>\n",
       "      <th>/news/business-55765868</th>\n",
       "      <td>1469</td>\n",
       "      <td>1469</td>\n",
       "      <td>1469</td>\n",
       "      <td>0.023130</td>\n",
       "    </tr>\n",
       "    <tr>\n",
       "      <th>/news/uk-wales-55333756</th>\n",
       "      <td>812</td>\n",
       "      <td>812</td>\n",
       "      <td>812</td>\n",
       "      <td>0.021045</td>\n",
       "    </tr>\n",
       "    <tr>\n",
       "      <th>/news/entertainment-arts-56247655</th>\n",
       "      <td>763</td>\n",
       "      <td>763</td>\n",
       "      <td>763</td>\n",
       "      <td>0.019500</td>\n",
       "    </tr>\n",
       "    <tr>\n",
       "      <th>/news/technology-56198552</th>\n",
       "      <td>866</td>\n",
       "      <td>866</td>\n",
       "      <td>866</td>\n",
       "      <td>0.018409</td>\n",
       "    </tr>\n",
       "    <tr>\n",
       "      <th>/news/uk-scotland-edinburgh-east-fife-56252445</th>\n",
       "      <td>866</td>\n",
       "      <td>866</td>\n",
       "      <td>866</td>\n",
       "      <td>0.018409</td>\n",
       "    </tr>\n",
       "    <tr>\n",
       "      <th>/news/uk-56204469</th>\n",
       "      <td>829</td>\n",
       "      <td>829</td>\n",
       "      <td>829</td>\n",
       "      <td>0.018127</td>\n",
       "    </tr>\n",
       "    <tr>\n",
       "      <th>/news/uk-england-hampshire-56264755</th>\n",
       "      <td>963</td>\n",
       "      <td>963</td>\n",
       "      <td>963</td>\n",
       "      <td>0.017998</td>\n",
       "    </tr>\n",
       "    <tr>\n",
       "      <th>/news/uk-51043220</th>\n",
       "      <td>865</td>\n",
       "      <td>865</td>\n",
       "      <td>865</td>\n",
       "      <td>0.017737</td>\n",
       "    </tr>\n",
       "    <tr>\n",
       "      <th>/news/uk-56262260</th>\n",
       "      <td>323</td>\n",
       "      <td>323</td>\n",
       "      <td>323</td>\n",
       "      <td>0.016109</td>\n",
       "    </tr>\n",
       "    <tr>\n",
       "      <th>/news/uk-england-oxfordshire-55279505</th>\n",
       "      <td>819</td>\n",
       "      <td>819</td>\n",
       "      <td>819</td>\n",
       "      <td>0.015980</td>\n",
       "    </tr>\n",
       "    <tr>\n",
       "      <th>/news/technology-56252738</th>\n",
       "      <td>2008</td>\n",
       "      <td>2008</td>\n",
       "      <td>2008</td>\n",
       "      <td>0.015422</td>\n",
       "    </tr>\n",
       "    <tr>\n",
       "      <th>/news/education-56245074</th>\n",
       "      <td>863</td>\n",
       "      <td>863</td>\n",
       "      <td>863</td>\n",
       "      <td>0.014771</td>\n",
       "    </tr>\n",
       "    <tr>\n",
       "      <th>/news/uk-northern-ireland-56243590</th>\n",
       "      <td>863</td>\n",
       "      <td>863</td>\n",
       "      <td>863</td>\n",
       "      <td>0.014771</td>\n",
       "    </tr>\n",
       "    <tr>\n",
       "      <th>/news/uk-56250995</th>\n",
       "      <td>523</td>\n",
       "      <td>523</td>\n",
       "      <td>523</td>\n",
       "      <td>0.014702</td>\n",
       "    </tr>\n",
       "  </tbody>\n",
       "</table>\n",
       "</div>"
      ],
      "text/plain": [
       "                                                audience_id  \\\n",
       "uri                                                           \n",
       "/news/uk-56141867                                       851   \n",
       "/news/business-56130187                                1540   \n",
       "/news/world-europe-56250460                            1233   \n",
       "/news/uk-wales-56165569                                 960   \n",
       "/news/uk-england-norfolk-54452133                      1271   \n",
       "/news/technology-56251452                              1091   \n",
       "/news/business-55765868                                1469   \n",
       "/news/uk-wales-55333756                                 812   \n",
       "/news/entertainment-arts-56247655                       763   \n",
       "/news/technology-56198552                               866   \n",
       "/news/uk-scotland-edinburgh-east-fife-56252445          866   \n",
       "/news/uk-56204469                                       829   \n",
       "/news/uk-england-hampshire-56264755                     963   \n",
       "/news/uk-51043220                                       865   \n",
       "/news/uk-56262260                                       323   \n",
       "/news/uk-england-oxfordshire-55279505                   819   \n",
       "/news/technology-56252738                              2008   \n",
       "/news/education-56245074                                863   \n",
       "/news/uk-northern-ireland-56243590                      863   \n",
       "/news/uk-56250995                                       523   \n",
       "\n",
       "                                                event_start_datetime  \\\n",
       "uri                                                                    \n",
       "/news/uk-56141867                                                851   \n",
       "/news/business-56130187                                         1540   \n",
       "/news/world-europe-56250460                                     1233   \n",
       "/news/uk-wales-56165569                                          960   \n",
       "/news/uk-england-norfolk-54452133                               1271   \n",
       "/news/technology-56251452                                       1091   \n",
       "/news/business-55765868                                         1469   \n",
       "/news/uk-wales-55333756                                          812   \n",
       "/news/entertainment-arts-56247655                                763   \n",
       "/news/technology-56198552                                        866   \n",
       "/news/uk-scotland-edinburgh-east-fife-56252445                   866   \n",
       "/news/uk-56204469                                                829   \n",
       "/news/uk-england-hampshire-56264755                              963   \n",
       "/news/uk-51043220                                                865   \n",
       "/news/uk-56262260                                                323   \n",
       "/news/uk-england-oxfordshire-55279505                            819   \n",
       "/news/technology-56252738                                       2008   \n",
       "/news/education-56245074                                         863   \n",
       "/news/uk-northern-ireland-56243590                               863   \n",
       "/news/uk-56250995                                                523   \n",
       "\n",
       "                                                geo_city_site_visited  \\\n",
       "uri                                                                     \n",
       "/news/uk-56141867                                                 851   \n",
       "/news/business-56130187                                          1540   \n",
       "/news/world-europe-56250460                                      1233   \n",
       "/news/uk-wales-56165569                                           960   \n",
       "/news/uk-england-norfolk-54452133                                1271   \n",
       "/news/technology-56251452                                        1091   \n",
       "/news/business-55765868                                          1469   \n",
       "/news/uk-wales-55333756                                           812   \n",
       "/news/entertainment-arts-56247655                                 763   \n",
       "/news/technology-56198552                                         866   \n",
       "/news/uk-scotland-edinburgh-east-fife-56252445                    866   \n",
       "/news/uk-56204469                                                 829   \n",
       "/news/uk-england-hampshire-56264755                               963   \n",
       "/news/uk-51043220                                                 865   \n",
       "/news/uk-56262260                                                 323   \n",
       "/news/uk-england-oxfordshire-55279505                             819   \n",
       "/news/technology-56252738                                        2008   \n",
       "/news/education-56245074                                          863   \n",
       "/news/uk-northern-ireland-56243590                                863   \n",
       "/news/uk-56250995                                                 523   \n",
       "\n",
       "                                                location_posterior  \n",
       "uri                                                                 \n",
       "/news/uk-56141867                                         0.049758  \n",
       "/news/business-56130187                                   0.028885  \n",
       "/news/world-europe-56250460                               0.026646  \n",
       "/news/uk-wales-56165569                                   0.024441  \n",
       "/news/uk-england-norfolk-54452133                         0.024060  \n",
       "/news/technology-56251452                                 0.023929  \n",
       "/news/business-55765868                                   0.023130  \n",
       "/news/uk-wales-55333756                                   0.021045  \n",
       "/news/entertainment-arts-56247655                         0.019500  \n",
       "/news/technology-56198552                                 0.018409  \n",
       "/news/uk-scotland-edinburgh-east-fife-56252445            0.018409  \n",
       "/news/uk-56204469                                         0.018127  \n",
       "/news/uk-england-hampshire-56264755                       0.017998  \n",
       "/news/uk-51043220                                         0.017737  \n",
       "/news/uk-56262260                                         0.016109  \n",
       "/news/uk-england-oxfordshire-55279505                     0.015980  \n",
       "/news/technology-56252738                                 0.015422  \n",
       "/news/education-56245074                                  0.014771  \n",
       "/news/uk-northern-ireland-56243590                        0.014771  \n",
       "/news/uk-56250995                                         0.014702  "
      ]
     },
     "execution_count": 231,
     "metadata": {},
     "output_type": "execute_result"
    }
   ],
   "source": [
    "a_reads.head(20)"
   ]
  },
  {
   "cell_type": "code",
   "execution_count": 106,
   "metadata": {},
   "outputs": [
    {
     "data": {
      "text/html": [
       "<div>\n",
       "<style scoped>\n",
       "    .dataframe tbody tr th:only-of-type {\n",
       "        vertical-align: middle;\n",
       "    }\n",
       "\n",
       "    .dataframe tbody tr th {\n",
       "        vertical-align: top;\n",
       "    }\n",
       "\n",
       "    .dataframe thead th {\n",
       "        text-align: right;\n",
       "    }\n",
       "</style>\n",
       "<table border=\"1\" class=\"dataframe\">\n",
       "  <thead>\n",
       "    <tr style=\"text-align: right;\">\n",
       "      <th></th>\n",
       "      <th>audience_id</th>\n",
       "      <th>event_start_datetime</th>\n",
       "      <th>geo_city_site_visited</th>\n",
       "    </tr>\n",
       "    <tr>\n",
       "      <th>uri</th>\n",
       "      <th></th>\n",
       "      <th></th>\n",
       "      <th></th>\n",
       "    </tr>\n",
       "  </thead>\n",
       "  <tbody>\n",
       "    <tr>\n",
       "      <th>/news/20039682</th>\n",
       "      <td>13</td>\n",
       "      <td>13</td>\n",
       "      <td>13</td>\n",
       "    </tr>\n",
       "    <tr>\n",
       "      <th>/news/53498434</th>\n",
       "      <td>205</td>\n",
       "      <td>205</td>\n",
       "      <td>205</td>\n",
       "    </tr>\n",
       "    <tr>\n",
       "      <th>/news/55669736</th>\n",
       "      <td>26</td>\n",
       "      <td>26</td>\n",
       "      <td>26</td>\n",
       "    </tr>\n",
       "    <tr>\n",
       "      <th>/news/55733537</th>\n",
       "      <td>19</td>\n",
       "      <td>19</td>\n",
       "      <td>19</td>\n",
       "    </tr>\n",
       "    <tr>\n",
       "      <th>/news/55831263</th>\n",
       "      <td>8</td>\n",
       "      <td>8</td>\n",
       "      <td>8</td>\n",
       "    </tr>\n",
       "  </tbody>\n",
       "</table>\n",
       "</div>"
      ],
      "text/plain": [
       "                audience_id  event_start_datetime  geo_city_site_visited\n",
       "uri                                                                     \n",
       "/news/20039682           13                    13                     13\n",
       "/news/53498434          205                   205                    205\n",
       "/news/55669736           26                    26                     26\n",
       "/news/55733537           19                    19                     19\n",
       "/news/55831263            8                     8                      8"
      ]
     },
     "execution_count": 106,
     "metadata": {},
     "output_type": "execute_result"
    }
   ],
   "source": [
    "\n",
    "\n",
    "article_reads = train_logs.groupby('uri').count()\n",
    "article_reads.head()"
   ]
  },
  {
   "cell_type": "code",
   "execution_count": 35,
   "metadata": {},
   "outputs": [],
   "source": [
    "probabilities = get_posterior_for_location(article_reads['audience_id'], 'Bristol', train_logs)"
   ]
  },
  {
   "cell_type": "code",
   "execution_count": 109,
   "metadata": {},
   "outputs": [],
   "source": [
    "article_reads['bristol_posterior'] = probabilities"
   ]
  },
  {
   "cell_type": "code",
   "execution_count": 132,
   "metadata": {},
   "outputs": [],
   "source": [
    "a = article_reads.sort_values(by='bristol_posterior', ascending=False)"
   ]
  },
  {
   "cell_type": "code",
   "execution_count": 133,
   "metadata": {},
   "outputs": [
    {
     "data": {
      "text/html": [
       "<div>\n",
       "<style scoped>\n",
       "    .dataframe tbody tr th:only-of-type {\n",
       "        vertical-align: middle;\n",
       "    }\n",
       "\n",
       "    .dataframe tbody tr th {\n",
       "        vertical-align: top;\n",
       "    }\n",
       "\n",
       "    .dataframe thead th {\n",
       "        text-align: right;\n",
       "    }\n",
       "</style>\n",
       "<table border=\"1\" class=\"dataframe\">\n",
       "  <thead>\n",
       "    <tr style=\"text-align: right;\">\n",
       "      <th></th>\n",
       "      <th>audience_id</th>\n",
       "      <th>event_start_datetime</th>\n",
       "      <th>geo_city_site_visited</th>\n",
       "      <th>bristol_posterior</th>\n",
       "    </tr>\n",
       "    <tr>\n",
       "      <th>uri</th>\n",
       "      <th></th>\n",
       "      <th></th>\n",
       "      <th></th>\n",
       "      <th></th>\n",
       "    </tr>\n",
       "  </thead>\n",
       "  <tbody>\n",
       "    <tr>\n",
       "      <th>/news/uk-politics-55738179</th>\n",
       "      <td>151</td>\n",
       "      <td>151</td>\n",
       "      <td>151</td>\n",
       "      <td>0.076511</td>\n",
       "    </tr>\n",
       "    <tr>\n",
       "      <th>/news/uk-scotland-north-east-orkney-shetland-56268489</th>\n",
       "      <td>397</td>\n",
       "      <td>397</td>\n",
       "      <td>397</td>\n",
       "      <td>0.041443</td>\n",
       "    </tr>\n",
       "    <tr>\n",
       "      <th>/news/uk-56147693</th>\n",
       "      <td>131</td>\n",
       "      <td>131</td>\n",
       "      <td>131</td>\n",
       "      <td>0.035477</td>\n",
       "    </tr>\n",
       "    <tr>\n",
       "      <th>/news/business-56270528</th>\n",
       "      <td>130</td>\n",
       "      <td>130</td>\n",
       "      <td>130</td>\n",
       "      <td>0.030915</td>\n",
       "    </tr>\n",
       "    <tr>\n",
       "      <th>/news/uk-england-cornwall-56258552</th>\n",
       "      <td>149</td>\n",
       "      <td>149</td>\n",
       "      <td>149</td>\n",
       "      <td>0.030196</td>\n",
       "    </tr>\n",
       "  </tbody>\n",
       "</table>\n",
       "</div>"
      ],
      "text/plain": [
       "                                                    audience_id  \\\n",
       "uri                                                               \n",
       "/news/uk-politics-55738179                                  151   \n",
       "/news/uk-scotland-north-east-orkney-shetland-56...          397   \n",
       "/news/uk-56147693                                           131   \n",
       "/news/business-56270528                                     130   \n",
       "/news/uk-england-cornwall-56258552                          149   \n",
       "\n",
       "                                                    event_start_datetime  \\\n",
       "uri                                                                        \n",
       "/news/uk-politics-55738179                                           151   \n",
       "/news/uk-scotland-north-east-orkney-shetland-56...                   397   \n",
       "/news/uk-56147693                                                    131   \n",
       "/news/business-56270528                                              130   \n",
       "/news/uk-england-cornwall-56258552                                   149   \n",
       "\n",
       "                                                    geo_city_site_visited  \\\n",
       "uri                                                                         \n",
       "/news/uk-politics-55738179                                            151   \n",
       "/news/uk-scotland-north-east-orkney-shetland-56...                    397   \n",
       "/news/uk-56147693                                                     131   \n",
       "/news/business-56270528                                               130   \n",
       "/news/uk-england-cornwall-56258552                                    149   \n",
       "\n",
       "                                                    bristol_posterior  \n",
       "uri                                                                    \n",
       "/news/uk-politics-55738179                                   0.076511  \n",
       "/news/uk-scotland-north-east-orkney-shetland-56...           0.041443  \n",
       "/news/uk-56147693                                            0.035477  \n",
       "/news/business-56270528                                      0.030915  \n",
       "/news/uk-england-cornwall-56258552                           0.030196  "
      ]
     },
     "execution_count": 133,
     "metadata": {},
     "output_type": "execute_result"
    }
   ],
   "source": [
    "a.head()"
   ]
  },
  {
   "cell_type": "code",
   "execution_count": 138,
   "metadata": {},
   "outputs": [
    {
     "data": {
      "text/plain": [
       "array(['/news/uk-politics-55738179',\n",
       "       '/news/uk-scotland-north-east-orkney-shetland-56268489',\n",
       "       '/news/uk-56147693', ..., '/news/uk-northern-ireland-56262527',\n",
       "       '/news/uk-england-oxfordshire-56262712',\n",
       "       '/news/world-us-canada-56275335'], dtype=object)"
      ]
     },
     "execution_count": 138,
     "metadata": {},
     "output_type": "execute_result"
    }
   ],
   "source": [
    "a.index.to_numpy()"
   ]
  },
  {
   "cell_type": "code",
   "execution_count": 95,
   "metadata": {},
   "outputs": [],
   "source": [
    "uris['id'] = np.arange(len(uris))"
   ]
  },
  {
   "cell_type": "code",
   "execution_count": 100,
   "metadata": {},
   "outputs": [],
   "source": [
    "uri_to_id = uris['id'].to_dict()\n",
    "id_to_uri = {v: k for k, v in uri_to_id.items()}"
   ]
  },
  {
   "cell_type": "code",
   "execution_count": 102,
   "metadata": {},
   "outputs": [],
   "source": [
    "\n",
    "location_counts = train_logs.groupby('geo_city_site_visited').count()\n",
    "location_counts['id'] = np.arange(len(location_counts))"
   ]
  },
  {
   "cell_type": "code",
   "execution_count": 103,
   "metadata": {},
   "outputs": [],
   "source": [
    "loc_to_id = location_counts['id'].to_dict()\n",
    "id_to_loc = {v: k for k, v in loc_to_id.items()}"
   ]
  },
  {
   "cell_type": "code",
   "execution_count": 90,
   "metadata": {},
   "outputs": [
    {
     "data": {
      "text/plain": [
       "3176"
      ]
     },
     "execution_count": 90,
     "metadata": {},
     "output_type": "execute_result"
    }
   ],
   "source": [
    "location_counts.loc['York']['id']"
   ]
  },
  {
   "cell_type": "code",
   "execution_count": 104,
   "metadata": {},
   "outputs": [],
   "source": [
    "train_logs['loc_id'] = train_logs['geo_city_site_visited'].apply(lambda x: loc_to_id[x])"
   ]
  },
  {
   "cell_type": "code",
   "execution_count": 106,
   "metadata": {},
   "outputs": [],
   "source": [
    "train_logs['uri_id'] = train_logs['uri'].apply(lambda x: uri_to_id[x])"
   ]
  },
  {
   "cell_type": "code",
   "execution_count": 118,
   "metadata": {},
   "outputs": [],
   "source": [
    "train_logs['bristol_y'] = train_logs['geo_city_site_visited']=='Bristol'\n"
   ]
  },
  {
   "cell_type": "code",
   "execution_count": 119,
   "metadata": {},
   "outputs": [
    {
     "data": {
      "text/html": [
       "<div>\n",
       "<style scoped>\n",
       "    .dataframe tbody tr th:only-of-type {\n",
       "        vertical-align: middle;\n",
       "    }\n",
       "\n",
       "    .dataframe tbody tr th {\n",
       "        vertical-align: top;\n",
       "    }\n",
       "\n",
       "    .dataframe thead th {\n",
       "        text-align: right;\n",
       "    }\n",
       "</style>\n",
       "<table border=\"1\" class=\"dataframe\">\n",
       "  <thead>\n",
       "    <tr style=\"text-align: right;\">\n",
       "      <th></th>\n",
       "      <th>audience_id</th>\n",
       "      <th>event_start_datetime</th>\n",
       "      <th>uri</th>\n",
       "      <th>geo_city_site_visited</th>\n",
       "      <th>loc_id</th>\n",
       "      <th>uri_id</th>\n",
       "      <th>bristol_y</th>\n",
       "    </tr>\n",
       "  </thead>\n",
       "  <tbody>\n",
       "    <tr>\n",
       "      <th>29</th>\n",
       "      <td>lpucBML/6soz1U/TcHk93BCzL/Ki+P+q6RxwKDWN4fg=</td>\n",
       "      <td>2021-03-04 02:52:31</td>\n",
       "      <td>/news/technology-56239242</td>\n",
       "      <td>Southwark</td>\n",
       "      <td>2589</td>\n",
       "      <td>302</td>\n",
       "      <td>False</td>\n",
       "    </tr>\n",
       "    <tr>\n",
       "      <th>39</th>\n",
       "      <td>sPYIdNHgYJ98Gpw96yDcQgsFpeQfC0EJpPaSpVscw34=</td>\n",
       "      <td>2021-03-04 01:52:28</td>\n",
       "      <td>/news/world-asia-55472446</td>\n",
       "      <td>Manchester</td>\n",
       "      <td>1874</td>\n",
       "      <td>872</td>\n",
       "      <td>False</td>\n",
       "    </tr>\n",
       "    <tr>\n",
       "      <th>158</th>\n",
       "      <td>3Lr5OzuexWD6m0bj08MikLbtjwGhj/Fc2gU3Z7tiSzY=</td>\n",
       "      <td>2021-03-04 00:35:18</td>\n",
       "      <td>/news/uk-56272104</td>\n",
       "      <td>Wakefield</td>\n",
       "      <td>2920</td>\n",
       "      <td>389</td>\n",
       "      <td>False</td>\n",
       "    </tr>\n",
       "    <tr>\n",
       "      <th>159</th>\n",
       "      <td>G5pAYXT347wHjlC4ONQYVdsMAwSFtl1ysjRud0XE2n8=</td>\n",
       "      <td>2021-03-04 00:50:39</td>\n",
       "      <td>/news/uk-56267807</td>\n",
       "      <td>Omagh</td>\n",
       "      <td>2155</td>\n",
       "      <td>386</td>\n",
       "      <td>False</td>\n",
       "    </tr>\n",
       "    <tr>\n",
       "      <th>160</th>\n",
       "      <td>rE3xy1mrmqGZ7P77YYs7y+e3/VqH+zu2Pp0Btu3Tp34=</td>\n",
       "      <td>2021-03-04 00:07:06</td>\n",
       "      <td>/news/business-56263581</td>\n",
       "      <td>Stockton-on-tees</td>\n",
       "      <td>2662</td>\n",
       "      <td>115</td>\n",
       "      <td>False</td>\n",
       "    </tr>\n",
       "  </tbody>\n",
       "</table>\n",
       "</div>"
      ],
      "text/plain": [
       "                                      audience_id event_start_datetime  \\\n",
       "29   lpucBML/6soz1U/TcHk93BCzL/Ki+P+q6RxwKDWN4fg=  2021-03-04 02:52:31   \n",
       "39   sPYIdNHgYJ98Gpw96yDcQgsFpeQfC0EJpPaSpVscw34=  2021-03-04 01:52:28   \n",
       "158  3Lr5OzuexWD6m0bj08MikLbtjwGhj/Fc2gU3Z7tiSzY=  2021-03-04 00:35:18   \n",
       "159  G5pAYXT347wHjlC4ONQYVdsMAwSFtl1ysjRud0XE2n8=  2021-03-04 00:50:39   \n",
       "160  rE3xy1mrmqGZ7P77YYs7y+e3/VqH+zu2Pp0Btu3Tp34=  2021-03-04 00:07:06   \n",
       "\n",
       "                           uri geo_city_site_visited  loc_id  uri_id  \\\n",
       "29   /news/technology-56239242             Southwark    2589     302   \n",
       "39   /news/world-asia-55472446            Manchester    1874     872   \n",
       "158          /news/uk-56272104             Wakefield    2920     389   \n",
       "159          /news/uk-56267807                 Omagh    2155     386   \n",
       "160    /news/business-56263581      Stockton-on-tees    2662     115   \n",
       "\n",
       "     bristol_y  \n",
       "29       False  \n",
       "39       False  \n",
       "158      False  \n",
       "159      False  \n",
       "160      False  "
      ]
     },
     "execution_count": 119,
     "metadata": {},
     "output_type": "execute_result"
    }
   ],
   "source": [
    "train_logs.head()"
   ]
  },
  {
   "cell_type": "code",
   "execution_count": 112,
   "metadata": {},
   "outputs": [
    {
     "data": {
      "text/plain": [
       "3176"
      ]
     },
     "execution_count": 112,
     "metadata": {},
     "output_type": "execute_result"
    }
   ],
   "source": [
    "loc_to_id['York']"
   ]
  },
  {
   "cell_type": "code",
   "execution_count": 117,
   "metadata": {},
   "outputs": [
    {
     "data": {
      "text/plain": [
       "array([1.])"
      ]
     },
     "execution_count": 117,
     "metadata": {},
     "output_type": "execute_result"
    }
   ],
   "source": [
    "clf.predict(np.array([[3176, 439]]))"
   ]
  },
  {
   "cell_type": "code",
   "execution_count": 127,
   "metadata": {},
   "outputs": [
    {
     "data": {
      "text/plain": [
       "array([[0],\n",
       "       [0],\n",
       "       [0],\n",
       "       ...,\n",
       "       [0],\n",
       "       [0],\n",
       "       [0]])"
      ]
     },
     "execution_count": 127,
     "metadata": {},
     "output_type": "execute_result"
    }
   ],
   "source": [
    "Y"
   ]
  },
  {
   "cell_type": "code",
   "execution_count": 130,
   "metadata": {},
   "outputs": [
    {
     "data": {
      "text/plain": [
       "GaussianNB()"
      ]
     },
     "execution_count": 130,
     "metadata": {},
     "output_type": "execute_result"
    }
   ],
   "source": [
    "from sklearn.naive_bayes import GaussianNB\n",
    "\n",
    "X = train_logs[['uri_id']].to_numpy()\n",
    "Y = train_logs[['bristol_y']].to_numpy()*1\n",
    "clf = GaussianNB()\n",
    "clf.fit(X, np.ravel(Y))"
   ]
  },
  {
   "cell_type": "code",
   "execution_count": 135,
   "metadata": {},
   "outputs": [
    {
     "data": {
      "text/plain": [
       "array([0])"
      ]
     },
     "execution_count": 135,
     "metadata": {},
     "output_type": "execute_result"
    }
   ],
   "source": [
    "\n",
    "clf.predict(np.array([[429]]))"
   ]
  },
  {
   "cell_type": "code",
   "execution_count": 34,
   "metadata": {},
   "outputs": [
    {
     "data": {
      "image/png": "[encoded data removed]",
      "text/plain": [
       "<Figure size 432x288 with 1 Axes>"
      ]
     },
     "metadata": {
      "needs_background": "light"
     },
     "output_type": "display_data"
    }
   ],
   "source": [
    "\n",
    "# example of a bimodal data sample\n",
    "from matplotlib import pyplot\n",
    "from numpy.random import normal\n",
    "from numpy import hstack\n",
    "# generate a sample\n",
    "\n",
    "\n",
    "# plot the histogram\n",
    "pyplot.hist(sample, bins=50)\n",
    "pyplot.show()"
   ]
  },
  {
   "cell_type": "code",
   "execution_count": 84,
   "metadata": {},
   "outputs": [],
   "source": [
    "from sklearn.neighbors import KernelDensity \n",
    "\n",
    "def build_kde_model(samples):\n",
    "    model = KernelDensity(bandwidth=1, kernel='gaussian')\n",
    "    samples = sample.reshape((len(samples), 1))\n",
    "    model.fit(samples)\n",
    "    return model\n",
    "    \n",
    "def probability_of_value(model, values):\n",
    "    values = np.asarray(values).reshape((len(values), 1))\n",
    "    probabilities = np.exp(model.score_samples(values))\n",
    "    return probabilities\n",
    "    "
   ]
  },
  {
   "cell_type": "code",
   "execution_count": 85,
   "metadata": {},
   "outputs": [],
   "source": [
    "# sample probabilities for a range of outcomes\n",
    "values = [value for value in np.arange(60000)]\n",
    "sample = uris['audience_id'].to_numpy()\n",
    "model = build_kde_model(sample)\n",
    "probabilities = probability_of_value(model, values)\n"
   ]
  },
  {
   "cell_type": "code",
   "execution_count": 90,
   "metadata": {},
   "outputs": [
    {
     "data": {
      "text/plain": [
       "array([0.])"
      ]
     },
     "execution_count": 90,
     "metadata": {},
     "output_type": "execute_result"
    }
   ],
   "source": [
    "probability_of_value(model, [6000])"
   ]
  },
  {
   "cell_type": "code",
   "execution_count": 87,
   "metadata": {},
   "outputs": [
    {
     "data": {
      "text/plain": [
       "array([   13,   205,    26, ...,    99, 17088, 13331])"
      ]
     },
     "execution_count": 87,
     "metadata": {},
     "output_type": "execute_result"
    }
   ],
   "source": [
    "sample"
   ]
  },
  {
   "cell_type": "code",
   "execution_count": 88,
   "metadata": {},
   "outputs": [
    {
     "data": {
      "image/png": "[encoded data removed]",
      "text/plain": [
       "<Figure size 432x288 with 1 Axes>"
      ]
     },
     "metadata": {
      "needs_background": "light"
     },
     "output_type": "display_data"
    }
   ],
   "source": [
    "\n",
    "# plot the histogram and pdf\n",
    "pyplot.hist(sample, bins=20, density=True)\n",
    "pyplot.plot(values[:50], probabilities[:50])\n",
    "pyplot.show()"
   ]
  },
  {
   "cell_type": "code",
   "execution_count": 311,
   "metadata": {},
   "outputs": [
    {
     "data": {
      "image/png": "[encoded data removed]",
      "text/plain": [
       "<Figure size 432x288 with 1 Axes>"
      ]
     },
     "metadata": {
      "needs_background": "light"
     },
     "output_type": "display_data"
    }
   ],
   "source": [
    "# example of kernel density estimation for a bimodal data sample\n",
    "from matplotlib import pyplot\n",
    "from numpy.random import normal\n",
    "from numpy import hstack\n",
    "from numpy import asarray\n",
    "from numpy import exp\n",
    "from sklearn.neighbors import KernelDensity\n",
    "# generate a sample\n",
    "sample1 = normal(loc=20, scale=5, size=300)\n",
    "sample2 = normal(loc=40, scale=5, size=700)\n",
    "sample = hstack((sample1, sample2))\n",
    "# fit density\n",
    "model = KernelDensity(bandwidth=2, kernel='gaussian')\n",
    "sample = sample.reshape((len(sample), 1))\n",
    "model.fit(sample)\n",
    "# sample probabilities for a range of outcomes\n",
    "values = asarray([value for value in range(1, 60)])\n",
    "values = values.reshape((len(values), 1))\n",
    "probabilities = model.score_samples(values)\n",
    "probabilities = exp(probabilities)\n",
    "# plot the histogram and pdf\n",
    "pyplot.hist(sample, bins=50, density=True)\n",
    "pyplot.plot(values[:], probabilities)\n",
    "pyplot.show()"
   ]
  },
  {
   "cell_type": "code",
   "execution_count": 347,
   "metadata": {},
   "outputs": [
    {
     "data": {
      "text/plain": [
       "1000"
      ]
     },
     "execution_count": 347,
     "metadata": {},
     "output_type": "execute_result"
    }
   ],
   "source": [
    "len(sample)"
   ]
  },
  {
   "cell_type": "code",
   "execution_count": 313,
   "metadata": {},
   "outputs": [
    {
     "data": {
      "text/plain": [
       "array([0.04945435])"
      ]
     },
     "execution_count": 313,
     "metadata": {},
     "output_type": "execute_result"
    }
   ],
   "source": [
    "exp(model.score_samples(np.array([[40]])))"
   ]
  },
  {
   "cell_type": "code",
   "execution_count": 314,
   "metadata": {},
   "outputs": [],
   "source": []
  },
  {
   "cell_type": "code",
   "execution_count": 315,
   "metadata": {},
   "outputs": [
    {
     "data": {
      "text/plain": [
       "array([ 1,  2,  3,  4,  5,  6,  7,  8,  9, 10, 11, 12, 13, 14, 15, 16, 17,\n",
       "       18, 19, 20, 21, 22, 23, 24, 25, 26, 27, 28, 29, 30, 31, 32, 33, 34,\n",
       "       35, 36, 37, 38, 39, 40, 41, 42, 43, 44, 45, 46, 47, 48, 49, 50, 51,\n",
       "       52, 53, 54, 55, 56, 57, 58, 59])"
      ]
     },
     "execution_count": 315,
     "metadata": {},
     "output_type": "execute_result"
    }
   ],
   "source": [
    "values"
   ]
  },
  {
   "cell_type": "code",
   "execution_count": 316,
   "metadata": {},
   "outputs": [],
   "source": [
    "values = values.reshape((len(values), 1))"
   ]
  },
  {
   "cell_type": "code",
   "execution_count": 319,
   "metadata": {},
   "outputs": [
    {
     "data": {
      "text/plain": [
       "0.9999942780229238"
      ]
     },
     "execution_count": 319,
     "metadata": {},
     "output_type": "execute_result"
    }
   ],
   "source": [
    "res = np.exp(model.score_samples(values))\n",
    "res.sum()"
   ]
  },
  {
   "cell_type": "code",
   "execution_count": null,
   "metadata": {},
   "outputs": [],
   "source": []
  }
 ],
 "metadata": {
  "kernelspec": {
   "display_name": "deep-recommender-embeddings",
   "language": "python",
   "name": "deep-recommender-embeddings"
  },
  "language_info": {
   "codemirror_mode": {
    "name": "ipython",
    "version": 3
   },
   "file_extension": ".py",
   "mimetype": "text/x-python",
   "name": "python",
   "nbconvert_exporter": "python",
   "pygments_lexer": "ipython3",
   "version": "3.8.6"
  }
 },
 "nbformat": 4,
 "nbformat_minor": 4
}
